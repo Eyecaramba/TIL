{
 "cells": [
  {
   "cell_type": "markdown",
   "metadata": {},
   "source": [
    "# 4. Numpy"
   ]
  },
  {
   "cell_type": "markdown",
   "metadata": {},
   "source": [
    "Numpy : 단일 산술 배열 데이터를 다루는데 특화되어 있음 "
   ]
  },
  {
   "cell_type": "code",
   "execution_count": 1,
   "metadata": {},
   "outputs": [],
   "source": [
    "import numpy as np "
   ]
  },
  {
   "attachments": {},
   "cell_type": "markdown",
   "metadata": {},
   "source": [
    "#### ndarray 구성요소 \n",
    "\n",
    "1. 데이터 포인터 : ram이나 메모리 맵 파일에서 데이터의 블록 \n",
    "2. dtype : 배열 내에 값을 담는 고정된 크기    \n",
    "3. shape : 배열의 모양을 알려주는 tuple  \n",
    "4. stride : 하나의 차원을 따라 몇 바이트 이동해야 하는지 나타내는 tuple  "
   ]
  },
  {
   "cell_type": "code",
   "execution_count": 2,
   "metadata": {},
   "outputs": [
    {
     "data": {
      "text/plain": [
       "True"
      ]
     },
     "execution_count": 2,
     "metadata": {},
     "output_type": "execute_result"
    }
   ],
   "source": [
    "# numpy의 dtype 상속관계 알아보기 \n",
    "\n",
    "# mro() : 어느 클래스에 상속되어 있는지 알 수 있는 method\n",
    "np.float64.mro()\n",
    "\n",
    "# issubdtype() : 첫번째가 두번째에 속해 있는지 알 수 있는 method \n",
    "ints = np.ones(10,dtype=np.uint16)\n",
    "np.issubdtype(ints.dtype,np.integer)"
   ]
  },
  {
   "cell_type": "markdown",
   "metadata": {},
   "source": [
    "#### 1. ndarray 속성"
   ]
  },
  {
   "cell_type": "code",
   "execution_count": 3,
   "metadata": {},
   "outputs": [
    {
     "data": {
      "text/plain": [
       "array([[0.33122257, 0.39901399, 0.42326359],\n",
       "       [0.23666968, 0.73290394, 0.92419143],\n",
       "       [0.21277482, 0.07727116, 0.72708109],\n",
       "       [0.76522211, 0.25722392, 0.1494935 ]])"
      ]
     },
     "execution_count": 3,
     "metadata": {},
     "output_type": "execute_result"
    }
   ],
   "source": [
    "data = np.random.rand(4,3)\n",
    "data"
   ]
  },
  {
   "cell_type": "code",
   "execution_count": 4,
   "metadata": {},
   "outputs": [
    {
     "name": "stdout",
     "output_type": "stream",
     "text": [
      "(4, 3)\n",
      "2\n",
      "float64\n"
     ]
    }
   ],
   "source": [
    "# ndarray 속성 : shape, dtype, buffer, offset, strides, order \n",
    "\n",
    "print(data.shape) # ndarray각 차원의 크기 \n",
    "print(data.ndim) # ndarray의 차원 수 OR 배열의 축수\n",
    "print(data.dtype) # ndarray의 데이터 타입 "
   ]
  },
  {
   "cell_type": "code",
   "execution_count": 5,
   "metadata": {},
   "outputs": [
    {
     "name": "stdout",
     "output_type": "stream",
     "text": [
      "(24, 8)\n"
     ]
    }
   ],
   "source": [
    "print(data.strides)"
   ]
  },
  {
   "cell_type": "markdown",
   "metadata": {},
   "source": [
    "#### 2. ndarray 메서드"
   ]
  },
  {
   "cell_type": "code",
   "execution_count": 14,
   "metadata": {},
   "outputs": [
    {
     "name": "stdout",
     "output_type": "stream",
     "text": [
      "[0. 0. 0. 0. 0. 0. 0. 0. 0. 0.]\n",
      "[nan  0.  0.  0.  0.  0.  0.  0.  0.  0.]\n"
     ]
    }
   ],
   "source": [
    "#  ndarray 생성 메서드 : array(), zeros(), empty(), arrange()...\n",
    "arr1 = np.zeros(10) # 메모리를 할당받아 0으로 채움 \n",
    "arr2 = np.empty(10) # 메모리를 할당받지만 0으로 초기화 하진 않음 \n",
    "print(arr1)\n",
    "print(arr2)\n",
    "\n",
    "# empty_like(), zeros_like(), ones_like()... : 입력받은 ndarray와 같은 크기의 ndarray를 만듦"
   ]
  },
  {
   "cell_type": "code",
   "execution_count": 15,
   "metadata": {},
   "outputs": [
    {
     "data": {
      "text/plain": [
       "array([1., 2., 3., 4., 5.])"
      ]
     },
     "execution_count": 15,
     "metadata": {},
     "output_type": "execute_result"
    }
   ],
   "source": [
    "# astype() : dtype casting \n",
    "arr = np.array([1,2,3,4,5])\n",
    "float_arr = arr.astype(np.float64)\n",
    "float_arr"
   ]
  },
  {
   "cell_type": "code",
   "execution_count": 19,
   "metadata": {},
   "outputs": [
    {
     "name": "stdout",
     "output_type": "stream",
     "text": [
      "[[ 1.  4.  9.]\n",
      " [16. 25. 36.]]\n",
      "[[0. 0. 0.]\n",
      " [0. 0. 0.]]\n",
      "[[ True False  True]\n",
      " [False  True False]]\n"
     ]
    }
   ],
   "source": [
    "# 배열의 산술 연산 \n",
    "arr = np.array([[1,2,3],[4,5,6]])\n",
    "arr = arr.astype(np.float64)\n",
    "arr2 = np.array([[0,4,1],[7,2,12]])\n",
    "\n",
    "print(arr * arr)\n",
    "print(arr - arr)\n",
    "print(arr > arr2)\n"
   ]
  },
  {
   "cell_type": "code",
   "execution_count": 20,
   "metadata": {},
   "outputs": [],
   "source": [
    "# 크기가 다른 배열간의 연산 브로드 캐스팅에 관한 규칙을 따름\n"
   ]
  },
  {
   "cell_type": "markdown",
   "metadata": {},
   "source": [
    "#### 3. indexing, slicing "
   ]
  },
  {
   "cell_type": "code",
   "execution_count": 21,
   "metadata": {},
   "outputs": [
    {
     "name": "stdout",
     "output_type": "stream",
     "text": [
      "[1, 2, 3]\n",
      "[ 1 10  3]\n"
     ]
    }
   ],
   "source": [
    "# ndarray indexing, slicing\n",
    "list_1 = [1,2,3]\n",
    "arr_1 = np.array([1,2,3])\n",
    "\n",
    "# list와 ndarray의 slicing 차이점 \n",
    "list_2 = list_1[1:]\n",
    "arr_2 = arr_1[1:]\n",
    "\n",
    "list_2[0] = 10\n",
    "arr_2[0] = 10\n",
    "\n",
    "# list : 값을 복사해서 새로운 리스트를 만듦\n",
    "print(list_1)\n",
    "# ndarray : ndarrary의 view를 반환함 \n",
    "print(arr_1)"
   ]
  },
  {
   "cell_type": "code",
   "execution_count": 26,
   "metadata": {},
   "outputs": [
    {
     "name": "stdout",
     "output_type": "stream",
     "text": [
      "[[ 0.91374639  0.47244742 -1.53065624 -0.54199812]\n",
      " [ 0.79949144 -1.4226172  -0.86027719  0.32821663]\n",
      " [ 0.41392925 -0.01726808  0.73034678 -0.33612221]\n",
      " [-0.79135974  0.88985892 -0.23251206  1.44521637]\n",
      " [-0.26234701  0.30004479  0.44752536 -0.30134641]\n",
      " [ 0.80904368  1.5911659   1.04424558  1.26570203]\n",
      " [-1.62565519 -0.11329029 -0.25516578  0.07374234]] \n",
      "\n",
      "[ True False False  True False False False]\n",
      "[[ 0.91374639  0.47244742 -1.53065624 -0.54199812]\n",
      " [ 0.79949144 -1.4226172  -0.86027719  0.32821663]\n",
      " [ 0.41392925 -0.01726808  0.73034678 -0.33612221]\n",
      " [-0.79135974  0.88985892 -0.23251206  1.44521637]\n",
      " [-0.26234701  0.30004479  0.44752536 -0.30134641]\n",
      " [ 0.80904368  1.5911659   1.04424558  1.26570203]\n",
      " [-1.62565519 -0.11329029 -0.25516578  0.07374234]]\n",
      "[[100.           0.47244742  -1.53065624  -0.54199812]\n",
      " [ -0.79135974   0.88985892  -0.23251206   1.44521637]]\n"
     ]
    }
   ],
   "source": [
    "# boolean indexing \n",
    "\n",
    "names = np.array(['Bob','Joe','Will','Bob','Will','Joe','Joe'])\n",
    "\n",
    "data = np.random.randn(7,4)\n",
    "print(data,'\\n')\n",
    "print(names == 'Bob')\n",
    "data2 = data[names == 'Bob']\n",
    "data2[0][0] = 100\n",
    "# boolean indexing 사용시 항상 데이터 복사 발생 \n",
    "print(data)\n",
    "print(data2)"
   ]
  },
  {
   "cell_type": "code",
   "execution_count": 27,
   "metadata": {},
   "outputs": [
    {
     "data": {
      "text/plain": [
       "array([ True, False,  True,  True,  True, False, False])"
      ]
     },
     "execution_count": 27,
     "metadata": {},
     "output_type": "execute_result"
    }
   ],
   "source": [
    "# boolean indexing 2\n",
    "\n",
    "# |, & 연산자 사용 가능 \n",
    "mask = (names == 'Bob') | (names == 'Will')\n",
    "mask"
   ]
  },
  {
   "cell_type": "code",
   "execution_count": 32,
   "metadata": {},
   "outputs": [
    {
     "data": {
      "text/plain": [
       "array([[ 0,  1,  2,  3],\n",
       "       [ 4,  5,  6,  7],\n",
       "       [ 8,  9, 10, 11],\n",
       "       [12, 13, 14, 15],\n",
       "       [16, 17, 18, 19],\n",
       "       [20, 21, 22, 23],\n",
       "       [24, 25, 26, 27],\n",
       "       [28, 29, 30, 31]])"
      ]
     },
     "execution_count": 32,
     "metadata": {},
     "output_type": "execute_result"
    }
   ],
   "source": [
    "#  fancy indexing \n",
    "arr = np.arange(32).reshape((8,4))\n",
    "arr\n"
   ]
  },
  {
   "cell_type": "markdown",
   "metadata": {},
   "source": [
    "#### 4. 배열 전치, 축 바꾸기 "
   ]
  },
  {
   "cell_type": "code",
   "execution_count": 33,
   "metadata": {},
   "outputs": [
    {
     "name": "stdout",
     "output_type": "stream",
     "text": [
      "[[ 0  1  2  3  4]\n",
      " [ 5  6  7  8  9]\n",
      " [10 11 12 13 14]]\n",
      "[[ 0  5 10]\n",
      " [ 1  6 11]\n",
      " [ 2  7 12]\n",
      " [ 3  8 13]\n",
      " [ 4  9 14]]\n"
     ]
    }
   ],
   "source": [
    "arr = np.arange(15).reshape(3,5)\n",
    "print(arr)\n",
    "print(arr.T)"
   ]
  },
  {
   "cell_type": "code",
   "execution_count": 34,
   "metadata": {},
   "outputs": [
    {
     "data": {
      "text/plain": [
       "array([[ 8.48074536, -0.14576362, -3.0713202 ],\n",
       "       [-0.14576362,  5.79989369,  1.6835091 ],\n",
       "       [-3.0713202 ,  1.6835091 ,  4.99238258]])"
      ]
     },
     "execution_count": 34,
     "metadata": {},
     "output_type": "execute_result"
    }
   ],
   "source": [
    "# 행렬 내적 구하기 \n",
    "arr = np.random.randn(6,3)\n",
    "np.dot(arr.T, arr)"
   ]
  },
  {
   "cell_type": "code",
   "execution_count": 36,
   "metadata": {},
   "outputs": [
    {
     "name": "stdout",
     "output_type": "stream",
     "text": [
      "[[[ 0  1  2  3]\n",
      "  [ 4  5  6  7]]\n",
      "\n",
      " [[ 8  9 10 11]\n",
      "  [12 13 14 15]]] \n",
      "\n",
      "[[[ 0  1  2  3]\n",
      "  [ 8  9 10 11]]\n",
      "\n",
      " [[ 4  5  6  7]\n",
      "  [12 13 14 15]]]\n"
     ]
    }
   ],
   "source": [
    "# transpose() : 여러개의 축을 한번에 바꿀 수 있음\n",
    "arr = np.arange(16).reshape((2,2,4))\n",
    "print(arr, '\\n')\n",
    "print(arr.transpose((1,0,2)))"
   ]
  },
  {
   "cell_type": "code",
   "execution_count": 38,
   "metadata": {},
   "outputs": [
    {
     "data": {
      "text/plain": [
       "array([[[ 0,  4],\n",
       "        [ 1,  5],\n",
       "        [ 2,  6],\n",
       "        [ 3,  7]],\n",
       "\n",
       "       [[ 8, 12],\n",
       "        [ 9, 13],\n",
       "        [10, 14],\n",
       "        [11, 15]]])"
      ]
     },
     "execution_count": 38,
     "metadata": {},
     "output_type": "execute_result"
    }
   ],
   "source": [
    "# swapaxes() : 두개의 축을 바꿀 수 있음 \n",
    "arr.swapaxes(1,2)"
   ]
  },
  {
   "cell_type": "markdown",
   "metadata": {},
   "source": [
    "#### 5. universal function\n",
    "\n",
    "ufunc : ndarray 안에 있는 데이터의 원소별 연산을 수행해주는 함수 \n"
   ]
  },
  {
   "cell_type": "code",
   "execution_count": 39,
   "metadata": {},
   "outputs": [],
   "source": [
    "# 단항 유니버셜 함수 : sqrt(), exp() ... \n",
    "\n",
    "# 이항 유니버셜 함수 : max()\n",
    "\n",
    "# 여러 개의 배열을 반환하는 유니버셜 함수 : modf()"
   ]
  },
  {
   "cell_type": "markdown",
   "metadata": {},
   "source": [
    "#### 6. 배열지향 프로그래밍 "
   ]
  },
  {
   "cell_type": "code",
   "execution_count": 41,
   "metadata": {},
   "outputs": [],
   "source": [
    "points = np.arange(-5,5,0.01)\n",
    "xs, ys = np.meshgrid(points,points)"
   ]
  },
  {
   "cell_type": "code",
   "execution_count": 42,
   "metadata": {},
   "outputs": [
    {
     "data": {
      "text/plain": [
       "array([[-5.  , -5.  , -5.  , ..., -5.  , -5.  , -5.  ],\n",
       "       [-4.99, -4.99, -4.99, ..., -4.99, -4.99, -4.99],\n",
       "       [-4.98, -4.98, -4.98, ..., -4.98, -4.98, -4.98],\n",
       "       ...,\n",
       "       [ 4.97,  4.97,  4.97, ...,  4.97,  4.97,  4.97],\n",
       "       [ 4.98,  4.98,  4.98, ...,  4.98,  4.98,  4.98],\n",
       "       [ 4.99,  4.99,  4.99, ...,  4.99,  4.99,  4.99]])"
      ]
     },
     "execution_count": 42,
     "metadata": {},
     "output_type": "execute_result"
    }
   ],
   "source": [
    "ys"
   ]
  },
  {
   "cell_type": "code",
   "execution_count": 44,
   "metadata": {},
   "outputs": [
    {
     "data": {
      "text/plain": [
       "[1.1, 2.2, 1.3, 1.4, 2.5]"
      ]
     },
     "execution_count": 44,
     "metadata": {},
     "output_type": "execute_result"
    }
   ],
   "source": [
    "# np.where() : x if condition else y \n",
    "xarr = np.array([1.1,1.2,1.3,1.4,1.5])\n",
    "yarr = np.array([2.1,2.2,2.3,2.4,2.5])\n",
    "cond = np.array([True,False,True,True,False])\n",
    "result = [(x if c else y ) for x,y,c in zip(xarr,yarr,cond)]\n",
    "result"
   ]
  },
  {
   "cell_type": "code",
   "execution_count": 45,
   "metadata": {},
   "outputs": [
    {
     "data": {
      "text/plain": [
       "array([-1, -1, -1,  1,  1])"
      ]
     },
     "execution_count": 45,
     "metadata": {},
     "output_type": "execute_result"
    }
   ],
   "source": [
    "np.where(xarr > 1.3,1,-1)"
   ]
  },
  {
   "cell_type": "code",
   "execution_count": 46,
   "metadata": {},
   "outputs": [],
   "source": [
    "# 수학 통계 메서드"
   ]
  },
  {
   "cell_type": "code",
   "execution_count": 47,
   "metadata": {},
   "outputs": [],
   "source": [
    "# 불리언 배열 메서드 "
   ]
  },
  {
   "cell_type": "code",
   "execution_count": null,
   "metadata": {},
   "outputs": [],
   "source": [
    "# 집합 관련 함수 "
   ]
  }
 ],
 "metadata": {
  "kernelspec": {
   "display_name": "base",
   "language": "python",
   "name": "python3"
  },
  "language_info": {
   "codemirror_mode": {
    "name": "ipython",
    "version": 3
   },
   "file_extension": ".py",
   "mimetype": "text/x-python",
   "name": "python",
   "nbconvert_exporter": "python",
   "pygments_lexer": "ipython3",
   "version": "3.9.12"
  },
  "orig_nbformat": 4,
  "vscode": {
   "interpreter": {
    "hash": "282d57acf3b4dfca65187be3f86b1a31e69b57bff5ce0c421bf06d8a6b0ef157"
   }
  }
 },
 "nbformat": 4,
 "nbformat_minor": 2
}
