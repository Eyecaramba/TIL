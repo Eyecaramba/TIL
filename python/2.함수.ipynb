{
 "cells": [
  {
   "cell_type": "markdown",
   "metadata": {},
   "source": [
    "# 함수 "
   ]
  },
  {
   "cell_type": "markdown",
   "metadata": {},
   "source": [
    "### 함수 선언 \n",
    "\n",
    "``` python \n",
    "def func(x,y,z = 1):\n",
    "    ~~~\n",
    "    ~~~\n",
    "    ~~~\n",
    "    return x,y,z\n",
    "```"
   ]
  },
  {
   "cell_type": "markdown",
   "metadata": {},
   "source": [
    "### 함수도 객체다 \n",
    "\n",
    "함수도 객체임으로 쉽게 생성표현 가능 "
   ]
  },
  {
   "cell_type": "markdown",
   "metadata": {},
   "source": [
    "### 익명함수 / 커링"
   ]
  },
  {
   "cell_type": "markdown",
   "metadata": {},
   "source": [
    "익명함수 : 함수 선언 없이도 사용 가능한 함수\n",
    "\n",
    "``` python \n",
    "lambda args : exp\n",
    "```\n",
    "커링 : 함수에서 일부 인자만 취하는 새로운 함수를 만드는 기법 \n"
   ]
  },
  {
   "cell_type": "code",
   "execution_count": 1,
   "metadata": {},
   "outputs": [
    {
     "data": {
      "text/plain": [
       "15"
      ]
     },
     "execution_count": 1,
     "metadata": {},
     "output_type": "execute_result"
    }
   ],
   "source": [
    "from functools import partial \n",
    "\n",
    "def add_num(x,y):\n",
    "    return x + y\n",
    "\n",
    "add_five = partial(add_num,5)\n",
    "add_five(10)"
   ]
  },
  {
   "cell_type": "markdown",
   "metadata": {},
   "source": [
    "### name space( = scope)\n",
    "\n",
    "global : 함수 밖 변수 사용시"
   ]
  }
 ],
 "metadata": {
  "kernelspec": {
   "display_name": "Python 3.9.12 ('LabEnv01')",
   "language": "python",
   "name": "python3"
  },
  "language_info": {
   "codemirror_mode": {
    "name": "ipython",
    "version": 3
   },
   "file_extension": ".py",
   "mimetype": "text/x-python",
   "name": "python",
   "nbconvert_exporter": "python",
   "pygments_lexer": "ipython3",
   "version": "3.9.12"
  },
  "orig_nbformat": 4,
  "vscode": {
   "interpreter": {
    "hash": "9b830f0613dbf67ebccf702d7f1fe3a7136657347938afa0f3ddfa52963a7a90"
   }
  }
 },
 "nbformat": 4,
 "nbformat_minor": 2
}
