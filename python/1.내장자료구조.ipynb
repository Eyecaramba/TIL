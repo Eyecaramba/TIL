{
 "cells": [
  {
   "cell_type": "markdown",
   "metadata": {},
   "source": [
    "# 내장 자료구조, 함수, 파일"
   ]
  },
  {
   "cell_type": "markdown",
   "metadata": {},
   "source": [
    "### 내장 자료구조"
   ]
  },
  {
   "cell_type": "markdown",
   "metadata": {},
   "source": [
    "#### 1. Tuple"
   ]
  },
  {
   "cell_type": "code",
   "execution_count": 1,
   "metadata": {},
   "outputs": [],
   "source": [
    "# tuple : 1차원의 고정된 크기를 갖는 변경 불가능한 순차 자료형 \n",
    "\n",
    "# tuple 선언 \n",
    "tup = (1,2,3)\n",
    "tup = 1,2,3\n",
    "tup = tuple([1,2,3])\n",
    "\n",
    "# tuple은 다양한 자료형이 저장 가능하다. \n",
    "tup = ('foo',[1,2],True)\n"
   ]
  },
  {
   "cell_type": "code",
   "execution_count": 3,
   "metadata": {},
   "outputs": [
    {
     "name": "stdout",
     "output_type": "stream",
     "text": [
      "2530197034384\n",
      "2530194330816\n"
     ]
    }
   ],
   "source": [
    "\n",
    "# id() : 파이썬이 객체를 구별하기 위해 부여하는 일련번호를 호출하는 함수 \n",
    "print(id(tup))\n",
    "\n",
    "# tuple은 변하는 자료형이 아님으로 tuple 객체에 변화가 생긴다면 id가 달라진다. 즉 다른 객체인 것이다. \n",
    "tup += (3,4)\n",
    "print(id(tup))\n"
   ]
  },
  {
   "cell_type": "code",
   "execution_count": 4,
   "metadata": {},
   "outputs": [
    {
     "name": "stdout",
     "output_type": "stream",
     "text": [
      "a : 1, b : 2, c : 3\n",
      "1 2 3\n",
      "4 5 6\n",
      "7 8 9\n"
     ]
    }
   ],
   "source": [
    "# unpacking \n",
    "# tuple은 unpacking(값 분리하기)이 가능하다.\n",
    "tup = (1,2,3)\n",
    "a,b,c = tup\n",
    "print(f\"a : {a}, b : {b}, c : {c}\")\n",
    "\n",
    "# 반복문을 활용한 unpacking \n",
    "seq = [(1,2,3),(4,5,6),(7,8,9)]\n",
    "for a,b,c in seq : \n",
    "    print(a,b,c)\n",
    "\n",
    "# 특정 변수만 unpacking \n",
    "values  = 1,2,3,4,5\n",
    "\n",
    "# 특정 변수와 그 외의 변수를 따로 묶고 싶은 경우 *를 사용\n",
    "# 남은 변수는 리스트로 묶어 반환함 \n",
    "a,b, *rest = values\n",
    "# 특정 변수만 취하고 나머지는 필요 없는 경우 *_ 사용\n",
    "a,b, *_  = values \n"
   ]
  },
  {
   "cell_type": "markdown",
   "metadata": {},
   "source": [
    "#### 2. List"
   ]
  },
  {
   "cell_type": "code",
   "execution_count": 5,
   "metadata": {},
   "outputs": [
    {
     "name": "stdout",
     "output_type": "stream",
     "text": [
      "[1, 2, 3, None] [1, 2, 3, None] [0, 1, 2]\n"
     ]
    }
   ],
   "source": [
    "# list : 리스트는 크기나 내용이 변경 가능한 순차 자료형이다. \n",
    "\n",
    "# list 선언\n",
    "a_list = [1,2,3,None]\n",
    "tup = 1,2,3,None\n",
    "b_list = list(tup)\n",
    "gen = range(3)\n",
    "c_list = list(gen)\n",
    "\n",
    "print(a_list,b_list,c_list)\n"
   ]
  },
  {
   "cell_type": "code",
   "execution_count": 7,
   "metadata": {},
   "outputs": [
    {
     "name": "stdout",
     "output_type": "stream",
     "text": [
      "2530198006464\n",
      "2530198006464\n",
      "2530225772352\n"
     ]
    }
   ],
   "source": [
    "\n",
    "# list의 여러가지 method : append, insert, remove, pop, extend, sort, in, not in \n",
    "\n",
    "\n",
    "# extend 와 \"+\"의 차이 \n",
    "list_1 = [1,2,3]\n",
    "print(id(list_1))\n",
    "list_2 = [4,5,6]\n",
    "\n",
    "# extend : 기존 리스트에 더해서 반환 \n",
    "list_1.extend(list_2)\n",
    "print(id(list_1))\n",
    "\n",
    "# + : 새로운 리스트를 만들어 반환\n",
    "print(id(list_1+list_2))"
   ]
  },
  {
   "cell_type": "code",
   "execution_count": 8,
   "metadata": {},
   "outputs": [],
   "source": [
    "# list는 slicing이 가능하다. \n",
    "# list slicing : [start : stop]"
   ]
  },
  {
   "cell_type": "code",
   "execution_count": 26,
   "metadata": {},
   "outputs": [
    {
     "name": "stdout",
     "output_type": "stream",
     "text": [
      "0 a\n",
      "1 b\n",
      "2 c\n"
     ]
    }
   ],
   "source": [
    "# enumerate() : list의 요소를 순서대로 반복하며 index 유지가 가능하다.\n",
    "some_list = ['a','b','c']\n",
    "for index,value in enumerate(some_list):\n",
    "    print(index,value)"
   ]
  },
  {
   "cell_type": "code",
   "execution_count": 16,
   "metadata": {},
   "outputs": [
    {
     "name": "stdout",
     "output_type": "stream",
     "text": [
      "['He', 'foxes', 'saw', 'six', 'small']\n"
     ]
    },
    {
     "data": {
      "text/plain": [
       "['He', 'saw', 'six', 'foxes', 'small']"
      ]
     },
     "execution_count": 16,
     "metadata": {},
     "output_type": "execute_result"
    }
   ],
   "source": [
    "# sort(*,key = None, reverse = False) : 해당 리스트를 정렬함 \n",
    "a = ['saw','small','He','foxes','six']\n",
    "a.sort()\n",
    "print(a)\n",
    "\n",
    "# key를 설정하면 다른 기준으로도 정렬 가능\n",
    "a.sort(key=len)\n",
    "a\n",
    "\n",
    "# sorted() : 정렬된 새로운 list 반환 "
   ]
  },
  {
   "cell_type": "code",
   "execution_count": 50,
   "metadata": {},
   "outputs": [
    {
     "name": "stdout",
     "output_type": "stream",
     "text": [
      "[('a', 1), ('b', 2), ('c', 3)]\n",
      "[('a', True), ('b', False)]\n",
      "[('a', True), ('b', False), ('c', None)]\n",
      "\n",
      " unpacking\n",
      "('a', 'b', 'c')\n",
      "(True, False, None)\n"
     ]
    }
   ],
   "source": [
    "# zip : 여러개의 튜플, 리스트 등의 순차 자료형을 짝지어 튜플을 생선한다. \n",
    "from itertools import zip_longest\n",
    "\n",
    "seq1 = ['a','b','c']\n",
    "seq2 = [1,2,3]\n",
    "\n",
    "# zip 만들기\n",
    "zipped = zip(seq1,seq2)\n",
    "print(list(zipped))\n",
    "\n",
    "\n",
    "# zip을 만들 때, 입력된 순차 자료형의 길이가 다른 경우 가장 짧은 것을 기준으로 만든다. \n",
    "seq3 = [True,False]\n",
    "zipped = zip(seq1,seq3)\n",
    "zipped = list(zipped)\n",
    "print(zipped)\n",
    "\n",
    "# zip을 만들 때, 입력된 순차 자료형의 길이가 다른 경우 가장 긴 것을 기준으로 만드는 방법 : zip_longest \n",
    "# zip_longest는 짝이 맞지 않는 부분은 None으로 채운다. \n",
    "zipped_long = zip_longest(seq1,seq3)\n",
    "zippeed_long_list = list(zipped_long)\n",
    "print(zippeed_long_list)\n",
    "\n",
    "# unzip : zip(*변수)\n",
    "\n",
    "print(\"\\n unpacking\")\n",
    "first, second = zip(*zippeed_long_list)\n",
    "print(first)\n",
    "print(second)"
   ]
  },
  {
   "cell_type": "markdown",
   "metadata": {},
   "source": [
    "#### 3. Dict"
   ]
  },
  {
   "cell_type": "markdown",
   "metadata": {},
   "source": [
    "내장 구조 중 가장 중요한 자료구조  \n",
    "일반적으로 해시맵, 연관배열이라고 불린다.  \n",
    "유연한 key - value 의 쌍이며 key,value 모두 객체다. \n"
   ]
  },
  {
   "cell_type": "code",
   "execution_count": 62,
   "metadata": {},
   "outputs": [
    {
     "name": "stdout",
     "output_type": "stream",
     "text": [
      "{'a': 1, 'b': 2, 'c': 3}\n",
      "{'a': 1, 'b': 2}\n",
      "2\n",
      "{'a': 1}\n",
      "1\n"
     ]
    },
    {
     "data": {
      "text/plain": [
       "{'a': 1}"
      ]
     },
     "execution_count": 62,
     "metadata": {},
     "output_type": "execute_result"
    }
   ],
   "source": [
    "# dict 선언 \n",
    "\n",
    "# {}로 나타내고, : 로 key,value를 구분한다. \n",
    "# dict의 key값으로는 단일 값을 담는 스칼라 자료형 혹은 값이 바뀌지 않는 tuple과 같은 객체만 가능함\n",
    "d1 = {'a':1,'b':2}\n",
    "\n",
    "# 새로운 값 dict에 넣기 dict[key] = value\n",
    "d1['c'] = 3\n",
    "print(d1)\n",
    "\n",
    "# del d[key] :  값 삭제하기 \n",
    "del d1['c']\n",
    "print(d1)\n",
    "\n",
    "# pop() : key값에 해당하는 value 반환, key값이 없다면 예외 발생\n",
    "ret = d1.pop('b')\n",
    "print(ret)\n",
    "print(d1)\n",
    "\n",
    "# get() : key값이 있다면 value 반환, key값이 없다면 None반환, 삭제하지는 않음\n",
    "print(d1.get('a'))\n",
    "d1\n",
    "\n"
   ]
  },
  {
   "cell_type": "code",
   "execution_count": 63,
   "metadata": {},
   "outputs": [
    {
     "name": "stdout",
     "output_type": "stream",
     "text": [
      "['a', 'b', 'd', 'c']\n",
      "[1, 2, 4, 3]\n"
     ]
    }
   ],
   "source": [
    "# keys, values method는 iterator를 반환, 정렬되어 있지는 않다. \n",
    "# keys, values method가 반환하는 리스트의 순서는 서로 같다. \n",
    "d2 = {'a':1,'b':2,'d':4,'c':3}\n",
    "print(list(d2.keys()))\n",
    "print(list(d2.values()))"
   ]
  },
  {
   "cell_type": "code",
   "execution_count": 72,
   "metadata": {},
   "outputs": [
    {
     "data": {
      "text/plain": [
       "{'a': ['apple', 'atom'], 'b': ['bat', 'bar', 'book']}"
      ]
     },
     "execution_count": 72,
     "metadata": {},
     "output_type": "execute_result"
    }
   ],
   "source": [
    "# dict 기본값 처리 : key값이 없는 경우 처리방법 \n",
    "words  = ['apple','bat','bar','atom','book']\n",
    "by_letter = {}\n",
    "\n",
    "# sol 1\n",
    "for word in words:\n",
    "    letter = word[0]\n",
    "    # key값이 없다면 key : value 추가\n",
    "    if letter not in by_letter:\n",
    "        by_letter[letter] = [word]\n",
    "    # 해당 key 값이 있다면 \n",
    "    else : by_letter[letter].append(word)\n",
    "by_letter\n"
   ]
  },
  {
   "cell_type": "code",
   "execution_count": 69,
   "metadata": {},
   "outputs": [
    {
     "data": {
      "text/plain": [
       "{'a': ['apple', 'atom'], 'b': ['bat', 'bar', 'book']}"
      ]
     },
     "execution_count": 69,
     "metadata": {},
     "output_type": "execute_result"
    }
   ],
   "source": [
    "# sol 2 : setdefault(key,default value)    \n",
    "words  = ['apple','bat','bar','atom','book']\n",
    "by_letter = {}\n",
    "for word in words : \n",
    "    letter = word[0]\n",
    "    by_letter.setdefault(letter,[]).append(word)\n",
    "by_letter"
   ]
  },
  {
   "cell_type": "code",
   "execution_count": 76,
   "metadata": {},
   "outputs": [
    {
     "data": {
      "text/plain": [
       "defaultdict(list, {'a': ['apple', 'atom'], 'b': ['bat', 'bar', 'book']})"
      ]
     },
     "execution_count": 76,
     "metadata": {},
     "output_type": "execute_result"
    }
   ],
   "source": [
    "# sol 3 : defaultdict(function) : 입력된 key값이 없는 경우 function을 불러와 value를 만듬\n",
    "from collections import defaultdict\n",
    "by_letter = defaultdict(list)\n",
    "for word in words:\n",
    "    by_letter[word[0]].append(word)\n",
    "by_letter"
   ]
  },
  {
   "cell_type": "markdown",
   "metadata": {},
   "source": [
    "#### 4. set"
   ]
  },
  {
   "cell_type": "code",
   "execution_count": 17,
   "metadata": {},
   "outputs": [
    {
     "name": "stdout",
     "output_type": "stream",
     "text": [
      "{1, 2, 3, 4}\n",
      "{1, 2, 3, 4, 5}\n"
     ]
    }
   ],
   "source": [
    "# set 선언\n",
    "\n",
    "# 같은 요소는 제거하고 하나씩만 남긴다. \n",
    "set_a = set([2,1,3,2,1,4])\n",
    "print(set_a)\n",
    "set_b = {1,2,3,4,5}\n",
    "print(set_b)"
   ]
  },
  {
   "cell_type": "code",
   "execution_count": 24,
   "metadata": {},
   "outputs": [
    {
     "data": {
      "text/plain": [
       "{1, 4}"
      ]
     },
     "execution_count": 24,
     "metadata": {},
     "output_type": "execute_result"
    }
   ],
   "source": [
    "# set method : remove, pop, uniuon, update, intersection, difference, symmetric_difference\n",
    "# subset, superset ... \n",
    "a = {1,2,3}\n",
    "b = {2,3,4}\n",
    "\n",
    "a.symmetric_difference_update(b)\n",
    "a"
   ]
  },
  {
   "cell_type": "code",
   "execution_count": 25,
   "metadata": {},
   "outputs": [
    {
     "data": {
      "text/plain": [
       "{(1, 2, 3)}"
      ]
     },
     "execution_count": 25,
     "metadata": {},
     "output_type": "execute_result"
    }
   ],
   "source": [
    "# 집합 원소들은 기본적으로 변경 불가능 해야 함으로 리스트는 튜플로 변경해야 한다. \n",
    "set_element_list = [1,2,3]\n",
    "a = {tuple(set_element_list)}\n",
    "a"
   ]
  },
  {
   "cell_type": "markdown",
   "metadata": {},
   "source": [
    "#### cf) comprehensions"
   ]
  },
  {
   "cell_type": "markdown",
   "metadata": {},
   "source": [
    "list comprehension : [ expr for val in collection if condition]  \n",
    "dict comprehension : { key_expr : val_expr for value in collection if condition }  \n",
    "set comprehension : { expr for value in collection if conditon }  \n",
    "\n",
    "이중으로 collection이 되어 있는 경우 가장 밖에 있는 collection 부터 써준다. \n",
    "nested list comprehensions : [ expr for collecion_1 in collection_2 for value in collection_1]\n"
   ]
  },
  {
   "cell_type": "markdown",
   "metadata": {},
   "source": [
    "#### cf_2) generator"
   ]
  },
  {
   "cell_type": "code",
   "execution_count": 26,
   "metadata": {},
   "outputs": [
    {
     "data": {
      "text/plain": [
       "['a', 'b', 'c']"
      ]
     },
     "execution_count": 26,
     "metadata": {},
     "output_type": "execute_result"
    }
   ],
   "source": [
    "# generator 생성 방법 1\n",
    "\n",
    "# iter() 함수 사용 \n",
    "some_dict = {'a':1, 'b':2, 'c':3}\n",
    "dict_iterator = iter(some_dict)\n",
    "list(dict_iterator)"
   ]
  },
  {
   "cell_type": "code",
   "execution_count": 27,
   "metadata": {},
   "outputs": [
    {
     "name": "stdout",
     "output_type": "stream",
     "text": [
      "1\n",
      "4\n",
      "9\n",
      "16\n",
      "25\n",
      "36\n",
      "49\n",
      "64\n",
      "81\n",
      "100\n"
     ]
    }
   ],
   "source": [
    "# 함수 선언을 통한 생성\n",
    "def squares(n = 10):\n",
    "    for i in range(1,n+1):\n",
    "        yield i ** 2\n",
    "\n",
    "gen = squares()\n",
    "\n",
    "for x in gen:\n",
    "    print(x)"
   ]
  },
  {
   "cell_type": "code",
   "execution_count": 28,
   "metadata": {},
   "outputs": [
    {
     "name": "stdout",
     "output_type": "stream",
     "text": [
      "a ['alan', 'adam']\n",
      "w ['wes', 'will']\n",
      "a ['albert']\n",
      "s ['steven']\n"
     ]
    }
   ],
   "source": [
    "# itertools 모듈을 이용한 생성 \n",
    "import itertools \n",
    "\n",
    "first_letter = lambda x : x[0]\n",
    "names = ['alan','adam','wes','will','albert','steven']\n",
    "\n",
    "for letter, names in itertools.groupby(names, first_letter):\n",
    "    print(letter,list(names))"
   ]
  },
  {
   "cell_type": "code",
   "execution_count": null,
   "metadata": {},
   "outputs": [],
   "source": []
  }
 ],
 "metadata": {
  "kernelspec": {
   "display_name": "Python 3.9.12 ('LabEnv01')",
   "language": "python",
   "name": "python3"
  },
  "language_info": {
   "codemirror_mode": {
    "name": "ipython",
    "version": 3
   },
   "file_extension": ".py",
   "mimetype": "text/x-python",
   "name": "python",
   "nbconvert_exporter": "python",
   "pygments_lexer": "ipython3",
   "version": "3.9.12"
  },
  "orig_nbformat": 4,
  "vscode": {
   "interpreter": {
    "hash": "9b830f0613dbf67ebccf702d7f1fe3a7136657347938afa0f3ddfa52963a7a90"
   }
  }
 },
 "nbformat": 4,
 "nbformat_minor": 2
}
