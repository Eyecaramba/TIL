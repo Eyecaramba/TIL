{
 "cells": [
  {
   "cell_type": "markdown",
   "metadata": {},
   "source": [
    "### 3.5 python 자주 사용하는 표준 라이브러리 정리 "
   ]
  },
  {
   "cell_type": "markdown",
   "metadata": {},
   "source": [
    "#### itertools\n",
    "\n",
    "permutations    \n",
    "combinations  \n",
    "product  \n",
    "combination_with_replacement   \n",
    "\n"
   ]
  },
  {
   "cell_type": "markdown",
   "metadata": {},
   "source": [
    "#### collections \n",
    "\n",
    "deque"
   ]
  },
  {
   "cell_type": "markdown",
   "metadata": {},
   "source": [
    "#### bisect "
   ]
  },
  {
   "cell_type": "markdown",
   "metadata": {},
   "source": [
    "#### heapq"
   ]
  },
  {
   "cell_type": "markdown",
   "metadata": {},
   "source": [
    "#### math"
   ]
  },
  {
   "cell_type": "markdown",
   "metadata": {},
   "source": [
    "perm : 순서를 고려하여 n개중 r개 만큼 선택하는 경우의 수   \n",
    "comb : n개중 r개 만큼 선택하는 경우의 수 "
   ]
  },
  {
   "cell_type": "markdown",
   "metadata": {},
   "source": []
  }
 ],
 "metadata": {
  "kernelspec": {
   "display_name": "Python 3.9.11 ('py_3.9.11')",
   "language": "python",
   "name": "python3"
  },
  "language_info": {
   "name": "python",
   "version": "3.9.11"
  },
  "orig_nbformat": 4,
  "vscode": {
   "interpreter": {
    "hash": "74b8cfefd0fa4051d735bc9fcf020aa7ead40c0048ca0c8813b003a841856b54"
   }
  }
 },
 "nbformat": 4,
 "nbformat_minor": 2
}
