{
 "cells": [
  {
   "cell_type": "markdown",
   "metadata": {},
   "source": [
    "### 3.5 python 자주 사용하는 표준 라이브러리 정리 "
   ]
  },
  {
   "cell_type": "code",
   "execution_count": 2,
   "metadata": {},
   "outputs": [],
   "source": [
    "import itertools\n",
    "import collections\n",
    "import heapq\n",
    "import math\n",
    "import re"
   ]
  },
  {
   "attachments": {},
   "cell_type": "markdown",
   "metadata": {},
   "source": [
    "#### 기본 연산자\n",
    "\n",
    "- 비트 연산자\n",
    "& : and  \n",
    "| : or "
   ]
  },
  {
   "attachments": {},
   "cell_type": "markdown",
   "metadata": {},
   "source": [
    "#### - builtins \n",
    "\n",
    "int('string') : 문자열로 입력된 숫자를 int형으로 바꾸어 줌\n",
    "\n",
    "- tuple : 변경 불가\n",
    "\n",
    "- list\n",
    "list.insert(index,num) : index 위치애 해당 num넣기 \n",
    "\n",
    "list.index(num) : num값이 가장 처음 나오는 index값 반환  \n",
    "list.remove(num) : 가장 처음 나오는 num값을 제거  \n",
    "list.sort() : 안정적 정렬  \n",
    "list = [ x1 if 조건문 else x2 반복문] : 리스트 삼항 연산자 응용  \n",
    "\n",
    "- set : 중복 불가 \n",
    "\n",
    "- dict {key : value}   \n",
    "dict[key] = value : dict에 값 추가\n",
    "dict[key] = []; dict[key].append() : 리스트로 저장된 value값에 다른 값을 추가할 수 있다. \n",
    "\n",
    "\n",
    "- str \n",
    "str.split(sep='구분자') : 하나의 구분자를 이용해서 문자열을 나눔  \n",
    "str.replace('a','b') : a를 b로 바꿈\n",
    "re.split(sep,str) : 여러개의 구분자를 이용해서 문자열을 나눔 "
   ]
  },
  {
   "attachments": {},
   "cell_type": "markdown",
   "metadata": {},
   "source": [
    "- for 문\n",
    "\n",
    "for x1,x2 in zip(list1,list2): 여러개의 리스트를 동시에 for문 돌리기 \n"
   ]
  },
  {
   "attachments": {},
   "cell_type": "markdown",
   "metadata": {},
   "source": [
    "== : 객체의 값이 서로 같다면 True 아니며 False  \n",
    "is : 같은 객체면 True 아니면 False "
   ]
  },
  {
   "attachments": {},
   "cell_type": "markdown",
   "metadata": {},
   "source": [
    "- function\n",
    "enumerate(iterable,start=) : 순서와 iterable의 item을 하나씩 묶은 튜플을 하나씩 생성해서\n",
    "\n",
    "- parameters  \n",
    "*args : 여러개의 인자를 받는 경우 사용함  \n",
    "**kwargs : key = value 형태로 넣으면 인자의 값을 딕셔너리 형태로 저장한다. "
   ]
  },
  {
   "attachments": {},
   "cell_type": "markdown",
   "metadata": {},
   "source": [
    "#### - copy\n",
    "\n",
    "\n"
   ]
  },
  {
   "attachments": {},
   "cell_type": "markdown",
   "metadata": {},
   "source": [
    "#### - itertools\n",
    "\n",
    "permutations(arr,num) : 순열   \n",
    "product(arr,repeat= num) : 중복 가능한 순열  \n",
    "product(arr1,arr2,arr3) : 각 arr에서 하나씩 뽑아서 순열을 만듬 \n",
    "\n",
    "combinations(arr,num) : 조합 (시간복잡도 2^N)\n",
    "\n",
    "combination_with_replacement(arr,num) : 중복 가능 조합  "
   ]
  },
  {
   "attachments": {},
   "cell_type": "markdown",
   "metadata": {},
   "source": [
    "#### - collections\n",
    "dict, list, set, tuple과 같은 built_in 자료형에 대한 대안 데이터형을 제공함\n",
    "\n",
    "deque(maxlen = ) : 덱 구현, maxlen으로 최대 길이 설정 가능  \n"
   ]
  },
  {
   "attachments": {},
   "cell_type": "markdown",
   "metadata": {},
   "source": [
    "#### - bisect "
   ]
  },
  {
   "attachments": {},
   "cell_type": "markdown",
   "metadata": {},
   "source": [
    "#### - heapq\n",
    "힙 구현 module, 기본적으로 최소 힙으로 구현된다. \n",
    "\n",
    "heapq.heappush  \n",
    "heapq.heappop\n"
   ]
  },
  {
   "attachments": {},
   "cell_type": "markdown",
   "metadata": {},
   "source": [
    "#### - math\n",
    "\n",
    "ceil : 올림  \n",
    "floor : 내림  \n",
    "log2() : 밑이 2인 로그 값  \n",
    "log10() : 밑이 10인 로그 값  \n",
    "\n",
    "perm : 순서를 고려하여 n개중 r개 만큼 선택하는 경우의 수   \n",
    "comb(n,r) : n개중 r개 만큼 선택하는 경우의 수 "
   ]
  },
  {
   "cell_type": "code",
   "execution_count": null,
   "metadata": {},
   "outputs": [],
   "source": []
  }
 ],
 "metadata": {
  "kernelspec": {
   "display_name": "Python 3",
   "language": "python",
   "name": "python3"
  },
  "language_info": {
   "codemirror_mode": {
    "name": "ipython",
    "version": 3
   },
   "file_extension": ".py",
   "mimetype": "text/x-python",
   "name": "python",
   "nbconvert_exporter": "python",
   "pygments_lexer": "ipython3",
   "version": "3.9.6 (default, Sep 26 2022, 11:37:49) \n[Clang 14.0.0 (clang-1400.0.29.202)]"
  },
  "orig_nbformat": 4,
  "vscode": {
   "interpreter": {
    "hash": "31f2aee4e71d21fbe5cf8b01ff0e069b9275f58929596ceb00d14d90e3e16cd6"
   }
  }
 },
 "nbformat": 4,
 "nbformat_minor": 2
}
