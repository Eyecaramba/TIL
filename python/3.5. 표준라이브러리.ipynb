{
 "cells": [
  {
   "cell_type": "markdown",
   "metadata": {},
   "source": [
    "### 3.5 python 자주 사용하는 표준 라이브러리 정리 "
   ]
  },
  {
   "cell_type": "code",
   "execution_count": 2,
   "metadata": {},
   "outputs": [],
   "source": [
    "import itertools\n",
    "import collections\n",
    "import heapq\n",
    "import math"
   ]
  },
  {
   "attachments": {},
   "cell_type": "markdown",
   "metadata": {},
   "source": [
    "#### built_in \n",
    "\n",
    "int('string') : 문자열로 입력된 숫자를 int형으로 바꾸어 줌  \n",
    "\n",
    "\n",
    "\n",
    "list.insert(index,num)  \n"
   ]
  },
  {
   "attachments": {},
   "cell_type": "markdown",
   "metadata": {},
   "source": [
    "#### itertools\n",
    "\n",
    "permutations(arr,num) : 순열  \n",
    "combinations(arr,num) : 조합  \n",
    "product(arr1,arr2,arr3) : 각 arr에서 하나씩 뽑아서 만든 조합  \n",
    "combination_with_replacement(arr,num) : 중복 가능 조합 (중복 길이 = num)  "
   ]
  },
  {
   "attachments": {},
   "cell_type": "markdown",
   "metadata": {},
   "source": [
    "#### collections\n",
    "dict, list, set, tuple과 같은 built_in 자료형에 대한 대안 데이터형을 제공함\n",
    "\n",
    "deque() : 덱 구현\n"
   ]
  },
  {
   "cell_type": "code",
   "execution_count": 6,
   "metadata": {},
   "outputs": [
    {
     "name": "stdout",
     "output_type": "stream",
     "text": [
      "\u001b[0;31mInit signature:\u001b[0m \u001b[0mcollections\u001b[0m\u001b[0;34m.\u001b[0m\u001b[0mdeque\u001b[0m\u001b[0;34m(\u001b[0m\u001b[0mself\u001b[0m\u001b[0;34m,\u001b[0m \u001b[0;34m/\u001b[0m\u001b[0;34m,\u001b[0m \u001b[0;34m*\u001b[0m\u001b[0margs\u001b[0m\u001b[0;34m,\u001b[0m \u001b[0;34m**\u001b[0m\u001b[0mkwargs\u001b[0m\u001b[0;34m)\u001b[0m\u001b[0;34m\u001b[0m\u001b[0;34m\u001b[0m\u001b[0m\n",
      "\u001b[0;31mDocstring:\u001b[0m     \n",
      "deque([iterable[, maxlen]]) --> deque object\n",
      "\n",
      "A list-like sequence optimized for data accesses near its endpoints.\n",
      "\u001b[0;31mFile:\u001b[0m           /Library/Developer/CommandLineTools/Library/Frameworks/Python3.framework/Versions/3.9/lib/python3.9/collections/__init__.py\n",
      "\u001b[0;31mType:\u001b[0m           type\n",
      "\u001b[0;31mSubclasses:\u001b[0m     \n"
     ]
    }
   ],
   "source": [
    "collections.deque?"
   ]
  },
  {
   "cell_type": "markdown",
   "metadata": {},
   "source": [
    "#### bisect "
   ]
  },
  {
   "attachments": {},
   "cell_type": "markdown",
   "metadata": {},
   "source": [
    "#### heapq\n",
    "힙 구현 module\n"
   ]
  },
  {
   "cell_type": "code",
   "execution_count": 7,
   "metadata": {},
   "outputs": [
    {
     "name": "stdout",
     "output_type": "stream",
     "text": [
      "\u001b[0;31mType:\u001b[0m        module\n",
      "\u001b[0;31mString form:\u001b[0m <module 'heapq' from '/Library/Developer/CommandLineTools/Library/Frameworks/Python3.framework/Versions/3.9/lib/python3.9/heapq.py'>\n",
      "\u001b[0;31mFile:\u001b[0m        /Library/Developer/CommandLineTools/Library/Frameworks/Python3.framework/Versions/3.9/lib/python3.9/heapq.py\n",
      "\u001b[0;31mDocstring:\u001b[0m  \n",
      "Heap queue algorithm (a.k.a. priority queue).\n",
      "\n",
      "Heaps are arrays for which a[k] <= a[2*k+1] and a[k] <= a[2*k+2] for\n",
      "all k, counting elements from 0.  For the sake of comparison,\n",
      "non-existing elements are considered to be infinite.  The interesting\n",
      "property of a heap is that a[0] is always its smallest element.\n",
      "\n",
      "Usage:\n",
      "\n",
      "heap = []            # creates an empty heap\n",
      "heappush(heap, item) # pushes a new item on the heap\n",
      "item = heappop(heap) # pops the smallest item from the heap\n",
      "item = heap[0]       # smallest item on the heap without popping it\n",
      "heapify(x)           # transforms list into a heap, in-place, in linear time\n",
      "item = heapreplace(heap, item) # pops and returns smallest item, and adds\n",
      "                               # new item; the heap size is unchanged\n",
      "\n",
      "Our API differs from textbook heap algorithms as follows:\n",
      "\n",
      "- We use 0-based indexing.  This makes the relationship between the\n",
      "  index for a node and the indexes for its children slightly less\n",
      "  obvious, but is more suitable since Python uses 0-based indexing.\n",
      "\n",
      "- Our heappop() method returns the smallest item, not the largest.\n",
      "\n",
      "These two make it possible to view the heap as a regular Python list\n",
      "without surprises: heap[0] is the smallest item, and heap.sort()\n",
      "maintains the heap invariant!\n"
     ]
    }
   ],
   "source": [
    "heapq?"
   ]
  },
  {
   "cell_type": "markdown",
   "metadata": {},
   "source": [
    "#### math"
   ]
  },
  {
   "attachments": {},
   "cell_type": "markdown",
   "metadata": {},
   "source": [
    "ceil : 올림  \n",
    "floor : 내림  \n",
    "\n",
    "perm : 순서를 고려하여 n개중 r개 만큼 선택하는 경우의 수   \n",
    "comb : n개중 r개 만큼 선택하는 경우의 수 "
   ]
  },
  {
   "cell_type": "code",
   "execution_count": 13,
   "metadata": {},
   "outputs": [
    {
     "name": "stdout",
     "output_type": "stream",
     "text": [
      "473674\n"
     ]
    }
   ],
   "source": [
    "print(int('473674'))"
   ]
  },
  {
   "cell_type": "code",
   "execution_count": null,
   "metadata": {},
   "outputs": [],
   "source": []
  }
 ],
 "metadata": {
  "kernelspec": {
   "display_name": "torchEnv",
   "language": "python",
   "name": "python3"
  },
  "language_info": {
   "codemirror_mode": {
    "name": "ipython",
    "version": 3
   },
   "file_extension": ".py",
   "mimetype": "text/x-python",
   "name": "python",
   "nbconvert_exporter": "python",
   "pygments_lexer": "ipython3",
   "version": "3.10.6"
  },
  "orig_nbformat": 4,
  "vscode": {
   "interpreter": {
    "hash": "750a9aeb52ca800ddd9c72d446ed4e269380bf01d4954db901ee03bd437f4585"
   }
  }
 },
 "nbformat": 4,
 "nbformat_minor": 2
}
