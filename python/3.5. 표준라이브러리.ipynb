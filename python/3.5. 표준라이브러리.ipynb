{
 "cells": [
  {
   "cell_type": "markdown",
   "metadata": {},
   "source": [
    "### 3.5 python 자주 사용하는 표준 라이브러리 정리 "
   ]
  },
  {
   "cell_type": "code",
   "execution_count": 2,
   "metadata": {},
   "outputs": [],
   "source": [
    "import itertools\n",
    "import collections\n",
    "import heapq\n",
    "import math"
   ]
  },
  {
   "attachments": {},
   "cell_type": "markdown",
   "metadata": {},
   "source": [
    "#### - builtins \n",
    "\n",
    "int('string') : 문자열로 입력된 숫자를 int형으로 바꾸어 줌  \n",
    "\n",
    "\n",
    "- list\n",
    "list.insert(index,num) : index 위치애 해당 num넣기 \n",
    "list.index(num) : num값이 가장 처음 나오는 index값 반환  \n",
    "list.remove(num) : 가장 처음 나오는 num값을 제거\n",
    "\n",
    "- list comprehension 삼항 연산자 \n",
    "list = [ x1 if 조건문 else x2 반복문]\n",
    "\n",
    "- set\n",
    "\n"
   ]
  },
  {
   "attachments": {},
   "cell_type": "markdown",
   "metadata": {},
   "source": [
    "#### - itertools\n",
    "\n",
    "permutations(arr,num) : 순열   \n",
    "product(arr,repeat= num) : 중복 가능한 순열  \n",
    "product(arr1,arr2,arr3) : 각 arr에서 하나씩 뽑아서 순열을 만듬  \n",
    "combinations(arr,num) : 조합  \n",
    "combination_with_replacement(arr,num) : 중복 가능 조합  "
   ]
  },
  {
   "attachments": {},
   "cell_type": "markdown",
   "metadata": {},
   "source": [
    "#### - collections\n",
    "dict, list, set, tuple과 같은 built_in 자료형에 대한 대안 데이터형을 제공함\n",
    "\n",
    "deque() : 덱 구현\n"
   ]
  },
  {
   "attachments": {},
   "cell_type": "markdown",
   "metadata": {},
   "source": [
    "#### - bisect "
   ]
  },
  {
   "attachments": {},
   "cell_type": "markdown",
   "metadata": {},
   "source": [
    "#### - heapq\n",
    "힙 구현 module, 기본적으로 최소 힙으로 구현된다. \n",
    "\n",
    "heapq.heappush  \n",
    "heapq.heappop\n"
   ]
  },
  {
   "attachments": {},
   "cell_type": "markdown",
   "metadata": {},
   "source": [
    "#### math\n",
    "\n",
    "ceil : 올림  \n",
    "floor : 내림  \n",
    "\n",
    "perm : 순서를 고려하여 n개중 r개 만큼 선택하는 경우의 수   \n",
    "comb : n개중 r개 만큼 선택하는 경우의 수 "
   ]
  },
  {
   "cell_type": "code",
   "execution_count": 4,
   "metadata": {},
   "outputs": [
    {
     "data": {
      "text/plain": [
       "0"
      ]
     },
     "execution_count": 4,
     "metadata": {},
     "output_type": "execute_result"
    }
   ],
   "source": [
    "a = [1,1,1,1,2]\n",
    "a.index(1)"
   ]
  },
  {
   "cell_type": "code",
   "execution_count": null,
   "metadata": {},
   "outputs": [],
   "source": []
  }
 ],
 "metadata": {
  "kernelspec": {
   "display_name": "Python 3",
   "language": "python",
   "name": "python3"
  },
  "language_info": {
   "codemirror_mode": {
    "name": "ipython",
    "version": 3
   },
   "file_extension": ".py",
   "mimetype": "text/x-python",
   "name": "python",
   "nbconvert_exporter": "python",
   "pygments_lexer": "ipython3",
   "version": "3.9.6"
  },
  "orig_nbformat": 4,
  "vscode": {
   "interpreter": {
    "hash": "31f2aee4e71d21fbe5cf8b01ff0e069b9275f58929596ceb00d14d90e3e16cd6"
   }
  }
 },
 "nbformat": 4,
 "nbformat_minor": 2
}
