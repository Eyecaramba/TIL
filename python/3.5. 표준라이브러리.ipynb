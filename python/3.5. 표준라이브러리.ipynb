{
 "cells": [
  {
   "cell_type": "markdown",
   "metadata": {},
   "source": [
    "### 3.5 python 자주 사용하는 표준 라이브러리 정리 "
   ]
  },
  {
   "cell_type": "code",
   "execution_count": 8,
   "metadata": {},
   "outputs": [],
   "source": [
    "import sys\n",
    "import copy\n",
    "import itertools\n",
    "import collections\n",
    "import heapq\n",
    "import math\n",
    "import re"
   ]
  },
  {
   "attachments": {},
   "cell_type": "markdown",
   "metadata": {},
   "source": [
    "#### - sys\n",
    "\n",
    "sys.stdin.readline\n",
    "\n",
    "\n",
    "\n",
    "sys.quit\n",
    "sys.exit\n"
   ]
  },
  {
   "attachments": {},
   "cell_type": "markdown",
   "metadata": {},
   "source": [
    "#### - copy\n",
    "\n",
    "1. 대입(=) : 값을 복사하는 것이 아니라 하나의 객체를 나타내는 포인터가 2개 생김\n",
    "따라서 list_a가 바뀌면 list_b 또한 바뀜    \n",
    "\n",
    "2. shallow copy : copy() 메서드를 이용한 방법  \n",
    "list_a가 바뀌더라도 list_b가 바뀌지 않음. \n",
    "그러나 list_a의 요소가 변형 가능 요소라면(예시 : 이중 리스트) list_a 변형시 list_b의 해당 변형 가능 요소가 변경됨\n",
    "\n",
    "3. copy.copy(x) : x의 얕은 사본 반환 \n",
    "2번 방법을 사용한 경우와 동일\n",
    "\n",
    "4. copy.deepcopy(x) : x의 깊은 사본 반환  \n",
    "불변형 객체는 그대로 가져오고 변형 객체는 새로운 공간에 값을 복사하여 가져온다.  \n",
    "즉 list_a가 변하더라도 list_b는 변하지 않는다.  \n"
   ]
  },
  {
   "attachments": {},
   "cell_type": "markdown",
   "metadata": {},
   "source": [
    "#### - itertools\n",
    "\n",
    "permutations(arr,num) : 순열   \n",
    "product(arr,repeat= num) : 중복 가능한 순열  \n",
    "product(arr1,arr2,arr3) : 각 arr에서 하나씩 뽑아서 순열을 만듬 \n",
    "\n",
    "combinations(arr,num) : 조합 (시간복잡도 2^N)  \n",
    "combination_with_replacement(arr,num) : 중복 가능 조합  "
   ]
  },
  {
   "attachments": {},
   "cell_type": "markdown",
   "metadata": {},
   "source": [
    "#### - collections\n",
    "dict, list, set, tuple과 같은 built_in 자료형에 대한 대안 데이터형을 제공함\n",
    "\n",
    "deque(maxlen = ) : 덱 구현, maxlen으로 최대 길이 설정 가능  \n"
   ]
  },
  {
   "attachments": {},
   "cell_type": "markdown",
   "metadata": {},
   "source": [
    "#### - bisect "
   ]
  },
  {
   "attachments": {},
   "cell_type": "markdown",
   "metadata": {},
   "source": [
    "#### - heapq\n",
    "힙 구현 module, 기본적으로 최소 힙으로 구현된다. \n",
    "\n",
    "heapq.heapify : 시간복잡도 logN\n",
    "heapq.heappush  \n",
    "heapq.heappop\n"
   ]
  },
  {
   "attachments": {},
   "cell_type": "markdown",
   "metadata": {},
   "source": [
    "#### - math\n",
    "\n",
    "ceil : 올림  \n",
    "floor : 내림  \n",
    "log2() : 밑이 2인 로그 값  \n",
    "log10() : 밑이 10인 로그 값  \n",
    "\n",
    "perm : 순서를 고려하여 n개중 r개 만큼 선택하는 경우의 수   \n",
    "comb(n,r) : n개중 r개 만큼 선택하는 경우의 수 "
   ]
  }
 ],
 "metadata": {
  "kernelspec": {
   "display_name": "Python 3",
   "language": "python",
   "name": "python3"
  },
  "language_info": {
   "codemirror_mode": {
    "name": "ipython",
    "version": 3
   },
   "file_extension": ".py",
   "mimetype": "text/x-python",
   "name": "python",
   "nbconvert_exporter": "python",
   "pygments_lexer": "ipython3",
   "version": "3.9.6 (default, Sep 26 2022, 11:37:49) \n[Clang 14.0.0 (clang-1400.0.29.202)]"
  },
  "orig_nbformat": 4,
  "vscode": {
   "interpreter": {
    "hash": "31f2aee4e71d21fbe5cf8b01ff0e069b9275f58929596ceb00d14d90e3e16cd6"
   }
  }
 },
 "nbformat": 4,
 "nbformat_minor": 2
}
