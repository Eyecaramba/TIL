{
 "cells": [
  {
   "cell_type": "markdown",
   "metadata": {},
   "source": [
    "# Coding_Test_CH02"
   ]
  },
  {
   "cell_type": "markdown",
   "metadata": {},
   "source": [
    "### 그리디 알고리즘\n",
    "\n",
    "- 현재 상황에서 지금 당장 좋은 것만 고르는 방법 \n",
    "- 일반적으로 그리디 알고리즘은 최적의 해를 보장할 수 없을 때가 많다. \n",
    "- 따라서 그리디 알고리즘은 이 방법을 사용해도 괜찮은지 그 정당성을 분석하는 것이 중요하다. \n"
   ]
  },
  {
   "cell_type": "code",
   "execution_count": 2,
   "metadata": {},
   "outputs": [
    {
     "name": "stdout",
     "output_type": "stream",
     "text": [
      "2\n"
     ]
    }
   ],
   "source": [
    "# 문제1 - 1이 될 때까지 \n",
    "\n",
    "n,k = map(int,input().split())\n",
    "count = 0\n",
    "while n != 1 :\n",
    "    #  나누어 떨어진다면 무조건 나눈다\n",
    "    #  2이상 수로 나누는 작업이 1을 빼는 것 보다 수를 더 줄일 수 있기 때문\n",
    "    if(n%k == 0):\n",
    "        n = n/k\n",
    "        count += 1\n",
    "    # 나누어 떨어지지 않는다면 1을 뺌\n",
    "    else : \n",
    "        n = n-1\n",
    "        count += 1\n",
    "\n",
    "print(count)"
   ]
  },
  {
   "cell_type": "code",
   "execution_count": 3,
   "metadata": {},
   "outputs": [
    {
     "name": "stdout",
     "output_type": "stream",
     "text": [
      "2\n"
     ]
    }
   ],
   "source": [
    "# 문제 1 - 답안 예시 \n",
    "n,k = map(int,input().split())\n",
    "\n",
    "result = 0\n",
    "\n",
    "while True : \n",
    "    # 나누어 떨어지는 수 구하기\n",
    "    # (//) : 나누기 연산 후 소수점 이하의 수를 버리고 정수 부분의 수만 구함 \n",
    "    target = (n // k) * k\n",
    "    # 나누어 떨어지는 수로 만들기 \n",
    "    result += (n - target)\n",
    "    n = target\n",
    "    if(n < k) : \n",
    "        break\n",
    "    result += 1 \n",
    "    n //= k \n",
    "\n",
    "result += n-1\n",
    "print(result)"
   ]
  },
  {
   "cell_type": "code",
   "execution_count": 14,
   "metadata": {},
   "outputs": [
    {
     "name": "stdout",
     "output_type": "stream",
     "text": [
      "576\n"
     ]
    }
   ],
   "source": [
    "# 문제 2 - 곱하기 혹은 더하기 \n",
    "\n",
    "input_string = input()\n",
    "result = int(input_string[0])\n",
    "for i in range(1,len(input_string)) : \n",
    "    if(result <= 0 or int(input_string[i]) <= 1) : \n",
    "        result = result + int(input_string[i])\n",
    "    else : \n",
    "        result = result * int(input_string[i])\n",
    "\n",
    "print(result)\n",
    "        \n",
    "         "
   ]
  },
  {
   "cell_type": "code",
   "execution_count": 11,
   "metadata": {},
   "outputs": [
    {
     "name": "stdout",
     "output_type": "stream",
     "text": [
      "576\n"
     ]
    }
   ],
   "source": [
    "# 문제 2 - 답안예시 \n",
    "\n",
    "data = input()\n",
    "result = int(data[0])\n",
    "\n",
    "for i in range(1,len(data)) : \n",
    "    num = int(data[i])\n",
    "    if num <= 1 or result <= 1 : \n",
    "        result += num\n",
    "    else : \n",
    "        result *= num\n",
    "\n",
    "print(result) "
   ]
  },
  {
   "cell_type": "code",
   "execution_count": 17,
   "metadata": {},
   "outputs": [
    {
     "name": "stdout",
     "output_type": "stream",
     "text": [
      "2\n"
     ]
    }
   ],
   "source": [
    "# 문제 3 - 모험가 길드\n",
    "\n",
    "gulid_num = int(input())\n",
    "guild_list = list(map(int,input().split()))\n",
    "group_num = 0\n",
    "\n",
    "guild_list.sort()\n",
    "\n",
    "count = 1\n",
    "for i in range(len(guild_list)) : \n",
    "    if count == guild_list[i] : \n",
    "        group_num += 1\n",
    "        count = 1\n",
    "    elif count < guild_list[i] : \n",
    "        count += 1\n",
    "\n",
    "print(group_num)\n",
    "\n",
    "\n"
   ]
  },
  {
   "cell_type": "code",
   "execution_count": 18,
   "metadata": {},
   "outputs": [],
   "source": [
    "# 문제 3 - 답안예시 \n",
    "\n",
    "# 현재 그룹에 포함된 모함가의 수 >= 현재 확인하고 있는 공포도 \n",
    "\n",
    "n = int(input())\n",
    "data = list(map(int,input().split()))\n",
    "data.sort()\n",
    "\n",
    "result = 0\n",
    "count = 0\n",
    "\n",
    "for i in data : \n",
    "    count += 1 \n",
    "    if count >= i : \n",
    "        result += 1\n",
    "        count = 0\n",
    "        \n",
    "print(result)"
   ]
  },
  {
   "cell_type": "markdown",
   "metadata": {},
   "source": [
    "### 구현 \n",
    "\n",
    "구현 : 머릿속에 있는 알고리즘을 소스코드로 바꾸는 과정   \n",
    "구현문제 : 풀이를 떠올리기 쉽지만 소스코드로 옮기기 어려운 문제 \n",
    "\n",
    "특정 소수점 자리 출력 문제, 문자열 끊기 문제 등등 \n",
    "\n",
    "적절한 라이브러리를 찾는 사용하는 문제  ex) 모든 순열, 모든 조합을 찾는 문제 등등\n",
    "적절한 라이브러리를 활용하면 간단하게 풀 수 있지만 그렇지 못하면 방대한 양을 구현해야함 \n"
   ]
  },
  {
   "cell_type": "code",
   "execution_count": 2,
   "metadata": {},
   "outputs": [
    {
     "name": "stdout",
     "output_type": "stream",
     "text": [
      "3 4\n"
     ]
    }
   ],
   "source": [
    "# 문제 1 - 상하좌우 문제 \n",
    "matrix_size = int(input())\n",
    "order_list = list(map(str,input().split()))\n",
    "pos_x = 1\n",
    "pos_y = 1\n",
    "\n",
    "for i in range(len(order_list)) :\n",
    "    if order_list[i] == 'R' :\n",
    "        if(pos_y == matrix_size) : continue\n",
    "        pos_y += 1\n",
    "    elif order_list[i] == 'L' : \n",
    "        if(pos_y== 1) : continue\n",
    "        pos_y -= 1\n",
    "    elif order_list[i] == 'U' : \n",
    "        if(pos_x == 1) : continue\n",
    "        pos_x -= 1\n",
    "    elif order_list[i] == 'D' : \n",
    "        if(pos_x == matrix_size) : continue\n",
    "        pos_x += 1\n",
    "\n",
    "print(pos_x,pos_y)        \n"
   ]
  },
  {
   "cell_type": "code",
   "execution_count": 4,
   "metadata": {},
   "outputs": [
    {
     "name": "stdout",
     "output_type": "stream",
     "text": [
      "3 4\n"
     ]
    }
   ],
   "source": [
    "n = int(input())\n",
    "x,y = 1,1\n",
    "plans = input().split()\n",
    "\n",
    "dx = [0,0,-1,1]\n",
    "dy = [-1,1,0,0]\n",
    "move_types = ['L','R','U','D']\n",
    "\n",
    "for plan in plans : \n",
    "    for i in range(len(move_types)):\n",
    "        if plan == move_types[i] : \n",
    "            nx = x + dx[i]\n",
    "            ny = y + dy[i]\n",
    "    if nx < 1 or ny < 1 or nx > n or ny > n : \n",
    "        continue\n",
    "    x,y = nx,ny\n",
    "print(x,y)"
   ]
  },
  {
   "cell_type": "code",
   "execution_count": 9,
   "metadata": {},
   "outputs": [
    {
     "name": "stdout",
     "output_type": "stream",
     "text": [
      "11475\n"
     ]
    }
   ],
   "source": [
    "# 문제 2 - 시각 \n",
    "\n",
    "N = int(input())\n",
    "count = 0\n",
    "for hour in range(N + 1) : \n",
    "    for minute in range(60) : \n",
    "        for second in range(60) : \n",
    "            time = str(hour) + str(minute) + str(second)\n",
    "            if '3' in time : \n",
    "                count += 1\n",
    "print(count)"
   ]
  },
  {
   "cell_type": "code",
   "execution_count": 10,
   "metadata": {},
   "outputs": [],
   "source": [
    "# 문제 2 - 답안예시 \n",
    "# 위와 비슷함 "
   ]
  },
  {
   "cell_type": "code",
   "execution_count": 1,
   "metadata": {},
   "outputs": [
    {
     "name": "stdout",
     "output_type": "stream",
     "text": [
      "2\n"
     ]
    }
   ],
   "source": [
    "# 문제 3 - 왕실의 나이트 \n",
    "loc = str(input())\n",
    "\n",
    "loc_row = int(loc[1])\n",
    "loc_col = ord(loc[0]) - 96\n",
    "\n",
    "count = 0\n",
    "move = [-2,2,-1,1]\n",
    "steps = [(-2,1),(-2,-1),(2,1),(2,-1),(1,2),(1,-2),(-1,2),(-1,-2)]\n",
    "\n",
    "for i in range(len(steps)) : \n",
    "    next_row = loc_row + steps[i][0]\n",
    "    next_col = loc_col + steps[i][1]\n",
    "    if next_row > 0 and next_row < 8 and next_col > 0 and next_col < 8 : \n",
    "        count += 1\n",
    "\n",
    "print(count)\n",
    "\n"
   ]
  },
  {
   "cell_type": "code",
   "execution_count": null,
   "metadata": {},
   "outputs": [],
   "source": []
  }
 ],
 "metadata": {
  "kernelspec": {
   "display_name": "Python 3.9.13 64-bit",
   "language": "python",
   "name": "python3"
  },
  "language_info": {
   "codemirror_mode": {
    "name": "ipython",
    "version": 3
   },
   "file_extension": ".py",
   "mimetype": "text/x-python",
   "name": "python",
   "nbconvert_exporter": "python",
   "pygments_lexer": "ipython3",
   "version": "3.9.13"
  },
  "orig_nbformat": 4,
  "vscode": {
   "interpreter": {
    "hash": "4c200e70745bd8b16351f06fb1ed1f0da7a3e3242ea32eca0b25a0b4446c1dd5"
   }
  }
 },
 "nbformat": 4,
 "nbformat_minor": 2
}
