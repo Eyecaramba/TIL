{
 "cells": [
  {
   "cell_type": "markdown",
   "metadata": {},
   "source": [
    "# 단계별 : 10 ~ 15"
   ]
  },
  {
   "cell_type": "markdown",
   "metadata": {},
   "source": [
    "### 정렬"
   ]
  },
  {
   "cell_type": "code",
   "execution_count": 2,
   "metadata": {},
   "outputs": [
    {
     "name": "stdout",
     "output_type": "stream",
     "text": [
      "34.0\n",
      "30\n"
     ]
    }
   ],
   "source": [
    "# 2587번 : 대표값 2\n",
    "num_list = []\n",
    "for _ in range(5):\n",
    "    num_list.append(int(input()))\n",
    "\n",
    "num_list.sort()\n",
    "\n",
    "print(int(sum(num_list)/len(num_list)))\n",
    "print(num_list[2])"
   ]
  },
  {
   "cell_type": "code",
   "execution_count": 30,
   "metadata": {},
   "outputs": [],
   "source": [
    "inp = []\n",
    "with open('input.txt','r', encoding='utf8') as f:\n",
    "    while True:\n",
    "        word = (f.readline().rstrip())\n",
    "        if not word: break\n",
    "        inp.append(word)"
   ]
  },
  {
   "cell_type": "code",
   "execution_count": 31,
   "metadata": {},
   "outputs": [
    {
     "name": "stdout",
     "output_type": "stream",
     "text": [
      "i\n",
      "im\n",
      "it\n",
      "no\n",
      "but\n",
      "more\n",
      "wait\n",
      "wont\n",
      "yours\n",
      "cannot\n",
      "hesitate\n"
     ]
    }
   ],
   "source": [
    "# 1811번 : 단어정렬\n",
    "# 짧은 단어로 정렬 -> 길이가 같으면 사전 순으로 정렬\n",
    "# 문자열의 길이는 50을 넘지 않는다. \n",
    "# attempt 1 : 기수정렬\n",
    "word_list = []\n",
    "for i in range(1,int(inp[0]) + 1):\n",
    "    word_list.append(inp[i]) \n",
    "\n",
    "tmps = [[] for i in range(51)]\n",
    "for word in word_list:\n",
    "    if word not in tmps[len(word)]:\n",
    "        tmps[len(word)].append(word)\n",
    "\n",
    "for tmp in tmps: \n",
    "    if len(tmp) == 0: continue\n",
    "    else:\n",
    "        tmp.sort()\n",
    "        for tm in tmp:\n",
    "            print(tm)"
   ]
  },
  {
   "cell_type": "code",
   "execution_count": null,
   "metadata": {},
   "outputs": [],
   "source": [
    "# 1811번 : 단어정렬 (제출답안)\n",
    "word_list = []\n",
    "for i in range(int(input())):\n",
    "    word_list.append(input()) \n",
    "\n",
    "tmps = [[] for i in range(51)]\n",
    "for word in word_list:\n",
    "    if word not in tmps[len(word)]:\n",
    "        tmps[len(word)].append(word)\n",
    "\n",
    "for tmp in tmps: \n",
    "    if len(tmp) == 0: continue\n",
    "    else:\n",
    "        tmp.sort()\n",
    "        for tm in tmp:\n",
    "            print(tm)\n",
    "\n",
    "# 메모리 : 32884kb / 시간 : 2692ms"
   ]
  },
  {
   "cell_type": "code",
   "execution_count": 6,
   "metadata": {},
   "outputs": [
    {
     "name": "stdout",
     "output_type": "stream",
     "text": [
      "-1 None\n",
      "20 Sunyoung\n",
      "21 Junkyu\n",
      "21 Dohyun\n"
     ]
    }
   ],
   "source": [
    "# 10814번 : 나이순 정렬 \n",
    "# 입력 : 1 <= N <= 100,000\n",
    "# attempt 1 : 삽입정렬\n",
    "def insertionSort(a,n) : \n",
    "    for i in range(1,n) :\n",
    "        j = i\n",
    "        v = a[i]\n",
    "        while(a[j-1][0] > v[0]) : \n",
    "            a[j] = a[j-1]\n",
    "            j = j-1\n",
    "        a[j] = v \n",
    "    return a \n",
    "\n",
    "\n",
    "data = []\n",
    "for _ in range(int(input())):\n",
    "    age, name = input().split()\n",
    "    data.append([int(age),name])\n",
    "data.insert(0,[-1,None])\n",
    "# 삽입정렬\n",
    "data = insertionSort(data,len(data))\n",
    "\n",
    "for record in data[1:]:\n",
    "    print('%d %s'%(record[0],record[1]))\n",
    "\n",
    "\n",
    "\n",
    "# 시간초과 \n"
   ]
  },
  {
   "cell_type": "code",
   "execution_count": null,
   "metadata": {},
   "outputs": [],
   "source": [
    "# 10814번 : 나이순 정렬 \n",
    "# 입력 : 1 <= N <= 100,000\n",
    "# attempt 2 : 기수정렬\n",
    "\n",
    "data = []\n",
    "for _ in range(int(input())):\n",
    "    age, name = input().split()\n",
    "    data.append([int(age),name])\n",
    "\n",
    "sorted_data = [[] for _ in range(201)]\n",
    "for record in data:\n",
    "    sorted_data[record[0]].append(record)\n",
    "\n",
    "for records in sorted_data:\n",
    "    if len(records) == 0:\n",
    "        continue\n",
    "    else:\n",
    "        for record in records:\n",
    "            print('%d %s'%(record[0],record[1]))\n",
    "\n",
    "# 메모리 : 44932 / 시간 : 4153ms"
   ]
  },
  {
   "cell_type": "code",
   "execution_count": 13,
   "metadata": {},
   "outputs": [
    {
     "name": "stdout",
     "output_type": "stream",
     "text": [
      "2\n",
      "1\n",
      "4\n",
      "3\n"
     ]
    }
   ],
   "source": [
    "string = input()\n",
    "\n",
    "for i in string:\n",
    "    print(i)"
   ]
  },
  {
   "cell_type": "code",
   "execution_count": 2,
   "metadata": {},
   "outputs": [
    {
     "name": "stdout",
     "output_type": "stream",
     "text": [
      "965310000"
     ]
    }
   ],
   "source": [
    "# 1427번 : 소트인사이드\n",
    "\n",
    "# import sys\n",
    "# input = sys.stdin.readline\n",
    "\n",
    "datas = input()\n",
    "\n",
    "num_list = [0 for _ in range(10)]\n",
    "for data in datas:\n",
    "    num_list[int(data)] += 1\n",
    "\n",
    "for i in range(len(num_list)-1,-1,-1):\n",
    "    if not num_list[i]: continue\n",
    "    else :\n",
    "        print(str(i)*num_list[i],end='')\n",
    "        \n",
    "# 메모리 : 30840kb, 시간 : 68ms"
   ]
  },
  {
   "cell_type": "code",
   "execution_count": 10,
   "metadata": {},
   "outputs": [
    {
     "name": "stdout",
     "output_type": "stream",
     "text": [
      "1 1\n",
      "2 2\n",
      "3 3\n"
     ]
    }
   ],
   "source": [
    "# 11651번 : 좌표 정렬\n",
    "\n",
    "# 입력 : 100,000\n",
    "# x,y 범위 : -100,000, 100,000\n",
    "\n",
    "import sys\n",
    "input = sys.stdin.readline\n",
    "points = []\n",
    "\n",
    "# 좌표 입력받기 \n",
    "for i in range(int(input())):\n",
    "    x, y = map(int,input().split())\n",
    "    points.append((x,y))\n",
    "\n",
    "# 정렬하기\n",
    "points.sort(key= lambda x : (x[1],x[0]))\n",
    "\n",
    "for point in points:\n",
    "    print('%d %d'%(point[0],point[1]))\n",
    "\n"
   ]
  },
  {
   "cell_type": "markdown",
   "metadata": {},
   "source": [
    "sort + lambda\n",
    "\n",
    "sort(key = lambda x : )\n",
    "\n"
   ]
  },
  {
   "cell_type": "code",
   "execution_count": 12,
   "metadata": {},
   "outputs": [
    {
     "ename": "ValueError",
     "evalue": "invalid literal for int() with base 10: ''",
     "output_type": "error",
     "traceback": [
      "\u001b[1;31m---------------------------------------------------------------------------\u001b[0m",
      "\u001b[1;31mValueError\u001b[0m                                Traceback (most recent call last)",
      "\u001b[1;32md:\\OneDrive - inu.ac.kr\\GIT\\TIL\\coding_interview\\backjoon\\단계별(10~15).ipynb 셀 9\u001b[0m in \u001b[0;36m<cell line: 5>\u001b[1;34m()\u001b[0m\n\u001b[0;32m      <a href='vscode-notebook-cell:/d%3A/OneDrive%20-%20inu.ac.kr/GIT/TIL/coding_interview/backjoon/%EB%8B%A8%EA%B3%84%EB%B3%84%2810~15%29.ipynb#X15sZmlsZQ%3D%3D?line=0'>1</a>\u001b[0m \u001b[39m## 18870번 : 좌표압축 \u001b[39;00m\n\u001b[0;32m      <a href='vscode-notebook-cell:/d%3A/OneDrive%20-%20inu.ac.kr/GIT/TIL/coding_interview/backjoon/%EB%8B%A8%EA%B3%84%EB%B3%84%2810~15%29.ipynb#X15sZmlsZQ%3D%3D?line=1'>2</a>\u001b[0m \u001b[39m## 입력 : N <= 1,000,000, 시간제한 2초 \u001b[39;00m\n\u001b[0;32m      <a href='vscode-notebook-cell:/d%3A/OneDrive%20-%20inu.ac.kr/GIT/TIL/coding_interview/backjoon/%EB%8B%A8%EA%B3%84%EB%B3%84%2810~15%29.ipynb#X15sZmlsZQ%3D%3D?line=2'>3</a>\u001b[0m \u001b[39m## 정확한 좌표가 필요 없고 좌표의 대소 관계만 유지되는\u001b[39;00m\n\u001b[1;32m----> <a href='vscode-notebook-cell:/d%3A/OneDrive%20-%20inu.ac.kr/GIT/TIL/coding_interview/backjoon/%EB%8B%A8%EA%B3%84%EB%B3%84%2810~15%29.ipynb#X15sZmlsZQ%3D%3D?line=4'>5</a>\u001b[0m N \u001b[39m=\u001b[39m \u001b[39mint\u001b[39;49m(\u001b[39minput\u001b[39;49m())\n\u001b[0;32m      <a href='vscode-notebook-cell:/d%3A/OneDrive%20-%20inu.ac.kr/GIT/TIL/coding_interview/backjoon/%EB%8B%A8%EA%B3%84%EB%B3%84%2810~15%29.ipynb#X15sZmlsZQ%3D%3D?line=6'>7</a>\u001b[0m data_list \u001b[39m=\u001b[39m \u001b[39mlist\u001b[39m(\u001b[39mmap\u001b[39m(\u001b[39mint\u001b[39m,\u001b[39minput\u001b[39m()\u001b[39m.\u001b[39msplit()))\n\u001b[0;32m      <a href='vscode-notebook-cell:/d%3A/OneDrive%20-%20inu.ac.kr/GIT/TIL/coding_interview/backjoon/%EB%8B%A8%EA%B3%84%EB%B3%84%2810~15%29.ipynb#X15sZmlsZQ%3D%3D?line=7'>8</a>\u001b[0m sorted_data \u001b[39m=\u001b[39m []\n",
      "\u001b[1;31mValueError\u001b[0m: invalid literal for int() with base 10: ''"
     ]
    }
   ],
   "source": [
    "## 18870번 : 좌표압축 \n",
    "## 입력 : N <= 1,000,000, 시간제한 2초 \n",
    "## 정확한 좌표가 필요 없고 좌표의 대소 관계만 유지되는\n",
    "\n",
    "N = int(input())\n",
    "data_list = list(map(int,input().split()))\n",
    "sorted_data = [ 0 for _ in range(N)]\n",
    "\n",
    "for data in data_list:\n",
    "    if data in sorted_data:\n",
    "        continue\n",
    "    else : sorted_data.append(data)\n",
    "\n",
    "# 입력을 순서대로 정리함 \n",
    "sorted_data.sort()\n",
    "\n",
    "# 입력된 순서대로 데이터를 불러와서 인덱스를 출력함\n",
    "for data in data_list:\n",
    "    # 인덱스를 불러오는 시간 : O(N)\n",
    "    print(sorted_data.index(data),end= ' ')\n",
    "\n",
    "# 시간초과 "
   ]
  },
  {
   "cell_type": "code",
   "execution_count": null,
   "metadata": {},
   "outputs": [],
   "source": [
    "## 18870번 : 좌표압축\n",
    "import sys \n",
    "input = sys.stdin.readline\n",
    "N = int(input())\n",
    "data_list = list(map(int,input().split()))\n",
    "\n",
    "# set 함수를 이용해서 겹치는 원소 제거 후 정렬\n",
    "sorted_data = sorted(set(data_list))\n",
    "\n",
    "#\n",
    "dic = {sorted_data[i] : i for i in range(len(sorted_data))}\n",
    "\n",
    "for i in data_list:\n",
    "    # 딕셔너리의 키 값을 불러오는 시간 : O(1)\n",
    "    print(dic[i], end = ' ')\n",
    "    \n",
    "# 메모리 : 156812 / 시간 : 1840ms"
   ]
  },
  {
   "cell_type": "markdown",
   "metadata": {},
   "source": [
    "알고리즘을 만들 때 시간복잡도를 계산하는 것이 잘 되지 않는 것 같다.  \n",
    "작성한 알고리즘의 시간복잡도를 계산하는 훈련이 더 필요한 것 같다. "
   ]
  },
  {
   "cell_type": "markdown",
   "metadata": {},
   "source": [
    "### 재귀"
   ]
  },
  {
   "cell_type": "code",
   "execution_count": null,
   "metadata": {},
   "outputs": [],
   "source": [
    "# 10872번 : 팩토리얼\n",
    "\n",
    "def factorial(N):\n",
    "    if N == 0:\n",
    "        return 1\n",
    "    else : return N * factorial(N-1)\n",
    "\n",
    "print(factorial(int(input())))\n"
   ]
  },
  {
   "cell_type": "code",
   "execution_count": 3,
   "metadata": {},
   "outputs": [
    {
     "name": "stdout",
     "output_type": "stream",
     "text": [
      "1 2\n"
     ]
    }
   ],
   "source": [
    "# 25501번 : 재귀의 귀재 \n",
    "def recursion(s, l, r,cnt):\n",
    "    cnt += 1\n",
    "    if l >= r: return 1,cnt\n",
    "    elif s[l] != s[r]: return 0,cnt\n",
    "    else: return recursion(s, l+1, r-1,cnt)\n",
    "\n",
    "def isPalindrome(s):\n",
    "    cnt = 0\n",
    "    return recursion(s, 0, len(s)-1,cnt)\n",
    "\n",
    "\n",
    "for _ in range(int(input())):\n",
    "    print('%d %d'%(isPalindrome(input())))"
   ]
  },
  {
   "cell_type": "code",
   "execution_count": 20,
   "metadata": {},
   "outputs": [
    {
     "name": "stdout",
     "output_type": "stream",
     "text": [
      "***\n",
      "* *"
     ]
    },
    {
     "ename": "RecursionError",
     "evalue": "maximum recursion depth exceeded in comparison",
     "output_type": "error",
     "traceback": [
      "\u001b[0;31m---------------------------------------------------------------------------\u001b[0m",
      "\u001b[0;31mRecursionError\u001b[0m                            Traceback (most recent call last)",
      "\u001b[1;32m/Users/uzine/Library/CloudStorage/OneDrive-inu.ac.kr/GIT/TIL/coding_interview/backjoon/단계별(10~15).ipynb 셀 19\u001b[0m in \u001b[0;36m<cell line: 28>\u001b[0;34m()\u001b[0m\n\u001b[1;32m     <a href='vscode-notebook-cell:/Users/uzine/Library/CloudStorage/OneDrive-inu.ac.kr/GIT/TIL/coding_interview/backjoon/%EB%8B%A8%EA%B3%84%EB%B3%84%2810~15%29.ipynb#X33sZmlsZQ%3D%3D?line=23'>24</a>\u001b[0m     \u001b[39melse\u001b[39;00m:\n\u001b[1;32m     <a href='vscode-notebook-cell:/Users/uzine/Library/CloudStorage/OneDrive-inu.ac.kr/GIT/TIL/coding_interview/backjoon/%EB%8B%A8%EA%B3%84%EB%B3%84%2810~15%29.ipynb#X33sZmlsZQ%3D%3D?line=24'>25</a>\u001b[0m         printStar(n\u001b[39m/\u001b[39m\u001b[39m/\u001b[39m\u001b[39m3\u001b[39m)\n\u001b[0;32m---> <a href='vscode-notebook-cell:/Users/uzine/Library/CloudStorage/OneDrive-inu.ac.kr/GIT/TIL/coding_interview/backjoon/%EB%8B%A8%EA%B3%84%EB%B3%84%2810~15%29.ipynb#X33sZmlsZQ%3D%3D?line=27'>28</a>\u001b[0m printStar(\u001b[39m9\u001b[39;49m)\n",
      "\u001b[1;32m/Users/uzine/Library/CloudStorage/OneDrive-inu.ac.kr/GIT/TIL/coding_interview/backjoon/단계별(10~15).ipynb 셀 19\u001b[0m in \u001b[0;36mprintStar\u001b[0;34m(n)\u001b[0m\n\u001b[1;32m      <a href='vscode-notebook-cell:/Users/uzine/Library/CloudStorage/OneDrive-inu.ac.kr/GIT/TIL/coding_interview/backjoon/%EB%8B%A8%EA%B3%84%EB%B3%84%2810~15%29.ipynb#X33sZmlsZQ%3D%3D?line=6'>7</a>\u001b[0m         \u001b[39mprint\u001b[39m(star,end\u001b[39m=\u001b[39m\u001b[39m'\u001b[39m\u001b[39m'\u001b[39m)\n\u001b[1;32m      <a href='vscode-notebook-cell:/Users/uzine/Library/CloudStorage/OneDrive-inu.ac.kr/GIT/TIL/coding_interview/backjoon/%EB%8B%A8%EA%B3%84%EB%B3%84%2810~15%29.ipynb#X33sZmlsZQ%3D%3D?line=7'>8</a>\u001b[0m     \u001b[39melse\u001b[39;00m:\n\u001b[0;32m----> <a href='vscode-notebook-cell:/Users/uzine/Library/CloudStorage/OneDrive-inu.ac.kr/GIT/TIL/coding_interview/backjoon/%EB%8B%A8%EA%B3%84%EB%B3%84%2810~15%29.ipynb#X33sZmlsZQ%3D%3D?line=8'>9</a>\u001b[0m         printStar(n\u001b[39m/\u001b[39;49m\u001b[39m/\u001b[39;49m\u001b[39m3\u001b[39;49m)\n\u001b[1;32m     <a href='vscode-notebook-cell:/Users/uzine/Library/CloudStorage/OneDrive-inu.ac.kr/GIT/TIL/coding_interview/backjoon/%EB%8B%A8%EA%B3%84%EB%B3%84%2810~15%29.ipynb#X33sZmlsZQ%3D%3D?line=9'>10</a>\u001b[0m \u001b[39mprint\u001b[39m()\n\u001b[1;32m     <a href='vscode-notebook-cell:/Users/uzine/Library/CloudStorage/OneDrive-inu.ac.kr/GIT/TIL/coding_interview/backjoon/%EB%8B%A8%EA%B3%84%EB%B3%84%2810~15%29.ipynb#X33sZmlsZQ%3D%3D?line=11'>12</a>\u001b[0m stars \u001b[39m=\u001b[39m [\u001b[39m'\u001b[39m\u001b[39m*\u001b[39m\u001b[39m'\u001b[39m,\u001b[39m'\u001b[39m\u001b[39m \u001b[39m\u001b[39m'\u001b[39m,\u001b[39m'\u001b[39m\u001b[39m*\u001b[39m\u001b[39m'\u001b[39m]\n",
      "\u001b[1;32m/Users/uzine/Library/CloudStorage/OneDrive-inu.ac.kr/GIT/TIL/coding_interview/backjoon/단계별(10~15).ipynb 셀 19\u001b[0m in \u001b[0;36mprintStar\u001b[0;34m(n)\u001b[0m\n\u001b[1;32m     <a href='vscode-notebook-cell:/Users/uzine/Library/CloudStorage/OneDrive-inu.ac.kr/GIT/TIL/coding_interview/backjoon/%EB%8B%A8%EA%B3%84%EB%B3%84%2810~15%29.ipynb#X33sZmlsZQ%3D%3D?line=14'>15</a>\u001b[0m         \u001b[39mprint\u001b[39m(star,end\u001b[39m=\u001b[39m\u001b[39m'\u001b[39m\u001b[39m'\u001b[39m)\n\u001b[1;32m     <a href='vscode-notebook-cell:/Users/uzine/Library/CloudStorage/OneDrive-inu.ac.kr/GIT/TIL/coding_interview/backjoon/%EB%8B%A8%EA%B3%84%EB%B3%84%2810~15%29.ipynb#X33sZmlsZQ%3D%3D?line=15'>16</a>\u001b[0m \u001b[39melse\u001b[39;00m:\n\u001b[0;32m---> <a href='vscode-notebook-cell:/Users/uzine/Library/CloudStorage/OneDrive-inu.ac.kr/GIT/TIL/coding_interview/backjoon/%EB%8B%A8%EA%B3%84%EB%B3%84%2810~15%29.ipynb#X33sZmlsZQ%3D%3D?line=16'>17</a>\u001b[0m     printStar(n\u001b[39m/\u001b[39;49m\u001b[39m/\u001b[39;49m\u001b[39m3\u001b[39;49m)\n\u001b[1;32m     <a href='vscode-notebook-cell:/Users/uzine/Library/CloudStorage/OneDrive-inu.ac.kr/GIT/TIL/coding_interview/backjoon/%EB%8B%A8%EA%B3%84%EB%B3%84%2810~15%29.ipynb#X33sZmlsZQ%3D%3D?line=17'>18</a>\u001b[0m \u001b[39mprint\u001b[39m()\n\u001b[1;32m     <a href='vscode-notebook-cell:/Users/uzine/Library/CloudStorage/OneDrive-inu.ac.kr/GIT/TIL/coding_interview/backjoon/%EB%8B%A8%EA%B3%84%EB%B3%84%2810~15%29.ipynb#X33sZmlsZQ%3D%3D?line=19'>20</a>\u001b[0m stars \u001b[39m=\u001b[39m [\u001b[39m'\u001b[39m\u001b[39m*\u001b[39m\u001b[39m'\u001b[39m,\u001b[39m'\u001b[39m\u001b[39m*\u001b[39m\u001b[39m'\u001b[39m,\u001b[39m'\u001b[39m\u001b[39m*\u001b[39m\u001b[39m'\u001b[39m]\n",
      "\u001b[1;32m/Users/uzine/Library/CloudStorage/OneDrive-inu.ac.kr/GIT/TIL/coding_interview/backjoon/단계별(10~15).ipynb 셀 19\u001b[0m in \u001b[0;36mprintStar\u001b[0;34m(n)\u001b[0m\n\u001b[1;32m      <a href='vscode-notebook-cell:/Users/uzine/Library/CloudStorage/OneDrive-inu.ac.kr/GIT/TIL/coding_interview/backjoon/%EB%8B%A8%EA%B3%84%EB%B3%84%2810~15%29.ipynb#X33sZmlsZQ%3D%3D?line=6'>7</a>\u001b[0m         \u001b[39mprint\u001b[39m(star,end\u001b[39m=\u001b[39m\u001b[39m'\u001b[39m\u001b[39m'\u001b[39m)\n\u001b[1;32m      <a href='vscode-notebook-cell:/Users/uzine/Library/CloudStorage/OneDrive-inu.ac.kr/GIT/TIL/coding_interview/backjoon/%EB%8B%A8%EA%B3%84%EB%B3%84%2810~15%29.ipynb#X33sZmlsZQ%3D%3D?line=7'>8</a>\u001b[0m     \u001b[39melse\u001b[39;00m:\n\u001b[0;32m----> <a href='vscode-notebook-cell:/Users/uzine/Library/CloudStorage/OneDrive-inu.ac.kr/GIT/TIL/coding_interview/backjoon/%EB%8B%A8%EA%B3%84%EB%B3%84%2810~15%29.ipynb#X33sZmlsZQ%3D%3D?line=8'>9</a>\u001b[0m         printStar(n\u001b[39m/\u001b[39;49m\u001b[39m/\u001b[39;49m\u001b[39m3\u001b[39;49m)\n\u001b[1;32m     <a href='vscode-notebook-cell:/Users/uzine/Library/CloudStorage/OneDrive-inu.ac.kr/GIT/TIL/coding_interview/backjoon/%EB%8B%A8%EA%B3%84%EB%B3%84%2810~15%29.ipynb#X33sZmlsZQ%3D%3D?line=9'>10</a>\u001b[0m \u001b[39mprint\u001b[39m()\n\u001b[1;32m     <a href='vscode-notebook-cell:/Users/uzine/Library/CloudStorage/OneDrive-inu.ac.kr/GIT/TIL/coding_interview/backjoon/%EB%8B%A8%EA%B3%84%EB%B3%84%2810~15%29.ipynb#X33sZmlsZQ%3D%3D?line=11'>12</a>\u001b[0m stars \u001b[39m=\u001b[39m [\u001b[39m'\u001b[39m\u001b[39m*\u001b[39m\u001b[39m'\u001b[39m,\u001b[39m'\u001b[39m\u001b[39m \u001b[39m\u001b[39m'\u001b[39m,\u001b[39m'\u001b[39m\u001b[39m*\u001b[39m\u001b[39m'\u001b[39m]\n",
      "\u001b[1;32m/Users/uzine/Library/CloudStorage/OneDrive-inu.ac.kr/GIT/TIL/coding_interview/backjoon/단계별(10~15).ipynb 셀 19\u001b[0m in \u001b[0;36mprintStar\u001b[0;34m(n)\u001b[0m\n\u001b[1;32m      <a href='vscode-notebook-cell:/Users/uzine/Library/CloudStorage/OneDrive-inu.ac.kr/GIT/TIL/coding_interview/backjoon/%EB%8B%A8%EA%B3%84%EB%B3%84%2810~15%29.ipynb#X33sZmlsZQ%3D%3D?line=6'>7</a>\u001b[0m         \u001b[39mprint\u001b[39m(star,end\u001b[39m=\u001b[39m\u001b[39m'\u001b[39m\u001b[39m'\u001b[39m)\n\u001b[1;32m      <a href='vscode-notebook-cell:/Users/uzine/Library/CloudStorage/OneDrive-inu.ac.kr/GIT/TIL/coding_interview/backjoon/%EB%8B%A8%EA%B3%84%EB%B3%84%2810~15%29.ipynb#X33sZmlsZQ%3D%3D?line=7'>8</a>\u001b[0m     \u001b[39melse\u001b[39;00m:\n\u001b[0;32m----> <a href='vscode-notebook-cell:/Users/uzine/Library/CloudStorage/OneDrive-inu.ac.kr/GIT/TIL/coding_interview/backjoon/%EB%8B%A8%EA%B3%84%EB%B3%84%2810~15%29.ipynb#X33sZmlsZQ%3D%3D?line=8'>9</a>\u001b[0m         printStar(n\u001b[39m/\u001b[39;49m\u001b[39m/\u001b[39;49m\u001b[39m3\u001b[39;49m)\n\u001b[1;32m     <a href='vscode-notebook-cell:/Users/uzine/Library/CloudStorage/OneDrive-inu.ac.kr/GIT/TIL/coding_interview/backjoon/%EB%8B%A8%EA%B3%84%EB%B3%84%2810~15%29.ipynb#X33sZmlsZQ%3D%3D?line=9'>10</a>\u001b[0m \u001b[39mprint\u001b[39m()\n\u001b[1;32m     <a href='vscode-notebook-cell:/Users/uzine/Library/CloudStorage/OneDrive-inu.ac.kr/GIT/TIL/coding_interview/backjoon/%EB%8B%A8%EA%B3%84%EB%B3%84%2810~15%29.ipynb#X33sZmlsZQ%3D%3D?line=11'>12</a>\u001b[0m stars \u001b[39m=\u001b[39m [\u001b[39m'\u001b[39m\u001b[39m*\u001b[39m\u001b[39m'\u001b[39m,\u001b[39m'\u001b[39m\u001b[39m \u001b[39m\u001b[39m'\u001b[39m,\u001b[39m'\u001b[39m\u001b[39m*\u001b[39m\u001b[39m'\u001b[39m]\n",
      "    \u001b[0;31m[... skipping similar frames: printStar at line 9 (2967 times)]\u001b[0m\n",
      "\u001b[1;32m/Users/uzine/Library/CloudStorage/OneDrive-inu.ac.kr/GIT/TIL/coding_interview/backjoon/단계별(10~15).ipynb 셀 19\u001b[0m in \u001b[0;36mprintStar\u001b[0;34m(n)\u001b[0m\n\u001b[1;32m      <a href='vscode-notebook-cell:/Users/uzine/Library/CloudStorage/OneDrive-inu.ac.kr/GIT/TIL/coding_interview/backjoon/%EB%8B%A8%EA%B3%84%EB%B3%84%2810~15%29.ipynb#X33sZmlsZQ%3D%3D?line=6'>7</a>\u001b[0m         \u001b[39mprint\u001b[39m(star,end\u001b[39m=\u001b[39m\u001b[39m'\u001b[39m\u001b[39m'\u001b[39m)\n\u001b[1;32m      <a href='vscode-notebook-cell:/Users/uzine/Library/CloudStorage/OneDrive-inu.ac.kr/GIT/TIL/coding_interview/backjoon/%EB%8B%A8%EA%B3%84%EB%B3%84%2810~15%29.ipynb#X33sZmlsZQ%3D%3D?line=7'>8</a>\u001b[0m     \u001b[39melse\u001b[39;00m:\n\u001b[0;32m----> <a href='vscode-notebook-cell:/Users/uzine/Library/CloudStorage/OneDrive-inu.ac.kr/GIT/TIL/coding_interview/backjoon/%EB%8B%A8%EA%B3%84%EB%B3%84%2810~15%29.ipynb#X33sZmlsZQ%3D%3D?line=8'>9</a>\u001b[0m         printStar(n\u001b[39m/\u001b[39;49m\u001b[39m/\u001b[39;49m\u001b[39m3\u001b[39;49m)\n\u001b[1;32m     <a href='vscode-notebook-cell:/Users/uzine/Library/CloudStorage/OneDrive-inu.ac.kr/GIT/TIL/coding_interview/backjoon/%EB%8B%A8%EA%B3%84%EB%B3%84%2810~15%29.ipynb#X33sZmlsZQ%3D%3D?line=9'>10</a>\u001b[0m \u001b[39mprint\u001b[39m()\n\u001b[1;32m     <a href='vscode-notebook-cell:/Users/uzine/Library/CloudStorage/OneDrive-inu.ac.kr/GIT/TIL/coding_interview/backjoon/%EB%8B%A8%EA%B3%84%EB%B3%84%2810~15%29.ipynb#X33sZmlsZQ%3D%3D?line=11'>12</a>\u001b[0m stars \u001b[39m=\u001b[39m [\u001b[39m'\u001b[39m\u001b[39m*\u001b[39m\u001b[39m'\u001b[39m,\u001b[39m'\u001b[39m\u001b[39m \u001b[39m\u001b[39m'\u001b[39m,\u001b[39m'\u001b[39m\u001b[39m*\u001b[39m\u001b[39m'\u001b[39m]\n",
      "\u001b[1;32m/Users/uzine/Library/CloudStorage/OneDrive-inu.ac.kr/GIT/TIL/coding_interview/backjoon/단계별(10~15).ipynb 셀 19\u001b[0m in \u001b[0;36mprintStar\u001b[0;34m(n)\u001b[0m\n\u001b[1;32m      <a href='vscode-notebook-cell:/Users/uzine/Library/CloudStorage/OneDrive-inu.ac.kr/GIT/TIL/coding_interview/backjoon/%EB%8B%A8%EA%B3%84%EB%B3%84%2810~15%29.ipynb#X33sZmlsZQ%3D%3D?line=3'>4</a>\u001b[0m stars \u001b[39m=\u001b[39m [\u001b[39m'\u001b[39m\u001b[39m*\u001b[39m\u001b[39m'\u001b[39m,\u001b[39m'\u001b[39m\u001b[39m*\u001b[39m\u001b[39m'\u001b[39m,\u001b[39m'\u001b[39m\u001b[39m*\u001b[39m\u001b[39m'\u001b[39m]\n\u001b[1;32m      <a href='vscode-notebook-cell:/Users/uzine/Library/CloudStorage/OneDrive-inu.ac.kr/GIT/TIL/coding_interview/backjoon/%EB%8B%A8%EA%B3%84%EB%B3%84%2810~15%29.ipynb#X33sZmlsZQ%3D%3D?line=4'>5</a>\u001b[0m \u001b[39mfor\u001b[39;00m star \u001b[39min\u001b[39;00m stars:\n\u001b[0;32m----> <a href='vscode-notebook-cell:/Users/uzine/Library/CloudStorage/OneDrive-inu.ac.kr/GIT/TIL/coding_interview/backjoon/%EB%8B%A8%EA%B3%84%EB%B3%84%2810~15%29.ipynb#X33sZmlsZQ%3D%3D?line=5'>6</a>\u001b[0m     \u001b[39mif\u001b[39;00m n \u001b[39m/\u001b[39;49m\u001b[39m/\u001b[39;49m \u001b[39m3\u001b[39;49m \u001b[39m==\u001b[39;49m \u001b[39m1\u001b[39;49m:\n\u001b[1;32m      <a href='vscode-notebook-cell:/Users/uzine/Library/CloudStorage/OneDrive-inu.ac.kr/GIT/TIL/coding_interview/backjoon/%EB%8B%A8%EA%B3%84%EB%B3%84%2810~15%29.ipynb#X33sZmlsZQ%3D%3D?line=6'>7</a>\u001b[0m         \u001b[39mprint\u001b[39m(star,end\u001b[39m=\u001b[39m\u001b[39m'\u001b[39m\u001b[39m'\u001b[39m)\n\u001b[1;32m      <a href='vscode-notebook-cell:/Users/uzine/Library/CloudStorage/OneDrive-inu.ac.kr/GIT/TIL/coding_interview/backjoon/%EB%8B%A8%EA%B3%84%EB%B3%84%2810~15%29.ipynb#X33sZmlsZQ%3D%3D?line=7'>8</a>\u001b[0m     \u001b[39melse\u001b[39;00m:\n",
      "\u001b[0;31mRecursionError\u001b[0m: maximum recursion depth exceeded in comparison"
     ]
    }
   ],
   "source": [
    "# 2447번 : 별 찍기 - 10\n",
    "\n",
    "def printStar(N):\n",
    "    nums = [0,8,7,6,5,4,3,2,1]\n",
    "    for num in nums: \n",
    "        if (N-num)%9 == 0:\n",
    "            if N // 3 == 1: \n",
    "                print('*',end='')\n",
    "            else: \n",
    "                printStar(N//3)\n",
    "        print\n",
    "            "
   ]
  },
  {
   "cell_type": "code",
   "execution_count": 3,
   "metadata": {},
   "outputs": [
    {
     "name": "stdout",
     "output_type": "stream",
     "text": [
      "***************************\n",
      "* ** ** ** ** ** ** ** ** *\n",
      "***************************\n",
      "***   ******   ******   ***\n",
      "* *   * ** *   * ** *   * *\n",
      "***   ******   ******   ***\n",
      "***************************\n",
      "* ** ** ** ** ** ** ** ** *\n",
      "***************************\n",
      "*********         *********\n",
      "* ** ** *         * ** ** *\n",
      "*********         *********\n",
      "***   ***         ***   ***\n",
      "* *   * *         * *   * *\n",
      "***   ***         ***   ***\n",
      "*********         *********\n",
      "* ** ** *         * ** ** *\n",
      "*********         *********\n",
      "***************************\n",
      "* ** ** ** ** ** ** ** ** *\n",
      "***************************\n",
      "***   ******   ******   ***\n",
      "* *   * ** *   * ** *   * *\n",
      "***   ******   ******   ***\n",
      "***************************\n",
      "* ** ** ** ** ** ** ** ** *\n",
      "***************************\n"
     ]
    }
   ],
   "source": [
    "# 2447번 : 별 찍기 - 10 답안\n",
    "\n",
    "import sys\n",
    "sys.setrecursionlimit(10**6)\n",
    "\n",
    "def append_star(LEN):\n",
    "    if LEN == 1:\n",
    "        return ['*']\n",
    "\n",
    "    Stars = append_star(LEN//3) \n",
    "    L = []  \n",
    "    \n",
    "    for S in Stars:\n",
    "        L.append(S*3)\n",
    "    for S in Stars:\n",
    "        L.append(S+' '*(LEN//3)+S)\n",
    "    for S in Stars:\n",
    "        L.append(S*3)\n",
    "    return L\n",
    "\n",
    "n = int(input())\n",
    "print('\\n'.join(append_star(n)))"
   ]
  },
  {
   "cell_type": "markdown",
   "metadata": {},
   "source": [
    "### 브루트 포스\n",
    "\n",
    "어떤 규칙을 찾는 것이 아니라 전수조사하여 맞는 답안을 찾아내는 방법 "
   ]
  },
  {
   "cell_type": "code",
   "execution_count": 3,
   "metadata": {},
   "outputs": [
    {
     "name": "stdout",
     "output_type": "stream",
     "text": [
      "666\n"
     ]
    }
   ],
   "source": [
    "# 1436번 : 영화감독 숌 : 답안 \n",
    "\n",
    "N = int(input())\n",
    "num = 665\n",
    "cnt = 0\n",
    "while N != cnt:\n",
    "    num += 1\n",
    "    # 숫자에 666이 있는 경우만 count를 늘린다. \n",
    "    if '666' in str(num):\n",
    "        cnt += 1\n",
    "print(num)"
   ]
  },
  {
   "cell_type": "code",
   "execution_count": 21,
   "metadata": {},
   "outputs": [
    {
     "name": "stdout",
     "output_type": "stream",
     "text": [
      "103\n"
     ]
    }
   ],
   "source": [
    "# 1018번 : 체스판 다시 칠하기 \n",
    "\n",
    "N, M = map(int,input().split())\n",
    "board = []\n",
    "for _ in range(N):\n",
    "    board.append(input())\n",
    "paint_num = []\n",
    "\n",
    "paint_num = []\n",
    "for i_range in range(N-7):\n",
    "    for l_range in range(M-7):\n",
    "        cnt_1 = 0\n",
    "        cnt_2 = 0\n",
    "        for i in range(i_range,i_range+8):\n",
    "            if i % 2 == 0 : \n",
    "                paint = 'W'\n",
    "            else : paint = 'B'\n",
    "            for l in range(l_range,l_range+8):\n",
    "                if board[i][l] != paint : \n",
    "                    cnt_1 += 1\n",
    "                else : cnt_2 += 1\n",
    "                if paint == 'W' : paint = 'B'\n",
    "                else : paint = 'W'\n",
    "        paint_num.append(cnt_1 if cnt_1 < cnt_2 else cnt_2)\n",
    "print(min(paint_num))\n"
   ]
  }
 ],
 "metadata": {
  "kernelspec": {
   "display_name": "Python 3.9.12 ('base')",
   "language": "python",
   "name": "python3"
  },
  "language_info": {
   "codemirror_mode": {
    "name": "ipython",
    "version": 3
   },
   "file_extension": ".py",
   "mimetype": "text/x-python",
   "name": "python",
   "nbconvert_exporter": "python",
   "pygments_lexer": "ipython3",
   "version": "3.9.12"
  },
  "orig_nbformat": 4,
  "vscode": {
   "interpreter": {
    "hash": "282d57acf3b4dfca65187be3f86b1a31e69b57bff5ce0c421bf06d8a6b0ef157"
   }
  }
 },
 "nbformat": 4,
 "nbformat_minor": 2
}
