{
 "cells": [
  {
   "cell_type": "markdown",
   "metadata": {},
   "source": [
    "# 단계별 : 10 ~ 15"
   ]
  },
  {
   "cell_type": "markdown",
   "metadata": {},
   "source": [
    "### 정렬"
   ]
  },
  {
   "cell_type": "code",
   "execution_count": 2,
   "metadata": {},
   "outputs": [
    {
     "name": "stdout",
     "output_type": "stream",
     "text": [
      "34.0\n",
      "30\n"
     ]
    }
   ],
   "source": [
    "# 2587번 : 대표값 2\n",
    "num_list = []\n",
    "for _ in range(5):\n",
    "    num_list.append(int(input()))\n",
    "\n",
    "num_list.sort()\n",
    "\n",
    "print(int(sum(num_list)/len(num_list)))\n",
    "print(num_list[2])"
   ]
  },
  {
   "cell_type": "code",
   "execution_count": 30,
   "metadata": {},
   "outputs": [],
   "source": [
    "inp = []\n",
    "with open('input.txt','r', encoding='utf8') as f:\n",
    "    while True:\n",
    "        word = (f.readline().rstrip())\n",
    "        if not word: break\n",
    "        inp.append(word)"
   ]
  },
  {
   "cell_type": "code",
   "execution_count": 31,
   "metadata": {},
   "outputs": [
    {
     "name": "stdout",
     "output_type": "stream",
     "text": [
      "i\n",
      "im\n",
      "it\n",
      "no\n",
      "but\n",
      "more\n",
      "wait\n",
      "wont\n",
      "yours\n",
      "cannot\n",
      "hesitate\n"
     ]
    }
   ],
   "source": [
    "# 1811번 : 단어정렬\n",
    "# 짧은 단어로 정렬 -> 길이가 같으면 사전 순으로 정렬\n",
    "# 문자열의 길이는 50을 넘지 않는다. \n",
    "# attempt 1 : 기수정렬\n",
    "word_list = []\n",
    "for i in range(1,int(inp[0]) + 1):\n",
    "    word_list.append(inp[i]) \n",
    "\n",
    "tmps = [[] for i in range(51)]\n",
    "for word in word_list:\n",
    "    if word not in tmps[len(word)]:\n",
    "        tmps[len(word)].append(word)\n",
    "\n",
    "for tmp in tmps: \n",
    "    if len(tmp) == 0: continue\n",
    "    else:\n",
    "        tmp.sort()\n",
    "        for tm in tmp:\n",
    "            print(tm)"
   ]
  },
  {
   "cell_type": "code",
   "execution_count": null,
   "metadata": {},
   "outputs": [],
   "source": [
    "# 1811번 : 단어정렬 (제출답안)\n",
    "word_list = []\n",
    "for i in range(int(input())):\n",
    "    word_list.append(input()) \n",
    "\n",
    "tmps = [[] for i in range(51)]\n",
    "for word in word_list:\n",
    "    if word not in tmps[len(word)]:\n",
    "        tmps[len(word)].append(word)\n",
    "\n",
    "for tmp in tmps: \n",
    "    if len(tmp) == 0: continue\n",
    "    else:\n",
    "        tmp.sort()\n",
    "        for tm in tmp:\n",
    "            print(tm)\n",
    "\n",
    "# 메모리 : 32884kb / 시간 : 2692ms"
   ]
  },
  {
   "cell_type": "code",
   "execution_count": 6,
   "metadata": {},
   "outputs": [
    {
     "name": "stdout",
     "output_type": "stream",
     "text": [
      "-1 None\n",
      "20 Sunyoung\n",
      "21 Junkyu\n",
      "21 Dohyun\n"
     ]
    }
   ],
   "source": [
    "# 10814번 : 나이순 정렬 \n",
    "# 입력 : 1 <= N <= 100,000\n",
    "# attempt 1 : 삽입정렬\n",
    "def insertionSort(a,n) : \n",
    "    for i in range(1,n) :\n",
    "        j = i\n",
    "        v = a[i]\n",
    "        while(a[j-1][0] > v[0]) : \n",
    "            a[j] = a[j-1]\n",
    "            j = j-1\n",
    "        a[j] = v \n",
    "    return a \n",
    "\n",
    "\n",
    "data = []\n",
    "for _ in range(int(input())):\n",
    "    age, name = input().split()\n",
    "    data.append([int(age),name])\n",
    "data.insert(0,[-1,None])\n",
    "# 삽입정렬\n",
    "data = insertionSort(data,len(data))\n",
    "\n",
    "for record in data[1:]:\n",
    "    print('%d %s'%(record[0],record[1]))\n",
    "\n",
    "\n",
    "\n",
    "# 시간초과 \n"
   ]
  },
  {
   "cell_type": "code",
   "execution_count": null,
   "metadata": {},
   "outputs": [],
   "source": [
    "# 10814번 : 나이순 정렬 \n",
    "# 입력 : 1 <= N <= 100,000\n",
    "# attempt 2 : 기수정렬\n",
    "\n",
    "data = []\n",
    "for _ in range(int(input())):\n",
    "    age, name = input().split()\n",
    "    data.append([int(age),name])\n",
    "\n",
    "sorted_data = [[] for _ in range(201)]\n",
    "for record in data:\n",
    "    sorted_data[record[0]].append(record)\n",
    "\n",
    "for records in sorted_data:\n",
    "    if len(records) == 0:\n",
    "        continue\n",
    "    else:\n",
    "        for record in records:\n",
    "            print('%d %s'%(record[0],record[1]))\n",
    "\n",
    "# 메모리 : 44932 / 시간 : 4153ms"
   ]
  },
  {
   "cell_type": "code",
   "execution_count": 10,
   "metadata": {},
   "outputs": [
    {
     "name": "stdout",
     "output_type": "stream",
     "text": [
      "1 1\n",
      "2 2\n",
      "3 3\n"
     ]
    }
   ],
   "source": [
    "# 11651번\n",
    "\n",
    "# 입력 : 100,000\n",
    "# x,y 범위 : -100,000, 100,000\n",
    "\n",
    "import sys\n",
    "input = sys.stdin.readline\n",
    "points = []\n",
    "\n",
    "# 좌표 입력받기 \n",
    "for i in range(int(input())):\n",
    "    x, y = map(int,input().split())\n",
    "    points.append((x,y))\n",
    "\n",
    "# 정렬하기\n",
    "points.sort(key= lambda x : (x[1],x[0]))\n",
    "\n",
    "for point in points:\n",
    "    print('%d %d'%(point[0],point[1]))\n",
    "\n"
   ]
  },
  {
   "cell_type": "markdown",
   "metadata": {},
   "source": [
    "sort + lambda\n",
    "\n",
    "sort(key = lambda x : )\n",
    "\n"
   ]
  },
  {
   "cell_type": "code",
   "execution_count": 12,
   "metadata": {},
   "outputs": [
    {
     "ename": "ValueError",
     "evalue": "invalid literal for int() with base 10: ''",
     "output_type": "error",
     "traceback": [
      "\u001b[1;31m---------------------------------------------------------------------------\u001b[0m",
      "\u001b[1;31mValueError\u001b[0m                                Traceback (most recent call last)",
      "\u001b[1;32md:\\OneDrive - inu.ac.kr\\GIT\\TIL\\coding_interview\\backjoon\\단계별(10~15).ipynb 셀 9\u001b[0m in \u001b[0;36m<cell line: 5>\u001b[1;34m()\u001b[0m\n\u001b[0;32m      <a href='vscode-notebook-cell:/d%3A/OneDrive%20-%20inu.ac.kr/GIT/TIL/coding_interview/backjoon/%EB%8B%A8%EA%B3%84%EB%B3%84%2810~15%29.ipynb#X15sZmlsZQ%3D%3D?line=0'>1</a>\u001b[0m \u001b[39m## 18870번 : 좌표압축 \u001b[39;00m\n\u001b[0;32m      <a href='vscode-notebook-cell:/d%3A/OneDrive%20-%20inu.ac.kr/GIT/TIL/coding_interview/backjoon/%EB%8B%A8%EA%B3%84%EB%B3%84%2810~15%29.ipynb#X15sZmlsZQ%3D%3D?line=1'>2</a>\u001b[0m \u001b[39m## 입력 : N <= 1,000,000, 시간제한 2초 \u001b[39;00m\n\u001b[0;32m      <a href='vscode-notebook-cell:/d%3A/OneDrive%20-%20inu.ac.kr/GIT/TIL/coding_interview/backjoon/%EB%8B%A8%EA%B3%84%EB%B3%84%2810~15%29.ipynb#X15sZmlsZQ%3D%3D?line=2'>3</a>\u001b[0m \u001b[39m## 정확한 좌표가 필요 없고 좌표의 대소 관계만 유지되는\u001b[39;00m\n\u001b[1;32m----> <a href='vscode-notebook-cell:/d%3A/OneDrive%20-%20inu.ac.kr/GIT/TIL/coding_interview/backjoon/%EB%8B%A8%EA%B3%84%EB%B3%84%2810~15%29.ipynb#X15sZmlsZQ%3D%3D?line=4'>5</a>\u001b[0m N \u001b[39m=\u001b[39m \u001b[39mint\u001b[39;49m(\u001b[39minput\u001b[39;49m())\n\u001b[0;32m      <a href='vscode-notebook-cell:/d%3A/OneDrive%20-%20inu.ac.kr/GIT/TIL/coding_interview/backjoon/%EB%8B%A8%EA%B3%84%EB%B3%84%2810~15%29.ipynb#X15sZmlsZQ%3D%3D?line=6'>7</a>\u001b[0m data_list \u001b[39m=\u001b[39m \u001b[39mlist\u001b[39m(\u001b[39mmap\u001b[39m(\u001b[39mint\u001b[39m,\u001b[39minput\u001b[39m()\u001b[39m.\u001b[39msplit()))\n\u001b[0;32m      <a href='vscode-notebook-cell:/d%3A/OneDrive%20-%20inu.ac.kr/GIT/TIL/coding_interview/backjoon/%EB%8B%A8%EA%B3%84%EB%B3%84%2810~15%29.ipynb#X15sZmlsZQ%3D%3D?line=7'>8</a>\u001b[0m sorted_data \u001b[39m=\u001b[39m []\n",
      "\u001b[1;31mValueError\u001b[0m: invalid literal for int() with base 10: ''"
     ]
    }
   ],
   "source": [
    "## 18870번 : 좌표압축 \n",
    "## 입력 : N <= 1,000,000, 시간제한 2초 \n",
    "## 정확한 좌표가 필요 없고 좌표의 대소 관계만 유지되는\n",
    "\n",
    "N = int(input())\n",
    "data_list = list(map(int,input().split()))\n",
    "sorted_data = [ 0 for _ in range(N)]\n",
    "\n",
    "for data in data_list:\n",
    "    if data in sorted_data:\n",
    "        continue\n",
    "    else : sorted_data.append(data)\n",
    "\n",
    "# 입력을 순서대로 정리함 \n",
    "sorted_data.sort()\n",
    "\n",
    "# 입력된 순서대로 데이터를 불러와서 인덱스를 출력함\n",
    "for data in data_list:\n",
    "    # 인덱스를 불러오는 시간 : O(N)\n",
    "    print(sorted_data.index(data),end= ' ')\n",
    "\n",
    "# 시간초과 "
   ]
  },
  {
   "cell_type": "code",
   "execution_count": null,
   "metadata": {},
   "outputs": [],
   "source": [
    "## 18870번 : 좌표압축\n",
    "import sys \n",
    "input = sys.stdin.readline\n",
    "N = int(input())\n",
    "data_list = list(map(int,input().split()))\n",
    "\n",
    "# set 함수를 이용해서 겹치는 원소 제거 후 정렬\n",
    "sorted_data = sorted(set(data_list))\n",
    "\n",
    "#\n",
    "dic = {sorted_data[i] : i for i in range(len(sorted_data))}\n",
    "\n",
    "for i in data_list:\n",
    "    # 딕셔너리의 키 값을 불러오는 시간 : O(1)\n",
    "    print(dic[i], end = ' ')\n",
    "    \n",
    "# 메모리 : 156812 / 시간 : 1840ms"
   ]
  },
  {
   "cell_type": "markdown",
   "metadata": {},
   "source": [
    "알고리즘을 만들 때 시간복잡도를 계산하는 것이 잘 되지 않는 것 같다.  \n",
    "작성한 알고리즘의 시간복잡도를 계산하는 훈련이 더 필요한 것 같다. "
   ]
  },
  {
   "cell_type": "code",
   "execution_count": 4,
   "metadata": {},
   "outputs": [
    {
     "data": {
      "text/plain": [
       "False"
      ]
     },
     "execution_count": 4,
     "metadata": {},
     "output_type": "execute_result"
    }
   ],
   "source": [
    "[] == "
   ]
  },
  {
   "cell_type": "code",
   "execution_count": null,
   "metadata": {},
   "outputs": [],
   "source": [
    "[] == False"
   ]
  },
  {
   "cell_type": "code",
   "execution_count": null,
   "metadata": {},
   "outputs": [],
   "source": []
  }
 ],
 "metadata": {
  "kernelspec": {
   "display_name": "Python 3.9.7 ('base')",
   "language": "python",
   "name": "python3"
  },
  "language_info": {
   "codemirror_mode": {
    "name": "ipython",
    "version": 3
   },
   "file_extension": ".py",
   "mimetype": "text/x-python",
   "name": "python",
   "nbconvert_exporter": "python",
   "pygments_lexer": "ipython3",
   "version": "3.9.7"
  },
  "orig_nbformat": 4,
  "vscode": {
   "interpreter": {
    "hash": "40d3a090f54c6569ab1632332b64b2c03c39dcf918b08424e98f38b5ae0af88f"
   }
  }
 },
 "nbformat": 4,
 "nbformat_minor": 2
}
