{
 "cells": [
  {
   "cell_type": "markdown",
   "metadata": {},
   "source": [
    "# 기출"
   ]
  },
  {
   "cell_type": "code",
   "execution_count": 1,
   "metadata": {},
   "outputs": [],
   "source": [
    "# 14501번 : 퇴사문제\n",
    "# 문제 유형 : dp\n",
    "\n",
    "n = int(input())\n",
    "\n",
    "t_list = []\n",
    "p_list = []\n",
    "pay = [0] * (n + 1)\n",
    "\n",
    "for i in range(n):\n",
    "    t, p = map(int, input().split())\n",
    "    t_list.append(t)\n",
    "    p_list.append(p)\n",
    "\n",
    "for i in range(n - 1, -1, -1):\n",
    "    if t_list[i] + i > n:\n",
    "        pay[i] = pay[i + 1]\n",
    "    else:\n",
    "        pay[i] = max(p_list[i] + pay[i + t_list[i]], pay[i + 1])\n",
    "        \n",
    "print(pay[0])\n"
   ]
  },
  {
   "cell_type": "markdown",
   "metadata": {},
   "source": [
    "##### memo : dp 문제 공부하기 "
   ]
  },
  {
   "cell_type": "code",
   "execution_count": null,
   "metadata": {},
   "outputs": [],
   "source": [
    "# 13458번 : 시험 감독 \n",
    "N = int(input())\n",
    "\n",
    "visiters = list(map(int,input().split()))\n",
    "B, C = map(int,input().split())\n",
    "sum = 0\n",
    "for visiter in visiters:\n",
    "    visiter -= B\n",
    "    if visiter <= 0: \n",
    "        continue\n",
    "    if visiter % C == 0:\n",
    "        sum += visiter // C\n",
    "    else: sum += visiter // C + 1\n",
    "print(sum + N)\n",
    "\n",
    "# 코드 리뷰 하기 "
   ]
  },
  {
   "cell_type": "code",
   "execution_count": 36,
   "metadata": {},
   "outputs": [
    {
     "name": "stdout",
     "output_type": "stream",
     "text": [
      "54\n",
      "-24\n"
     ]
    }
   ],
   "source": [
    "# 14888번 : 연산자 끼워넣기\n",
    "# 연산자의 우선순위는 무시한다\n",
    "\n",
    "from itertools import permutations\n",
    "\n",
    "def operater(op,num1,num2):\n",
    "    if op == 0:\n",
    "        return num1 + num2\n",
    "    elif op == 1:\n",
    "        return num1 - num2\n",
    "    elif op == 2:\n",
    "        return num1 * num2\n",
    "    else: \n",
    "        if num1 < 0:\n",
    "            return - (-num1// num2)\n",
    "        else : \n",
    "            return num1 // num2\n",
    "        \n",
    "# 피연산자 개수 \n",
    "N = int(input())\n",
    "# 피연산자 받기\n",
    "nums = list(map(int,input().split()))\n",
    "# 연산자 개수 받기 (+,-,*,/)\n",
    "ops = list(map(int,input().split()))\n",
    "\n",
    "ops_list = []\n",
    "for i in range(len(ops)): \n",
    "    ops_list.extend([i] * ops[i])\n",
    "ops_set = set(list(permutations(ops_list,len(ops_list))))\n",
    "\n",
    "max = -1000000000\n",
    "min = 1000000000\n",
    "for ops in ops_set:\n",
    "    num1 = nums[0]\n",
    "    for i in range(len(ops)):\n",
    "        num1 = operater(ops[i],num1,nums[i+1])\n",
    "    if num1 > max : \n",
    "        max = num1\n",
    "    if num1 < min : \n",
    "        min = num1\n",
    "print(max)\n",
    "print(min)\n",
    "\n",
    "# 괄호를 쳐 주고 -를 붙여야 해당 숫자의 부호가 바뀜을 유의하자 "
   ]
  },
  {
   "cell_type": "code",
   "execution_count": null,
   "metadata": {},
   "outputs": [],
   "source": [
    "# 16234번 : 인구인동 \n",
    "\n",
    "n,l,r = 2,20,50\n",
    "world = [[50,30],[20,40]]\n",
    "\n",
    "\n",
    " "
   ]
  },
  {
   "cell_type": "code",
   "execution_count": 39,
   "metadata": {},
   "outputs": [],
   "source": [
    "# 접해있는 지역 중 False인 지역을 True로 바꾸고 stack에 좌표를 집어넣어 stack을 반환 \n",
    "def find_union(n,m,TF_world,world):\n",
    "    moves = [(1,0),(-1,0),(0,1),(0,-1)]\n",
    "    stack = []\n",
    "    for move in moves:\n",
    "        new_n = move[0] + n\n",
    "        new_m = move[0] + m\n",
    "        if new_m >= n or new_m < 0 or new_n >= 0 or new_m or TF_world[new_n][new_m]< 0:\n",
    "            continue\n",
    "        elif abs(world[n][m] - world[new_n][new_m]) > l and abs(world[n][m] - world[new_n][new_m]) < r:\n",
    "               TF_world[new_n][new_m] = True\n",
    "        else:\n",
    "            world[new_n][new_m] = True\n",
    "            stack.append((new_n,new_m))\n",
    "    return stack     "
   ]
  },
  {
   "cell_type": "code",
   "execution_count": null,
   "metadata": {},
   "outputs": [],
   "source": [
    "# 모든 지역이 이동할 필요가 없는지 확인\n",
    "def check_union(world):\n",
    "    for countries in world:\n",
    "        if not any(countries):\n",
    "            return False\n",
    "    return True\n",
    "        "
   ]
  },
  {
   "cell_type": "code",
   "execution_count": null,
   "metadata": {},
   "outputs": [],
   "source": [
    "while True:\n",
    "wld = [[False for _ in range(n)] for _ in range(n)]\n",
    "for i in range(n):\n",
    "    for l in range(n):\n",
    "        if wld[i][l]: continue\n",
    "        else:\n",
    "    stack = []\n",
    "    stack.append(0,0)  "
   ]
  },
  {
   "cell_type": "code",
   "execution_count": null,
   "metadata": {},
   "outputs": [],
   "source": [
    "# 5347번 : 큐빙\n",
    "class surface:\n",
    "    def __init__(self,color,nerby) -> None:\n",
    "        self.color = None\n",
    "        self.nerby = None\n",
    "\n",
    "class cub:\n",
    "    def __init__(self) -> None:\n",
    "        color = ['w','y','r','o','g','b']\n",
    "        self.surfaces = [ surface(color[i],[])]\n",
    "        \n"
   ]
  },
  {
   "cell_type": "code",
   "execution_count": 42,
   "metadata": {},
   "outputs": [
    {
     "data": {
      "text/plain": [
       "True"
      ]
     },
     "execution_count": 42,
     "metadata": {},
     "output_type": "execute_result"
    }
   ],
   "source": [
    "all([[True,True],[False],[False,True]])"
   ]
  },
  {
   "cell_type": "code",
   "execution_count": 43,
   "metadata": {},
   "outputs": [
    {
     "data": {
      "text/plain": [
       "False"
      ]
     },
     "execution_count": 43,
     "metadata": {},
     "output_type": "execute_result"
    }
   ],
   "source": [
    "all([True,False])"
   ]
  },
  {
   "cell_type": "code",
   "execution_count": null,
   "metadata": {},
   "outputs": [],
   "source": []
  }
 ],
 "metadata": {
  "kernelspec": {
   "display_name": "Python 3.9.13 ('cdTestEnv')",
   "language": "python",
   "name": "python3"
  },
  "language_info": {
   "codemirror_mode": {
    "name": "ipython",
    "version": 3
   },
   "file_extension": ".py",
   "mimetype": "text/x-python",
   "name": "python",
   "nbconvert_exporter": "python",
   "pygments_lexer": "ipython3",
   "version": "3.9.13"
  },
  "orig_nbformat": 4,
  "vscode": {
   "interpreter": {
    "hash": "7c8fd767f5ceaccf3694a8d325430130174f998e78ed5d7d7a6fa3ec0a109f20"
   }
  }
 },
 "nbformat": 4,
 "nbformat_minor": 2
}
