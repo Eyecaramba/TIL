{
 "cells": [
  {
   "cell_type": "markdown",
   "metadata": {},
   "source": [
    "# 6 ~ 10 단계"
   ]
  },
  {
   "cell_type": "markdown",
   "metadata": {},
   "source": [
    "# 5 단계 "
   ]
  },
  {
   "cell_type": "markdown",
   "metadata": {},
   "source": [
    "### 6 단계 : 함수"
   ]
  },
  {
   "cell_type": "code",
   "execution_count": 13,
   "metadata": {},
   "outputs": [
    {
     "name": "stdout",
     "output_type": "stream",
     "text": [
      "105\n"
     ]
    }
   ],
   "source": [
    "# 1065번 한수의 개수 구하기\n",
    "\n",
    "# 정수의 각 자리가 등차수열을 이룬다면 한수라고 한다. \n",
    "# 주어진 N보다 작거나 같은 한수의 개수를 구하시오.\n",
    "\n",
    "def isArithmetic(num):\n",
    "    digit = len(str(num))\n",
    "    if digit == 1 or digit == 2:\n",
    "        return True\n",
    "    else:\n",
    "        digit_list = []\n",
    "        for i in str(num):\n",
    "            digit_list.append(int(i))\n",
    "        for i in range(1,digit-1):\n",
    "            if digit_list[i] - digit_list[i-1] != digit_list[i+1] - digit_list[i]:\n",
    "                return False\n",
    "        return True\n",
    "            \n",
    "            \n",
    "N = int(input())\n",
    "cnt = 0\n",
    "for n in range(1,N+1):\n",
    "    if isArithmetic(n):\n",
    "        cnt += 1\n",
    "print(cnt)\n",
    "    \n",
    "\n",
    "\n"
   ]
  },
  {
   "cell_type": "markdown",
   "metadata": {},
   "source": [
    "### 7단계 : 문자열 "
   ]
  },
  {
   "cell_type": "code",
   "execution_count": null,
   "metadata": {},
   "outputs": [],
   "source": [
    "# 1316번 : 그룹 단어 체커 \n",
    "\n",
    "def isGroupWord(word):\n",
    "    n = len(word)\n",
    "    \n",
    "    if n == 1 or n == 2: return True\n",
    "    else:\n",
    "        alpha_list = []\n",
    "        alpha_list.append(word[0])\n",
    "        for i in range(1,n):\n",
    "            if word[i] not in alpha_list:\n",
    "                alpha_list.append(word[i])\n",
    "            # 있는 알파벳이지만 전에 있는 것과 다르다면 return False\n",
    "            elif word[i] != word[i-1]:\n",
    "                return False\n",
    "        return True\n",
    "        \n",
    "\n",
    "\n",
    "N = int(input())\n",
    "cnt = 0\n",
    "\n",
    "for N in range(N):\n",
    "    word = input()\n",
    "    if isGroupWord(word):\n",
    "        cnt += 1\n",
    "print(cnt)   "
   ]
  },
  {
   "cell_type": "code",
   "execution_count": 14,
   "metadata": {},
   "outputs": [
    {
     "data": {
      "text/plain": [
       "True"
      ]
     },
     "execution_count": 14,
     "metadata": {},
     "output_type": "execute_result"
    }
   ],
   "source": [
    "'a' == 'a'"
   ]
  },
  {
   "cell_type": "code",
   "execution_count": 15,
   "metadata": {},
   "outputs": [],
   "source": [
    "name = 'name'"
   ]
  },
  {
   "cell_type": "code",
   "execution_count": 16,
   "metadata": {},
   "outputs": [
    {
     "data": {
      "text/plain": [
       "'a'"
      ]
     },
     "execution_count": 16,
     "metadata": {},
     "output_type": "execute_result"
    }
   ],
   "source": [
    "name[1]"
   ]
  },
  {
   "cell_type": "markdown",
   "metadata": {},
   "source": [
    "### 기본수학 1"
   ]
  },
  {
   "cell_type": "code",
   "execution_count": 8,
   "metadata": {},
   "outputs": [
    {
     "name": "stdout",
     "output_type": "stream",
     "text": [
      "3\n"
     ]
    }
   ],
   "source": [
    "# 2839번 : 설탕 배달 문제 \n",
    "\n",
    "N = int(input())\n",
    "max_num = N // 5\n",
    "\n",
    "if max_num == 0:\n",
    "    if N != 3:\n",
    "        print(-1)\n",
    "    else: print(1)\n",
    "\n",
    "else: \n",
    "    for i in range(max_num,-1,-1):\n",
    "        n = N - 5*(i)\n",
    "        rest = n % 3\n",
    "        if rest == 0:\n",
    "            print(n//3+i)\n",
    "            break\n",
    "        elif i == 0:\n",
    "            print(-1)"
   ]
  },
  {
   "cell_type": "code",
   "execution_count": 1,
   "metadata": {},
   "outputs": [
    {
     "name": "stdout",
     "output_type": "stream",
     "text": [
      "18446744073709551614\n"
     ]
    }
   ],
   "source": [
    "# 10757번 : 큰 수 A + B\n",
    "import sys\n",
    "\n",
    "a = sys.maxsize\n",
    "b = sys.maxsize\n",
    "print(a+b)"
   ]
  },
  {
   "cell_type": "code",
   "execution_count": 16,
   "metadata": {},
   "outputs": [
    {
     "name": "stdout",
     "output_type": "stream",
     "text": [
      "602\n"
     ]
    }
   ],
   "source": [
    "# 10250번 : acm 호텔 \n",
    "\n",
    "N = int(input())\n",
    "\n",
    "for _ in range(N):\n",
    "    h,w,n = map(int,input().split())\n",
    "    floor = n % h\n",
    "    if floor == 0: \n",
    "        floor = h\n",
    "        room = n // h\n",
    "    else: room = n // h + 1\n",
    "    floor *= 100\n",
    "\n",
    "    print(floor + room)"
   ]
  },
  {
   "cell_type": "markdown",
   "metadata": {},
   "source": [
    "### 기본수학 2"
   ]
  },
  {
   "cell_type": "code",
   "execution_count": 31,
   "metadata": {},
   "outputs": [
    {
     "name": "stdout",
     "output_type": "stream",
     "text": [
      "639\n",
      "2\n"
     ]
    }
   ],
   "source": [
    "# 2581번 : M부터 N까지의 소수의 합과 가장 작은 소수를 찾는 문제\n",
    "def makePrimeList(N):\n",
    "    prime_list = [True for num in range(N+1)]\n",
    "    prime_list[0] = False\n",
    "    prime_list[1] = False\n",
    "    for i in range(2,N+1//2):\n",
    "        tmp = i\n",
    "        if not prime_list[tmp]: continue\n",
    "        tmp += i \n",
    "        while tmp <= N:\n",
    "            if prime_list[tmp]: \n",
    "                prime_list[tmp] = False\n",
    "            tmp += i\n",
    "    return prime_list\n",
    "\n",
    "M = int(input())\n",
    "N = int(input())\n",
    "\n",
    "prime_list = makePrimeList(N)\n",
    "sum = 0\n",
    "min_num = 0\n",
    "flag = True\n",
    "for i in range(M,N+1): \n",
    "    if prime_list[i]:\n",
    "        sum += i\n",
    "        if flag:\n",
    "            flag = False\n",
    "            min_num = i\n",
    "\n",
    "if sum == 0: \n",
    "    print(-1)\n",
    "else: \n",
    "    print(sum)\n",
    "    print(min_num)"
   ]
  },
  {
   "cell_type": "code",
   "execution_count": 8,
   "metadata": {},
   "outputs": [
    {
     "name": "stdout",
     "output_type": "stream",
     "text": [
      "1\n",
      "4\n",
      "3\n",
      "21\n",
      "135\n",
      "1033\n",
      "8392\n"
     ]
    }
   ],
   "source": [
    "#4948번 베르트랑 공준\n",
    "\n",
    "def countPrime(N):\n",
    "    prime_list = [True for num in range(N+1)]\n",
    "    prime_list[0] = False\n",
    "    prime_list[1] = False\n",
    "    for i in range(2,N+1//2):\n",
    "        tmp = i\n",
    "        if not prime_list[tmp]: continue\n",
    "        tmp += i \n",
    "        while tmp <= N:\n",
    "            if prime_list[tmp]: \n",
    "                prime_list[tmp] = False\n",
    "            tmp += i\n",
    "    return prime_list[N//2+1:].count(True)\n",
    "\n",
    "N = int(input())\n",
    "while N != 0:\n",
    "    print(countPrime(2*N))\n",
    "    N = int(input())\n",
    "\n",
    "    "
   ]
  },
  {
   "cell_type": "code",
   "execution_count": 3,
   "metadata": {},
   "outputs": [
    {
     "name": "stdout",
     "output_type": "stream",
     "text": [
      "3 5\n",
      "3 7\n",
      "3 13\n"
     ]
    }
   ],
   "source": [
    "# 9020번 : 골드바흐의 추측 #1\n",
    "\n",
    "# 소수 리스트를 구하는 함수 (에라토스테네스의 체)\n",
    "def makePrimeList(N):\n",
    "    prime_list = [True for num in range(N+1)]\n",
    "    prime_list[0] = False\n",
    "    prime_list[1] = False\n",
    "    for i in range(2,N+1//2):\n",
    "        tmp = i\n",
    "        if not prime_list[tmp]: continue\n",
    "        tmp += i \n",
    "        while tmp <= N:\n",
    "            if prime_list[tmp]: \n",
    "                prime_list[tmp] = False\n",
    "            tmp += i\n",
    "    return [i for i in range(2,N) if prime_list[i] == True]\n",
    "\n",
    "\n",
    "N = int(input())\n",
    "\n",
    "for _ in range(N):\n",
    "    num = int(input())\n",
    "    prime_list = makePrimeList(num)\n",
    "    combination = []\n",
    "    for num_2 in range(len(prime_list)-1,-1,-1):\n",
    "        for num_1 in range(num_2 + 1):\n",
    "            if prime_list[num_1] + prime_list[num_2] > num: \n",
    "                break\n",
    "            elif prime_list[num_1] + prime_list[num_2] == num:\n",
    "                combination.append([prime_list[num_1],prime_list[num_2]])\n",
    "    if len(combination) == 1:\n",
    "        print('%d %d'%(combination[0][0], combination[0][1]))\n",
    "    else:\n",
    "        diff_list = []\n",
    "        for i in range(1,(len(combination))):\n",
    "            diff_list.append(combination[i][1] - combination[i][0])\n",
    "        min_index = diff_list.index(min(diff_list))\n",
    "        print('%d %d'%(combination[min_index][0],combination[min_index][1]))\n",
    "\n",
    "# 시간초과"
   ]
  },
  {
   "cell_type": "code",
   "execution_count": 5,
   "metadata": {},
   "outputs": [
    {
     "name": "stdout",
     "output_type": "stream",
     "text": [
      "3 5\n",
      "5 5\n",
      "5 11\n"
     ]
    }
   ],
   "source": [
    "# 9020번 #2\n",
    "\n",
    "# N보다 작은 소수의 리스트를 반환하는 함수\n",
    "def makePrimeList(N):\n",
    "    prime_list = [True for num in range(N+1)]\n",
    "    prime_list[0] = False\n",
    "    prime_list[1] = False\n",
    "    for i in range(2,N+1//2):\n",
    "        tmp = i\n",
    "        if not prime_list[tmp]: continue\n",
    "        tmp += i \n",
    "        while tmp <= N:\n",
    "            if prime_list[tmp]: \n",
    "                prime_list[tmp] = False\n",
    "            tmp += i\n",
    "    return [i for i in range(2,N) if prime_list[i] == True]\n",
    "\n",
    "\n",
    "for _ in range(int(input())):\n",
    "    num = int(input())\n",
    "\n",
    "    a, b = num//2, num//2\n",
    "    prime_list = makePrimeList(num)\n",
    "    while a > 0:\n",
    "        if a in prime_list and b in prime_list:\n",
    "            print(a, b)\n",
    "            break\n",
    "        else:\n",
    "            a -= 1\n",
    "            b += 1\n",
    "\n",
    "## 시간초과 "
   ]
  },
  {
   "cell_type": "code",
   "execution_count": null,
   "metadata": {},
   "outputs": [],
   "source": [
    "# 9020번 답안 #3\n",
    "\n",
    "# 소수인지 아닌지 확인하는 함수 \n",
    "def is_prime(n):\n",
    "    if n == 1:\n",
    "        return False\n",
    "    for j in range(2, int(n**0.5) + 1):\n",
    "        if n % j == 0:\n",
    "            return False\n",
    "    return True\n",
    "\n",
    "\n",
    "for _ in range(int(input())):\n",
    "    num = int(input())\n",
    "\n",
    "    a, b = num//2, num//2\n",
    "    while a > 0:\n",
    "        if is_prime(a) and is_prime(b):\n",
    "            print(a, b)\n",
    "            break\n",
    "        else:\n",
    "        # 더해서 특정 짝수가 되는 조합은 짝수의 중간값과의 거리가 같다. \n",
    "        # 중간값에서 같은 거리씩 멀어지면서 탐색한다면 같다는 조건은 자동적으로 충족된다. \n",
    "            a -= 1\n",
    "            b += 1"
   ]
  }
 ],
 "metadata": {
  "kernelspec": {
   "display_name": "Python 3.9.12 ('base')",
   "language": "python",
   "name": "python3"
  },
  "language_info": {
   "codemirror_mode": {
    "name": "ipython",
    "version": 3
   },
   "file_extension": ".py",
   "mimetype": "text/x-python",
   "name": "python",
   "nbconvert_exporter": "python",
   "pygments_lexer": "ipython3",
   "version": "3.9.12"
  },
  "orig_nbformat": 4,
  "vscode": {
   "interpreter": {
    "hash": "282d57acf3b4dfca65187be3f86b1a31e69b57bff5ce0c421bf06d8a6b0ef157"
   }
  }
 },
 "nbformat": 4,
 "nbformat_minor": 2
}
