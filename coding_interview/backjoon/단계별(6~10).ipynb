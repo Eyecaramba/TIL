{
 "cells": [
  {
   "cell_type": "markdown",
   "metadata": {},
   "source": [
    "# 6 ~ 10 단계"
   ]
  },
  {
   "cell_type": "markdown",
   "metadata": {},
   "source": [
    "# 5 단계 "
   ]
  },
  {
   "cell_type": "markdown",
   "metadata": {},
   "source": [
    "### 6 단계 : 함수"
   ]
  },
  {
   "cell_type": "code",
   "execution_count": 13,
   "metadata": {},
   "outputs": [
    {
     "name": "stdout",
     "output_type": "stream",
     "text": [
      "105\n"
     ]
    }
   ],
   "source": [
    "# 1065번 한수의 개수 구하기\n",
    "\n",
    "# 정수의 각 자리가 등차수열을 이룬다면 한수라고 한다. \n",
    "# 주어진 N보다 작거나 같은 한수의 개수를 구하시오.\n",
    "\n",
    "def isArithmetic(num):\n",
    "    digit = len(str(num))\n",
    "    if digit == 1 or digit == 2:\n",
    "        return True\n",
    "    else:\n",
    "        digit_list = []\n",
    "        for i in str(num):\n",
    "            digit_list.append(int(i))\n",
    "        for i in range(1,digit-1):\n",
    "            if digit_list[i] - digit_list[i-1] != digit_list[i+1] - digit_list[i]:\n",
    "                return False\n",
    "        return True\n",
    "            \n",
    "            \n",
    "N = int(input())\n",
    "cnt = 0\n",
    "for n in range(1,N+1):\n",
    "    if isArithmetic(n):\n",
    "        cnt += 1\n",
    "print(cnt)\n",
    "    \n",
    "\n",
    "\n"
   ]
  },
  {
   "cell_type": "markdown",
   "metadata": {},
   "source": [
    "### 7단계 : 문자열 "
   ]
  },
  {
   "cell_type": "code",
   "execution_count": null,
   "metadata": {},
   "outputs": [],
   "source": [
    "# 1316번 : 그룹 단어 체커 \n",
    "\n",
    "def isGroupWord(word):\n",
    "    n = len(word)\n",
    "    \n",
    "    if n == 1 or n == 2: return True\n",
    "    else:\n",
    "        alpha_list = []\n",
    "        alpha_list.append(word[0])\n",
    "        for i in range(1,n):\n",
    "            if word[i] not in alpha_list:\n",
    "                alpha_list.append(word[i])\n",
    "            # 있는 알파벳이지만 전에 있는 것과 다르다면 return False\n",
    "            elif word[i] != word[i-1]:\n",
    "                return False\n",
    "        return True\n",
    "        \n",
    "\n",
    "\n",
    "N = int(input())\n",
    "cnt = 0\n",
    "\n",
    "for N in range(N):\n",
    "    word = input()\n",
    "    if isGroupWord(word):\n",
    "        cnt += 1\n",
    "print(cnt)   "
   ]
  },
  {
   "cell_type": "code",
   "execution_count": 14,
   "metadata": {},
   "outputs": [
    {
     "data": {
      "text/plain": [
       "True"
      ]
     },
     "execution_count": 14,
     "metadata": {},
     "output_type": "execute_result"
    }
   ],
   "source": [
    "'a' == 'a'"
   ]
  },
  {
   "cell_type": "code",
   "execution_count": 15,
   "metadata": {},
   "outputs": [],
   "source": [
    "name = 'name'"
   ]
  },
  {
   "cell_type": "code",
   "execution_count": 16,
   "metadata": {},
   "outputs": [
    {
     "data": {
      "text/plain": [
       "'a'"
      ]
     },
     "execution_count": 16,
     "metadata": {},
     "output_type": "execute_result"
    }
   ],
   "source": [
    "name[1]"
   ]
  },
  {
   "cell_type": "markdown",
   "metadata": {},
   "source": [
    "### 기본수학 1"
   ]
  },
  {
   "cell_type": "code",
   "execution_count": 8,
   "metadata": {},
   "outputs": [
    {
     "name": "stdout",
     "output_type": "stream",
     "text": [
      "3\n"
     ]
    }
   ],
   "source": [
    "# 2839번 : 설탕 배달 문제 \n",
    "\n",
    "N = int(input())\n",
    "max_num = N // 5\n",
    "\n",
    "if max_num == 0:\n",
    "    if N != 3:\n",
    "        print(-1)\n",
    "    else: print(1)\n",
    "\n",
    "else: \n",
    "    for i in range(max_num,-1,-1):\n",
    "        n = N - 5*(i)\n",
    "        rest = n % 3\n",
    "        if rest == 0:\n",
    "            print(n//3+i)\n",
    "            break\n",
    "        elif i == 0:\n",
    "            print(-1)"
   ]
  },
  {
   "cell_type": "code",
   "execution_count": 1,
   "metadata": {},
   "outputs": [
    {
     "name": "stdout",
     "output_type": "stream",
     "text": [
      "18446744073709551614\n"
     ]
    }
   ],
   "source": [
    "# 10757번 : 큰 수 A + B\n",
    "import sys\n",
    "\n",
    "a = sys.maxsize\n",
    "b = sys.maxsize\n",
    "print(a+b)"
   ]
  },
  {
   "cell_type": "code",
   "execution_count": 16,
   "metadata": {},
   "outputs": [
    {
     "name": "stdout",
     "output_type": "stream",
     "text": [
      "602\n"
     ]
    }
   ],
   "source": [
    "# 10250번 : acm 호텔 \n",
    "\n",
    "N = int(input())\n",
    "\n",
    "for _ in range(N):\n",
    "    h,w,n = map(int,input().split())\n",
    "    floor = n % h\n",
    "    if floor == 0: \n",
    "        floor = h\n",
    "        room = n // h\n",
    "    else: room = n // h + 1\n",
    "    floor *= 100\n",
    "\n",
    "    print(floor + room)"
   ]
  },
  {
   "cell_type": "markdown",
   "metadata": {},
   "source": [
    "### 수학문제 2"
   ]
  },
  {
   "cell_type": "code",
   "execution_count": 22,
   "metadata": {},
   "outputs": [
    {
     "name": "stdout",
     "output_type": "stream",
     "text": [
      "0\n",
      "1\n",
      "2\n",
      "3\n",
      "5\n",
      "7\n"
     ]
    }
   ],
   "source": [
    "# 2581번 : 소수 찾기 문제 \n",
    "\n",
    "M = int(input())\n",
    "N = int(input())\n",
    "prime_list = [True for num in range(M+1)]\n",
    "prime_list[0] = False\n",
    "prime_list[1] = False\n",
    "for i in range(2,M+1//2):\n",
    "    tmp = i\n",
    "    if not prime_list[tmp]: continue\n",
    "    tmp += i \n",
    "    while tmp <= M:\n",
    "        if prime_list[tmp]: \n",
    "            prime_list[tmp] = False\n",
    "        tmp += i\n",
    "\n",
    "for i in range(len(prime_list)):\n",
    "    if prime_list[i]:\n",
    "        print(i)\n"
   ]
  },
  {
   "cell_type": "code",
   "execution_count": 31,
   "metadata": {},
   "outputs": [
    {
     "name": "stdout",
     "output_type": "stream",
     "text": [
      "639\n",
      "2\n"
     ]
    }
   ],
   "source": [
    "def makePrimeList(N):\n",
    "    prime_list = [True for num in range(N+1)]\n",
    "    prime_list[0] = False\n",
    "    prime_list[1] = False\n",
    "    for i in range(2,N+1//2):\n",
    "        tmp = i\n",
    "        if not prime_list[tmp]: continue\n",
    "        tmp += i \n",
    "        while tmp <= N:\n",
    "            if prime_list[tmp]: \n",
    "                prime_list[tmp] = False\n",
    "            tmp += i\n",
    "    return prime_list\n",
    "\n",
    "M = int(input())\n",
    "N = int(input())\n",
    "\n",
    "prime_list = makePrimeList(N)\n",
    "sum = 0\n",
    "min_num = 0\n",
    "flag = True\n",
    "for i in range(M,N+1): \n",
    "    if prime_list[i]:\n",
    "        sum += i\n",
    "        if flag:\n",
    "            flag = False\n",
    "            min_num = i\n",
    "\n",
    "if sum == 0: \n",
    "    print(-1)\n",
    "else: \n",
    "    print(sum)\n",
    "    print(min_num)"
   ]
  },
  {
   "cell_type": "code",
   "execution_count": null,
   "metadata": {},
   "outputs": [],
   "source": [
    "n = 10\n",
    "prime_list = [False for num in range(n+1)]\n",
    "\n",
    "for i in \n"
   ]
  },
  {
   "cell_type": "code",
   "execution_count": 44,
   "metadata": {},
   "outputs": [
    {
     "name": "stdout",
     "output_type": "stream",
     "text": [
      "3 5\n",
      "5 5\n",
      "5 11\n"
     ]
    }
   ],
   "source": [
    "# 9020번 : 골드바흐의 추측\n",
    "# 2보다 큰 모든 짝수는 두 소수의 합으로 나타낼 수 있다. \n",
    "# 2보다 큰 짝수 n이 주어졌을 때, n의 골드바흐 파티션을 출력하는 프로그램을 작성\n",
    "# 여러가지인 경우 두 소수의 차이가 가장 작은 것을 출력\n",
    "# 출력은 작은 소수부터 출력 \n",
    "\n",
    "# 소수 리스트 구하는 함수\n",
    "def makePrimeList(N):\n",
    "    prime_list = [True for num in range(N+1)]\n",
    "    prime_list[0] = False\n",
    "    prime_list[1] = False\n",
    "    for i in range(2,N+1//2):\n",
    "        tmp = i\n",
    "        if not prime_list[tmp]: continue\n",
    "        tmp += i \n",
    "        while tmp <= N:\n",
    "            if prime_list[tmp]: \n",
    "                prime_list[tmp] = False\n",
    "            tmp += i\n",
    "    prime = []\n",
    "    for i in range(2,N+1):\n",
    "        if prime_list[i]:\n",
    "            prime.append(i)\n",
    "    return prime\n",
    "\n",
    "# 숫자 입력받기\n",
    "N = int(input())\n",
    "\n",
    "for _ in range(N):\n",
    "    num = int(input())\n",
    "    # num 보다 작은 모든 소수 구하기 \n",
    "    prime_list = makePrimeList(num)\n",
    "\n",
    "    # 숫자 조합 찾기 \n",
    "    combination = []\n",
    "    for num_1 in range(len(prime_list)):\n",
    "        for num_2 in range(num_1, len(prime_list)):\n",
    "            if prime_list[num_1] + prime_list[num_2] == num:\n",
    "                combination.append([prime_list[num_1],prime_list[num_2]])\n",
    "    if len(combination) == 1:\n",
    "        print('%d %d'%(combination[0][0], combination[0][1]))\n",
    "    else:\n",
    "        diff_list = []\n",
    "        for i in range((len(combination))):\n",
    "            diff_list.append(combination[i][1] - combination[i][0])\n",
    "        min_index = diff_list.index(min(diff_list))\n",
    "        print('%d %d'%(combination[min_index][0],combination[min_index][1]))\n",
    "\n",
    "    "
   ]
  },
  {
   "cell_type": "code",
   "execution_count": 52,
   "metadata": {},
   "outputs": [
    {
     "name": "stdout",
     "output_type": "stream",
     "text": [
      "3 5\n",
      "5 5\n",
      "5 11\n"
     ]
    }
   ],
   "source": [
    "# 9020번 : 골드바흐의 추측 \n",
    "\n",
    "# 소수 리스트를 구하는 함수 \n",
    "def makePrimeList(N):\n",
    "    prime_list = [True for num in range(N+1)]\n",
    "    prime_list[0] = False\n",
    "    prime_list[1] = False\n",
    "    for i in range(2,N+1//2):\n",
    "        tmp = i\n",
    "        if not prime_list[tmp]: continue\n",
    "        tmp += i \n",
    "        while tmp <= N:\n",
    "            if prime_list[tmp]: \n",
    "                prime_list[tmp] = False\n",
    "            tmp += i\n",
    "    prime = []\n",
    "    for i in range(2,N+1):\n",
    "        if prime_list[i]:\n",
    "            prime.append(i)\n",
    "    return prime\n",
    "\n",
    "\n",
    "N = int(input())\n",
    "\n",
    "for _ in range(N):\n",
    "    num = int(input())\n",
    "    prime_list = makePrimeList(num)\n",
    "    combination = []\n",
    "    for num_1 in range(len(prime_list)):\n",
    "        for num_2 in range(num_1,len(prime_list)):\n",
    "            if prime_list[num_1] + prime_list[num_2] > num: \n",
    "                break\n",
    "            elif prime_list[num_1] + prime_list[num_2] == num:\n",
    "                combination.append([prime_list[num_1],prime_list[num_2]])\n",
    "    if len(combination) == 1:\n",
    "        print('%d %d'%(combination[0][0], combination[0][1]))\n",
    "    else:\n",
    "        diff_list = []\n",
    "        for i in range((len(combination))):\n",
    "            diff_list.append(combination[i][1] - combination[i][0])\n",
    "        min_index = diff_list.index(min(diff_list))\n",
    "        print('%d %d'%(combination[min_index][0],combination[min_index][1]))"
   ]
  },
  {
   "cell_type": "code",
   "execution_count": null,
   "metadata": {},
   "outputs": [],
   "source": []
  },
  {
   "cell_type": "code",
   "execution_count": null,
   "metadata": {},
   "outputs": [],
   "source": []
  }
 ],
 "metadata": {
  "kernelspec": {
   "display_name": "Python 3.9.12 ('base')",
   "language": "python",
   "name": "python3"
  },
  "language_info": {
   "codemirror_mode": {
    "name": "ipython",
    "version": 3
   },
   "file_extension": ".py",
   "mimetype": "text/x-python",
   "name": "python",
   "nbconvert_exporter": "python",
   "pygments_lexer": "ipython3",
   "version": "3.9.12"
  },
  "orig_nbformat": 4,
  "vscode": {
   "interpreter": {
    "hash": "282d57acf3b4dfca65187be3f86b1a31e69b57bff5ce0c421bf06d8a6b0ef157"
   }
  }
 },
 "nbformat": 4,
 "nbformat_minor": 2
}
