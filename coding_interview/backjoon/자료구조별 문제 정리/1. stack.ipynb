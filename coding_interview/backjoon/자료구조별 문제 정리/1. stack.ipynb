{
 "cells": [
  {
   "cell_type": "markdown",
   "metadata": {},
   "source": [
    "## 1. stack"
   ]
  },
  {
   "cell_type": "code",
   "execution_count": 20,
   "metadata": {},
   "outputs": [
    {
     "name": "stdout",
     "output_type": "stream",
     "text": [
      "+\n",
      "+\n",
      "+\n",
      "+\n",
      "-\n",
      "-\n",
      "+\n",
      "+\n",
      "-\n",
      "+\n",
      "+\n",
      "-\n",
      "-\n",
      "-\n",
      "-\n",
      "-\n"
     ]
    }
   ],
   "source": [
    "# 1874번 : 스택 수열 \n",
    "# import sys \n",
    "# input = sys.stdin\n",
    "\n",
    "nums = []\n",
    "for _ in range(int(input())):\n",
    "    nums.append(int(input()))\n",
    "\n",
    "nums.reverse()\n",
    "stack = []\n",
    "log = []\n",
    "\n",
    "\n",
    "n = 0\n",
    "num = nums.pop()\n",
    "flag = False\n",
    "while len(nums) != 0: \n",
    "    # push하는 경우 \n",
    "    if n < num: \n",
    "        n += 1\n",
    "        stack.append(n)\n",
    "        log.append('+')\n",
    "    # pop 하는 경우 \n",
    "    else :\n",
    "        stack_num = stack.pop()\n",
    "        # stack에서 뽑은 것이 같다면 다음으로 넘어감 \n",
    "        if stack_num == num:\n",
    "            num = nums.pop()\n",
    "            log.append('-')       \n",
    "        # 다르다면 while break\n",
    "        else:\n",
    "            flag = True\n",
    "            print('hello world')\n",
    "            break\n",
    "stack_num = stack.pop()\n",
    "if stack_num == num:\n",
    "    log.append('-')\n",
    "else : flag = True\n",
    "\n",
    "\n",
    "if flag:\n",
    "    print('NO')\n",
    "else : \n",
    "    for i in log:\n",
    "        print(i)  "
   ]
  },
  {
   "cell_type": "code",
   "execution_count": 4,
   "metadata": {},
   "outputs": [
    {
     "name": "stdout",
     "output_type": "stream",
     "text": [
      "Object `list.push` not found.\n"
     ]
    }
   ],
   "source": [
    "list.push?"
   ]
  },
  {
   "cell_type": "code",
   "execution_count": 5,
   "metadata": {},
   "outputs": [
    {
     "data": {
      "text/plain": [
       "[1, 2]"
      ]
     },
     "execution_count": 5,
     "metadata": {},
     "output_type": "execute_result"
    }
   ],
   "source": [
    "s = [1,2,3]\n",
    "\n",
    "s.pop()\n",
    "s"
   ]
  },
  {
   "cell_type": "code",
   "execution_count": null,
   "metadata": {},
   "outputs": [],
   "source": []
  }
 ],
 "metadata": {
  "kernelspec": {
   "display_name": "Python 3.9.11 ('py_3.9.11')",
   "language": "python",
   "name": "python3"
  },
  "language_info": {
   "codemirror_mode": {
    "name": "ipython",
    "version": 3
   },
   "file_extension": ".py",
   "mimetype": "text/x-python",
   "name": "python",
   "nbconvert_exporter": "python",
   "pygments_lexer": "ipython3",
   "version": "3.9.11"
  },
  "orig_nbformat": 4,
  "vscode": {
   "interpreter": {
    "hash": "74b8cfefd0fa4051d735bc9fcf020aa7ead40c0048ca0c8813b003a841856b54"
   }
  }
 },
 "nbformat": 4,
 "nbformat_minor": 2
}
