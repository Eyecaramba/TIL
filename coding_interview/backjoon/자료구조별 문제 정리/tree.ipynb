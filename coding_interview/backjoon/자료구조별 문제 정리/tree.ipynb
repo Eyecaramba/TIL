{
 "cells": [
  {
   "cell_type": "markdown",
   "metadata": {},
   "source": [
    "#### tree"
   ]
  },
  {
   "cell_type": "code",
   "execution_count": 9,
   "metadata": {},
   "outputs": [
    {
     "name": "stdout",
     "output_type": "stream",
     "text": [
      "1\n",
      "1\n",
      "2\n",
      "3\n",
      "3\n",
      "4\n",
      "4\n",
      "5\n",
      "5\n",
      "6\n",
      "6\n"
     ]
    }
   ],
   "source": [
    "# 11725번 : 트리의 부모 찾기 2\n",
    "import sys\n",
    "sys.setrecursionlimit(10**9)\n",
    "input = sys.stdin.readline\n",
    "\n",
    "def dfs(n):\n",
    "    for i in tree[n]:\n",
    "        if parent[i] == 0:\n",
    "            parent[i] = n\n",
    "            dfs(i)\n",
    "\n",
    "N = int(input())\n",
    "tree = [[] for _ in range(N+1)]\n",
    "parent = [ 0 for _ in range(N+1)]\n",
    "\n",
    "for _ in range(N-1):\n",
    "    n1, n2 = map(int,input().split())\n",
    "    tree[n1].append(n2)\n",
    "    tree[n2].append(n1)\n",
    "    \n",
    "\n",
    "dfs(1)\n",
    "\n",
    "for pt in parent[2:]:\n",
    "    print(pt)"
   ]
  },
  {
   "cell_type": "code",
   "execution_count": 16,
   "metadata": {},
   "outputs": [
    {
     "name": "stdout",
     "output_type": "stream",
     "text": [
      "ABDCEFG\n",
      "DBAECFG\n",
      "DBEGFCA"
     ]
    }
   ],
   "source": [
    "# 1991번 : 트리 순회 \n",
    "\n",
    "N = int(input())\n",
    "tree = [[] for _ in range(26)]\n",
    "for cnt in range(N):\n",
    "    root, left, right = input().split()\n",
    "    if left != '.':\n",
    "        tree[ord(root)-65].append(ord(left)-65)\n",
    "    else : tree[ord(root)-65].append(None)\n",
    "    if right != '.':\n",
    "        tree[ord(root)-65].append(ord(right)-65)\n",
    "    else: tree[ord(root)-65].append(None)\n",
    "    \n",
    "def preorder(n): # root -> left -> right \n",
    "    print(chr(n+65),end='')\n",
    "    if tree[n][0]:\n",
    "        preorder(tree[n][0])\n",
    "    if tree[n][1]:\n",
    "        preorder(tree[n][1])\n",
    "\n",
    "def inorder(n):\n",
    "    if tree[n][0]:\n",
    "        inorder(tree[n][0])\n",
    "    print(chr(n+65),end='')\n",
    "    if tree[n][1]:\n",
    "        inorder(tree[n][1])\n",
    "\n",
    "def postorder(n):\n",
    "    if tree[n][0]:\n",
    "        postorder(tree[n][0])\n",
    "    if tree[n][1]:\n",
    "        postorder(tree[n][1])\n",
    "    print(chr(n+65),end='')\n",
    "\n",
    "preorder(0)\n",
    "print()\n",
    "inorder(0)\n",
    "print()\n",
    "postorder(0)"
   ]
  },
  {
   "cell_type": "code",
   "execution_count": 4,
   "metadata": {},
   "outputs": [
    {
     "data": {
      "text/plain": [
       "-19"
      ]
     },
     "execution_count": 4,
     "metadata": {},
     "output_type": "execute_result"
    }
   ],
   "source": [
    "ord('.')-65"
   ]
  },
  {
   "cell_type": "code",
   "execution_count": 7,
   "metadata": {},
   "outputs": [
    {
     "name": "stdout",
     "output_type": "stream",
     "text": [
      "ABDCEGF"
     ]
    }
   ],
   "source": [
    "preorder(0)"
   ]
  },
  {
   "cell_type": "code",
   "execution_count": null,
   "metadata": {},
   "outputs": [],
   "source": []
  }
 ],
 "metadata": {
  "kernelspec": {
   "display_name": "Python 3.9.11 ('py_3.9.11')",
   "language": "python",
   "name": "python3"
  },
  "language_info": {
   "codemirror_mode": {
    "name": "ipython",
    "version": 3
   },
   "file_extension": ".py",
   "mimetype": "text/x-python",
   "name": "python",
   "nbconvert_exporter": "python",
   "pygments_lexer": "ipython3",
   "version": "3.9.11"
  },
  "orig_nbformat": 4,
  "vscode": {
   "interpreter": {
    "hash": "74b8cfefd0fa4051d735bc9fcf020aa7ead40c0048ca0c8813b003a841856b54"
   }
  }
 },
 "nbformat": 4,
 "nbformat_minor": 2
}
