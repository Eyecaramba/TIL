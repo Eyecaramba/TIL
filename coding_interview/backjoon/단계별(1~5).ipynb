{
 "cells": [
  {
   "cell_type": "markdown",
   "metadata": {},
   "source": [
    "# 1 ~ 5 단계"
   ]
  },
  {
   "cell_type": "markdown",
   "metadata": {},
   "source": [
    "# 1.입출력"
   ]
  },
  {
   "cell_type": "code",
   "execution_count": 1,
   "metadata": {},
   "outputs": [],
   "source": [
    "import sys"
   ]
  },
  {
   "cell_type": "code",
   "execution_count": 1,
   "metadata": {},
   "outputs": [
    {
     "name": "stdout",
     "output_type": "stream",
     "text": [
      "-1\n"
     ]
    }
   ],
   "source": [
    "# 1001번 \n",
    "# 여러개의 숫자를 입력받을시 map 함수 이용하기 \n",
    "num1, num2 = map(int,input().split(' '))\n",
    "print(num1 - num2)"
   ]
  },
  {
   "cell_type": "code",
   "execution_count": 1,
   "metadata": {},
   "outputs": [
    {
     "name": "stdout",
     "output_type": "stream",
     "text": [
      "0.3333333333333333\n"
     ]
    }
   ],
   "source": [
    "# 1008번\n",
    "num1, num2 = map(float,input().split(' '))\n",
    "print(num1 / num2)"
   ]
  },
  {
   "cell_type": "code",
   "execution_count": null,
   "metadata": {},
   "outputs": [],
   "source": [
    "# 18108번 \n",
    "print(int(input())-543)"
   ]
  },
  {
   "cell_type": "code",
   "execution_count": 2,
   "metadata": {},
   "outputs": [
    {
     "name": "stdout",
     "output_type": "stream",
     "text": [
      "0 0 0 0 0 0 "
     ]
    }
   ],
   "source": [
    "# 3003번 : 킹, 퀸, 룩, 비숏, 나이트, 폰 \n",
    "# 킹 1개, 퀸 1개, 룩 2개, 비숍 2개, 나이트 2개, 폰 8개가 있어야 1세트\n",
    "\n",
    "chess_set = [1,1,2,2,2,8]\n",
    "num =list(map(int,input().split(' ')))\n",
    "for i in range(6):\n",
    "    print(chess_set[i] - num[i],end = ' ')"
   ]
  },
  {
   "cell_type": "markdown",
   "metadata": {},
   "source": [
    "# 2.조건문"
   ]
  },
  {
   "cell_type": "code",
   "execution_count": null,
   "metadata": {},
   "outputs": [],
   "source": [
    "#2480번 : 주사위 세개\n",
    "\n",
    "num1,num2,num3 = map(int,input().split(' '))\n",
    "\n",
    "if num1 == num2 == num3 : \n",
    "    print(10000 + num1 * 1000)\n",
    "elif num1 == num2 or num2 == num3 or num1 == num3:\n",
    "    print()\n",
    "else: \n",
    "    "
   ]
  },
  {
   "cell_type": "markdown",
   "metadata": {},
   "source": [
    "# 3. 반복문"
   ]
  },
  {
   "cell_type": "code",
   "execution_count": null,
   "metadata": {},
   "outputs": [],
   "source": [
    "import sys\n",
    "num = int(input())\n",
    "\n",
    "for _ in range(num):\n",
    "    a,b = map(int,sys.stdin.readline().split())\n",
    "    print(a+b)"
   ]
  },
  {
   "cell_type": "markdown",
   "metadata": {},
   "source": [
    "input() 대신 sys.stdin.readline()을 사용하는 이유 \n",
    "\n",
    "\n",
    "input : parameter로 prompt message를 받을 수 있다.  \n",
    "sys.stdin.readline() : parameter로 prompt message를 인수 받지 않는다.   \n",
    "따라서 sys.stdin.readline()이 input()함수보다 더 빠르게 작동한다. "
   ]
  },
  {
   "cell_type": "markdown",
   "metadata": {},
   "source": [
    "그러나  \n",
    ".ipynb 에서는 stdin이 제대로 구성되어 있지 않기 때문에 sys.stdin.readline() 대신 input을 활용해야 한다.   \n",
    ".py에서만 stdin 사용 가능"
   ]
  },
  {
   "cell_type": "markdown",
   "metadata": {},
   "source": [
    "# 4. 1차원 배열"
   ]
  },
  {
   "cell_type": "code",
   "execution_count": null,
   "metadata": {},
   "outputs": [],
   "source": [
    "# 4344번 : 평균은 넘겠지 \n",
    "\n",
    "num_line = int(input())\n",
    "\n",
    "for i in range(num_line):\n",
    "    num_list = list(map(int,input().split()))\n",
    "    mean = sum(num_list[1:]) / num_list[0]\n",
    "    cnt = 0\n",
    "    for l in range(1,num_list[0]+1):\n",
    "        if num_list[l] > mean : cnt += 1\n",
    "    percent = cnt/num_list[0] * 100\n",
    "    print('%0.3f%%'%percent)"
   ]
  },
  {
   "cell_type": "markdown",
   "metadata": {},
   "source": [
    "# 5. 2차원 배열"
   ]
  },
  {
   "cell_type": "code",
   "execution_count": 8,
   "metadata": {},
   "outputs": [
    {
     "name": "stdout",
     "output_type": "stream",
     "text": [
      "2 2 2 2 2 2 2 2 2 "
     ]
    }
   ],
   "source": [
    "# 2738번 : 행렬 덧셈\n",
    "import sys\n",
    "\n",
    "input = sys.stdin.readline()\n",
    "\n",
    "n,m = map(int,input.split())\n",
    "\n",
    "a = []\n",
    "for i in range(n):\n",
    "        a.append(list(map(int,input.split())))\n",
    "b = []\n",
    "for i in range(n):\n",
    "        b.append(list(map(int,input.split())))\n",
    "\n",
    "for row in range(n):\n",
    "    for col in range(m):\n",
    "        if col != m-1:\n",
    "            print(a[row][col] + b[row][col],end=' ')\n",
    "        else:\n",
    "            print(a[row][col] + b[row][col])"
   ]
  },
  {
   "cell_type": "code",
   "execution_count": null,
   "metadata": {},
   "outputs": [],
   "source": [
    "# 2566번 최댓값\n",
    "max_num = 0\n",
    "max_col, max_row = 0,0\n",
    "for col in range(9):\n",
    "    c = list(map(int,input().split()))\n",
    "    for row in range(9):\n",
    "        if c[row] > max_num:\n",
    "            max_num, max_col, max_row = c[row], col, row\n",
    "print(max_num)\n",
    "print('%d %d'%(max_col+1,max_row+1))"
   ]
  },
  {
   "cell_type": "code",
   "execution_count": null,
   "metadata": {},
   "outputs": [],
   "source": [
    "# 2563번 : 색종이\n",
    "\n",
    "matrix = [[False for _ in range(100)] for _ in range(100)]\n",
    "num_of_paper = int(input())\n",
    "\n",
    "for _ in range(num_of_paper):\n",
    "    x,y = map(int,input().split())\n",
    "    x -= 1 \n",
    "    y -= 1\n",
    "    for x_p in range(x,x+10):\n",
    "        for y_p in range(y,y+10):\n",
    "            matrix[y_p][x_p] = 1\n",
    "cnt = 0\n",
    "for i in range(100):\n",
    "    cnt += matrix[i].count(True)\n",
    "print(cnt)"
   ]
  },
  {
   "cell_type": "code",
   "execution_count": null,
   "metadata": {},
   "outputs": [],
   "source": []
  }
 ],
 "metadata": {
  "kernelspec": {
   "display_name": "Python 3.9.6 64-bit",
   "language": "python",
   "name": "python3"
  },
  "language_info": {
   "codemirror_mode": {
    "name": "ipython",
    "version": 3
   },
   "file_extension": ".py",
   "mimetype": "text/x-python",
   "name": "python",
   "nbconvert_exporter": "python",
   "pygments_lexer": "ipython3",
   "version": "3.9.6"
  },
  "orig_nbformat": 4,
  "vscode": {
   "interpreter": {
    "hash": "31f2aee4e71d21fbe5cf8b01ff0e069b9275f58929596ceb00d14d90e3e16cd6"
   }
  }
 },
 "nbformat": 4,
 "nbformat_minor": 2
}
