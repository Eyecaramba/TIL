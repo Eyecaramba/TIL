{
 "cells": [
  {
   "attachments": {},
   "cell_type": "markdown",
   "metadata": {},
   "source": [
    "# 9.분할정복"
   ]
  },
  {
   "cell_type": "code",
   "execution_count": null,
   "metadata": {},
   "outputs": [],
   "source": [
    "# 2630번 : 색종이 만들기\n",
    "import sys\n",
    "sys.stdin = open('input.txt')\n",
    "input = sys.stdin.readline\n",
    "sys.setrecursionlimit(10**9)\n",
    "def divide(row,col,n):\n",
    "    global one\n",
    "    global zero\n",
    "    clr = bd[row][col]\n",
    "    for r in range(row,row + n):\n",
    "        for c in range(col,col + n):\n",
    "            if clr != bd[r][c]:\n",
    "                divide(row,col,n//2)\n",
    "                divide(row,col+n//2,n//2)\n",
    "                divide(row+n//2,col,n//2)\n",
    "                divide(row+n//2,col+n//2,n//2)\n",
    "                return\n",
    "    if clr == 0: zero += 1\n",
    "    else: one += 1\n",
    "\n",
    "bd = [list(map(int,input().split())) for _ in range(int(input()))]\n",
    "zero,one = 0,0\n",
    "divide(0,0,len(bd))\n",
    "print(f'{zero}\\n{one}')"
   ]
  },
  {
   "cell_type": "code",
   "execution_count": null,
   "metadata": {},
   "outputs": [],
   "source": [
    "# 1992번 : 쿼드트리\n",
    "def divide(row,col,n):\n",
    "    global ans\n",
    "    clr = bd[row][col]\n",
    "    for r in range(row,row + n):\n",
    "        for c in range(col,col + n):\n",
    "            if clr != bd[r][c]:\n",
    "                ans += '('\n",
    "                divide(row,col,n//2)\n",
    "                divide(row,col+n//2,n//2)\n",
    "                divide(row+n//2,col,n//2)\n",
    "                divide(row+n//2,col+n//2,n//2)\n",
    "                ans += ')'\n",
    "                return\n",
    "    if clr == '0': ans += '0'\n",
    "    else: ans += '1'\n",
    "\n",
    "\n",
    "bd = [list(input().rstrip()) for _ in range(int(input()))]\n",
    "ans = ''\n",
    "divide(0,0,len(bd))\n",
    "print(ans)\n"
   ]
  },
  {
   "cell_type": "code",
   "execution_count": null,
   "metadata": {},
   "outputs": [],
   "source": [
    "#1780번 : 종이의 개수\n",
    "import sys\n",
    "sys.stdin = open('input.txt')\n",
    "input = sys.stdin.readline\n",
    "sys.setrecursionlimit(10**9)\n",
    "def divide(row,col,n):\n",
    "    global zero_cnt,one_cnt,minus_cnt\n",
    "    clr = bd[row][col]\n",
    "    for r in range(row,row + n):\n",
    "        for c in range(col,col + n):\n",
    "            if clr != bd[r][c]:\n",
    "                divide(row,col,n//3)\n",
    "                divide(row,col+n//3,n//3)\n",
    "                divide(row, col + 2*(n // 3), n // 3)\n",
    "                divide(row+n//3,col,n//3)\n",
    "                divide(row+n//3,col+n//3,n//3)\n",
    "                divide(row + n // 3, col + 2*(n // 3), n // 3)\n",
    "                divide(row+2*(n//3),col,n//3)\n",
    "                divide(row+2*(n//3),col+n//3,n//3)\n",
    "                divide(row +2*(n//3), col + 2*(n // 3), n // 3)\n",
    "                return\n",
    "    if clr == -1: minus_cnt += 1\n",
    "    elif clr == 0: zero_cnt += 1\n",
    "    else: one_cnt += 1\n",
    "\n",
    "bd = [list(map(int,input().split())) for _ in range(int(input()))]\n",
    "zero_cnt,one_cnt,minus_cnt = 0,0,0\n",
    "divide(0,0,len(bd))\n",
    "print(f'{minus_cnt}\\n{zero_cnt}\\n{one_cnt}')\n"
   ]
  },
  {
   "cell_type": "code",
   "execution_count": null,
   "metadata": {},
   "outputs": [],
   "source": []
  }
 ],
 "metadata": {
  "kernelspec": {
   "display_name": "torchEnv",
   "language": "python",
   "name": "python3"
  },
  "language_info": {
   "name": "python",
   "version": "3.10.6"
  },
  "orig_nbformat": 4
 },
 "nbformat": 4,
 "nbformat_minor": 2
}
