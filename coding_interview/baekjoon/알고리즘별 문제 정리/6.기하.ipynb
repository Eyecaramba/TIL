{
 "cells": [
  {
   "cell_type": "markdown",
   "metadata": {},
   "source": [
    "# 5.기하"
   ]
  },
  {
   "cell_type": "code",
   "execution_count": null,
   "metadata": {},
   "outputs": [],
   "source": [
    "# 1758번 : 선분교차 1\n",
    "\n",
    "import sys\n",
    "# sys.stdin = open('input.txt', 'r')\n",
    "# input 정의가 sys.stdin밑에 있어야 텍스트를 읽을 수 있음\n",
    "input = sys.stdin.readline\n",
    "\n",
    "def ccw(p1x,p2x,p3x,p1y,p2y,p3y):\n",
    "    m = (p2x - p1x) * (p3y - p1y) - (p2y - p1y) * (p3x - p1x)\n",
    "    if m > 0 : return 1\n",
    "    elif m < 0 : return -1\n",
    "    else : return 0\n",
    "\n",
    "\n",
    "x1,y1,x2,y2 = map(int,input().split())\n",
    "x3,y3,x4,y4 = map(int,input().split())\n",
    "\n",
    "\n",
    "if ccw(x1,x2,x3,y1,y2,y3) * ccw(x1,x2,x4,y1,y2,y4) <= 0 and ccw(x3,x4,x1,y3,y4,y1) * ccw(x3,x4,x2,y3,y4,y2) <= 0 : print(1)\n",
    "else : print(0)"
   ]
  },
  {
   "cell_type": "code",
   "execution_count": null,
   "metadata": {},
   "outputs": [],
   "source": [
    "# 17387번 : 선분 교차 2\n",
    "\n",
    "import sys\n",
    "sys.stdin = open('input.txt','r')\n",
    "input = sys.stdin.readline\n",
    "\n",
    "x1, y1, x2, y2 = map(int, input().split())\n",
    "x3, y3, x4, y4 = map(int, input().split())\n",
    "\n",
    "def ccw(x1,x2,x3,y1,y2,y3):\n",
    "    dx1 = x2 - x1\n",
    "    dy1 = y2 - y1\n",
    "    dx2 = x3 - x1\n",
    "    dy2 = y3 - y1\n",
    "    if dx1 * dy2 > dy1 * dx2 : return 1\n",
    "    elif dx1 * dy2 < dy1 * dx2 : return -1\n",
    "    elif dx1 == 0 and dy1 == 0 : return 0\n",
    "    elif dx1 * dx2 < 0 and dy1 * dy2 : return -1\n",
    "    elif pow(dx1,2) + pow(dy1,2) < pow(dx2,2) + pow(dy2,2) : return 1\n",
    "    else : return 0\n",
    "    \n",
    "if ccw(x1,x2,x3,y1,y2,y3) * ccw(x1,x2,x4,y1,y2,y4) <= 0 and ccw(x3,x4,x1,y3,y4,y1) * ccw(x3,x4,x2,y3,y4,y2) <= 0 :\n",
    "    print(1)\n",
    "\n",
    "else : print(0)\n"
   ]
  }
 ],
 "metadata": {
  "language_info": {
   "name": "python"
  },
  "orig_nbformat": 4
 },
 "nbformat": 4,
 "nbformat_minor": 2
}
