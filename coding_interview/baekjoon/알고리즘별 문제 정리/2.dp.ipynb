{
 "cells": [
  {
   "cell_type": "markdown",
   "metadata": {},
   "source": [
    "# 2. dp"
   ]
  },
  {
   "attachments": {},
   "cell_type": "markdown",
   "metadata": {},
   "source": [
    "동적 계획법은 중간중간 과정의 값을 기록해 놓는다. \n",
    "- 중간 중간 과정의 값을 정확히 기록하기 위해서는 점화식을 제대로 세우는 것이 중요하다.  \n",
    "\n",
    "값을 기록하는 이유는 같은 계산을 반복하지 않기 위함이다. \n",
    "\n",
    "원하는 값들을 규칙에 따라 매번 계산해서 구하는 것 보다 더 빠르게 구할 수 있다. "
   ]
  },
  {
   "attachments": {},
   "cell_type": "markdown",
   "metadata": {},
   "source": [
    "##### 실버"
   ]
  },
  {
   "cell_type": "code",
   "execution_count": null,
   "metadata": {},
   "outputs": [],
   "source": [
    "# 1463번 : 1로 만들기 \n",
    "import sys\n",
    "sys.stdin = open('./input.txt')\n",
    "input = sys.stdin.readline\n",
    "\n",
    "ns = [ 0 for i in range(int(input()) + 1)]\n",
    "for i in range(2,len(ns)):\n",
    "    arr = []\n",
    "    if i % 3 == 0:arr.append(ns[i//3] + 1)\n",
    "    if i % 2 == 0:arr.append(ns[i//2] + 1)\n",
    "    arr.append(ns[i-1] + 1)\n",
    "    ns[i] = min(arr)\n",
    "print(ns[-1])"
   ]
  },
  {
   "cell_type": "code",
   "execution_count": null,
   "metadata": {},
   "outputs": [],
   "source": [
    "# 9095번 : 1,2,3 더하기\n",
    "\n"
   ]
  },
  {
   "cell_type": "code",
   "execution_count": null,
   "metadata": {},
   "outputs": [],
   "source": [
    "# 24416번 : 알고리즘 수업 - 피보나치 1 ✓\n",
    "N = int(input())\n",
    "ls = [1,1]\n",
    "for _ in range(2,N):\n",
    "    ls.append(ls[-1] + ls[-2])\n",
    "\n",
    "print(ls[-1],N-2)"
   ]
  },
  {
   "cell_type": "code",
   "execution_count": null,
   "metadata": {},
   "outputs": [],
   "source": [
    "# 9148번 : 신나는 함수 실행 ✓\n",
    "import sys\n",
    "sys.stdin =open('./input.txt')\n",
    "input = sys.stdin.readline\n",
    "\n",
    "record = [[[0 for _ in range(21)] for _ in range(21)] for _ in range(21)]\n",
    "\n",
    "# 함수 값을 찾는데 필요한 값을 모두 계산한다. \n",
    "for a in range(21):\n",
    "    for b in range(21):\n",
    "        for c in range(21):\n",
    "            if a == 0 or b == 0 or c == 0:\n",
    "                record[a][b][c] = 1\n",
    "            elif a < b and b < c :\n",
    "                record[a][b][c] = record[a][b][c-1] + record[a][b-1][c-1] - record[a][b-1][c-1]\n",
    "            else :\n",
    "                record[a][b][c] = record[a-1][b][c] + record[a-1][b-1][c] + record[a-1][b][c-1] - record[a-1][b-1][c-1]\n",
    "\n",
    "\n",
    "a,b,c = map(int,input().split())\n",
    "\n",
    "while not(a == -1 and b == -1 and c == -1):\n",
    "    if a <= 0 or b <= 0 or c <= 0 : ans = 1\n",
    "    elif a > 20 or b > 20 or c > 20 : ans = record[20][20][20]\n",
    "    else : ans = record[a][b][c]\n",
    "    print('w(%d, %d, %d) = %d'%(a,b,c,ans))\n",
    "    a,b,c = map(int,input().split())\n"
   ]
  },
  {
   "cell_type": "code",
   "execution_count": null,
   "metadata": {},
   "outputs": [],
   "source": [
    "# 9416번 파도반 수열 ✓\n",
    "import sys\n",
    "sys.stdin =open('./input.txt')\n",
    "input = sys.stdin.readline\n",
    "\n",
    "pad = [1,1,1,2,2]\n",
    "# 파도반 수열을 100까지 모두 구해 놓음 \n",
    "for i in range(95):\n",
    "    pad.append(pad[-1] + pad[-5])\n",
    "\n",
    "# 필요한 값을 찾는다. \n",
    "for _ in range(int(input())):\n",
    "    M = int(input())\n",
    "    print(pad[M-1])"
   ]
  },
  {
   "cell_type": "code",
   "execution_count": null,
   "metadata": {},
   "outputs": [],
   "source": [
    "# 1912번 : 연속합 문제 ✓\n",
    "import sys\n",
    "sys.stdin =open('./input.txt')\n",
    "input = sys.stdin.readline\n",
    "\n",
    "n = int(input())\n",
    "num_list = list(map(int,input().split()))\n",
    "\n",
    "sum_num = num_list[-1]\n",
    "max_num = num_list[-1]\n",
    "\n",
    "for i in range(2, n+1):\n",
    "    # (현재 값 + 지금까지 합)과 (현재 값)을 비교한다. \n",
    "    if num_list[-i] > sum_num + num_list[-i]  : sum_num = num_list[-i]\n",
    "    else : sum_num = sum_num + num_list[-i]\n",
    "\n",
    "    if sum_num > max_num : max_num = sum_num\n",
    "\n",
    "print(max_num)"
   ]
  },
  {
   "cell_type": "code",
   "execution_count": null,
   "metadata": {},
   "outputs": [],
   "source": [
    "# 1149번 : RGB 거리 \n",
    "\n",
    "\n"
   ]
  },
  {
   "cell_type": "code",
   "execution_count": null,
   "metadata": {},
   "outputs": [],
   "source": [
    "#1932번 : 정수 삼각형 ✓\n",
    "import sys\n",
    "sys.stdin =open('./input.txt')\n",
    "input = sys.stdin.readline\n",
    "\n",
    "n = int(input())\n",
    "sum_list = [int(input())]\n",
    "for _ in range(n-1):\n",
    "    # 다음 줄 받기\n",
    "    num_list = list(map(int, input().split()))\n",
    "\n",
    "    # 더해야 하는 값 복사하기\n",
    "    sum_list_copy = sum_list.copy()\n",
    "\n",
    "    # 리스트 비우기\n",
    "    sum_list = []\n",
    "\n",
    "    \n",
    "    sum_list.append(sum_list_copy[0] + num_list[0])\n",
    "    for i in range(1,len(num_list)-1):\n",
    "        max_length = max(sum_list_copy[i-1], sum_list_copy[i])\n",
    "        sum_list.append(max_length + num_list[i])\n",
    "    sum_list.append(sum_list_copy[-1] + num_list[-1])\n",
    "\n",
    "print(max(sum_list))"
   ]
  },
  {
   "cell_type": "code",
   "execution_count": null,
   "metadata": {},
   "outputs": [],
   "source": [
    "# 11053번 : 가장 긴 증가하는 부분 수열  \n",
    "n = int(input())\n",
    "num_list = list(map(int,input().split()))\n",
    "dp = [0 for _ in range(len(num_list))]\n",
    "for i in range(len(num_list)):\n",
    "    for l in range(i):\n",
    "        if num_list[i] > num_list[l] and dp[i] < dp [l]:\n",
    "            dp[i] = dp[l]\n",
    "    dp[i] += 1\n",
    "print(max(dp))"
   ]
  },
  {
   "cell_type": "code",
   "execution_count": null,
   "metadata": {},
   "outputs": [],
   "source": [
    "# 11054번 : 가장 긴 바이토닉 부분 수열 \n",
    "# 가장 긴 부분 수열을 좌우로 한번씩 구해서 더해주면 됨 \n",
    "import sys\n",
    "sys.stdin =open('./input.txt')\n",
    "input = sys.stdin.readline\n",
    "\n",
    "n = int(input())\n",
    "arr = list(map(int,input().split()))\n",
    "arr2 = list(reversed(arr))\n",
    "dp = [ 0 for _ in range(len(arr))]\n",
    "dp2 = [ 0 for _ in range(len(arr))]\n",
    "for i in range(len(arr)):\n",
    "    for j in range(len(arr)):\n",
    "        if arr[i] > arr[j] and dp[i] < dp[j]:\n",
    "            dp[i] = dp[j]\n",
    "        if arr2[i] > arr2[j] and dp2[i] < dp2[j]:\n",
    "            dp2[i] = dp2[j]\n",
    "    dp[i] += 1\n",
    "    dp2[i] += 1\n",
    "\n",
    "dp2.reverse()\n",
    "\n",
    "for i in range(len(dp)):\n",
    "    dp[i] = dp[i] + dp2[i] - 1\n",
    "print(dp)\n"
   ]
  },
  {
   "cell_type": "code",
   "execution_count": null,
   "metadata": {},
   "outputs": [],
   "source": [
    "# 2565번 : 전깃줄 \n",
    "# sort후 가장 긴 수열 찾기 \n",
    "import sys\n",
    "sys.stdin =open('./input.txt')\n",
    "input = sys.stdin.readline\n",
    "\n",
    "line = []\n",
    "for _ in range(int(input())):\n",
    "    line.append(list(map(int,input().split())))\n",
    "\n",
    "line.sort(key= lambda x : x[0])\n",
    "dp = [ 0 for _ in range(len(line))]\n",
    "\n",
    "for i in range(len(line)):\n",
    "    for j in range(i):\n",
    "        if line[i][1] > line[j][1] and dp[i] < dp[j] :\n",
    "            dp[i] = dp[j]\n",
    "    dp[i] += 1\n",
    "\n",
    "print(len(line)-max(dp))\n"
   ]
  },
  {
   "attachments": {},
   "cell_type": "markdown",
   "metadata": {},
   "source": [
    "##### 골드 5"
   ]
  },
  {
   "cell_type": "code",
   "execution_count": 1,
   "metadata": {},
   "outputs": [],
   "source": [
    "# 9251번 : LCS (최장 공통 부분 수열, 최장 공통 문자열)\n",
    "# 점화식 세우기가 미숙함 \n",
    "st1, st2 = [0],[0]\n",
    "st1.extend(list(input().rstrip()))\n",
    "st2.extend(list(input().rstrip()))\n",
    "dp = [[0 for _ in range(len(st1))] for _ in range(len(st2))]\n",
    "for row in range(len(st2)):\n",
    "    for col in range(len(st1)):\n",
    "        if row == 0 or col == 0: dp[row][col] = 0\n",
    "        elif st1[col] != st2[row] : dp[row][col] = max(dp[row-1][col],dp[row][col-1])\n",
    "        elif st1[col] == st2[row] : dp[row][col] = dp[row-1][col-1] + 1\n",
    "print(dp[-1][-1])"
   ]
  },
  {
   "cell_type": "code",
   "execution_count": null,
   "metadata": {},
   "outputs": [],
   "source": [
    "# 2293번 : 동전 - 1\n",
    "# n - c를 만드는 방법, c를 사용하는 방법과 n을 만드는 방법간의 관계\n",
    "n,k = map(int,input().split())\n",
    "coins = []\n",
    "for _ in range(n):\n",
    "    coins.append(int(input()))\n",
    "dp = [0 for i in range(k+1)]\n",
    "dp[0] = 1\n",
    "for i in coins:\n",
    "    for j in range(i,k+1):\n",
    "        if j - i >= 0:\n",
    "            dp[j] += dp[j-i]\n",
    "print(dp[-1])"
   ]
  },
  {
   "cell_type": "code",
   "execution_count": null,
   "metadata": {},
   "outputs": [],
   "source": [
    "# 2294번 : 동전 - 2\n",
    "n,k = map(int,input().split())\n",
    "coins = []\n",
    "for _ in range(n):\n",
    "    coins.append(int(input()))\n",
    "dp = [0 for i in range(k+1)]\n",
    "dp[0] = 1\n",
    "for i in coins:\n",
    "    for j in range(i,k+1):\n",
    "        if j - i >= 0:\n",
    "            dp[j] += dp[j-i]\n",
    "print(dp[-1])"
   ]
  },
  {
   "cell_type": "code",
   "execution_count": null,
   "metadata": {},
   "outputs": [],
   "source": [
    "# 12865번 : 평범한 배낭\n",
    "# 1부터 주어진 무게 까지 최적의 가치를 계속 기록해 나간다. \n",
    "import sys\n",
    "sys.stdin =open('./input.txt')\n",
    "input = sys.stdin.readline\n",
    "\n",
    "n, w = map(int,input().split())\n",
    "w_l = [0 for _ in range(w+1)]\n",
    "items = []\n",
    "for _ in range(n):\n",
    "    items.append(list(map(int,input().split())))\n",
    "values = [0 for _ in range(w+1)]\n",
    "for item in items:\n",
    "    for i in range(item[0],w+1):\n",
    "        if w_l[i] < item[1] + w_l[i-item[0]] :\n",
    "            values[i] = item[1] + w_l[i-item[0]]\n",
    "    w_l = values.copy()\n",
    "\n",
    "print(w_l[-1])"
   ]
  },
  {
   "cell_type": "code",
   "execution_count": null,
   "metadata": {},
   "outputs": [],
   "source": [
    "# 1904번 : 타일 문제\n",
    "import sys\n",
    "input = sys.stdin.readline\n",
    "N = int(input())\n",
    "n1, n2 = 1,2\n",
    "for i in range(2,N):\n",
    "    num = (n1 + n2) %15746 # (n1 + n2) % div = (n1%div + n2%div)%div\n",
    "    n1 = n2\n",
    "    n2 = num\n",
    "if N == 1: print(1)\n",
    "else : print(n2)"
   ]
  }
 ],
 "metadata": {
  "kernelspec": {
   "display_name": "Python 3",
   "language": "python",
   "name": "python3"
  },
  "language_info": {
   "codemirror_mode": {
    "name": "ipython",
    "version": 3
   },
   "file_extension": ".py",
   "mimetype": "text/x-python",
   "name": "python",
   "nbconvert_exporter": "python",
   "pygments_lexer": "ipython3",
   "version": "3.9.6"
  },
  "orig_nbformat": 4,
  "vscode": {
   "interpreter": {
    "hash": "31f2aee4e71d21fbe5cf8b01ff0e069b9275f58929596ceb00d14d90e3e16cd6"
   }
  }
 },
 "nbformat": 4,
 "nbformat_minor": 2
}
