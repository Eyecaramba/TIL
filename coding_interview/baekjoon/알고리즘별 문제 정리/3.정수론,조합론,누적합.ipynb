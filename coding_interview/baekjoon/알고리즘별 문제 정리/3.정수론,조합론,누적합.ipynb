{
 "cells": [
  {
   "attachments": {},
   "cell_type": "markdown",
   "metadata": {},
   "source": [
    "## 3. 정수론, 조합론, 누적합"
   ]
  },
  {
   "cell_type": "markdown",
   "metadata": {},
   "source": [
    "#### 정수론"
   ]
  },
  {
   "cell_type": "code",
   "execution_count": null,
   "metadata": {},
   "outputs": [],
   "source": [
    "# 3036번 : 유클리드 호제법 \n",
    "import sys\n",
    "sys.stdin = open('input.txt','r')\n",
    "input = sys.stdin.readline\n",
    "N = int(input())\n",
    "nums = list(map(int, input().split()))\n",
    "\n",
    "def get_gcd(n,m):\n",
    "    res = n % m\n",
    "    while res != 0:\n",
    "        n = m\n",
    "        m = res\n",
    "        res = n % m\n",
    "    return m\n",
    "\n",
    "for num in nums[1:]:\n",
    "    div = get_gcd(nums[0],num)\n",
    "    print('%d/%d'%(nums[0]/div,num/div))"
   ]
  },
  {
   "cell_type": "code",
   "execution_count": null,
   "metadata": {},
   "outputs": [],
   "source": [
    "# 2981번 : 검문\n",
    "import sys\n",
    "from math import gcd\n",
    "from math import sqrt\n",
    "input = sys.stdin.readline\n",
    "\n",
    "# 입력 받기\n",
    "N = int(input())\n",
    "nums = []\n",
    "for _ in range(N):\n",
    "    nums.append(int(input()))\n",
    "    \n",
    "    \n",
    "#오름차순으로 정렬\n",
    "nums.sort()\n",
    "diff = []\n",
    "\n",
    "# A = M*a +r, B = M*b +r, C = M*c +r ...\n",
    "# A-B, B-C, C-D...의 최대공약수는 M\n",
    "# 따라서 최대공약수 M을 구하기 위해서는 차이값을 구해야 함\n",
    "# 정렬되어 이웃한 숫자들 끼리만 빼는 이유 : 가장 작은 차이를 구해야 가장 작은 최대공약수를 얻을 수 있다. \n",
    "\n",
    "#차이값 구하기\n",
    "for i in range(1,N):\n",
    "    diff.append(nums[i] - nums[i-1])\n",
    "M = diff[0]\n",
    "\n",
    "#차이값\n",
    "#차이값들의 공약수 구하기\n",
    "for dif in diff[1:]:\n",
    "    M = gcd(M,dif)\n",
    "ans = []\n",
    "\n",
    "# 공약수의 약수 구하기\n",
    "# 약수를 구할 때 나누어 떨어지는 숫자와 나누어 떨어져서 나온 숫자를 같이 저장하면 제곱근까지만 탐색해도 모든 약수를 구할 수 있다. \n",
    "for i in range(2,int(sqrt(M))+1):\n",
    "    if M % i == 0 :\n",
    "        ans.append(i)\n",
    "        ans.append(M//i)\n",
    "\n",
    "ans.append(M)\n",
    "ans = list(set(ans))\n",
    "ans.sort()\n",
    "for an in ans :\n",
    "    print(an,end= ' ')"
   ]
  },
  {
   "cell_type": "markdown",
   "metadata": {},
   "source": [
    "#### 조합"
   ]
  },
  {
   "cell_type": "code",
   "execution_count": null,
   "metadata": {},
   "outputs": [],
   "source": [
    "# 11050번 : 조합 1 (기본 계산법)\n",
    "import sys\n",
    "input = sys.stdin.readline\n",
    "N, K = map(int,input().split())\n",
    "num = 1\n",
    "for i in range(1,K+1):\n",
    "    num = num * (N + 1 - i) / i\n",
    "print(int(num))"
   ]
  },
  {
   "cell_type": "code",
   "execution_count": null,
   "metadata": {},
   "outputs": [],
   "source": [
    "# 11051번 : 조합 2 (math.comb 사용)\n",
    "import sys\n",
    "import math\n",
    "input = sys.stdin.readline\n",
    "N,K = map(int,input().split())\n",
    "print(math.comb(N,K)%10007)\n",
    "\n",
    "# 메모리 : 32952KB, 시간 68ms"
   ]
  },
  {
   "cell_type": "code",
   "execution_count": null,
   "metadata": {},
   "outputs": [],
   "source": [
    "# 11051번 : 조합 2 (파스칼 삼각형)\n",
    "import sys\n",
    "input = sys.stdin.readline\n",
    "N,K = map(int,input().split())\n",
    "nums = [[1] for _ in range(N+1)]\n",
    "for i in range(1,N+1):\n",
    "    for l in range(1,i):\n",
    "        nums[i].append(nums[i-1][l-1] + nums[i-1][l])\n",
    "    nums[i].append(1)\n",
    "print(nums[N][K]%10007)\n",
    "\n",
    "# 메모리 : 84164, 시간 340ms"
   ]
  },
  {
   "cell_type": "code",
   "execution_count": null,
   "metadata": {},
   "outputs": [],
   "source": [
    "# 1676번 : 팩토리얼 0의 개수 \n",
    "# 숫자에 5가 곱해지면 0이 더해지는 성질을 이용함 \n",
    "import sys\n",
    "import math\n",
    "input = sys.stdin.readline\n",
    "N = int(input())\n",
    "N //= 5\n",
    "num = N\n",
    "for i in range(1,N+1):\n",
    "    while i != 0:\n",
    "        if i % 5 == 0 :\n",
    "            num += 1\n",
    "            i = i//5\n",
    "        else : break\n",
    "print(num)\n"
   ]
  },
  {
   "cell_type": "code",
   "execution_count": null,
   "metadata": {},
   "outputs": [],
   "source": [
    "# 2004번 : 조합 0의 개수 \n",
    "# 0은 min(2,5)의 개수로 이루어진다. \n",
    "# factorial(N), factorial(M), factorial(N-M)의 2,5의 개수를 각각 구하고 빼면\n",
    "# 구하고자 하는 조합의 수의 0의 개수를 구할 수 있다. \n",
    "# memo : N = n * 2^k * 5^b의 0의 개수는 min(k,b)\n",
    "import sys\n",
    "from math import factorial\n",
    "from math import comb\n",
    "input = sys.stdin.readline\n",
    "def get_num(N,M):\n",
    "    num = 0\n",
    "    while True:\n",
    "        if N // M != 0:\n",
    "            N //= M\n",
    "            num += N\n",
    "        else : break\n",
    "    return num\n",
    "N, M  = map(int,input().split())\n",
    "N2, N5 = get_num(N,2), get_num(N,5)\n",
    "M2, M5 = get_num(M,2), get_num(M,5)\n",
    "m2, m5 = get_num(N-M,2),get_num(N-M,5)\n",
    "N2 = N2 - M2 - m2\n",
    "N5 = N5 - M5 - m5\n",
    "print(min(N2,N5))"
   ]
  },
  {
   "attachments": {},
   "cell_type": "markdown",
   "metadata": {},
   "source": [
    "#### 누적합"
   ]
  },
  {
   "cell_type": "code",
   "execution_count": null,
   "metadata": {},
   "outputs": [],
   "source": [
    "# 11659번 : 구간 합 구하기 4\n",
    "# 차례대로 합을 구하고 필요한 구간 합은 빼서 계산하기 \n",
    "import sys\n",
    "sys.stdin = open('./input.txt')\n",
    "input = sys.stdin.readline\n",
    "\n",
    "N, M = map(int,input().split())\n",
    "arr = list(map(int,input().split()))\n",
    "arr.insert(0,0)\n",
    "sum_arr = [0]\n",
    "for i in range(1,len(arr)):\n",
    "    sum_arr.append(sum_arr[i-1] + arr[i])\n",
    "\n",
    "for _ in range(M):\n",
    "    st, end = map(int,input().split())\n",
    "    if st == end : print(arr[st])\n",
    "    else : print(sum_arr[end] - sum_arr[st-1])\n",
    "\n"
   ]
  },
  {
   "cell_type": "code",
   "execution_count": null,
   "metadata": {},
   "outputs": [],
   "source": [
    "# 2559번 : 수열 \n",
    "# 앞의 값은 더하고 뒤에 값은 빼면서 누적 합 구하기 \n",
    "import sys\n",
    "sys.stdin = open('./input.txt')\n",
    "input = sys.stdin.readline\n",
    "\n",
    "N, K = map(int,input().split())\n",
    "tem = list(map(int,input().split()))\n",
    "sum_arr = [sum(tem[:K])]\n",
    "\n",
    "for i in range(N-K):\n",
    "    sum_arr.append(sum_arr[i] - tem[i] + tem[K+i])\n",
    "\n",
    "print(max(sum_arr))"
   ]
  },
  {
   "cell_type": "code",
   "execution_count": null,
   "metadata": {},
   "outputs": [],
   "source": [
    "# 10986번 : 나머지 합\n",
    "# 차례로 더한 값의 리스트를 나누어 나머지 리스트를 만든다.\n",
    "# 만든 나머지 리스트에서 값이 같은 인덱스 사이의 합은 나누어 떨어진다. \n",
    "import sys\n",
    "sys.stdin = open('./input.txt')\n",
    "input = sys.stdin.readline\n",
    "\n",
    "# 나머지 합\n",
    "n,m = map(int,input().split())\n",
    "num_arr = list(map(int,input().split()))\n",
    "res_arr = [x % 3 for x in num_arr ]\n",
    "res_sum_arr = [0]\n",
    "\n",
    "for i in range(len(num_arr)):\n",
    "    res_sum_arr.append((res_sum_arr[i] + res_arr[i]) % m)\n",
    "\n",
    "combi_list = [0 for _ in range(m)]\n",
    "combi = 0\n",
    "for num in res_sum_arr:\n",
    "    combi_list[num] += 1\n",
    "\n",
    "for num in combi_list:\n",
    "    if num == 0 : continue\n",
    "    else : combi += num * (num-1) / 2\n",
    "\n",
    "\n",
    "print(int(combi))"
   ]
  },
  {
   "cell_type": "code",
   "execution_count": null,
   "metadata": {},
   "outputs": [],
   "source": [
    "# 2차원 구간 합 구하기 \n",
    "# dp + 구간 합\n",
    "import sys\n",
    "input = sys.stdin.readline\n",
    "\n",
    "# 나머지 합\n",
    "n,m = map(int,input().split())\n",
    "board = [[0 for _ in range(n+1)]]\n",
    "for _ in range(n):\n",
    "    row = [0]\n",
    "    row.extend(list(map(int,input().split())))\n",
    "    board.append(row)\n",
    "    \n",
    "for r in range(1,n+1):\n",
    "    for c in range(1,n+1):\n",
    "        board[r][c] = board[r-1][c] + board[r][c-1] + board[r][c] - board[r-1][c-1]\n",
    "\n",
    "print(board)\n",
    "for _ in range(m):\n",
    "    x1, y1, x2, y2 = map(int,input().split())\n",
    "    print(board[x2][y2] - board[x1-1][y2] - board[x2][y1-1] + board[x1-1][y1-1])"
   ]
  },
  {
   "cell_type": "code",
   "execution_count": null,
   "metadata": {},
   "outputs": [],
   "source": [
    "for r in range(n):\n",
    "    for c in range(m):\n",
    "        if r % 2 == 0:\n",
    "            if c % 2 == 0:\n",
    "                if board[r][c] == 'B': num_board_w[r+1][c+1] = 1\n",
    "            else:\n",
    "                if board[r][c] == 'W' : num_board_w[r+1][c+1] = 1\n",
    "        else :\n",
    "            if c % 2 == 0:\n",
    "                if board[r][c] == 'W': num_board_w[r+1][c+1] = 1\n",
    "            else :\n",
    "                if board[r][c] == 'B' : num_board_w[r+1][c+1] = 1\n",
    "\n",
    "num_board_b = [[0 for _ in range(m+1)] for _ in range(n+1)]\n",
    "# B로 시작하는 경우\n",
    "for r in range(n):\n",
    "    for c in range(m):\n",
    "        if r % 2 == 0:\n",
    "            if c % 2 == 0:\n",
    "                if board[r][c] == 'W': num_board_b[r+1][c+1] = 1\n",
    "            else:\n",
    "                if board[r][c] == 'B' : num_board_b[r+1][c+1] = 1\n",
    "        else :\n",
    "            if c % 2 == 0:\n",
    "                if board[r][c] == 'W': num_board_b[r+1][c+1] = 1\n",
    "            else :\n",
    "                if board[r][c] == 'B' : num_board_b[r+1][c+1] = 1\n",
    "\n",
    "\n",
    "for r in range(1,n+1):\n",
    "    for c in range(1,m+1):\n",
    "        num_board_w[r][c] = num_board_w[r][c] + num_board_w[r-1][c] + num_board_w[r][c-1] - num_board_w[r-1][c-1]\n",
    "        num_board_b[r][c] = num_board_b[r][c] + num_board_b[r-1][c] + num_board_b[r][c-1] - num_board_b[r-1][c-1]\n",
    "\n",
    "print(num_board_b,'\\n',num_board_w)\n",
    "min_num = 4000000\n",
    "for r in range(k,n+1):\n",
    "    for c in range(k,m+1):\n",
    "        num1 = num_board_w[r][c] - num_board_w[r-k][c] - num_board_w[r][c-k] + num_board_w[r-k][c-k]\n",
    "        num2 = num_board_b[r][c] - num_board_b[r-k][c] - num_board_b[r][c-k] + num_board_b[r-k][c-k]\n",
    "        if num1 < min_num : min_num = num1\n",
    "        if num2 < min_num : min_num = num2\n",
    "\n",
    "print(min_num)"
   ]
  },
  {
   "cell_type": "code",
   "execution_count": null,
   "metadata": {},
   "outputs": [],
   "source": []
  }
 ],
 "metadata": {
  "kernelspec": {
   "display_name": "Python 3",
   "language": "python",
   "name": "python3"
  },
  "language_info": {
   "codemirror_mode": {
    "name": "ipython",
    "version": 3
   },
   "file_extension": ".py",
   "mimetype": "text/x-python",
   "name": "python",
   "nbconvert_exporter": "python",
   "pygments_lexer": "ipython3",
   "version": "3.9.6 (default, Sep 26 2022, 11:37:49) \n[Clang 14.0.0 (clang-1400.0.29.202)]"
  },
  "orig_nbformat": 4,
  "vscode": {
   "interpreter": {
    "hash": "31f2aee4e71d21fbe5cf8b01ff0e069b9275f58929596ceb00d14d90e3e16cd6"
   }
  }
 },
 "nbformat": 4,
 "nbformat_minor": 2
}
