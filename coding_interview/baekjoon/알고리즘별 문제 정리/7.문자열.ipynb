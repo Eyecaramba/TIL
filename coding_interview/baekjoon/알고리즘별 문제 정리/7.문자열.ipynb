{
 "cells": [
  {
   "attachments": {},
   "cell_type": "markdown",
   "metadata": {},
   "source": [
    "#### 7. 문자열"
   ]
  },
  {
   "cell_type": "code",
   "execution_count": null,
   "metadata": {},
   "outputs": [],
   "source": [
    "# 16120번 : PPAP\n",
    "# 스택 + 문자열 \n",
    "import sys\n",
    "from collections import deque\n",
    "input = sys.stdin.readline\n",
    "\n",
    "sts = deque(list(input()))\n",
    "print(sts)\n",
    "stack = []\n",
    "ans = True\n",
    "flag = False\n",
    "while sts:\n",
    "    st = sts.popleft()\n",
    "    # p인 경우\n",
    "    if st == 'P':\n",
    "        if flag:\n",
    "            try :\n",
    "                stack.pop()\n",
    "                stack.pop()\n",
    "                stack.pop()\n",
    "            except:\n",
    "                ans = False\n",
    "                break\n",
    "            stack.append('P')\n",
    "            flag = False\n",
    "        else:\n",
    "            stack.append(st)\n",
    "\n",
    "    # a인 경우\n",
    "    else:\n",
    "        if flag:\n",
    "            ans = False\n",
    "            break\n",
    "        else:\n",
    "            stack.append(st)\n",
    "            flag = True\n",
    "\n",
    "if stack != ['P'] or not ans:\n",
    "    print('NP')\n",
    "else:\n",
    "    print('PPAP')\n",
    "\n",
    "\n",
    "# 문자열 입력에는 항상 맨 뒤에 개행문자와 같은 제거해줘야 하는 문자가 있을 수 있음을 기억하기"
   ]
  },
  {
   "cell_type": "code",
   "execution_count": null,
   "metadata": {},
   "outputs": [],
   "source": []
  }
 ],
 "metadata": {
  "kernelspec": {
   "display_name": "Python 3",
   "language": "python",
   "name": "python3"
  },
  "language_info": {
   "name": "python",
   "version": "3.9.6 (default, Sep 26 2022, 11:37:49) \n[Clang 14.0.0 (clang-1400.0.29.202)]"
  },
  "orig_nbformat": 4,
  "vscode": {
   "interpreter": {
    "hash": "31f2aee4e71d21fbe5cf8b01ff0e069b9275f58929596ceb00d14d90e3e16cd6"
   }
  }
 },
 "nbformat": 4,
 "nbformat_minor": 2
}
