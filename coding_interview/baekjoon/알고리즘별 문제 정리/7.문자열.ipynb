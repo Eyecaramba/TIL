{
 "cells": [
  {
   "attachments": {},
   "cell_type": "markdown",
   "metadata": {},
   "source": [
    "#### 7. 문자열"
   ]
  },
  {
   "attachments": {},
   "cell_type": "markdown",
   "metadata": {},
   "source": [
    "- 정규표현"
   ]
  },
  {
   "cell_type": "code",
   "execution_count": null,
   "metadata": {},
   "outputs": [],
   "source": [
    "# 1013번 : Contact \n",
    "import sys\n",
    "import re\n",
    "input = sys.stdin.readline\n",
    "\n",
    "pattern = re.compile('(100+1+|01)+')\n",
    "for _ in range(int(input())):\n",
    "    ans = pattern.fullmatch(input().rstrip())\n",
    "    if ans : print('YES')\n",
    "    else: print('NO')\n",
    "\n",
    "# 정규표현 만들기 연습"
   ]
  },
  {
   "cell_type": "code",
   "execution_count": null,
   "metadata": {},
   "outputs": [],
   "source": [
    "# 2671번 : 잠수함식별\n",
    "import re\n",
    "p = re.compile('(100+1+|01)+')\n",
    "print('SUBMARINE' if p.fullmatch(input().rstrip()) else 'NOISE')"
   ]
  },
  {
   "cell_type": "code",
   "execution_count": null,
   "metadata": {},
   "outputs": [],
   "source": []
  }
 ],
 "metadata": {
  "kernelspec": {
   "display_name": "Python 3",
   "language": "python",
   "name": "python3"
  },
  "language_info": {
   "name": "python",
   "version": "3.9.6"
  },
  "orig_nbformat": 4,
  "vscode": {
   "interpreter": {
    "hash": "31f2aee4e71d21fbe5cf8b01ff0e069b9275f58929596ceb00d14d90e3e16cd6"
   }
  }
 },
 "nbformat": 4,
 "nbformat_minor": 2
}
