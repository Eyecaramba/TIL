{
 "cells": [
  {
   "cell_type": "markdown",
   "metadata": {},
   "source": [
    "## 3.정수론, 조합론"
   ]
  },
  {
   "cell_type": "code",
   "execution_count": null,
   "metadata": {},
   "outputs": [],
   "source": []
  },
  {
   "cell_type": "code",
   "execution_count": null,
   "metadata": {},
   "outputs": [],
   "source": [
    "# 3036번 : 유클리드 호제법 \n",
    "import sys\n",
    "sys.stdin = open('input.txt','r')\n",
    "input = sys.stdin.readline\n",
    "N = int(input())\n",
    "nums = list(map(int, input().split()))\n",
    "\n",
    "def get_gcd(n,m):\n",
    "    res = n % m\n",
    "    while res != 0:\n",
    "        n = m\n",
    "        m = res\n",
    "        res = n % m\n",
    "    return m\n",
    "\n",
    "for num in nums[1:]:\n",
    "    div = get_gcd(nums[0],num)\n",
    "    print('%d/%d'%(nums[0]/div,num/div))"
   ]
  },
  {
   "cell_type": "code",
   "execution_count": null,
   "metadata": {},
   "outputs": [],
   "source": [
    "# 2981번 : 검문\n",
    "\n",
    "\n",
    "import sys\n",
    "from math import gcd\n",
    "from math import sqrt\n",
    "input = sys.stdin.readline\n",
    "\n",
    "# 입력 받기\n",
    "N = int(input())\n",
    "nums = []\n",
    "for _ in range(N):\n",
    "    nums.append(int(input()))\n",
    "    \n",
    "    \n",
    "#오름차순으로 정렬\n",
    "nums.sort()\n",
    "diff = []\n",
    "\n",
    "# A = M*a +r, B = M*b +r, C = M*c +r ...\n",
    "# A-B, B-C, C-D...의 최대공약수는 M\n",
    "# 따라서 최대공약수 M을 구하기 위해서는 차이값을 구해야 함\n",
    "# 정렬되어 이웃한 숫자들 끼리만 빼는 이유 : 가장 작은 차이를 구해야 가장 작은 최대공약수를 얻을 수 있다. \n",
    "\n",
    "#차이값 구하기\n",
    "for i in range(1,N):\n",
    "    diff.append(nums[i] - nums[i-1])\n",
    "M = diff[0]\n",
    "\n",
    "#차이값\n",
    "#차이값들의 공약수 구하기\n",
    "for dif in diff[1:]:\n",
    "    M = gcd(M,dif)\n",
    "ans = []\n",
    "\n",
    "# 공약수의 약수 구하기\n",
    "# 약수를 구할 때 나누어 떨어지는 숫자와 나누어 떨어져서 나온 숫자를 같이 저장하면 제곱근까지만 탐색해도 모든 약수를 구할 수 있다. \n",
    "for i in range(2,int(sqrt(M))+1):\n",
    "    if M % i == 0 :\n",
    "        ans.append(i)\n",
    "        ans.append(M//i)\n",
    "\n",
    "ans.append(M)\n",
    "ans = list(set(ans))\n",
    "ans.sort()\n",
    "for an in ans :\n",
    "    print(an,end= ' ')"
   ]
  }
 ],
 "metadata": {
  "kernelspec": {
   "display_name": "Python 3.11.0 64-bit",
   "language": "python",
   "name": "python3"
  },
  "language_info": {
   "name": "python",
   "version": "3.11.0"
  },
  "orig_nbformat": 4,
  "vscode": {
   "interpreter": {
    "hash": "aee8b7b246df8f9039afb4144a1f6fd8d2ca17a180786b69acc140d282b71a49"
   }
  }
 },
 "nbformat": 4,
 "nbformat_minor": 2
}
