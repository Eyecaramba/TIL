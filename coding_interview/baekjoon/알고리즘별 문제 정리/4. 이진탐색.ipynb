{
 "cells": [
  {
   "cell_type": "markdown",
   "metadata": {},
   "source": [
    "### 이진탐색"
   ]
  },
  {
   "cell_type": "code",
   "execution_count": null,
   "metadata": {},
   "outputs": [],
   "source": [
    "import sys\n",
    "sys.stdin = open('input.txt','r')\n",
    "input = sys.stdin.readline\n",
    "\n",
    "N = int(input())\n",
    "N_nums = list(map(int,input().split()))\n",
    "M = int(input())\n",
    "M_nums = list(map(int,input().split()))\n",
    "\n",
    "N_nums_sorted = sorted(N_nums)\n",
    "M_nums_sorted = sorted(M_nums)\n",
    "ans = dict()\n",
    "\n",
    "\n",
    "n_pos, m_pos = 0,0\n",
    "\n",
    "while n_pos < N and m_pos < M :\n",
    "    if N_nums_sorted[n_pos] > M_nums_sorted[m_pos]:\n",
    "        m_pos += 1\n",
    "    elif N_nums_sorted[n_pos]  < M_nums_sorted[m_pos]:\n",
    "        n_pos += 1\n",
    "    else :\n",
    "        ans[M_nums_sorted[m_pos]] = 1\n",
    "        n_pos += 1\n",
    "        m_pos += 1\n",
    "\n",
    "for nums in M_nums:\n",
    "    if nums in ans.keys():\n",
    "        print(1)\n",
    "    else : print(0)\n",
    "\n",
    "\n"
   ]
  },
  {
   "cell_type": "code",
   "execution_count": null,
   "metadata": {},
   "outputs": [],
   "source": [
    "# 10816번 : 숫자카드 2\n",
    "import sys\n",
    "sys.stdin = open('input.txt','r')\n",
    "input = sys.stdin.readline\n",
    "\n",
    "N = int(input())\n",
    "N_nums = list(map(int,input().split()))\n",
    "M = int(input())\n",
    "M_nums = list(map(int,input().split()))\n",
    "ans = dict()\n",
    "for num in N_nums:\n",
    "    if num in ans:\n",
    "        ans[num] = ans[num] + 1\n",
    "    else : ans[num] = 1\n",
    "\n",
    "for num in M_nums:\n",
    "    if num in ans.keys():\n",
    "        print(ans[num],end = ' ')\n",
    "    else : print(0,end = ' ')\n"
   ]
  }
 ],
 "metadata": {
  "kernelspec": {
   "display_name": "Python 3.9.6 64-bit",
   "language": "python",
   "name": "python3"
  },
  "language_info": {
   "name": "python",
   "version": "3.9.6"
  },
  "orig_nbformat": 4,
  "vscode": {
   "interpreter": {
    "hash": "31f2aee4e71d21fbe5cf8b01ff0e069b9275f58929596ceb00d14d90e3e16cd6"
   }
  }
 },
 "nbformat": 4,
 "nbformat_minor": 2
}
