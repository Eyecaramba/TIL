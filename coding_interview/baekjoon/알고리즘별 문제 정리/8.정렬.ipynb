{
 "cells": [
  {
   "attachments": {},
   "cell_type": "markdown",
   "metadata": {},
   "source": [
    "# 8. 정렬"
   ]
  },
  {
   "attachments": {},
   "cell_type": "markdown",
   "metadata": {},
   "source": [
    "#### - 위상정렬\n",
    "\n",
    "비순환 방향 그래프(DAG)를 선형으로 정렬하는 것  \n",
    "\n",
    "위상정렬의 핵심은 degree (해당 노드에 연결되어 있는 엣지의 개수)\n",
    "\n",
    "degree가 0인 노드부터 차례대로 그래프에서 제거하면서 Edge 또한 제거함  \n",
    "제거하는 중에 edge가 0으로 변한 노드가 있다면 이를 리스트에 넣고 다음 루프의 대상으로 삼는다.  \n",
    "\n",
    "제거하는 순서가 바로 위상정렬\n",
    "\n",
    "** DFS 알고리즘을 사용할 때 사용되는 deque는 상황에 따라 set, heapq 등으로 바꾸어 알고리즘의 성능을 향상시킬 수 있다.  "
   ]
  },
  {
   "cell_type": "code",
   "execution_count": null,
   "metadata": {},
   "outputs": [],
   "source": [
    "# 2252번 : 줄 세우기 \n",
    "import sys\n",
    "from collections import deque\n",
    "sys.stdin = open('input.txt')\n",
    "input = sys.stdin.readline\n",
    "\n",
    "n,m = map(int,input().split())\n",
    "std = [[] for _ in range(n+1)]\n",
    "degree = [0 for _ in range(n+1)]\n",
    "\n",
    "\n",
    "for _ in range(m):\n",
    "    # 앞 뒤\n",
    "    a,b = map(int,input().split())\n",
    "    std[a].append(b)\n",
    "    # 뒤에 서는 사람에게 1 추가\n",
    "    degree[b] += 1\n",
    "\n",
    "q = deque([x for x in range(1,n+1) if degree[x] == 0])\n",
    "\n",
    "while q:\n",
    "    now = q.popleft()\n",
    "    print(now,end=' ')\n",
    "    for next in std[now]:\n",
    "        degree[next] -= 1\n",
    "        if degree[next] == 0: q.append(next)"
   ]
  },
  {
   "cell_type": "code",
   "execution_count": null,
   "metadata": {},
   "outputs": [],
   "source": [
    "# 3665번 : 최종 순위\n",
    "import sys\n",
    "from collections import deque\n",
    "sys.stdin = open('input.txt')\n",
    "input = sys.stdin.readline\n",
    "\n",
    "for _ in range(int(input())):\n",
    "    n = int(input())\n",
    "    front = [ [] for _ in range(n+1)]\n",
    "    degree = [ 0 for _ in range(n+1)]\n",
    "    visited = [1] + [ 0 for _ in range(n)]\n",
    "    ranks = [0] + list(map(int,input().split()))\n",
    "\n",
    "    for i in range(1,len(ranks)):\n",
    "        for l in range(i+1,len(ranks)):\n",
    "            front[ranks[i]].append(ranks[l])\n",
    "            degree[ranks[l]] += 1\n",
    "\n",
    "    print(front,degree)\n",
    "    for _ in range(int(input())):\n",
    "        a,b = map(int,input().split())\n",
    "\n",
    "        if a in front[b]:\n",
    "            front[b].pop(front[b].index(a))\n",
    "            front[a].append(b)\n",
    "            degree[a] -= 1\n",
    "            degree[b] += 1\n",
    "        else:\n",
    "            front[a].pop(front[a].index(b))\n",
    "            front[b].append(a)\n",
    "            degree[b] -= 1\n",
    "            degree[a] += 1\n",
    "    print(front,degree)\n",
    "\n",
    "    q = deque([x for x in range(1,n+1) if degree[x] == 0 ])\n",
    "    if len(q) != 1 : q = None\n",
    "    ans = ''\n",
    "    while q:\n",
    "        if len(q) >= 2:\n",
    "            ans = ''\n",
    "            break\n",
    "        now = q.popleft()\n",
    "        ans = ans + str(now) + ' '\n",
    "        if visited[now] == 0: visited[now] = 1\n",
    "        else:\n",
    "            ans = ''\n",
    "            break\n",
    "\n",
    "        for next in front[now]:\n",
    "            degree[next] -= 1\n",
    "            if degree[next] == 0:\n",
    "                q.append(next)\n",
    "    if ans and  all(visited): print(ans.rstrip())\n",
    "    else: print('IMPOSSIBLE')"
   ]
  },
  {
   "cell_type": "code",
   "execution_count": null,
   "metadata": {},
   "outputs": [],
   "source": [
    "# 1776번 : 문제집 \n",
    "from heapq import heappop, heappush\n",
    "import sys\n",
    "input = sys.stdin.readline\n",
    "\n",
    "# 1번 문제가 가장 쉽다\n",
    "# 먼저 푸는 것이 좋은 문제는 먼저 풀어야 한다.\n",
    "n,m = map(int,input().split())\n",
    "p = [[] for _ in range(n+1)]\n",
    "d = [ 0 for _ in range(n+1)]\n",
    "for _ in range(m):\n",
    "    a,b = map(int,input().split())\n",
    "    p[a].append(b)\n",
    "    d[b] += 1\n",
    "\n",
    "q = []\n",
    "for i in range(1,n+1):\n",
    "    if d[i] == 0: heappush(q,i)\n",
    "\n",
    "while q:\n",
    "    now = heappop(q)\n",
    "    print(now)\n",
    "    for next in p[now]:\n",
    "        d[next] -= 1\n",
    "        if d[next] == 0: heappush(q,next)"
   ]
  }
 ],
 "metadata": {
  "kernelspec": {
   "display_name": "Python 3",
   "language": "python",
   "name": "python3"
  },
  "language_info": {
   "name": "python",
   "version": "3.9.6"
  },
  "orig_nbformat": 4,
  "vscode": {
   "interpreter": {
    "hash": "31f2aee4e71d21fbe5cf8b01ff0e069b9275f58929596ceb00d14d90e3e16cd6"
   }
  }
 },
 "nbformat": 4,
 "nbformat_minor": 2
}
