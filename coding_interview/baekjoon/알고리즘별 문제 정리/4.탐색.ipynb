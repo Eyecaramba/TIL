{
 "cells": [
  {
   "attachments": {},
   "cell_type": "markdown",
   "metadata": {},
   "source": [
    "# 탐색\n"
   ]
  },
  {
   "attachments": {},
   "cell_type": "markdown",
   "metadata": {},
   "source": [
    "#### 1. 이진탐색/이분탐색, 매개변수 탐색\n",
    "\n",
    "1. 이진탐색, 이분탐색 : \n",
    "정렬된 리스트에서 두개의 포인터를 통해 범위를 반씩 줄여나가며 해당 값을 찾아나가는 알고리즘  \n",
    "\n",
    "어떤 조건을 만족하는 최댓값 또는 최솟값의 문제를 푸는데 이분탐색은 유용하게 사용된다.    \n",
    "\n",
    "- 이분 탐색 헷갈리지 않게 구현하는 방법 : https://acmicpc.net/blog/view/109\n",
    "\n",
    "- while문의 조건은 start + 1 < end로 설정한다.  \n",
    "- mid = start + end\n",
    "- start, end는 mid값으로 update한다.    \n",
    "\n",
    "\n",
    "2. 매개변수 탐색 : 이진 탐색은 target 값을 찾으면 함수를 종료하지만 매개변수 탐색은 더 이상 탐색할 배열이 남아있지 않을 때까지 탐색한다. "
   ]
  },
  {
   "cell_type": "code",
   "execution_count": null,
   "metadata": {},
   "outputs": [],
   "source": [
    "# 1654번: 랜선 자르기\n",
    "import sys\n",
    "from collections import deque\n",
    "sys.stdin = open('input.txt')\n",
    "input = sys.stdin.readline\n",
    "\n",
    "k,n = map(int,input().split())\n",
    "lans = [int(input()) for _ in range(k)]\n",
    "end = max(lans)\n",
    "start = 1\n",
    "ans = []\n",
    "\n",
    "while start <= end:\n",
    "    now = (start + end) // 2\n",
    "    tmp = 0\n",
    "    for lan in lans:\n",
    "        tmp += lan // now\n",
    "    if tmp >= n:\n",
    "        start = now + 1\n",
    "        ans.append(now)\n",
    "    else:\n",
    "        end = now - 1\n",
    "print(max(ans))"
   ]
  },
  {
   "cell_type": "code",
   "execution_count": null,
   "metadata": {},
   "outputs": [],
   "source": [
    "# 2805번 : 나무 자르기 \n",
    "import sys\n",
    "from collections import deque\n",
    "sys.stdin = open('input.txt')\n",
    "input = sys.stdin.readline\n",
    "\n",
    "n,m = map(int,input().split())\n",
    "trees = list(map(int,input().split()))\n",
    "end = max(trees)\n",
    "start = 0\n",
    "ans = []\n",
    "while start + 1 < end:\n",
    "    mid = (start + end) // 2\n",
    "    tmp = 0\n",
    "    for tree in trees:\n",
    "        if tree > mid: tmp += tree - mid\n",
    "        if tmp >= m: break\n",
    "\n",
    "    if tmp >= m:\n",
    "        ans.append(mid)\n",
    "        start = mid\n",
    "    else:\n",
    "        end = mid\n",
    "\n",
    "print(max(ans))\n"
   ]
  },
  {
   "cell_type": "code",
   "execution_count": null,
   "metadata": {},
   "outputs": [],
   "source": [
    "import sys\n",
    "from collections import Counter\n",
    "input = sys.stdin.readline\n",
    "n,m = map(int,input().split())\n",
    "trees = Counter(map(int,input().split()))\n",
    "st, ed = 1, max(trees)\n",
    "while st + 1 < ed:\n",
    "    mid = (st + ed) // 2\n",
    "    tmp = sum([(t - mid) * i for t,i in trees if t > mid])\n",
    "    if tmp >= m: \n",
    "        ed = mid\n",
    "        ans = mid\n",
    "    else: st = mid\n",
    "print(ans)"
   ]
  },
  {
   "cell_type": "code",
   "execution_count": null,
   "metadata": {},
   "outputs": [],
   "source": [
    "# 10816번 : 숫자카드 2\n",
    "import sys\n",
    "sys.stdin = open('input.txt','r')\n",
    "input = sys.stdin.readline\n",
    "\n",
    "N = int(input())\n",
    "N_nums = list(map(int,input().split()))\n",
    "M = int(input())\n",
    "M_nums = list(map(int,input().split()))\n",
    "ans = dict()\n",
    "for num in N_nums:\n",
    "    if num in ans:\n",
    "        ans[num] = ans[num] + 1\n",
    "    else : ans[num] = 1\n",
    "\n",
    "for num in M_nums:\n",
    "    if num in ans.keys():\n",
    "        print(ans[num],end = ' ')\n",
    "    else : print(0,end = ' ')\n"
   ]
  },
  {
   "attachments": {},
   "cell_type": "markdown",
   "metadata": {},
   "source": [
    "#### 2. 매개변수 탐색"
   ]
  },
  {
   "cell_type": "markdown",
   "metadata": {},
   "source": []
  },
  {
   "cell_type": "code",
   "execution_count": null,
   "metadata": {},
   "outputs": [],
   "source": [
    "# 1987번 : 알파벳\n",
    "from collections import deque\n",
    "n,m = map(int,input().split())\n",
    "maps = [list(input()) for _ in range(n)]\n",
    "q = deque([[0,0,set([maps[0][0]])]])\n",
    "dr = [1,-1,0,0]\n",
    "dc = [0,0,1,-1]\n",
    "ans = 0\n",
    "while q:\n",
    "    r,c,s = q.popleft()\n",
    "\n",
    "    for i in range(4):\n",
    "        nr = r + dr[i]\n",
    "        nc = c + dc[i]\n",
    "\n",
    "        if 0 <= nr < n and 0 <= nc < m and maps[nr][nc] not in s:\n",
    "            ns = s.copy()\n",
    "            ns.add(maps[nr][nc])\n",
    "            q.append([nr,nc,ns])\n",
    "            if len(ns) > ans: ans = len(ns)\n",
    "\n",
    "print(ans)\n",
    "\n",
    "# deque를 이용한 bfs 풀이 -> 메모리 초과"
   ]
  },
  {
   "cell_type": "code",
   "execution_count": null,
   "metadata": {},
   "outputs": [],
   "source": [
    "# 1987번 : 알파벳 (set을 이용한 풀이 )\n",
    "# 경로는 다르지만 같은 조건으로 볼 수 있는 경로가 있는 경우 queue 대신 set을 사용하면 연산을 더 줄일 수 있다.\n",
    "# bfs에서 언제나 queue만 사용할 수 있는 것은 아님          \n",
    "import sys\n",
    "sys.stdin = open('input.txt')\n",
    "input = sys.stdin.readline\n",
    "\n",
    "n,m = map(int,input().split())\n",
    "maps = [list(input()) for _ in range(n)]\n",
    "dr = [1,-1,0,0]\n",
    "dc = [0,0,1,-1]\n",
    "q = set([(0,0,maps[0][0])])\n",
    "ans = 1\n",
    "while q:\n",
    "    r,c,s = q.pop()\n",
    "\n",
    "    for i in range(4):\n",
    "        nr = r + dr[i]\n",
    "        nc = c + dc[i]\n",
    "        if 0 <= nr < n and 0 <= nc < m and maps[nr][nc] not in s:\n",
    "            q.add((nr,nc,s + maps[nr][nc]))\n",
    "            ans = max(ans, len(s) + 1)\n",
    "print(ans)"
   ]
  }
 ],
 "metadata": {
  "kernelspec": {
   "display_name": "Python 3",
   "language": "python",
   "name": "python3"
  },
  "language_info": {
   "name": "python",
   "version": "3.9.6"
  },
  "orig_nbformat": 4,
  "vscode": {
   "interpreter": {
    "hash": "31f2aee4e71d21fbe5cf8b01ff0e069b9275f58929596ceb00d14d90e3e16cd6"
   }
  }
 },
 "nbformat": 4,
 "nbformat_minor": 2
}
