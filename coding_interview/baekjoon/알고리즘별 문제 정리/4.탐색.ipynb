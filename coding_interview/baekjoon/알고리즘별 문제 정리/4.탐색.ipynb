{
 "cells": [
  {
   "cell_type": "markdown",
   "metadata": {},
   "source": [
    "### 이진탐색"
   ]
  },
  {
   "cell_type": "code",
   "execution_count": null,
   "metadata": {},
   "outputs": [],
   "source": [
    "import sys\n",
    "sys.stdin = open('input.txt','r')\n",
    "input = sys.stdin.readline\n",
    "\n",
    "N = int(input())\n",
    "N_nums = list(map(int,input().split()))\n",
    "M = int(input())\n",
    "M_nums = list(map(int,input().split()))\n",
    "\n",
    "N_nums_sorted = sorted(N_nums)\n",
    "M_nums_sorted = sorted(M_nums)\n",
    "ans = dict()\n",
    "\n",
    "\n",
    "n_pos, m_pos = 0,0\n",
    "\n",
    "while n_pos < N and m_pos < M :\n",
    "    if N_nums_sorted[n_pos] > M_nums_sorted[m_pos]:\n",
    "        m_pos += 1\n",
    "    elif N_nums_sorted[n_pos]  < M_nums_sorted[m_pos]:\n",
    "        n_pos += 1\n",
    "    else :\n",
    "        ans[M_nums_sorted[m_pos]] = 1\n",
    "        n_pos += 1\n",
    "        m_pos += 1\n",
    "\n",
    "for nums in M_nums:\n",
    "    if nums in ans.keys():\n",
    "        print(1)\n",
    "    else : print(0)"
   ]
  },
  {
   "cell_type": "code",
   "execution_count": null,
   "metadata": {},
   "outputs": [],
   "source": [
    "# 10816번 : 숫자카드 2\n",
    "import sys\n",
    "sys.stdin = open('input.txt','r')\n",
    "input = sys.stdin.readline\n",
    "\n",
    "N = int(input())\n",
    "N_nums = list(map(int,input().split()))\n",
    "M = int(input())\n",
    "M_nums = list(map(int,input().split()))\n",
    "ans = dict()\n",
    "for num in N_nums:\n",
    "    if num in ans:\n",
    "        ans[num] = ans[num] + 1\n",
    "    else : ans[num] = 1\n",
    "\n",
    "for num in M_nums:\n",
    "    if num in ans.keys():\n",
    "        print(ans[num],end = ' ')\n",
    "    else : print(0,end = ' ')\n"
   ]
  },
  {
   "cell_type": "code",
   "execution_count": null,
   "metadata": {},
   "outputs": [],
   "source": [
    "# 1987번 : 알파벳\n",
    "from collections import deque\n",
    "n,m = map(int,input().split())\n",
    "maps = [list(input()) for _ in range(n)]\n",
    "q = deque([[0,0,set([maps[0][0]])]])\n",
    "dr = [1,-1,0,0]\n",
    "dc = [0,0,1,-1]\n",
    "ans = 0\n",
    "while q:\n",
    "    r,c,s = q.popleft()\n",
    "\n",
    "    for i in range(4):\n",
    "        nr = r + dr[i]\n",
    "        nc = c + dc[i]\n",
    "\n",
    "        if 0 <= nr < n and 0 <= nc < m and maps[nr][nc] not in s:\n",
    "            ns = s.copy()\n",
    "            ns.add(maps[nr][nc])\n",
    "            q.append([nr,nc,ns])\n",
    "            if len(ns) > ans: ans = len(ns)\n",
    "\n",
    "print(ans)\n",
    "\n",
    "# deque를 이용한 bfs 풀이 -> 메모리 초과"
   ]
  },
  {
   "cell_type": "code",
   "execution_count": null,
   "metadata": {},
   "outputs": [],
   "source": [
    "# 1987번 : 알파벳 (set을 이용한 풀이 )\n",
    "# 경로는 다르지만 같은 조건으로 볼 수 있는 경로가 있는 경우 queue 대신 set을 사용하면 연산을 더 줄일 수 있다.\n",
    "# bfs에서 언제나 queue만 사용할 수 있는 것은 아님          \n",
    "import sys\n",
    "sys.stdin = open('input.txt')\n",
    "input = sys.stdin.readline\n",
    "\n",
    "n,m = map(int,input().split())\n",
    "maps = [list(input()) for _ in range(n)]\n",
    "dr = [1,-1,0,0]\n",
    "dc = [0,0,1,-1]\n",
    "q = set([(0,0,maps[0][0])])\n",
    "ans = 1\n",
    "while q:\n",
    "    r,c,s = q.pop()\n",
    "\n",
    "    for i in range(4):\n",
    "        nr = r + dr[i]\n",
    "        nc = c + dc[i]\n",
    "        if 0 <= nr < n and 0 <= nc < m and maps[nr][nc] not in s:\n",
    "            q.add((nr,nc,s + maps[nr][nc]))\n",
    "            ans = max(ans, len(s) + 1)\n",
    "print(ans)"
   ]
  }
 ],
 "metadata": {
  "kernelspec": {
   "display_name": "Python 3.9.6 64-bit",
   "language": "python",
   "name": "python3"
  },
  "language_info": {
   "name": "python",
   "version": "3.9.6 (default, Sep 26 2022, 11:37:49) \n[Clang 14.0.0 (clang-1400.0.29.202)]"
  },
  "orig_nbformat": 4,
  "vscode": {
   "interpreter": {
    "hash": "31f2aee4e71d21fbe5cf8b01ff0e069b9275f58929596ceb00d14d90e3e16cd6"
   }
  }
 },
 "nbformat": 4,
 "nbformat_minor": 2
}
