{
 "cells": [
  {
   "attachments": {},
   "cell_type": "markdown",
   "metadata": {},
   "source": [
    "# 8. 정렬"
   ]
  },
  {
   "attachments": {},
   "cell_type": "markdown",
   "metadata": {},
   "source": [
    "#### - 위상정렬\n",
    "\n",
    "비순환 방향 그래프(DAG)를 선형으로 정렬하는 것  "
   ]
  },
  {
   "cell_type": "code",
   "execution_count": null,
   "metadata": {},
   "outputs": [],
   "source": [
    "# 2252번 : 줄 세우기 \n",
    "import sys\n",
    "from collections import deque\n",
    "sys.stdin = open('input.txt')\n",
    "input = sys.stdin.readline\n",
    "\n",
    "n,m = map(int,input().split())\n",
    "std = [[] for _ in range(n+1)]\n",
    "visited = [0 for _ in range(n+1)]\n",
    "\n",
    "\n",
    "for _ in range(m):\n",
    "    # 앞 뒤\n",
    "    a,b = map(int,input().split())\n",
    "    std[a].append(b)\n",
    "    # 뒤에 서는 사람에게 1 추가\n",
    "    visited[b] += 1\n",
    "\n",
    "q = deque([x for x in range(1,n+1) if visited[x] == 0])\n",
    "\n",
    "while q:\n",
    "    now = q.popleft()\n",
    "    print(now,end=' ')\n",
    "    for next in std[now]:\n",
    "        visited[next] -= 1\n",
    "        if visited[next] == 0: q.append(next)"
   ]
  },
  {
   "cell_type": "code",
   "execution_count": null,
   "metadata": {},
   "outputs": [],
   "source": [
    "import sys\n",
    "\n",
    "\n",
    "def solve():\n",
    "    read = sys.stdin.readline\n",
    "    n, m = map(int, read().split())\n",
    "    graph = [[] for _ in range(n + 1)]\n",
    "    indegree = [0 for _ in range(n + 1)]\n",
    "    for _ in range(m):\n",
    "        a, b = map(int, read().split())\n",
    "        graph[a].append(b)\n",
    "        indegree[b] += 1\n",
    "    stack = []\n",
    "    for i in range(1, n + 1):\n",
    "        if indegree[i] == 0:\n",
    "            stack += [i]\n",
    "    ans = []\n",
    "    while stack:\n",
    "        v1 = stack.pop()\n",
    "        ans.append(str(v1))\n",
    "        for v2 in graph[v1]:\n",
    "            indegree[v2] -= 1\n",
    "            if indegree[v2] == 0:\n",
    "                stack += [v2]\n",
    "    print(' '.join(ans))"
   ]
  },
  {
   "cell_type": "code",
   "execution_count": null,
   "metadata": {},
   "outputs": [],
   "source": [
    "import sys\n",
    "from collections import deque\n",
    "sys.stdin = open('input.txt')\n",
    "input = sys.stdin.readline\n",
    "\n",
    "for _ in range(int(input())):\n",
    "    n = int(input())\n",
    "    front = [ [] for _ in range(n+1)]\n",
    "    degree = [ 0 for _ in range(n+1)]\n",
    "    visited = [1] + [ 0 for _ in range(n)]\n",
    "    ranks = [0] + list(map(int,input().split()))\n",
    "\n",
    "    for i in range(1,len(ranks)):\n",
    "        for l in range(i+1,len(ranks)):\n",
    "            front[ranks[i]].append(ranks[l])\n",
    "            degree[ranks[l]] += 1\n",
    "\n",
    "    print(front,degree)\n",
    "    for _ in range(int(input())):\n",
    "        a,b = map(int,input().split())\n",
    "\n",
    "        if a in front[b]:\n",
    "            front[b].pop(front[b].index(a))\n",
    "            front[a].append(b)\n",
    "            degree[a] -= 1\n",
    "            degree[b] += 1\n",
    "        else:\n",
    "            front[a].pop(front[a].index(b))\n",
    "            front[b].append(a)\n",
    "            degree[b] -= 1\n",
    "            degree[a] += 1\n",
    "    print(front,degree)\n",
    "\n",
    "    q = deque([x for x in range(1,n+1) if degree[x] == 0 ])\n",
    "    if len(q) != 1 : q = None\n",
    "    ans = ''\n",
    "    while q:\n",
    "        if len(q) >= 2:\n",
    "            ans = ''\n",
    "            break\n",
    "        now = q.popleft()\n",
    "        ans = ans + str(now) + ' '\n",
    "        if visited[now] == 0: visited[now] = 1\n",
    "        else:\n",
    "            ans = ''\n",
    "            break\n",
    "\n",
    "        for next in front[now]:\n",
    "            degree[next] -= 1\n",
    "            if degree[next] == 0:\n",
    "                q.append(next)\n",
    "    if ans and  all(visited): print(ans.rstrip())\n",
    "    else: print('IMPOSSIBLE')\n",
    "\n",
    "\n",
    "\n",
    "\n"
   ]
  },
  {
   "cell_type": "code",
   "execution_count": null,
   "metadata": {},
   "outputs": [],
   "source": [
    "# 1776번 : 문제집"
   ]
  }
 ],
 "metadata": {
  "kernelspec": {
   "display_name": "Python 3",
   "language": "python",
   "name": "python3"
  },
  "language_info": {
   "name": "python",
   "version": "3.9.6 (default, Sep 26 2022, 11:37:49) \n[Clang 14.0.0 (clang-1400.0.29.202)]"
  },
  "orig_nbformat": 4,
  "vscode": {
   "interpreter": {
    "hash": "31f2aee4e71d21fbe5cf8b01ff0e069b9275f58929596ceb00d14d90e3e16cd6"
   }
  }
 },
 "nbformat": 4,
 "nbformat_minor": 2
}
