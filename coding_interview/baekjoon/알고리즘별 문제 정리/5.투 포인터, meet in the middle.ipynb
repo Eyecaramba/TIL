{
 "cells": [
  {
   "attachments": {},
   "cell_type": "markdown",
   "metadata": {},
   "source": [
    "#  4. 투 포인터, meet in the middle 알고리즘 "
   ]
  },
  {
   "attachments": {},
   "cell_type": "markdown",
   "metadata": {},
   "source": [
    "- 현재 상태에 따라 앞쪽 포인터와 뒤쪽 포인터를 적절히 움직여서 푸는 알고리즘 \n",
    "\n",
    "- 조합의 개수를 찾는데 유리하다. "
   ]
  },
  {
   "cell_type": "code",
   "execution_count": null,
   "metadata": {},
   "outputs": [],
   "source": [
    "# 3273번 : 두 수의 합\n",
    "import sys\n",
    "input = sys.stdin.readline\n",
    "\n",
    "n = int(input())\n",
    "nums = list(map(int,input().split()))\n",
    "x = int(input())\n",
    "cnt = 0\n",
    "nums.sort()\n",
    "\n",
    "st = 0\n",
    "ed = len(nums) - 1\n",
    "\n",
    "# 양쪽 끝 숫자의 합이 주어진 x보다 작으면 st를 늘리고 크면 ed를 줄인다. \n",
    "while st != ed or st > len(nums) - 1 or ed < 0:\n",
    "\n",
    "    if nums[st] + nums[ed] < x :\n",
    "        st += 1\n",
    "    elif nums[st] + nums[ed] > x:\n",
    "        ed -= 1\n",
    "    else:\n",
    "        cnt += 1\n",
    "        st += 1\n",
    "\n",
    "print(cnt)\n"
   ]
  },
  {
   "cell_type": "code",
   "execution_count": null,
   "metadata": {},
   "outputs": [],
   "source": [
    "# 1806번 : 두 용액\n",
    "import sys\n",
    "input = sys.stdin.readline\n",
    "\n",
    "n = int(input())\n",
    "nums = list(map(int,input().split()))\n",
    "\n",
    "nums.sort()\n",
    "st = 0\n",
    "ed = len(nums) - 1\n",
    "min_sum = nums[st] + nums[ed]\n",
    "ans_st = st\n",
    "ans_ed = ed\n",
    "while st != ed and st < len(nums) - 1 and ed >= 0:\n",
    "\n",
    "    now = nums[st] + nums[ed]\n",
    "    # before의 절대값이 더 큰 경우\n",
    "    if abs(min_sum) > abs(now):\n",
    "        min_sum = now\n",
    "        ans_st = st\n",
    "        ans_ed = ed\n",
    "\n",
    "    if now <= 0:\n",
    "        st += 1\n",
    "    else : ed -= 1\n",
    "\n",
    "\n",
    "print(nums[ans_st],nums[ans_ed])"
   ]
  },
  {
   "cell_type": "code",
   "execution_count": null,
   "metadata": {},
   "outputs": [],
   "source": [
    "# 1806번 : 부분합\n",
    "import sys\n",
    "input = sys.stdin.readline\n",
    "\n",
    "n, s = map(int,input().split())\n",
    "nums = list(map(int,input().split()))\n",
    "\n",
    "st, end, ts = 0, 0, 0\n",
    "length = 1000001\n",
    "if sum(nums) < s:\n",
    "    print(0)\n",
    "\n",
    "else:\n",
    "    while True:\n",
    "        if ts >= s:\n",
    "            length = min(length, end - st)\n",
    "            ts -= nums[st]\n",
    "            st += 1\n",
    "        elif end == n: break\n",
    "        else:\n",
    "            ts += nums[end]\n",
    "            end += 1\n",
    "    print(length)"
   ]
  },
  {
   "cell_type": "code",
   "execution_count": null,
   "metadata": {},
   "outputs": [],
   "source": [
    "# 1644번 : 소수의 연속합\n",
    "import sys\n",
    "input = sys.stdin.readline\n",
    "\n",
    "n = int(input())\n",
    "is_prime = [ True for _ in range(n+1)]\n",
    "\n",
    "# 소수 찾기\n",
    "for i in range(2, n//2 + 1):\n",
    "    if is_prime[i] == True:\n",
    "        cnt = 2\n",
    "        while cnt * i <= n:\n",
    "            is_prime[cnt*i] = False\n",
    "            cnt += 1\n",
    "\n",
    "\n",
    "prime_num = []\n",
    "for i in range(2,n+1):\n",
    "    if is_prime[i]:\n",
    "        prime_num.append(i)\n",
    "\n",
    "st, ed, ts, cnt = 0,0,0,0\n",
    "while True:\n",
    "    # 크면 st를 오른쪽으로 이동\n",
    "    if ts > n:\n",
    "        ts -= prime_num[st]\n",
    "        st += 1\n",
    "    # 같으면 st를 오른쪽으로 이동\n",
    "    elif ts == n:\n",
    "        cnt += 1\n",
    "        ts -= prime_num[st]\n",
    "        st += 1\n",
    "    # 작다면 ed를 검사, ed가 끝에 있다면 현재 st ~ ed까지의 합보다 더 큰 수를 만들 수 없음으로 while문 종료 \n",
    "    elif ed == len(prime_num): break\n",
    "\n",
    "    # 작으면서 ed가 끝에 있지 않은 경우 ed를 오른쪽으로 이동 \n",
    "    else :\n",
    "        ts += prime_num[ed]\n",
    "        ed += 1\n",
    "print(cnt)\n"
   ]
  },
  {
   "cell_type": "code",
   "execution_count": null,
   "metadata": {},
   "outputs": [],
   "source": [
    "# 2467번 : 용액\n",
    "import sys\n",
    "input = sys.stdin.readline\n",
    "\n",
    "n = int(input())\n",
    "arr = list(map(int,input().split()))\n",
    "print(arr)\n",
    "arr.sort()\n",
    "st,ed = 0,len(arr) - 1\n",
    "mixed = sys.maxsize\n",
    "ans_st, ans_ed = -1,-1\n",
    "while st != ed:\n",
    "    print(st,ed)\n",
    "    tmp = arr[st] + arr[ed]\n",
    "    if abs(tmp) <= mixed:\n",
    "        ans_st, ans_ed = st, ed\n",
    "        mixed = abs(tmp)\n",
    "\n",
    "    # 합한 값이 음수인 경우\n",
    "    if tmp < 0: st += 1\n",
    "    # 합한 값이 양수인 경우\n",
    "    else: ed -= 1\n",
    "\n",
    "print(arr[ans_st],arr[ans_ed])\n",
    "\n",
    "# 아예 알고리즘을 실행시키지 않아도 되는 경우가 있는 경우 그 경우는 따로 적어주면 성능을 향상시킬 수 있다. "
   ]
  },
  {
   "cell_type": "code",
   "execution_count": null,
   "metadata": {},
   "outputs": [],
   "source": [
    "# 1450번 : 냅색문제 \n",
    "\n",
    "\n",
    "\n"
   ]
  }
 ],
 "metadata": {
  "kernelspec": {
   "display_name": "Python 3",
   "language": "python",
   "name": "python3"
  },
  "language_info": {
   "name": "python",
   "version": "3.9.6"
  },
  "orig_nbformat": 4,
  "vscode": {
   "interpreter": {
    "hash": "31f2aee4e71d21fbe5cf8b01ff0e069b9275f58929596ceb00d14d90e3e16cd6"
   }
  }
 },
 "nbformat": 4,
 "nbformat_minor": 2
}
