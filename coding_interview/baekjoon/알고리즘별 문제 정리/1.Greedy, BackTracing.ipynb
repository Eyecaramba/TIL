{
 "cells": [
  {
   "cell_type": "markdown",
   "metadata": {},
   "source": [
    "# 1. Greedy Algorithm"
   ]
  },
  {
   "attachments": {},
   "cell_type": "markdown",
   "metadata": {},
   "source": [
    "greedy algorithm을 적용해도 되는지 판단하는 것이 가장 중요함.  \n",
    "\n",
    "정렬을 적절히 활용하여 그리디 알고리즘을 활용할 수 있도록 만드는 작업이 필요할 수 있음.  \n"
   ]
  },
  {
   "attachments": {},
   "cell_type": "markdown",
   "metadata": {},
   "source": [
    "#### - 그리디 실버 "
   ]
  },
  {
   "cell_type": "code",
   "execution_count": null,
   "metadata": {},
   "outputs": [],
   "source": [
    "# 1931번 : 회의실 배정 \n",
    "import sys\n",
    "input = sys.stidn.readline\n",
    "\n",
    "meetings =[]\n",
    "for _ in range(int(input())):\n",
    "    meetings.append(list(map(int,input().split())))\n",
    "# meeting을 start 순으로 정렬\n",
    "meetings.sort(key= lambda x: x[0])\n",
    "# meeting을 end 순으로 정렬 \n",
    "meetings.sort(key= lambda x: x[1])\n",
    "# sort()함수는 제자리 정렬이기 때문에 같은 end끼리는 start로 정렬되어 있음\n",
    "\n",
    "l = 0\n",
    "cnt = 0\n",
    "for st, ed in meetings:\n",
    "    if st >= l:\n",
    "        cnt += 1\n",
    "        l = ed\n",
    "print(cnt)"
   ]
  },
  {
   "cell_type": "code",
   "execution_count": null,
   "metadata": {},
   "outputs": [],
   "source": [
    "#11047번 : 동전 0\n",
    "import sys\n",
    "sys.stdin = open('input.txt','r')\n",
    "input = sys.stdin.readline\n",
    "\n",
    "N,K = map(int,input().split())\n",
    "coins = []\n",
    "\n",
    "for _ in range(N):\n",
    "    coin = int(input())\n",
    "    if coin <= K :\n",
    "        coins.append(coin)\n",
    "\n",
    "cnt = 0\n",
    "while K != 0:\n",
    "    coin = coins.pop()\n",
    "    cnt += K // coin\n",
    "    K = K % coin\n",
    "\n",
    "print(cnt)"
   ]
  },
  {
   "cell_type": "code",
   "execution_count": null,
   "metadata": {},
   "outputs": [],
   "source": [
    "import sys\n",
    "from collections import deque\n",
    "sys.stdin = open('input.txt','r')\n",
    "input = sys.stdin.readline\n",
    "\n",
    "# 도시의 개수 N\n",
    "N = int(input())\n",
    "\n",
    "# 도로의 길이\n",
    "roads = deque(list(map(int,input().split())))\n",
    "prices = deque(list(map(int,input().split())))\n",
    "# 다음 도시의 가격과 비교하여 작은 곳이 나올 때 까지 갈 기름만 주유한다.\n",
    "# 현재 위치 pos\n",
    "city1_price = prices.popleft()\n",
    "gas = city1_price * roads.popleft()\n",
    "\n",
    "while roads :\n",
    "    city2_price = prices.popleft()\n",
    "    if city1_price <= city2_price:\n",
    "        gas += city1_price * roads.popleft()\n",
    "    else :\n",
    "        city1_price = city2_price\n",
    "        gas += city1_price * roads.popleft()\n",
    "print(gas)"
   ]
  },
  {
   "cell_type": "code",
   "execution_count": 42,
   "metadata": {},
   "outputs": [
    {
     "name": "stdout",
     "output_type": "stream",
     "text": [
      "[0, 6, 3]\n",
      "6\n"
     ]
    }
   ],
   "source": [
    "from math import lcm\n",
    "a,b,c = map(int,input().split())\n",
    "\n",
    "l = lcm(a,c)\n",
    "pattern_len = l // a\n",
    "pattern = []\n",
    "for num in range(pattern_len):\n",
    "    pattern.append(a * num % c)\n",
    "idx = b % len(pattern) - 1\n",
    "print(pattern)\n",
    "print(pattern[idx])\n",
    "    "
   ]
  },
  {
   "cell_type": "code",
   "execution_count": 46,
   "metadata": {},
   "outputs": [
    {
     "name": "stdout",
     "output_type": "stream",
     "text": [
      "0 6\n"
     ]
    }
   ],
   "source": [
    "# 11399번  : atm \n",
    "import sys\n",
    "sys.stdin = open('input.txt')\n",
    "input = sys.stdin.readline\n",
    "\n",
    "n = input()\n",
    "nums = list(map(int, input().split()))\n",
    "\n",
    "nums.sort()\n",
    "total = 0\n",
    "m = 0\n",
    "for i in range(len(nums)):\n",
    "    m += nums[i]\n",
    "    total += m\n",
    "print(total)"
   ]
  },
  {
   "cell_type": "code",
   "execution_count": null,
   "metadata": {},
   "outputs": [],
   "source": [
    "\n",
    "import sys\n",
    "input = sys.stdin.readline\n",
    "n = int(input())\n",
    "a = list(map(int,input().split()))\n",
    "b = list(map(int,input().split()))\n",
    "a.sort(reverse=1)\n",
    "b.sort()\n",
    "ans = 0\n",
    "for i in range(n):\n",
    "    ans += a[i] * b[i]\n",
    "print(ans)"
   ]
  },
  {
   "cell_type": "code",
   "execution_count": null,
   "metadata": {},
   "outputs": [],
   "source": [
    "\n"
   ]
  },
  {
   "attachments": {},
   "cell_type": "markdown",
   "metadata": {},
   "source": [
    "-- 그리디 골드"
   ]
  },
  {
   "cell_type": "code",
   "execution_count": null,
   "metadata": {},
   "outputs": [],
   "source": [
    "# 1715번 : 카드 정렬하기  \n",
    "# 그리디 + heap\n",
    "import sys\n",
    "from heapq import heappush,heappop\n",
    "input = sys.stdin.readline\n",
    "arr,ans = [], 0\n",
    "for _ in range(int(input())):\n",
    "    heappush(arr,int(input()))\n",
    "while len(arr) != 1:\n",
    "    tmp = heappop(arr) + heappop(arr)\n",
    "    ans += tmp\n",
    "    heappush(arr,tmp)\n",
    "print(ans)"
   ]
  },
  {
   "cell_type": "code",
   "execution_count": null,
   "metadata": {},
   "outputs": [],
   "source": [
    "# 110000번 : 강의실 배정 \n",
    "\n"
   ]
  },
  {
   "attachments": {},
   "cell_type": "markdown",
   "metadata": {},
   "source": [
    "#### 2. brute force algorithm"
   ]
  },
  {
   "cell_type": "code",
   "execution_count": 5,
   "metadata": {},
   "outputs": [
    {
     "name": "stdout",
     "output_type": "stream",
     "text": [
      "[(0, 0), (0, 1), (0, 2), (0, 3)]\n",
      "[(0, 0), (0, -1), (0, -2), (0, -3)]\n",
      "[(0, 0), (0, 1), (0, 2), (0, 3)]\n",
      "[(0, 0), (0, -1), (0, -2), (0, -3)]\n"
     ]
    }
   ],
   "source": [
    "def is_in_board(row,col,tet):\n",
    "    for r,c in tet:\n",
    "        if not(row + r < n and col + c < m and row + r >=0 and col + c >= 0):\n",
    "            return False\n",
    "    return True\n",
    "\n",
    "def points_on_board(row,col,tet):\n",
    "    num = 0\n",
    "    for r,c in tet:\n",
    "        num += board[row+r][col+c]\n",
    "    return num\n",
    "\n",
    "\n",
    "\n",
    "\n",
    "# 5가지 테트로미노 하나를 놓고 그 아래에 포함된\n",
    "n, m = map(int,input().split())\n",
    "board = []\n",
    "for _ in range(n):\n",
    "    board.append(list(map(int,input().split())))\n",
    "\n",
    "# (row,col)\n",
    "tets_list = [\n",
    "    [[0,0],[0,1],[0,2],[0,3]],\n",
    "    [[0,0],[1,0],[2,0],[3,0]],\n",
    "\n",
    "    [[0,0],[0,1],[1,0],[1,1]],\n",
    "\n",
    "    [[0,0],[1,0],[2,0],[2,1]],\n",
    "    [[0,0],[0,1],[0,2],[-1,2]],\n",
    "\n",
    "    [[0,0],[1,0],[1,1],[2,1]],\n",
    "    [[0,0],[0,1],[1,1],[1,2]],\n",
    "\n",
    "    [[0,0],[0,1],[0,2],[1,1]],\n",
    "    [[0,0],[1,0],[2,0],[1,1]]\n",
    "]\n",
    "rotates = [\n",
    "    [1,1],[1,-1],[-1,1],[-1,-1]\n",
    "]\n",
    "\n",
    "\n",
    "ans = -1\n",
    "for tets in tets_list:\n",
    "    for rr,rc in rotates:\n",
    "        tet = [(rr*x[0], rc*x[1]) for x in tets]\n",
    "        for row in range(n):\n",
    "            for col in range(m):\n",
    "                    if is_in_board(row,col,tet):\n",
    "                        ans = max(ans, points_on_board(row,col,tet))\n",
    "print(ans)"
   ]
  },
  {
   "cell_type": "code",
   "execution_count": null,
   "metadata": {},
   "outputs": [],
   "source": []
  }
 ],
 "metadata": {
  "kernelspec": {
   "display_name": "Python 3",
   "language": "python",
   "name": "python3"
  },
  "language_info": {
   "codemirror_mode": {
    "name": "ipython",
    "version": 3
   },
   "file_extension": ".py",
   "mimetype": "text/x-python",
   "name": "python",
   "nbconvert_exporter": "python",
   "pygments_lexer": "ipython3",
   "version": "3.9.6 (default, Sep 26 2022, 11:37:49) \n[Clang 14.0.0 (clang-1400.0.29.202)]"
  },
  "orig_nbformat": 4,
  "vscode": {
   "interpreter": {
    "hash": "31f2aee4e71d21fbe5cf8b01ff0e069b9275f58929596ceb00d14d90e3e16cd6"
   }
  }
 },
 "nbformat": 4,
 "nbformat_minor": 2
}
