{
 "cells": [
  {
   "cell_type": "markdown",
   "metadata": {},
   "source": [
    "# 1. Greedy Algorithm"
   ]
  },
  {
   "attachments": {},
   "cell_type": "markdown",
   "metadata": {},
   "source": [
    "greedy algorithm을 적용해도 되는지 판단하는 것이 가장 중요함.  \n",
    "\n",
    "정렬을 적절히 활용하여 그리디 알고리즘을 활용할 수 있도록 만드는 작업이 필요할 수 있음.  \n"
   ]
  },
  {
   "attachments": {},
   "cell_type": "markdown",
   "metadata": {},
   "source": [
    "#### - 그리디 실버 "
   ]
  },
  {
   "cell_type": "code",
   "execution_count": null,
   "metadata": {},
   "outputs": [],
   "source": [
    "# 1931번 : 회의실 배정 \n",
    "import sys\n",
    "input = sys.stidn.readline\n",
    "\n",
    "meetings =[]\n",
    "for _ in range(int(input())):\n",
    "    meetings.append(list(map(int,input().split())))\n",
    "# meeting을 start 순으로 정렬\n",
    "meetings.sort(key= lambda x: x[0])\n",
    "# meeting을 end 순으로 정렬 \n",
    "meetings.sort(key= lambda x: x[1])\n",
    "# sort()함수는 제자리 정렬이기 때문에 같은 end끼리는 start로 정렬되어 있음\n",
    "\n",
    "l = 0\n",
    "cnt = 0\n",
    "for st, ed in meetings:\n",
    "    if st >= l:\n",
    "        cnt += 1\n",
    "        l = ed\n",
    "print(cnt)"
   ]
  },
  {
   "cell_type": "code",
   "execution_count": null,
   "metadata": {},
   "outputs": [],
   "source": [
    "#11047번 : 동전 0\n",
    "import sys\n",
    "sys.stdin = open('input.txt','r')\n",
    "input = sys.stdin.readline\n",
    "\n",
    "N,K = map(int,input().split())\n",
    "coins = []\n",
    "\n",
    "for _ in range(N):\n",
    "    coin = int(input())\n",
    "    if coin <= K :\n",
    "        coins.append(coin)\n",
    "\n",
    "cnt = 0\n",
    "while K != 0:\n",
    "    coin = coins.pop()\n",
    "    cnt += K // coin\n",
    "    K = K % coin\n",
    "\n",
    "print(cnt)"
   ]
  },
  {
   "cell_type": "code",
   "execution_count": null,
   "metadata": {},
   "outputs": [],
   "source": [
    "import sys\n",
    "from collections import deque\n",
    "sys.stdin = open('input.txt','r')\n",
    "input = sys.stdin.readline\n",
    "\n",
    "# 도시의 개수 N\n",
    "N = int(input())\n",
    "\n",
    "# 도로의 길이\n",
    "roads = deque(list(map(int,input().split())))\n",
    "prices = deque(list(map(int,input().split())))\n",
    "# 다음 도시의 가격과 비교하여 작은 곳이 나올 때 까지 갈 기름만 주유한다.\n",
    "# 현재 위치 pos\n",
    "city1_price = prices.popleft()\n",
    "gas = city1_price * roads.popleft()\n",
    "\n",
    "while roads :\n",
    "    city2_price = prices.popleft()\n",
    "    if city1_price <= city2_price:\n",
    "        gas += city1_price * roads.popleft()\n",
    "    else :\n",
    "        city1_price = city2_price\n",
    "        gas += city1_price * roads.popleft()\n",
    "print(gas)"
   ]
  },
  {
   "cell_type": "code",
   "execution_count": 42,
   "metadata": {},
   "outputs": [
    {
     "name": "stdout",
     "output_type": "stream",
     "text": [
      "[0, 6, 3]\n",
      "6\n"
     ]
    }
   ],
   "source": [
    "from math import lcm\n",
    "a,b,c = map(int,input().split())\n",
    "\n",
    "l = lcm(a,c)\n",
    "pattern_len = l // a\n",
    "pattern = []\n",
    "for num in range(pattern_len):\n",
    "    pattern.append(a * num % c)\n",
    "idx = b % len(pattern) - 1\n",
    "print(pattern)\n",
    "print(pattern[idx])\n",
    "    "
   ]
  },
  {
   "cell_type": "code",
   "execution_count": 46,
   "metadata": {},
   "outputs": [
    {
     "name": "stdout",
     "output_type": "stream",
     "text": [
      "0 6\n"
     ]
    }
   ],
   "source": [
    "# 11399번  : atm \n",
    "import sys\n",
    "sys.stdin = open('input.txt')\n",
    "input = sys.stdin.readline\n",
    "\n",
    "n = input()\n",
    "nums = list(map(int, input().split()))\n",
    "\n",
    "nums.sort()\n",
    "total = 0\n",
    "m = 0\n",
    "for i in range(len(nums)):\n",
    "    m += nums[i]\n",
    "    total += m\n",
    "print(total)"
   ]
  },
  {
   "cell_type": "code",
   "execution_count": null,
   "metadata": {},
   "outputs": [],
   "source": [
    "import sys\n",
    "input = sys.stdin.readline\n",
    "n = int(input())\n",
    "a = list(map(int,input().split()))\n",
    "b = list(map(int,input().split()))\n",
    "a.sort(reverse=1)\n",
    "b.sort()\n",
    "ans = 0\n",
    "for i in range(n):\n",
    "    ans += a[i] * b[i]\n",
    "print(ans)"
   ]
  },
  {
   "cell_type": "code",
   "execution_count": null,
   "metadata": {},
   "outputs": [],
   "source": [
    "# 3085번 : 사탕게임 \n",
    "import sys\n",
    "input = sys.stdin.readline\n",
    "\n",
    "\n",
    "def cnt(tmp_bd):\n",
    "    ans = 0\n",
    "    for row in range(n):\n",
    "        clr = tmp_bd[row][0]\n",
    "        tmp = 1\n",
    "        for col in range(1,n):\n",
    "            if clr != tmp_bd[row][col]:\n",
    "                clr = tmp_bd[row][col]\n",
    "                ans = tmp if tmp > ans else ans\n",
    "                tmp = 1\n",
    "            else:\n",
    "                tmp += 1\n",
    "        ans = tmp if tmp > ans else ans\n",
    "    for col in range(n):\n",
    "        clr = tmp_bd[0][col]\n",
    "        tmp = 1\n",
    "        for row in range(1,n):\n",
    "            if clr != tmp_bd[row][col]:\n",
    "                clr = tmp_bd[row][col]\n",
    "                ans = tmp if tmp > ans else ans\n",
    "                tmp = 1\n",
    "            else:\n",
    "                tmp += 1\n",
    "        ans = tmp if tmp > ans else ans\n",
    "    return ans\n",
    "\n",
    "n = int(input())\n",
    "bd = [list(input().rstrip()) for _ in range(n)]\n",
    "mr = [1,0]\n",
    "mc = [0,1]\n",
    "answer = 0\n",
    "for row in range(n):\n",
    "    for col in range(n):\n",
    "        for i in range(2):\n",
    "            next_r = row + mr[i]\n",
    "            next_c = col + mc[i]\n",
    "            if next_r < n and next_c < n:\n",
    "                bd[next_r][next_c],bd[row][col] = bd[row][col],bd[next_r][next_c]\n",
    "                count = cnt(bd)\n",
    "                answer = count if answer < count else answer\n",
    "                bd[next_r][next_c], bd[row][col] = bd[row][col], bd[next_r][next_c]\n",
    "print(answer)"
   ]
  },
  {
   "cell_type": "code",
   "execution_count": null,
   "metadata": {},
   "outputs": [],
   "source": []
  },
  {
   "attachments": {},
   "cell_type": "markdown",
   "metadata": {},
   "source": [
    "-- 그리디 골드"
   ]
  },
  {
   "cell_type": "code",
   "execution_count": null,
   "metadata": {},
   "outputs": [],
   "source": [
    "# 1715번 : 카드 정렬하기  \n",
    "# 그리디 + heap\n",
    "import sys\n",
    "from heapq import heappush,heappop\n",
    "input = sys.stdin.readline\n",
    "arr,ans = [], 0\n",
    "for _ in range(int(input())):\n",
    "    heappush(arr,int(input()))\n",
    "while len(arr) != 1:\n",
    "    tmp = heappop(arr) + heappop(arr)\n",
    "    ans += tmp\n",
    "    heappush(arr,tmp)\n",
    "print(ans)"
   ]
  },
  {
   "cell_type": "code",
   "execution_count": 5,
   "metadata": {},
   "outputs": [],
   "source": [
    "# 110000번 : 강의실 배정 (greedy + heap)\n",
    "# heap을 통해 공통 부분을 계속해서 관리해 나가는 것이 핵심 \n",
    "# 다음 강의의 시작, 종료시간과 이전 강의 종료 시장을 계속해서 비교하면서 겹치는 수업의 최고 갯수를 구한다. \n",
    "import sys\n",
    "from collections import deque\n",
    "from heapq import heappush,heappop\n",
    "input = sys.stdin.readline\n",
    "\n",
    "n = int(input())\n",
    "cls = []\n",
    "for _ in range(n):\n",
    "    cls.append(tuple(map(int,input().split())))\n",
    "cls = deque(sorted(cls))\n",
    "q = []\n",
    "ans = 1\n",
    "_ ,ed = cls.popleft()\n",
    "q.append(ed)\n",
    "for cl in cls:\n",
    "    st, ed = cl\n",
    "    # 시작 시간이 이전 종료 시간보다 작으면 heap에 현재 강의 종료 시간 push\n",
    "    if st < q[0]:\n",
    "        heappush(q,ed)\n",
    "        ans = max(ans,len(q))\n",
    "    # 시작 시간이 이전 종료 시간보다 크면 heap에서 다음으로 큰 종료시간 search \n",
    "    else:\n",
    "        while True:\n",
    "            if q and q[0] <= st: heappop(q)\n",
    "            else:\n",
    "                heappush(q,ed)\n",
    "                break\n",
    "print(ans)"
   ]
  },
  {
   "cell_type": "code",
   "execution_count": null,
   "metadata": {},
   "outputs": [],
   "source": [
    "# 2212번 : 센서"
   ]
  },
  {
   "attachments": {},
   "cell_type": "markdown",
   "metadata": {},
   "source": [
    "#### 2. brute force algorithm"
   ]
  },
  {
   "cell_type": "code",
   "execution_count": null,
   "metadata": {},
   "outputs": [],
   "source": [
    "# 27438번 : 영화감독 숌 2"
   ]
  }
 ],
 "metadata": {
  "kernelspec": {
   "display_name": "Python 3",
   "language": "python",
   "name": "python3"
  },
  "language_info": {
   "codemirror_mode": {
    "name": "ipython",
    "version": 3
   },
   "file_extension": ".py",
   "mimetype": "text/x-python",
   "name": "python",
   "nbconvert_exporter": "python",
   "pygments_lexer": "ipython3",
   "version": "3.9.6"
  },
  "orig_nbformat": 4,
  "vscode": {
   "interpreter": {
    "hash": "31f2aee4e71d21fbe5cf8b01ff0e069b9275f58929596ceb00d14d90e3e16cd6"
   }
  }
 },
 "nbformat": 4,
 "nbformat_minor": 2
}
