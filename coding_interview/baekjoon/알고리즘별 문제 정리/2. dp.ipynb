{
 "cells": [
  {
   "cell_type": "markdown",
   "metadata": {},
   "source": [
    "# 2. dp"
   ]
  },
  {
   "cell_type": "code",
   "execution_count": null,
   "metadata": {},
   "outputs": [],
   "source": [
    "# 24416번 : \n",
    "N = int(input())\n",
    "ls = [1,1]\n",
    "for _ in range(2,N):\n",
    "    ls.append(ls[-1] + ls[-2])\n",
    "\n",
    "print(ls[-1],N-2)"
   ]
  },
  {
   "cell_type": "code",
   "execution_count": null,
   "metadata": {},
   "outputs": [],
   "source": [
    "# 1904번 : 타일 문제\n",
    "import sys\n",
    "input = sys.stdin.readline\n",
    "N = int(input())\n",
    "n1, n2 = 1,2\n",
    "for i in range(2,N):\n",
    "    num = (n1 + n2) %15746 # (n1 + n2) % div = (n1%div + n2%div)%div\n",
    "    n1 = n2\n",
    "    n2 = num\n",
    "if N == 1: print(1)\n",
    "else : print(n2)"
   ]
  }
 ],
 "metadata": {
  "language_info": {
   "name": "python"
  },
  "orig_nbformat": 4
 },
 "nbformat": 4,
 "nbformat_minor": 2
}
