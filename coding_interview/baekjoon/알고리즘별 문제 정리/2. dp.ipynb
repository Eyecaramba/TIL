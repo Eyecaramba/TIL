{
 "cells": [
  {
   "cell_type": "markdown",
   "metadata": {},
   "source": [
    "# 2. dp"
   ]
  },
  {
   "cell_type": "code",
   "execution_count": null,
   "metadata": {},
   "outputs": [],
   "source": [
    "# 24416번 : \n",
    "N = int(input())\n",
    "ls = [1,1]\n",
    "for _ in range(2,N):\n",
    "    ls.append(ls[-1] + ls[-2])\n",
    "\n",
    "print(ls[-1],N-2)"
   ]
  },
  {
   "cell_type": "code",
   "execution_count": null,
   "metadata": {},
   "outputs": [],
   "source": [
    "# 1904번 : 타일 문제\n",
    "import sys\n",
    "input = sys.stdin.readline\n",
    "N = int(input())\n",
    "n1, n2 = 1,2\n",
    "for i in range(2,N):\n",
    "    num = (n1 + n2) %15746 # (n1 + n2) % div = (n1%div + n2%div)%div\n",
    "    n1 = n2\n",
    "    n2 = num\n",
    "if N == 1: print(1)\n",
    "else : print(n2)"
   ]
  },
  {
   "cell_type": "code",
   "execution_count": null,
   "metadata": {},
   "outputs": [],
   "source": [
    "# 11053번 : 가장 긴 증가하는 부분 수열 구하기 \n",
    "\n"
   ]
  }
 ],
 "metadata": {
  "kernelspec": {
   "display_name": "Python 3.10.8 ('labEnv01')",
   "language": "python",
   "name": "python3"
  },
  "language_info": {
   "name": "python",
   "version": "3.10.8"
  },
  "orig_nbformat": 4,
  "vscode": {
   "interpreter": {
    "hash": "618c83c8c30978cb55e28c0b393686675a704920444e91c7ed25872b4a70ed26"
   }
  }
 },
 "nbformat": 4,
 "nbformat_minor": 2
}
