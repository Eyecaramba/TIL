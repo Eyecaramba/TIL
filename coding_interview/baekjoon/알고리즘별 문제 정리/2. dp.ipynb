{
 "cells": [
  {
   "cell_type": "markdown",
   "metadata": {},
   "source": [
    "# 2. dp"
   ]
  },
  {
   "attachments": {},
   "cell_type": "markdown",
   "metadata": {},
   "source": [
    "동적 계획법은 중간중간 과정의 값을 기록해 놓는다. \n"
   ]
  },
  {
   "cell_type": "code",
   "execution_count": null,
   "metadata": {},
   "outputs": [],
   "source": [
    "# 24416번 : 알고리즘 수업 - 피보나치 1\n",
    "N = int(input())\n",
    "ls = [1,1]\n",
    "for _ in range(2,N):\n",
    "    ls.append(ls[-1] + ls[-2])\n",
    "\n",
    "print(ls[-1],N-2)"
   ]
  },
  {
   "cell_type": "code",
   "execution_count": null,
   "metadata": {},
   "outputs": [],
   "source": [
    "# 9148번 : 신나는 함수 실행 \n"
   ]
  },
  {
   "cell_type": "code",
   "execution_count": null,
   "metadata": {},
   "outputs": [],
   "source": [
    "# 1904번 : 타일 문제\n",
    "import sys\n",
    "input = sys.stdin.readline\n",
    "N = int(input())\n",
    "n1, n2 = 1,2\n",
    "for i in range(2,N):\n",
    "    num = (n1 + n2) %15746 # (n1 + n2) % div = (n1%div + n2%div)%div\n",
    "    n1 = n2\n",
    "    n2 = num\n",
    "if N == 1: print(1)\n",
    "else : print(n2)"
   ]
  },
  {
   "cell_type": "code",
   "execution_count": null,
   "metadata": {},
   "outputs": [],
   "source": [
    "# 11053번 : 가장 긴 증가하는 부분 수열 구하기 \n",
    "\n"
   ]
  }
 ],
 "metadata": {
  "kernelspec": {
   "display_name": "Python 3",
   "language": "python",
   "name": "python3"
  },
  "language_info": {
   "name": "python",
   "version": "3.9.6 (default, Sep 26 2022, 11:37:49) \n[Clang 14.0.0 (clang-1400.0.29.202)]"
  },
  "orig_nbformat": 4,
  "vscode": {
   "interpreter": {
    "hash": "31f2aee4e71d21fbe5cf8b01ff0e069b9275f58929596ceb00d14d90e3e16cd6"
   }
  }
 },
 "nbformat": 4,
 "nbformat_minor": 2
}
