{
 "cells": [
  {
   "cell_type": "markdown",
   "metadata": {},
   "source": [
    "# 1. Greedy Algorithm"
   ]
  },
  {
   "attachments": {},
   "cell_type": "markdown",
   "metadata": {},
   "source": [
    "greedy algorithm을 적용해도 되는지 판단하는 것이 가장 중요함.  "
   ]
  },
  {
   "cell_type": "code",
   "execution_count": null,
   "metadata": {},
   "outputs": [],
   "source": [
    "# 1931번 : 회의실 배정 \n",
    "import sys\n",
    "input = sys.stidn.readline\n",
    "\n",
    "meetings =[]\n",
    "for _ in range(int(input())):\n",
    "    meetings.append(list(map(int,input().split())))\n",
    "# meeting을 start 순으로 정렬\n",
    "meetings.sort(key= lambda x: x[0])\n",
    "# meeting을 end 순으로 정렬 \n",
    "meetings.sort(key= lambda x: x[1])\n",
    "# sort()함수는 제자리 정렬이기 때문에 같은 end끼리는 start로 정렬되어 있음\n",
    "\n",
    "l = 0\n",
    "cnt = 0\n",
    "for st, ed in meetings:\n",
    "    if st >= l:\n",
    "        cnt += 1\n",
    "        l = ed\n",
    "print(cnt)"
   ]
  },
  {
   "cell_type": "markdown",
   "metadata": {},
   "source": [
    "#### memo\n",
    "\n",
    "sort() 함수는 안정적 정렬이다.  \n",
    "A를 기준으로 1번, B를 기준으로 한 번 정렬하면 1순위로 B가 정렬되고 2순위로 A가 정렬된 리스트가 반환된다. \n",
    "\n"
   ]
  },
  {
   "cell_type": "code",
   "execution_count": null,
   "metadata": {},
   "outputs": [],
   "source": [
    "#11047번 : 동전 0\n",
    "import sys\n",
    "sys.stdin = open('input.txt','r')\n",
    "input = sys.stdin.readline\n",
    "\n",
    "N,K = map(int,input().split())\n",
    "coins = []\n",
    "\n",
    "for _ in range(N):\n",
    "    coin = int(input())\n",
    "    if coin <= K :\n",
    "        coins.append(coin)\n",
    "\n",
    "cnt = 0\n",
    "while K != 0:\n",
    "    coin = coins.pop()\n",
    "    cnt += K // coin\n",
    "    K = K % coin\n",
    "\n",
    "print(cnt)"
   ]
  },
  {
   "cell_type": "code",
   "execution_count": null,
   "metadata": {},
   "outputs": [],
   "source": [
    "import sys\n",
    "from collections import deque\n",
    "sys.stdin = open('input.txt','r')\n",
    "input = sys.stdin.readline\n",
    "\n",
    "# 도시의 개수 N\n",
    "N = int(input())\n",
    "\n",
    "# 도로의 길이\n",
    "roads = deque(list(map(int,input().split())))\n",
    "prices = deque(list(map(int,input().split())))\n",
    "# 다음 도시의 가격과 비교하여 작은 곳이 나올 때 까지 갈 기름만 주유한다.\n",
    "# 현재 위치 pos\n",
    "city1_price = prices.popleft()\n",
    "gas = city1_price * roads.popleft()\n",
    "\n",
    "while roads :\n",
    "    city2_price = prices.popleft()\n",
    "    if city1_price <= city2_price:\n",
    "        gas += city1_price * roads.popleft()\n",
    "    else :\n",
    "        city1_price = city2_price\n",
    "        gas += city1_price * roads.popleft()\n",
    "print(gas)"
   ]
  },
  {
   "cell_type": "code",
   "execution_count": 42,
   "metadata": {},
   "outputs": [
    {
     "name": "stdout",
     "output_type": "stream",
     "text": [
      "[0, 6, 3]\n",
      "6\n"
     ]
    }
   ],
   "source": [
    "from math import lcm\n",
    "a,b,c = map(int,input().split())\n",
    "\n",
    "l = lcm(a,c)\n",
    "pattern_len = l // a\n",
    "pattern = []\n",
    "for num in range(pattern_len):\n",
    "    pattern.append(a * num % c)\n",
    "idx = b % len(pattern) - 1\n",
    "print(pattern)\n",
    "print(pattern[idx])\n",
    "    "
   ]
  },
  {
   "cell_type": "code",
   "execution_count": 46,
   "metadata": {},
   "outputs": [
    {
     "name": "stdout",
     "output_type": "stream",
     "text": [
      "0 6\n"
     ]
    }
   ],
   "source": [
    "# 11399번  : atm \n",
    "import sys\n",
    "sys.stdin = open('input.txt')\n",
    "input = sys.stdin.readline\n",
    "\n",
    "n = input()\n",
    "nums = list(map(int, input().split()))\n",
    "\n",
    "nums.sort()\n",
    "total = 0\n",
    "m = 0\n",
    "for i in range(len(nums)):\n",
    "    m += nums[i]\n",
    "    total += m\n",
    "print(total)"
   ]
  }
 ],
 "metadata": {
  "kernelspec": {
   "display_name": "Python 3",
   "language": "python",
   "name": "python3"
  },
  "language_info": {
   "codemirror_mode": {
    "name": "ipython",
    "version": 3
   },
   "file_extension": ".py",
   "mimetype": "text/x-python",
   "name": "python",
   "nbconvert_exporter": "python",
   "pygments_lexer": "ipython3",
   "version": "3.9.6 (default, Sep 26 2022, 11:37:49) \n[Clang 14.0.0 (clang-1400.0.29.202)]"
  },
  "orig_nbformat": 4,
  "vscode": {
   "interpreter": {
    "hash": "31f2aee4e71d21fbe5cf8b01ff0e069b9275f58929596ceb00d14d90e3e16cd6"
   }
  }
 },
 "nbformat": 4,
 "nbformat_minor": 2
}
