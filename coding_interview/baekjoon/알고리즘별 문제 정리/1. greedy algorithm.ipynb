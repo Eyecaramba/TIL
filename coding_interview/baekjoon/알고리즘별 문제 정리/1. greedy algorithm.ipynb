{
 "cells": [
  {
   "cell_type": "markdown",
   "metadata": {},
   "source": [
    "# 1. Greedy Algorithm"
   ]
  },
  {
   "cell_type": "code",
   "execution_count": null,
   "metadata": {},
   "outputs": [],
   "source": [
    "# 1931번 : 회의실 배정 \n",
    "import sys\n",
    "input = sys.stidn.readline\n",
    "\n",
    "meetings =[]\n",
    "for _ in range(int(input())):\n",
    "    meetings.append(list(map(int,input().split())))\n",
    "# meeting을 start 순으로 정렬\n",
    "meetings.sort(key= lambda x: x[0])\n",
    "# meeting을 end 순으로 정렬 \n",
    "meetings.sort(key= lambda x: x[1])\n",
    "# sort()함수는 제자리 정렬이기 때문에 같은 end끼리는 start로 정렬되어 있음\n",
    "\n",
    "l = 0\n",
    "cnt = 0\n",
    "for st, ed in meetings:\n",
    "    if st >= l:\n",
    "        cnt += 1\n",
    "        l = ed\n",
    "print(cnt)"
   ]
  },
  {
   "cell_type": "markdown",
   "metadata": {},
   "source": [
    "#### memo\n",
    "\n",
    "sort() 함수는 안정적 정렬이다.  \n",
    "A를 기준으로 1번, B를 기준으로 한 번 정렬하면 1순위로 B가 정렬되고 2순위로 A가 정렬된 리스트가 반환된다. \n",
    "\n"
   ]
  },
  {
   "cell_type": "markdown",
   "metadata": {},
   "source": []
  }
 ],
 "metadata": {
  "kernelspec": {
   "display_name": "Python 3.11.0 64-bit",
   "language": "python",
   "name": "python3"
  },
  "language_info": {
   "name": "python",
   "version": "3.11.0"
  },
  "orig_nbformat": 4,
  "vscode": {
   "interpreter": {
    "hash": "aee8b7b246df8f9039afb4144a1f6fd8d2ca17a180786b69acc140d282b71a49"
   }
  }
 },
 "nbformat": 4,
 "nbformat_minor": 2
}
