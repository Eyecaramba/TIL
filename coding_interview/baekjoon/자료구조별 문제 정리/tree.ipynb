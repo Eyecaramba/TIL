{
 "cells": [
  {
   "cell_type": "markdown",
   "metadata": {},
   "source": [
    "#### tree"
   ]
  },
  {
   "cell_type": "code",
   "execution_count": null,
   "metadata": {},
   "outputs": [],
   "source": [
    "# 11725번 : 트리의 부모 찾기 2\n",
    "import sys\n",
    "sys.setrecursionlimit(10**9)\n",
    "input = sys.stdin.readline\n",
    "\n",
    "def dfs(n):\n",
    "    for i in tree[n]:\n",
    "        if parent[i] == 0:\n",
    "            parent[i] = n\n",
    "            dfs(i)\n",
    "\n",
    "N = int(input())\n",
    "tree = [[] for _ in range(N+1)]\n",
    "parent = [ 0 for _ in range(N+1)]\n",
    "\n",
    "for _ in range(N-1):\n",
    "    n1, n2 = map(int,input().split())\n",
    "    tree[n1].append(n2)\n",
    "    tree[n2].append(n1)\n",
    "    \n",
    "\n",
    "dfs(1)\n",
    "\n",
    "for pt in parent[2:]:\n",
    "    print(pt)"
   ]
  },
  {
   "cell_type": "code",
   "execution_count": 16,
   "metadata": {},
   "outputs": [
    {
     "name": "stdout",
     "output_type": "stream",
     "text": [
      "ABDCEFG\n",
      "DBAECFG\n",
      "DBEGFCA"
     ]
    }
   ],
   "source": [
    "# 1991번 : 트리 순회 \n",
    "\n",
    "N = int(input())\n",
    "tree = [[] for _ in range(26)]\n",
    "for cnt in range(N):\n",
    "    root, left, right = input().split()\n",
    "    if left != '.':\n",
    "        tree[ord(root)-65].append(ord(left)-65)\n",
    "    else : tree[ord(root)-65].append(None)\n",
    "    if right != '.':\n",
    "        tree[ord(root)-65].append(ord(right)-65)\n",
    "    else: tree[ord(root)-65].append(None)\n",
    "    \n",
    "def preorder(n): # root -> left -> right \n",
    "    print(chr(n+65),end='')\n",
    "    if tree[n][0]:\n",
    "        preorder(tree[n][0])\n",
    "    if tree[n][1]:\n",
    "        preorder(tree[n][1])\n",
    "\n",
    "def inorder(n):\n",
    "    if tree[n][0]:\n",
    "        inorder(tree[n][0])\n",
    "    print(chr(n+65),end='')\n",
    "    if tree[n][1]:\n",
    "        inorder(tree[n][1])\n",
    "\n",
    "def postorder(n):\n",
    "    if tree[n][0]:\n",
    "        postorder(tree[n][0])\n",
    "    if tree[n][1]:\n",
    "        postorder(tree[n][1])\n",
    "    print(chr(n+65),end='')\n",
    "\n",
    "preorder(0)\n",
    "print()\n",
    "inorder(0)\n",
    "print()\n",
    "postorder(0)"
   ]
  },
  {
   "cell_type": "code",
   "execution_count": null,
   "metadata": {},
   "outputs": [],
   "source": [
    "#5639번 이진 검색 트리 \n",
    "# import sys \n",
    "# lines = sys.stdin.readlines()\n",
    "# nodes = []\n",
    "# for line in lines: \n",
    "#     nodes.append(int(line))\n",
    "\n",
    "import sys \n",
    "sys.setrecursionlimit(10**9)\n",
    "nodes = []\n",
    "while True:\n",
    "    try : \n",
    "        nodes.append(int(input()))\n",
    "    except EOFError:\n",
    "        break\n",
    "\n",
    "def travel(tree):\n",
    "    root = tree[0]\n",
    "    left = [ x for x in tree if x < root]\n",
    "    right = [x for x in tree if x > root]\n",
    "    if left: travel(left)\n",
    "    if right: travel(right)\n",
    "    print(root)\n",
    "    \n",
    "travel(nodes)"
   ]
  },
  {
   "cell_type": "code",
   "execution_count": 1,
   "metadata": {},
   "outputs": [
    {
     "ename": "ValueError",
     "evalue": "invalid literal for int() with base 10: ''",
     "output_type": "error",
     "traceback": [
      "\u001b[0;31m---------------------------------------------------------------------------\u001b[0m",
      "\u001b[0;31mValueError\u001b[0m                                Traceback (most recent call last)",
      "Cell \u001b[0;32mIn [1], line 5\u001b[0m\n\u001b[1;32m      2\u001b[0m \u001b[39mimport\u001b[39;00m \u001b[39msys\u001b[39;00m \n\u001b[1;32m      3\u001b[0m sys\u001b[39m.\u001b[39mstdin \u001b[39m=\u001b[39m \u001b[39mopen\u001b[39m(\u001b[39m'\u001b[39m\u001b[39minput.txt\u001b[39m\u001b[39m'\u001b[39m,\u001b[39m'\u001b[39m\u001b[39mr\u001b[39m\u001b[39m'\u001b[39m)\n\u001b[0;32m----> 5\u001b[0m N \u001b[39m=\u001b[39m \u001b[39mint\u001b[39;49m(\u001b[39minput\u001b[39;49m())\n\u001b[1;32m      6\u001b[0m tree \u001b[39m=\u001b[39m [[] \u001b[39mfor\u001b[39;00m _ \u001b[39min\u001b[39;00m \u001b[39mrange\u001b[39m(N\u001b[39m+\u001b[39m\u001b[39m1\u001b[39m)]\n\u001b[1;32m      8\u001b[0m \u001b[39mfor\u001b[39;00m _ \u001b[39min\u001b[39;00m \u001b[39mrange\u001b[39m(N):\n",
      "\u001b[0;31mValueError\u001b[0m: invalid literal for int() with base 10: ''"
     ]
    }
   ],
   "source": [
    "# 트리의 지름 구하기\n",
    "\n",
    "import sys\n",
    "sys.stdin = open('Sample_input (1).txt','r')\n",
    "sys.setrecursionlimit(10**9)\n",
    "\n",
    "N = int(input())\n",
    "tree = [ [] for _ in range(N)]\n",
    "\n",
    "# 루트를 기준으로 작성한 트리의 지름\n",
    "dis = []\n",
    "for _ in range(N-1):\n",
    "    node1, node2, weight = map(int,input().split())\n",
    "    tree[node1-1].append([node2-1, weight])\n",
    "\n",
    "\n",
    "def dfs(prt):\n",
    "    # leaf node에 도달한 경우\n",
    "    if not tree[prt]:\n",
    "        return 0\n",
    "\n",
    "    # leaf node에 도달하지 않은 경우\n",
    "    # 각 노드의 길이를 반환받고 지름을 구해서 dis에 기록\n",
    "    # 가장 긴 길이는 위 노드로 return\n",
    "    len_list = []\n",
    "    for child in tree[prt]:\n",
    "        # 깊이 탐색에서 돌려 받은 값 + 현재 parent-child weight\n",
    "        max_len = dfs(child[0]) + child[1]\n",
    "        len_list.append(max_len)\n",
    "\n",
    "    # 현재 노드에서 지름 계산\n",
    "    if len(len_list) == 1:\n",
    "        dis.append(len_list[0])\n",
    "        pass\n",
    "    else:\n",
    "        len_list.sort()\n",
    "        tree_dia = len_list[-1] + len_list[-2]\n",
    "        dis.append(tree_dia)\n",
    "    return len_list[-1]\n",
    "\n",
    "dfs(0)\n",
    "\n",
    "if dis : print(max(dis))\n",
    "else : print(0)\n",
    "\n",
    "# 성공 -> 노드의 자식 노드가 1개인 경우 예외처리를 해줘야 모든 경우를 계산할 수 있음"
   ]
  },
  {
   "cell_type": "code",
   "execution_count": 1,
   "metadata": {},
   "outputs": [
    {
     "data": {
      "text/plain": [
       "[1, 2, 3, 23]"
      ]
     },
     "execution_count": 1,
     "metadata": {},
     "output_type": "execute_result"
    }
   ],
   "source": [
    "a = [3,23,2,1]\n",
    "a.sort()\n",
    "a"
   ]
  },
  {
   "cell_type": "code",
   "execution_count": 1,
   "metadata": {},
   "outputs": [
    {
     "ename": "SyntaxError",
     "evalue": "leading zeros in decimal integer literals are not permitted; use an 0o prefix for octal integers (<string>, line 1)",
     "output_type": "error",
     "traceback": [
      "Traceback \u001b[0;36m(most recent call last)\u001b[0m:\n",
      "\u001b[0m  File \u001b[1;32m~/Library/Python/3.11/lib/python/site-packages/IPython/core/interactiveshell.py:3433\u001b[0m in \u001b[1;35mrun_code\u001b[0m\n    exec(code_obj, self.user_global_ns, self.user_ns)\u001b[0m\n",
      "\u001b[0;36m  Cell \u001b[0;32mIn [1], line 1\u001b[0;36m\n\u001b[0;31m    eval('00009')\u001b[0;36m\n",
      "\u001b[0;36m  File \u001b[0;32m<string>:1\u001b[0;36m\u001b[0m\n\u001b[0;31m    00009\u001b[0m\n\u001b[0m    ^\u001b[0m\n\u001b[0;31mSyntaxError\u001b[0m\u001b[0;31m:\u001b[0m leading zeros in decimal integer literals are not permitted; use an 0o prefix for octal integers\n"
     ]
    }
   ],
   "source": [
    "eval('00009')"
   ]
  },
  {
   "cell_type": "code",
   "execution_count": null,
   "metadata": {},
   "outputs": [],
   "source": []
  }
 ],
 "metadata": {
  "kernelspec": {
   "display_name": "Python 3.11.0 64-bit",
   "language": "python",
   "name": "python3"
  },
  "language_info": {
   "codemirror_mode": {
    "name": "ipython",
    "version": 3
   },
   "file_extension": ".py",
   "mimetype": "text/x-python",
   "name": "python",
   "nbconvert_exporter": "python",
   "pygments_lexer": "ipython3",
   "version": "3.11.0"
  },
  "orig_nbformat": 4,
  "vscode": {
   "interpreter": {
    "hash": "aee8b7b246df8f9039afb4144a1f6fd8d2ca17a180786b69acc140d282b71a49"
   }
  }
 },
 "nbformat": 4,
 "nbformat_minor": 2
}
