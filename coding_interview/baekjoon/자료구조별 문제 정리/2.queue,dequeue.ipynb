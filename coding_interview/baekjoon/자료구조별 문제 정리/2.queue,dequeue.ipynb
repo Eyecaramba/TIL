{
 "cells": [
  {
   "cell_type": "markdown",
   "metadata": {},
   "source": [
    "# 2. queue,dequeue"
   ]
  },
  {
   "cell_type": "markdown",
   "metadata": {},
   "source": [
    "queue,dequeue : 양쪽 접근이 모두 가능해야 하는 경우 리스트로 구성한 stack보다 더 유리함 "
   ]
  },
  {
   "cell_type": "code",
   "execution_count": null,
   "metadata": {},
   "outputs": [],
   "source": [
    "# 18258번 : 큐 2\n",
    "\n",
    "import sys\n",
    "input = sys.stdin.readline\n",
    "\n",
    "\n",
    "class queue:\n",
    "    def __init__(self):\n",
    "        self.q = []\n",
    "        \n",
    "    \n",
    "    def push(self,x):\n",
    "        self.q.append(x)\n",
    "        \n",
    "    \n",
    "    def empty(self):\n",
    "        if self.q : return 0\n",
    "        else : return 1\n",
    "        \n",
    "    \n",
    "    def size(self):\n",
    "        return len(self.q)\n",
    "        \n",
    "    \n",
    "    def pop(self):\n",
    "        if self.empty():\n",
    "            return -1\n",
    "        else: return self.q.pop(0)\n",
    "        \n",
    "    \n",
    "    def front(self):\n",
    "        if self.empty():\n",
    "            return -1\n",
    "        else: return self.q[0]\n",
    "        \n",
    "        \n",
    "    def back(self):\n",
    "        if self.empty():\n",
    "            return -1\n",
    "        else: return self.q[-1]\n",
    "\n",
    "\n",
    "\n",
    "q = queue()\n",
    "cmd_inputs = ['push','empty','size','pop','front','back']\n",
    "cmd_list = [q.push, q.empty, q.size, q.pop, q.front, q.back]\n",
    "for _ in range(int(input())):\n",
    "    cmd_input = list(input().split())\n",
    "    if len(cmd_input) == 2:\n",
    "        input_num = int(cmd_input[1])\n",
    "        q.push(input_num)\n",
    "    else: \n",
    "        cmd_idx = cmd_inputs.index(cmd_input[0])\n",
    "        print(cmd_list[cmd_idx]())"
   ]
  },
  {
   "cell_type": "code",
   "execution_count": 1,
   "metadata": {},
   "outputs": [
    {
     "data": {
      "text/plain": [
       "[2, 3]"
      ]
     },
     "execution_count": 1,
     "metadata": {},
     "output_type": "execute_result"
    }
   ],
   "source": [
    "# 18258번 : 큐2 2nd\n",
    "\n",
    "# import sys\n",
    "# input = sys.stdin.readline\n",
    "\n",
    "queue = []\n",
    "\n",
    "for _ in range(int(input())):\n",
    "    cmd = list(input().split())\n",
    "    if cmd[0] == 'push':\n",
    "        queue.append(int(cmd[1]))\n",
    "    elif cmd[0] == 'front':\n",
    "        if queue: print(queue[0])\n",
    "        else : print(-1)\n",
    "    elif cmd[0] == 'pop':\n",
    "        if queue: print(queue.pop(0))\n",
    "        else : print(-1)\n",
    "    elif cmd[0] == 'size':\n",
    "        print(len(queue))\n",
    "    elif cmd[0] == 'empty':\n",
    "        if queue: print(0)\n",
    "        else : print(1)\n",
    "    elif cmd[0] == 'back':\n",
    "        if queue: print(queue[-1])\n",
    "        else : print(-1)\n",
    "        \n",
    "\n",
    "\n"
   ]
  },
  {
   "cell_type": "code",
   "execution_count": 1,
   "metadata": {},
   "outputs": [
    {
     "ename": "ValueError",
     "evalue": "invalid literal for int() with base 10: ''",
     "output_type": "error",
     "traceback": [
      "\u001b[0;31m---------------------------------------------------------------------------\u001b[0m",
      "\u001b[0;31mValueError\u001b[0m                                Traceback (most recent call last)",
      "Cell \u001b[0;32mIn [1], line 7\u001b[0m\n\u001b[1;32m      4\u001b[0m \u001b[39minput\u001b[39m \u001b[39m=\u001b[39m sys\u001b[39m.\u001b[39mstdin\u001b[39m.\u001b[39mreadline\n\u001b[1;32m      6\u001b[0m queue \u001b[39m=\u001b[39m deque()\n\u001b[0;32m----> 7\u001b[0m \u001b[39mfor\u001b[39;00m _ \u001b[39min\u001b[39;00m \u001b[39mrange\u001b[39m(\u001b[39mint\u001b[39;49m(\u001b[39minput\u001b[39;49m())):\n\u001b[1;32m      8\u001b[0m     cmd \u001b[39m=\u001b[39m \u001b[39mlist\u001b[39m(\u001b[39minput\u001b[39m()\u001b[39m.\u001b[39msplit())\n\u001b[1;32m      9\u001b[0m     \u001b[39mif\u001b[39;00m cmd[\u001b[39m0\u001b[39m] \u001b[39m==\u001b[39m \u001b[39m'\u001b[39m\u001b[39mpush\u001b[39m\u001b[39m'\u001b[39m:\n",
      "\u001b[0;31mValueError\u001b[0m: invalid literal for int() with base 10: ''"
     ]
    }
   ],
   "source": [
    "# 18258번 : 큐2 3rd : deque 사용 \n",
    "from collections import deque\n",
    "import sys \n",
    "input = sys.stdin.readline\n",
    "\n",
    "queue = deque()\n",
    "for _ in range(int(input())):\n",
    "    cmd = list(input().split())\n",
    "    if cmd[0] == 'push':\n",
    "        queue.append(int(cmd[1]))\n",
    "    elif cmd[0] == 'front':\n",
    "        if queue: print(queue[0])\n",
    "        else : print(-1)\n",
    "    elif cmd[0] == 'pop':\n",
    "        if queue: print(queue.popleft())\n",
    "        else : print(-1)\n",
    "    elif cmd[0] == 'size':\n",
    "        print(len(queue))\n",
    "    elif cmd[0] == 'empty':\n",
    "        if queue: print(0)\n",
    "        else : print(1)\n",
    "    elif cmd[0] == 'back':\n",
    "        if queue: print(queue[-1])\n",
    "        else : print(-1)\n",
    "\n",
    "# 리스트의 pop(idx)는 O(n)시간, deque의 popleft는 O(1)시간이 걸림 "
   ]
  },
  {
   "cell_type": "code",
   "execution_count": 6,
   "metadata": {},
   "outputs": [
    {
     "name": "stdout",
     "output_type": "stream",
     "text": [
      "1\n",
      "2\n",
      "5\n"
     ]
    }
   ],
   "source": [
    "# 1966번 프린터 큐 \n",
    "\n",
    "from collections import deque\n",
    "# import sys \n",
    "# input = sys.stdin.readline\n",
    "\n",
    "for _ in range(int(input())):\n",
    "    N, M = map(int,input().split())\n",
    "    q = deque(list(map(int,input().split())))\n",
    "    cnt = 0\n",
    "    while deque:\n",
    "        if q[0] == max(q):\n",
    "            q.popleft()\n",
    "            cnt += 1\n",
    "            if M == 0:\n",
    "                print(cnt)\n",
    "                break\n",
    "            else : \n",
    "                if M > 0: M = M-1\n",
    "                else : M = len(q)-1\n",
    "        else:\n",
    "            q.rotate(-1)\n",
    "            if M > 0: M = M-1\n",
    "            else : M = len(q)-1"
   ]
  },
  {
   "cell_type": "code",
   "execution_count": 51,
   "metadata": {},
   "outputs": [
    {
     "name": "stdout",
     "output_type": "stream",
     "text": [
      "[2,1]\n"
     ]
    }
   ],
   "source": [
    "# 5430번 : AC\n",
    "from collections import deque\n",
    "import sys\n",
    "input = sys.stdin.readline\n",
    "\n",
    "for _ in range(int(input())):\n",
    "    cmds = list(input())\n",
    "    nums = int(input())\n",
    "    if nums : \n",
    "        q = deque(list(input().rstrip().rstrip(']').lstrip('[').split(',')))\n",
    "    else : \n",
    "        input()\n",
    "        q = deque()\n",
    "    \n",
    "    # 정방향인 경우 True, 역방향인 경우 False\n",
    "    flag = True\n",
    "    dir = True\n",
    "    for cmd in cmds:\n",
    "        if cmd == 'R': dir = not dir\n",
    "        elif cmd == 'D':\n",
    "            # 정방향인 경우\n",
    "            if q and dir:\n",
    "                q.popleft()\n",
    "            elif q and not dir: \n",
    "                q.pop()\n",
    "            else: \n",
    "                print('error')\n",
    "                flag = False\n",
    "                break\n",
    "            \n",
    "    if flag:\n",
    "        if dir : print(\"[\"+\",\".join(q)+\"]\")\n",
    "        else :\n",
    "            q.reverse() \n",
    "            print(\"[\"+\",\".join(q)+\"]\")\n",
    "            \n",
    "# 출력 fotmat 유의하기 : 비슷해 보여도 띄어쓰기를 포함한 모든 포멧을 맞춰야 정답으로 될 수 있음 "
   ]
  },
  {
   "cell_type": "code",
   "execution_count": null,
   "metadata": {},
   "outputs": [],
   "source": []
  }
 ],
 "metadata": {
  "kernelspec": {
   "display_name": "Python 3",
   "language": "python",
   "name": "python3"
  },
  "language_info": {
   "codemirror_mode": {
    "name": "ipython",
    "version": 3
   },
   "file_extension": ".py",
   "mimetype": "text/x-python",
   "name": "python",
   "nbconvert_exporter": "python",
   "pygments_lexer": "ipython3",
   "version": "3.9.6 (default, Sep 26 2022, 11:37:49) \n[Clang 14.0.0 (clang-1400.0.29.202)]"
  },
  "orig_nbformat": 4,
  "vscode": {
   "interpreter": {
    "hash": "31f2aee4e71d21fbe5cf8b01ff0e069b9275f58929596ceb00d14d90e3e16cd6"
   }
  }
 },
 "nbformat": 4,
 "nbformat_minor": 2
}
