{
 "cells": [
  {
   "cell_type": "markdown",
   "metadata": {},
   "source": [
    "### stack 1"
   ]
  },
  {
   "cell_type": "markdown",
   "metadata": {},
   "source": [
    "stack을 사용하는 경우 \n"
   ]
  },
  {
   "cell_type": "code",
   "execution_count": 19,
   "metadata": {},
   "outputs": [
    {
     "name": "stdout",
     "output_type": "stream",
     "text": [
      "yes\n"
     ]
    }
   ],
   "source": [
    "# 4949번 : 균형잡힌 세상\n",
    "\n",
    "def get_string():\n",
    "    input_string = []\n",
    "    input_string += list(input())\n",
    "    while input_string[-1] != '.':\n",
    "        input_string += list(input())\n",
    "    return input_string\n",
    " \n",
    "push_list = ['(','[']\n",
    "pop_list = [')',']']\n",
    "s = get_string()\n",
    "while s != ['.']:\n",
    "    stack = []\n",
    "    flag = False\n",
    "    for string in s:\n",
    "        if string in push_list:\n",
    "            stack.append(string)\n",
    "        elif string == ')' and (not stack or stack.pop() != '('):\n",
    "            flag = True\n",
    "            break\n",
    "        elif string == ']' and (not stack or stack.pop() != '['):\n",
    "            flag = True\n",
    "            break\n",
    "    if flag or stack:\n",
    "        print('no')\n",
    "    else: print('yes')\n",
    "    s = get_string()\n",
    "\n",
    "# 조건문 쓸때 좀 더 직관적으로 쓰기 "
   ]
  },
  {
   "cell_type": "code",
   "execution_count": null,
   "metadata": {},
   "outputs": [],
   "source": [
    "# 1874번 : 스택수열 \n",
    "\n",
    "nums = []\n",
    "for _ in range(int(input())):\n",
    "    nums.append(int(input()))\n",
    "\n",
    "\n",
    "# nums 역순으로 만들기 \n",
    "nums.reverse()\n",
    "stack = []\n",
    "log =[]\n",
    "\n",
    "n = 0\n",
    "num = nums.pop()\n",
    "flag = True\n",
    "\n",
    "\n",
    "while True:\n",
    "    if n < num:\n",
    "        n += 1\n",
    "        stack.append(n)\n",
    "        log.append('+')\n",
    "    else : \n",
    "        stack_num = stack.pop()\n",
    "        log.append('-')\n",
    "        if stack_num == num:\n",
    "            if nums:\n",
    "                num = nums.pop()\n",
    "            else : \n",
    "                break\n",
    "        else : \n",
    "            flag = False\n",
    "            break\n",
    "\n",
    "if flag : \n",
    "    for i in log: print(i)\n",
    "else : \n",
    "    print('NO')"
   ]
  },
  {
   "cell_type": "markdown",
   "metadata": {},
   "source": [
    "### stack 2"
   ]
  },
  {
   "cell_type": "code",
   "execution_count": 31,
   "metadata": {},
   "outputs": [
    {
     "name": "stdout",
     "output_type": "stream",
     "text": [
      "mirkovniz4\n"
     ]
    }
   ],
   "source": [
    "# 9945번 : 문자열 폭발\n",
    "# import sys\n",
    "# input = sys.stdin.readline\n",
    "\n",
    "strs = list(input().rstrip())\n",
    "bomb = list(input().rstrip())\n",
    "bomb.reverse()\n",
    "stack = []\n",
    "for str in strs:\n",
    "    stack.append(str)\n",
    "    if str == bomb[0]:\n",
    "        tmp = []\n",
    "        for stk in bomb:\n",
    "            if stack:\n",
    "                item = stack.pop()\n",
    "                if item == stk:\n",
    "                    tmp.append(item)\n",
    "                else:\n",
    "                    tmp.append(item)\n",
    "                    tmp.reverse()\n",
    "                    stack.extend(tmp)\n",
    "                    break\n",
    "            else :\n",
    "                stack.extend(tmp)\n",
    "                break\n",
    "if stack:\n",
    "    print(''.join(stack))\n",
    "else:\n",
    "    print('FRULA')             "
   ]
  },
  {
   "cell_type": "code",
   "execution_count": 22,
   "metadata": {},
   "outputs": [
    {
     "ename": "NameError",
     "evalue": "name 'mirkovniz' is not defined",
     "output_type": "error",
     "traceback": [
      "\u001b[1;31m---------------------------------------------------------------------------\u001b[0m",
      "\u001b[1;31mNameError\u001b[0m                                 Traceback (most recent call last)",
      "\u001b[1;32md:\\OneDrive - inu.ac.kr\\GIT\\TIL\\coding_interview\\backjoon\\자료구조별 문제 정리\\1. stack.ipynb 셀 7\u001b[0m in \u001b[0;36m<cell line: 1>\u001b[1;34m()\u001b[0m\n\u001b[1;32m----> <a href='vscode-notebook-cell:/d%3A/OneDrive%20-%20inu.ac.kr/GIT/TIL/coding_interview/backjoon/%EC%9E%90%EB%A3%8C%EA%B5%AC%EC%A1%B0%EB%B3%84%20%EB%AC%B8%EC%A0%9C%20%EC%A0%95%EB%A6%AC/1.%20stack.ipynb#X10sZmlsZQ%3D%3D?line=0'>1</a>\u001b[0m mirkovniz\n",
      "\u001b[1;31mNameError\u001b[0m: name 'mirkovniz' is not defined"
     ]
    }
   ],
   "source": [
    "mirkovniz"
   ]
  },
  {
   "cell_type": "code",
   "execution_count": 15,
   "metadata": {},
   "outputs": [
    {
     "name": "stdout",
     "output_type": "stream",
     "text": [
      "mirkovniz\n"
     ]
    }
   ],
   "source": [
    "print('mirkovniz')"
   ]
  },
  {
   "cell_type": "code",
   "execution_count": 20,
   "metadata": {},
   "outputs": [
    {
     "data": {
      "text/plain": [
       "['a', 'b', 'c']"
      ]
     },
     "execution_count": 20,
     "metadata": {},
     "output_type": "execute_result"
    }
   ],
   "source": [
    "list('abc')"
   ]
  },
  {
   "cell_type": "code",
   "execution_count": null,
   "metadata": {},
   "outputs": [],
   "source": []
  }
 ],
 "metadata": {
  "kernelspec": {
   "display_name": "Python 3.9.11 ('py_3.9.11')",
   "language": "python",
   "name": "python3"
  },
  "language_info": {
   "codemirror_mode": {
    "name": "ipython",
    "version": 3
   },
   "file_extension": ".py",
   "mimetype": "text/x-python",
   "name": "python",
   "nbconvert_exporter": "python",
   "pygments_lexer": "ipython3",
   "version": "3.9.11"
  },
  "orig_nbformat": 4,
  "vscode": {
   "interpreter": {
    "hash": "74b8cfefd0fa4051d735bc9fcf020aa7ead40c0048ca0c8813b003a841856b54"
   }
  }
 },
 "nbformat": 4,
 "nbformat_minor": 2
}
