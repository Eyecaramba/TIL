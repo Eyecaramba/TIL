{
 "cells": [
  {
   "cell_type": "markdown",
   "metadata": {},
   "source": [
    "### stack 1"
   ]
  },
  {
   "cell_type": "markdown",
   "metadata": {},
   "source": [
    "stack을 사용하는 경우 \n"
   ]
  },
  {
   "cell_type": "code",
   "execution_count": 19,
   "metadata": {},
   "outputs": [
    {
     "name": "stdout",
     "output_type": "stream",
     "text": [
      "yes\n"
     ]
    }
   ],
   "source": [
    "# 4949번 : 균형잡힌 세상\n",
    "\n",
    "def get_string():\n",
    "    input_string = []\n",
    "    input_string += list(input())\n",
    "    while input_string[-1] != '.':\n",
    "        input_string += list(input())\n",
    "    return input_string\n",
    " \n",
    "push_list = ['(','[']\n",
    "pop_list = [')',']']\n",
    "s = get_string()\n",
    "while s != ['.']:\n",
    "    stack = []\n",
    "    flag = False\n",
    "    for string in s:\n",
    "        if string in push_list:\n",
    "            stack.append(string)\n",
    "        elif string == ')' and (not stack or stack.pop() != '('):\n",
    "            flag = True\n",
    "            break\n",
    "        elif string == ']' and (not stack or stack.pop() != '['):\n",
    "            flag = True\n",
    "            break\n",
    "    if flag or stack:\n",
    "        print('no')\n",
    "    else: print('yes')\n",
    "    s = get_string()\n",
    "\n",
    "# 조건문 쓸때 좀 더 직관적으로 쓰기 "
   ]
  },
  {
   "cell_type": "code",
   "execution_count": null,
   "metadata": {},
   "outputs": [],
   "source": [
    "# 1874번 : 스택수열 \n",
    "\n",
    "nums = []\n",
    "for _ in range(int(input())):\n",
    "    nums.append(int(input()))\n",
    "\n",
    "\n",
    "# nums 역순으로 만들기 \n",
    "nums.reverse()\n",
    "stack = []\n",
    "log =[]\n",
    "\n",
    "n = 0\n",
    "num = nums.pop()\n",
    "flag = True\n",
    "\n",
    "\n",
    "while True:\n",
    "    if n < num:\n",
    "        n += 1\n",
    "        stack.append(n)\n",
    "        log.append('+')\n",
    "    else : \n",
    "        stack_num = stack.pop()\n",
    "        log.append('-')\n",
    "        if stack_num == num:\n",
    "            if nums:\n",
    "                num = nums.pop()\n",
    "            else : \n",
    "                break\n",
    "        else : \n",
    "            flag = False\n",
    "            break\n",
    "\n",
    "if flag : \n",
    "    for i in log: print(i)\n",
    "else : \n",
    "    print('NO')"
   ]
  },
  {
   "cell_type": "markdown",
   "metadata": {},
   "source": [
    "### stack 2"
   ]
  },
  {
   "cell_type": "code",
   "execution_count": null,
   "metadata": {},
   "outputs": [],
   "source": [
    "# 3015번 : 오아시스 재결합 \n",
    "\n",
    "N = int(input())\n",
    "num1 = int(input())\n",
    "stk = []\n",
    "for _ in range(N-1):\n",
    "    num2 = int(input())\n",
    "    \n",
    "    if not stk : stk.append(num2)\n",
    "        num2 = int(input())\n",
    "    else:\n",
    "        if num2 > stk[0]: stk.append(num2)\n",
    "        else : \n"
   ]
  }
 ],
 "metadata": {
  "kernelspec": {
   "display_name": "Python 3.9.11 ('py_3.9.11')",
   "language": "python",
   "name": "python3"
  },
  "language_info": {
   "codemirror_mode": {
    "name": "ipython",
    "version": 3
   },
   "file_extension": ".py",
   "mimetype": "text/x-python",
   "name": "python",
   "nbconvert_exporter": "python",
   "pygments_lexer": "ipython3",
   "version": "3.9.11"
  },
  "orig_nbformat": 4,
  "vscode": {
   "interpreter": {
    "hash": "74b8cfefd0fa4051d735bc9fcf020aa7ead40c0048ca0c8813b003a841856b54"
   }
  }
 },
 "nbformat": 4,
 "nbformat_minor": 2
}
