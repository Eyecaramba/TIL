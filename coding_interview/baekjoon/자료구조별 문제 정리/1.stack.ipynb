{
 "cells": [
  {
   "cell_type": "markdown",
   "metadata": {},
   "source": [
    "### stack 1"
   ]
  },
  {
   "cell_type": "markdown",
   "metadata": {},
   "source": [
    "stack을 사용하는 경우 \n"
   ]
  },
  {
   "cell_type": "code",
   "execution_count": 19,
   "metadata": {},
   "outputs": [
    {
     "name": "stdout",
     "output_type": "stream",
     "text": [
      "yes\n"
     ]
    }
   ],
   "source": [
    "# 4949번 : 균형잡힌 세상\n",
    "\n",
    "def get_string():\n",
    "    input_string = []\n",
    "    input_string += list(input())\n",
    "    while input_string[-1] != '.':\n",
    "        input_string += list(input())\n",
    "    return input_string\n",
    " \n",
    "push_list = ['(','[']\n",
    "pop_list = [')',']']\n",
    "s = get_string()\n",
    "while s != ['.']:\n",
    "    stack = []\n",
    "    flag = False\n",
    "    for string in s:\n",
    "        if string in push_list:\n",
    "            stack.append(string)\n",
    "        elif string == ')' and (not stack or stack.pop() != '('):\n",
    "            flag = True\n",
    "            break\n",
    "        elif string == ']' and (not stack or stack.pop() != '['):\n",
    "            flag = True\n",
    "            break\n",
    "    if flag or stack:\n",
    "        print('no')\n",
    "    else: print('yes')\n",
    "    s = get_string()\n",
    "\n",
    "# 조건문 쓸때 좀 더 직관적으로 쓰기 "
   ]
  },
  {
   "cell_type": "code",
   "execution_count": null,
   "metadata": {},
   "outputs": [],
   "source": [
    "# 1874번 : 스택수열 \n",
    "\n",
    "nums = []\n",
    "for _ in range(int(input())):\n",
    "    nums.append(int(input()))\n",
    "\n",
    "\n",
    "# nums 역순으로 만들기 \n",
    "nums.reverse()\n",
    "stack = []\n",
    "log =[]\n",
    "\n",
    "n = 0\n",
    "num = nums.pop()\n",
    "flag = True\n",
    "\n",
    "\n",
    "while True:\n",
    "    if n < num:\n",
    "        n += 1\n",
    "        stack.append(n)\n",
    "        log.append('+')\n",
    "    else : \n",
    "        stack_num = stack.pop()\n",
    "        log.append('-')\n",
    "        if stack_num == num:\n",
    "            if nums:\n",
    "                num = nums.pop()\n",
    "            else : \n",
    "                break\n",
    "        else : \n",
    "            flag = False\n",
    "            break\n",
    "\n",
    "if flag : \n",
    "    for i in log: print(i)\n",
    "else : \n",
    "    print('NO')"
   ]
  },
  {
   "cell_type": "markdown",
   "metadata": {},
   "source": [
    "### stack 2"
   ]
  },
  {
   "cell_type": "code",
   "execution_count": 31,
   "metadata": {},
   "outputs": [
    {
     "name": "stdout",
     "output_type": "stream",
     "text": [
      "mirkovniz4\n"
     ]
    }
   ],
   "source": [
    "# 9945번 : 문자열 폭발\n",
    "# import sys\n",
    "# input = sys.stdin.readline\n",
    "\n",
    "strs = list(input().rstrip())\n",
    "bomb = list(input().rstrip())\n",
    "bomb.reverse()\n",
    "stack = []\n",
    "for str in strs:\n",
    "    stack.append(str)\n",
    "    if str == bomb[0]:\n",
    "        tmp = []\n",
    "        for stk in bomb:\n",
    "            if stack:\n",
    "                item = stack.pop()\n",
    "                if item == stk:\n",
    "                    tmp.append(item)\n",
    "                else:\n",
    "                    tmp.append(item)\n",
    "                    tmp.reverse()\n",
    "                    stack.extend(tmp)\n",
    "                    break\n",
    "            else :\n",
    "                stack.extend(tmp)\n",
    "                break\n",
    "if stack:\n",
    "    print(''.join(stack))\n",
    "else:\n",
    "    print('FRULA')             "
   ]
  },
  {
   "cell_type": "code",
   "execution_count": null,
   "metadata": {},
   "outputs": [],
   "source": [
    "# 오큰수 - 1\n",
    "import sys\n",
    "sys.stdin = open('./input.txt')\n",
    "input = sys.stdin.readline\n",
    "\n",
    "n = int(input())\n",
    "nums = list(map(int,input().split()))\n",
    "tmp = []\n",
    "975"
   ]
  },
  {
   "cell_type": "code",
   "execution_count": null,
   "metadata": {},
   "outputs": [],
   "source": [
    "# 오큰수 - 2\n",
    "import sys\n",
    "from collections import Counter\n",
    "input = sys.stdin.readline\n",
    "\n",
    "n = int(input())\n",
    "arr = list(map(int,input().split()))\n",
    "cnt = Counter(arr)\n",
    "\n",
    "nums = [ cnt[x] for x in arr ]\n",
    "print(nums)\n",
    "tmp = []\n",
    "ans = [0 for _ in range(n)]\n",
    "for i,num in enumerate(nums):\n",
    "    print(i,num)\n",
    "    if not tmp:\n",
    "        tmp.append((i,num))\n",
    "    else:\n",
    "        while tmp and tmp[-1][1] < num:\n",
    "            idx, nge = tmp.pop()\n",
    "            ans[idx] = arr[i]\n",
    "        tmp.append((i,num))\n",
    "\n",
    "while tmp:\n",
    "    idx,nge = tmp.pop()\n",
    "    ans[idx] = -1\n",
    "\n",
    "for an in ans:\n",
    "    print(an,end = ' ')"
   ]
  },
  {
   "cell_type": "code",
   "execution_count": null,
   "metadata": {},
   "outputs": [],
   "source": [
    "# 16120번 : PPAP\n",
    "# 스택 + 문자열 \n",
    "import sys\n",
    "from collections import deque\n",
    "input = sys.stdin.readline\n",
    "\n",
    "sts = deque(list(input()))\n",
    "print(sts)\n",
    "stack = []\n",
    "ans = True\n",
    "flag = False\n",
    "while sts:\n",
    "    st = sts.popleft()\n",
    "    # p인 경우\n",
    "    if st == 'P':\n",
    "        if flag:\n",
    "            try :\n",
    "                stack.pop()\n",
    "                stack.pop()\n",
    "                stack.pop()\n",
    "            except:\n",
    "                ans = False\n",
    "                break\n",
    "            stack.append('P')\n",
    "            flag = False\n",
    "        else:\n",
    "            stack.append(st)\n",
    "\n",
    "    # a인 경우\n",
    "    else:\n",
    "        if flag:\n",
    "            ans = False\n",
    "            break\n",
    "        else:\n",
    "            stack.append(st)\n",
    "            flag = True\n",
    "\n",
    "if stack != ['P'] or not ans:\n",
    "    print('NP')\n",
    "else:\n",
    "    print('PPAP')"
   ]
  }
 ],
 "metadata": {
  "kernelspec": {
   "display_name": "Python 3",
   "language": "python",
   "name": "python3"
  },
  "language_info": {
   "codemirror_mode": {
    "name": "ipython",
    "version": 3
   },
   "file_extension": ".py",
   "mimetype": "text/x-python",
   "name": "python",
   "nbconvert_exporter": "python",
   "pygments_lexer": "ipython3",
   "version": "3.9.6"
  },
  "orig_nbformat": 4,
  "vscode": {
   "interpreter": {
    "hash": "31f2aee4e71d21fbe5cf8b01ff0e069b9275f58929596ceb00d14d90e3e16cd6"
   }
  }
 },
 "nbformat": 4,
 "nbformat_minor": 2
}
