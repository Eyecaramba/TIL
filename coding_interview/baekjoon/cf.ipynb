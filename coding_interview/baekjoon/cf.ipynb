{
 "cells": [
  {
   "attachments": {},
   "cell_type": "markdown",
   "metadata": {},
   "source": [
    "# 알고리즘 정리"
   ]
  },
  {
   "attachments": {},
   "cell_type": "markdown",
   "metadata": {},
   "source": [
    "### 3. 탐색"
   ]
  },
  {
   "attachments": {},
   "cell_type": "markdown",
   "metadata": {},
   "source": [
    "#### 3.1 이진탐색"
   ]
  },
  {
   "attachments": {},
   "cell_type": "markdown",
   "metadata": {},
   "source": [
    "#### 3.2 BFS(너비 우선 탐색)\n",
    "\n",
    "기본 구조\n",
    "```\n"
   ]
  },
  {
   "cell_type": "markdown",
   "metadata": {},
   "source": [
    "#### .cf"
   ]
  },
  {
   "cell_type": "markdown",
   "metadata": {},
   "source": [
    "#### 연산횟수와 시간제한\n",
    "\n",
    "- 연산횟수가 5억을 넘어가는 경우  \n",
    "c언어를 기준으로 통상 1~3초 가량 시간이 소요된다.  \n",
    "python을 기준으로 통상 5 ~ 15초 가량 시간이 소요된다. \n",
    " \n",
    "따라서 파이썬이 1초에 5000만번 정도 계산한다고 할 수 있다.  \n",
    "실제로 체점용 서버에서는 파이썬이 약 2000만번 정도 계산을 수행할 수 있다고 가정하고 풀어야 한다.  \n",
    "(그러나 체점용 컴퓨터의 성능에 따라 이 수치는 달라질 수 있다.)\n",
    "\n",
    "보통 코딩테스트 문제는 약 1초에서 5초 정도의 시간 제한이 걸려있다. \n",
    "\n",
    "문제를 맨 처음에 봤을 때 가장 먼저 확인해야하는 내용은 시간제한이다. \n",
    "\n",
    "N의 범위가 500인 경우 n^3까지  \n",
    "2000인 경우 n^2까지   \n",
    "100,000인 경우 NlogN까지  \n",
    "10,000,000인 경우 N까지의 알고리즘을 설계하면 문제를 풀 수 있다. "
   ]
  },
  {
   "cell_type": "code",
   "execution_count": 2,
   "metadata": {},
   "outputs": [
    {
     "data": {
      "text/plain": [
       "False"
      ]
     },
     "execution_count": 2,
     "metadata": {},
     "output_type": "execute_result"
    }
   ],
   "source": [
    "s = ['P']\n",
    "s == ['S']"
   ]
  },
  {
   "cell_type": "code",
   "execution_count": null,
   "metadata": {},
   "outputs": [],
   "source": []
  }
 ],
 "metadata": {
  "kernelspec": {
   "display_name": "Python 3",
   "language": "python",
   "name": "python3"
  },
  "language_info": {
   "codemirror_mode": {
    "name": "ipython",
    "version": 3
   },
   "file_extension": ".py",
   "mimetype": "text/x-python",
   "name": "python",
   "nbconvert_exporter": "python",
   "pygments_lexer": "ipython3",
   "version": "3.9.6 (default, Sep 26 2022, 11:37:49) \n[Clang 14.0.0 (clang-1400.0.29.202)]"
  },
  "orig_nbformat": 4,
  "vscode": {
   "interpreter": {
    "hash": "31f2aee4e71d21fbe5cf8b01ff0e069b9275f58929596ceb00d14d90e3e16cd6"
   }
  }
 },
 "nbformat": 4,
 "nbformat_minor": 2
}
