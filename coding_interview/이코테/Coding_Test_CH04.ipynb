{
 "cells": [
  {
   "cell_type": "code",
   "execution_count": null,
   "metadata": {},
   "outputs": [],
   "source": []
  }
 ],
 "metadata": {
  "kernelspec": {
   "display_name": "Python 3.9.13 64-bit",
   "language": "python",
   "name": "python3"
  },
  "language_info": {
   "name": "python",
   "version": "3.9.13"
  },
  "orig_nbformat": 4,
  "vscode": {
   "interpreter": {
    "hash": "4c200e70745bd8b16351f06fb1ed1f0da7a3e3242ea32eca0b25a0b4446c1dd5"
   }
  }
 },
 "nbformat": 4,
 "nbformat_minor": 2
}
