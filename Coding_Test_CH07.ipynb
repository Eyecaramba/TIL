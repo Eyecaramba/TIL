{
 "cells": [
  {
   "cell_type": "markdown",
   "metadata": {},
   "source": [
    "# Coding_Test_CH07"
   ]
  },
  {
   "cell_type": "markdown",
   "metadata": {},
   "source": [
    "#### 최단 경로 문제 \n",
    "\n",
    "##### 다익스트라 알고리즘 \n",
    "\n",
    "다익스트라 최단 경로 알고리즘 : 특정한 노드에서 출발해서 다른 모든 노드로 가는 최단 경로를 계산하는 알고리즘 \n",
    "\n",
    "다익스트라 알고리즘은 그리드 알고리즘으로 분류   \n",
    " - 매 상황에서 가장 비용이 적은 노드를 선택하는 과정을 반복하기 때문\n",
    "\n",
    " \n",
    "다익스트라 알고리즘 동작 과정  \n",
    "1. 출발 노드 설정\n",
    "2. 최단 거리 테이블 초기화 \n",
    "3. 방문하지 않은 노드 중 최단 거리가 가장 짦은 노드 선택 \n",
    "4. 해당 노드를 거쳐 다른 노드로 가는 비용을 계산하여 거리 테이블 갱신\n",
    "5. 3,4번 과정 반복  \n",
    "\n",
    "테이블은 시작 노드에서 지금까지 찾은 가장 짧은 경로의 거리를 저장\n",
    "\n",
    "1. 출발 노드 설정 \n",
    "2. 출발 노드와 다른 각 노드사이의 거리를 테이블에 기록 \n",
    "(출발노드와 연결된 직접적으로 연결된 노드라면 그 거리를 기록\n",
    "만일 직접적으로 연결되어 있지 않다면 INF로 기록)\n",
    "3. 가장 가까운 노드 찾기\n",
    "(방문 했음을 표시하기)\n",
    "방문 했다는 것은 출발 노드와 그 노드 사이의 최단 경로를 찾았다는 뜻 \n",
    "4. 출발 노드 -> 찾은 가장 가까운 노드 -> 다른 노드로 가는 거리와 \n",
    "테이블에 기록된 거리를 비교하여 전자의 거리가 더 낮다면 테이블 거리 갱신 \n",
    "5. 갱신된 테이블을 보고 방문하지 않은 노드 중 가장 거리가 가까운 노드 찾기 \n",
    "6. 3번과 4번을 다 찾을때까지 반복하기 \n",
    "\n",
    "  \n",
    "다익스트라 알고리즘이 최단경로를 보장하는 이유 :   \n",
    "방문하지 않은 노드 중에서 가장 짧은 노드를 선택할 때 그렇게 선택된 노드까지의 최단거리는 더 이상 변하지 않기 때문이다. \n",
    "\n"
   ]
  },
  {
   "cell_type": "code",
   "execution_count": 6,
   "metadata": {},
   "outputs": [
    {
     "ename": "ValueError",
     "evalue": "not enough values to unpack (expected 2, got 0)",
     "output_type": "error",
     "traceback": [
      "\u001b[0;31m---------------------------------------------------------------------------\u001b[0m",
      "\u001b[0;31mValueError\u001b[0m                                Traceback (most recent call last)",
      "\u001b[1;32m/Users/uzine/Library/CloudStorage/OneDrive-inu.ac.kr/GIT/Coding_Test/Coding_Test_CH07.ipynb 셀 3\u001b[0m in \u001b[0;36m<cell line: 7>\u001b[0;34m()\u001b[0m\n\u001b[1;32m      <a href='vscode-notebook-cell:/Users/uzine/Library/CloudStorage/OneDrive-inu.ac.kr/GIT/Coding_Test/Coding_Test_CH07.ipynb#ch0000003?line=3'>4</a>\u001b[0m INF \u001b[39m=\u001b[39m \u001b[39mint\u001b[39m(\u001b[39m1e9\u001b[39m)\n\u001b[1;32m      <a href='vscode-notebook-cell:/Users/uzine/Library/CloudStorage/OneDrive-inu.ac.kr/GIT/Coding_Test/Coding_Test_CH07.ipynb#ch0000003?line=5'>6</a>\u001b[0m \u001b[39m# 노드의 개수, 간선의 개수를 입력받기 \u001b[39;00m\n\u001b[0;32m----> <a href='vscode-notebook-cell:/Users/uzine/Library/CloudStorage/OneDrive-inu.ac.kr/GIT/Coding_Test/Coding_Test_CH07.ipynb#ch0000003?line=6'>7</a>\u001b[0m n,m \u001b[39m=\u001b[39m \u001b[39mmap\u001b[39m(\u001b[39mint\u001b[39m,\u001b[39minput\u001b[39m()\u001b[39m.\u001b[39msplit())\n\u001b[1;32m      <a href='vscode-notebook-cell:/Users/uzine/Library/CloudStorage/OneDrive-inu.ac.kr/GIT/Coding_Test/Coding_Test_CH07.ipynb#ch0000003?line=8'>9</a>\u001b[0m \u001b[39m# 시작 노드 입력받기 \u001b[39;00m\n\u001b[1;32m     <a href='vscode-notebook-cell:/Users/uzine/Library/CloudStorage/OneDrive-inu.ac.kr/GIT/Coding_Test/Coding_Test_CH07.ipynb#ch0000003?line=9'>10</a>\u001b[0m start \u001b[39m=\u001b[39m \u001b[39mint\u001b[39m(\u001b[39minput\u001b[39m())\n",
      "\u001b[0;31mValueError\u001b[0m: not enough values to unpack (expected 2, got 0)"
     ]
    }
   ],
   "source": [
    "import sys\n",
    "\n",
    "imput = sys.stdin.readline\n",
    "INF = int(1e9)\n",
    "\n",
    "# 노드의 개수, 간선의 개수를 입력받기 \n",
    "n,m = map(int,input().split())\n",
    "\n",
    "# 시작 노드 입력받기 \n",
    "start = int(input())\n",
    "\n",
    "# 각 노드엥 연결되어 있는 노드에 대한 정보를 담은 리스트 만들기 \n",
    "graph = [[] for i in range(n + 1)]\n",
    "# 최단 거리 테이블을 모두 무한으로 초기화 \n",
    "distance = [INF] * (n + 1)\n",
    "# 방문 리스트 모두 false로 초기화 \n",
    "visited = [False] * (n + 1)"
   ]
  },
  {
   "cell_type": "code",
   "execution_count": 3,
   "metadata": {},
   "outputs": [
    {
     "name": "stdout",
     "output_type": "stream",
     "text": [
      "[[], [], [], [], [], []]\n"
     ]
    }
   ],
   "source": [
    "n = 5\n",
    "graph = [[] for i in range(n + 1)]\n",
    "print(graph)"
   ]
  },
  {
   "cell_type": "code",
   "execution_count": 4,
   "metadata": {},
   "outputs": [],
   "source": [
    "# 방문하지 않은 노 중에서, 가장 최단 거리가 짧은 노드의 번호를 반환\n",
    "def get_small_node() : \n",
    "    min_value = INF\n",
    "    index = 0\n",
    "    for i in range(1,n + 1) : \n",
    "        if distance[i] < min_value and not visited[i] : \n",
    "            index = i\n",
    "    return index"
   ]
  },
  {
   "cell_type": "code",
   "execution_count": 5,
   "metadata": {},
   "outputs": [],
   "source": [
    "# 다익스트라 알고리즘 \n",
    "def dijkstra(start) : \n",
    "    # 시작 노드는 거리를 0 으로 설정\n",
    "    distance[start] = 0\n",
    "    \n",
    "    # 시작 노드 방문 처리 \n",
    "    visited[start] = True\n",
    "    \n",
    "    # \n",
    "    for j in graph[start] : \n",
    "        distance[j[0]] = j[1]\n",
    "    \n",
    "    # 시작 노드를 제외한 전체 n - 1 개의 노드에 대해 반복함 \n",
    "    for j in range(n-1) : \n",
    "        \n",
    "        # 현제 최단 거리가 가장 짧은 노드를 찾아서 방문처리 \n",
    "        now = get_small_node()\n",
    "        visited[now] = True\n",
    "        \n",
    "        # 현재 노드를 거쳐서 다른 노드로 이동하는 거리가 더 짧은 경우 거리 업데이트\n",
    "        for j in graph[now] : \n",
    "            cost = distance[now] + j[1]\n",
    "            if cost < distance[j[1]] : \n",
    "                distance[j[0]] = cost "
   ]
  },
  {
   "cell_type": "code",
   "execution_count": null,
   "metadata": {},
   "outputs": [],
   "source": [
    "for i in range(1,n+1) : \n",
    "    if distance[i] == INF : \n",
    "        print(\"infintiy\")\n",
    "    else : \n",
    "        print(distance[i])"
   ]
  },
  {
   "cell_type": "markdown",
   "metadata": {},
   "source": [
    "##### 다익스트라 알고리즘 시간복잡도 : O(v^2)"
   ]
  },
  {
   "cell_type": "markdown",
   "metadata": {},
   "source": [
    "#### 우선순위 큐 \n",
    "\n",
    "우선순위 큐 : 우선순위가 가장 높은 데이터를 가장 먼저 삭제하는 자료구조 \n",
    "\n",
    "리스트 - 삽입시간 O(1), 삭제시간 O(N)  \n",
    "힙 - 삽입시간 O(logN), 삭제시간 O(logN)"
   ]
  },
  {
   "cell_type": "code",
   "execution_count": 9,
   "metadata": {},
   "outputs": [
    {
     "name": "stdout",
     "output_type": "stream",
     "text": [
      "[0, 1, 2, 3, 4, 5, 6, 7, 8, 9]\n"
     ]
    }
   ],
   "source": [
    "# 힙 라이브러리 사용 예제 - 1\n",
    "\n",
    "import heapq\n",
    "\n",
    "# 오름차순 힙 정렬 \n",
    "def heapsort(iterable) : \n",
    "    # heap으로 사용될 h\n",
    "    h = []\n",
    "    result = []\n",
    "    \n",
    "    # 모든 원소를 차례대로 힙에 삽입\n",
    "    for value in iterable : \n",
    "        heapq.heappush(h,value)\n",
    "    \n",
    "    # 힙에 삽인된 모든 원소를 차례대로 꺼내어 담기 \n",
    "    for i in range(len(h)) : \n",
    "        result.append((heapq.heappop(h)))\n",
    "    return result\n",
    "\n",
    "result = heapsort([1,3,5,7,9,2,4,6,8,0])\n",
    "print(result)"
   ]
  },
  {
   "cell_type": "code",
   "execution_count": 10,
   "metadata": {},
   "outputs": [
    {
     "name": "stdout",
     "output_type": "stream",
     "text": [
      "[9, 8, 7, 6, 5, 4, 3, 2, 1, 0]\n"
     ]
    }
   ],
   "source": [
    "# 힙 라이브러리 사용 예제 - 2\n",
    "\n",
    "import heapq\n",
    "\n",
    "# 내림차순 힙 정렬 \n",
    "def heapsort(iterable) : \n",
    "    # heap으로 사용될 h\n",
    "    h = []\n",
    "    result = []\n",
    "    \n",
    "    # 모든 원소를 차례대로 힙에 삽입\n",
    "    # 내림차순으로 원하는 경우 힙에 삽입할 때 -를 붙여서 넣기 \n",
    "    for value in iterable : \n",
    "        heapq.heappush(h, -value)\n",
    "    \n",
    "    # 힙에 삽인된 모든 원소를 차례대로 꺼내어 담기 \n",
    "    # 힙에서 다시 꺼낼 때 -를 붙여서 꺼내기 \n",
    "    for i in range(len(h)) : \n",
    "        result.append(-heapq.heappop(h))\n",
    "    return result\n",
    "\n",
    "result = heapsort([1,3,5,7,9,2,4,6,8,0])\n",
    "print(result)"
   ]
  },
  {
   "cell_type": "markdown",
   "metadata": {},
   "source": [
    "#### 다익스트라 알고리즘 : 개선된 구현 방법 \n",
    "\n",
    "큐에는 (시작노드부터의 거리, 노드번호) 순서로 저장된다. \n",
    "1. 우선순위 큐에서 원소를 꺼냄 \n",
    "2. 만일 큐에서 꺼낸 원소가 이미 방문된 원소라면 다음 큐 원소를 진행함 \n",
    "3. 최단거리를 갱신함, 갱신한 노드는 heap에 저장함 \n",
    "4. 위 과정을 반복함 \n",
    "\n",
    "- 다익스트라 알고리즘과 기본적인 원리는 동일함\n",
    "- 그러나 가장 가까운 노드를 저장해 놓기 위해 힙 자료구조를 추가적으로 이용한다는 점이 다름 \n",
    "- 개선되기 전 방법은 가장 가까운 노드를 찾기 위해 거리 테이블을 모두 검색하였으나 heap은 (거리,노드)형태로 저장하여 가장 거리가 낮은 순 부터 빠르게 뽑아냄 "
   ]
  },
  {
   "cell_type": "code",
   "execution_count": 13,
   "metadata": {},
   "outputs": [],
   "source": [
    "def dijkstra_heap(start) :\n",
    "    # \n",
    "    q = []\n",
    "    \n",
    "    # 시작 노드로 가기 위한 최단 거리는 0으로 설정하여 큐에 삽입함 \n",
    "    heapq.heappush(q,(0,start))\n",
    "    distance[start] = 0\n",
    "    \n",
    "    # 큐가 비어있지 않다면\n",
    "    while q :  \n",
    "        # 가장 최단 거리가 짧은 노드에 대한 정보 꺼내기 \n",
    "        dist,now = heapq.heappop(q)\n",
    "        \n",
    "        # 현재 노드가 이미 처리된 적이 있는 노드라면 무시 \n",
    "        if distance[now] < dist : \n",
    "            continue\n",
    "        for i in graph[now] :\n",
    "            cost = dist + i[1] \n",
    "            if cost < distance[i[1]]  :\n",
    "                # 거리를 갱신했다면 heap에 저장함 \n",
    "                distance[i[0]] = cost\n",
    "                heapq.heappush(q,(cost,i[0]))"
   ]
  },
  {
   "cell_type": "markdown",
   "metadata": {},
   "source": [
    "##### 개선된 다익스트라 알고리즘 시간복잡도 : O(ElogV)"
   ]
  },
  {
   "cell_type": "markdown",
   "metadata": {},
   "source": [
    "##### 플로이드 워셜 알고리즘 \n",
    "\n",
    "플로이드 워셜 알고리즘 : 모든 노드에서 다른 모든 노드까지의 최단 경로를 모두 계산하는 알고리즘 \n",
    "\n",
    "- 다익스트라 알고리즘과 마찬가지로 단계별로 거쳐 가는 노드를 기준으로 알고리즘을 수행함 \n",
    "- 2차원 테이블에 최단 거리 정보를 저장함 \n",
    "- 플로이드 워셜 알고리즘은 다이나믹 ㅣ프로그래밍 유형에 속함\n",
    "\n",
    "-  각 단계마다 특정한 노드 k를 거쳐 가는 경우를 확인함 \n",
    "\n",
    "기본 점화식 \n",
    "Dab = min(Dab,Dak + Dkb)"
   ]
  },
  {
   "cell_type": "markdown",
   "metadata": {},
   "source": [
    "플로이드 워셜 알고리즘 동작 과정 \n",
    "\n",
    "최단거리 테이블을 2차원으로 만듦 \n",
    "1. 1번 노드를 거쳐 가는 경우를 고려해 테이블을 갱신함 \n",
    "2. 위 과정을 n번 반복한다. "
   ]
  },
  {
   "cell_type": "code",
   "execution_count": 16,
   "metadata": {},
   "outputs": [],
   "source": [
    "# 플로이드 워셜 알고리즘 구현 \n",
    "\n",
    "# 노드의 개수 및 간선의 개수를 입력받기 \n",
    "INF = int(1e9)\n",
    "n = 4\n",
    "m = 7\n",
    "# 2차원 리스트를 만들고 무한으로 초기화 \n",
    "graph = [[INF] * (n + 1) for _ in range(n + 1)]"
   ]
  },
  {
   "cell_type": "code",
   "execution_count": null,
   "metadata": {},
   "outputs": [],
   "source": [
    "# 자기 자신에서 자기 자신으로 가는 비용은 0으로 초기화함 \n",
    "for a in range(1,n + 1) : \n",
    "    for b in range(1,n + 1) : \n",
    "        if a == b : \n",
    "            graph[a][b] = 0\n",
    "\n",
    "\n",
    "for _ in range(m) : \n",
    "    a,b,c = map(int,input().split())\n",
    "    graph[a][b] = c"
   ]
  }
 ],
 "metadata": {
  "kernelspec": {
   "display_name": "Python 3.8.9 64-bit",
   "language": "python",
   "name": "python3"
  },
  "language_info": {
   "codemirror_mode": {
    "name": "ipython",
    "version": 3
   },
   "file_extension": ".py",
   "mimetype": "text/x-python",
   "name": "python",
   "nbconvert_exporter": "python",
   "pygments_lexer": "ipython3",
   "version": "3.8.9"
  },
  "orig_nbformat": 4,
  "vscode": {
   "interpreter": {
    "hash": "31f2aee4e71d21fbe5cf8b01ff0e069b9275f58929596ceb00d14d90e3e16cd6"
   }
  }
 },
 "nbformat": 4,
 "nbformat_minor": 2
}
