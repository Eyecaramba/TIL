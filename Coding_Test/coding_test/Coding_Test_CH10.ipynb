{
 "cells": [
  {
   "cell_type": "markdown",
   "metadata": {},
   "source": [
    "# Coding_Test_CH10"
   ]
  },
  {
   "cell_type": "markdown",
   "metadata": {},
   "source": [
    "### 개발형 코딩 테스트 \n",
    "\n",
    "정해진 목적에 따라 동작하는 완성된 프로그램을 개발하는 코딩테스트 \n",
    "\n",
    "완성도 높은 하나의 프로그램을 개발  \n",
    "모듈을 적절히 조합하는 능력이 요구됨\n",
    "\n",
    "개발형 코딩테스트는 분야에 따라 상세 요구사항이 다를 수 있음 \n",
    "\n",
    "모바일 클라이언트 개발 : ios, android etc \n",
    "web server 개발 : spring, django etc\n",
    "\n",
    "그러나 분야에 상관없이 꼭 알아야 하는 개념과 도구는 학습할 필요가 있음 \n",
    "ex) server, client, json, REST API, etc..."
   ]
  },
  {
   "cell_type": "markdown",
   "metadata": {},
   "source": [
    "#### server and client\n",
    "\n",
    "client(고객)\n",
    "- 서버로 요청을 보내고 응답이 도착할 때까지 기다림  \n",
    "- 서버로부터 응답을 받은 뒤 서버의 응답을 적절한 화면으로 출력함 \n",
    "\n",
    "server(서비스 제공자)\n",
    "- 받은 요청을 처리해서 응답을 전송함 "
   ]
  },
  {
   "cell_type": "markdown",
   "metadata": {},
   "source": [
    "##### "
   ]
  },
  {
   "cell_type": "markdown",
   "metadata": {},
   "source": [
    "#### http \n",
    "\n",
    "웹상에서 데이터를 주고받기 위한 프로토콜 "
   ]
  },
  {
   "cell_type": "code",
   "execution_count": 1,
   "metadata": {},
   "outputs": [
    {
     "name": "stdout",
     "output_type": "stream",
     "text": [
      "<!doctype html><html itemscope=\"\" itemtype=\"http://schema.org/WebPage\" lang=\"ko\"><head><meta content=\"text/html; charset=UTF-8\" http-equiv=\"Content-Type\"><meta content=\"/logos/doodles/2022/national-liberation-day-of-korea-2022-6753651837109632-law.gif\" itemprop=\"image\"><meta content=\"2022 &#44305;&#48373;&#51208;\" property=\"twitter:title\"><meta content=\"&#51228;77&#51452;&#45380; &#44305;&#48373;&#51208;&#51012; &#44592;&#45392;&#54633;&#45768;&#45796;. #GoogleDoodle\" property=\"twitter:description\"><meta content=\"&#51228;77&#51452;&#45380; &#44305;&#48373;&#51208;&#51012; &#44592;&#45392;&#54633;&#45768;&#45796;. #GoogleDoodle\" property=\"og:description\"><meta content=\"summary_large_image\" property=\"twitter:card\"><meta content=\"@GoogleDoodles\" property=\"twitter:site\"><meta content=\"https://www.google.com/logos/doodles/2022/national-liberation-day-of-korea-2022-6753651837109632-2xa.gif\" property=\"twitter:image\"><meta content=\"https://www.google.com/logos/doodles/2022/national-liberation-day-of-korea-2022-6753651837109632-2xa.gif\" property=\"og:image\"><meta content=\"1000\" property=\"og:image:width\"><meta content=\"400\" property=\"og:image:height\"><meta content=\"https://www.google.com/logos/doodles/2022/national-liberation-day-of-korea-2022-6753651837109632-2xa.gif\" property=\"og:url\"><meta content=\"video.other\" property=\"og:type\"><title>Google</title><script nonce=\"POotkbA14FSG7HlPcChI-g\">(function(){window.google={kEI:'K-b5YtSOAtOIr7wP4bKVgAc',kEXPI:'0,1302536,56873,6059,206,4804,2316,383,246,5,5367,1123753,1197661,55,380774,16115,17444,11240,17572,4859,1361,9291,3024,17584,4998,13228,6165,8304,22741,262,4819,1593,1279,2742,149,1103,840,2196,4101,108,3406,606,2023,1777,520,14670,3227,2845,7,4811,788,28171,1850,2615,13142,3,576,6460,148,13975,4,1528,2304,7039,25073,2658,7357,18095,13628,3158,5830,2527,4097,4049,3,3541,1,14262,24780,2,3110,2,14022,14116,11623,5679,1020,2381,28742,4568,6255,23421,1249,5838,12200,2767,4333,19,6071,1394,445,2,2,1,17312,7314,2006,8155,6582,100,699,1480,13200,2163,3087,2091,14454,8,1783,139,9779,24,6863,891,4637,5225,1490,5292,6900,3372,1460,5954,2265,3381,3880,484,68,984,122,700,4,1,2,2,2,2,3718,1619,616,1131,7,1,759,375,1211,286,2566,1581,47,1207,1831,582,2237,678,1964,1888,1581,265,140,236,278,278,422,981,304,14,82,326,25,301,2,11,68,416,270,338,118,1323,161,1282,81,405,334,2,142,1106,251,516,290,1542,323,126,90,81,698,63,2,4,928,434,221,648,152,238,176,145,1443,750,13,1077,150,117,1106,835,2,5367837,8800023,3311,141,795,19735,1,1,346,1194,1,10,2,10,2,23949266,4042142,1964,1007,1928,159,1358,12220,3406,7172',kBL:'CkVr'};google.sn='webhp';google.kHL='ko';})();(function(){\n",
      "var f=this||self;var h,k=[];function l(a){for(var b;a&&(!a.getAttribute||!(b=a.getAttribute(\"eid\")));)a=a.parentNode;return b||h}function m(a){for(var b=null;a&&(!a.getAttribute||!(b=a.getAttribute(\"leid\")));)a=a.parentNode;return b}\n",
      "function n(a,b,c,d,g){var e=\"\";c||-1!==b.search(\"&ei=\")||(e=\"&ei=\"+l(d),-1===b.search(\"&lei=\")&&(d=m(d))&&(e+=\"&lei=\"+d));d=\"\";!c&&f._cshid&&-1===b.search(\"&cshid=\")&&\"slh\"!==a&&(d=\"&cshid=\"+f._cshid);c=c||\"/\"+(g||\"gen_204\")+\"?atyp=i&ct=\"+a+\"&cad=\"+b+e+\"&zx=\"+Date.now()+d;/^http:/i.test(c)&&\"https:\"===window.location.protocol&&(google.ml&&google.ml(Error(\"a\"),!1,{src:c,glmm:1}),c=\"\");return c};h=google.kEI;google.getEI=l;google.getLEI=m;google.ml=function(){return null};google.log=function(a,b,c,d,g){if(c=n(a,b,c,d,g)){a=new Image;var e=k.length;k[e]=a;a.onerror=a.onload=a.onabort=function(){delete k[e]};a.src=c}};google.logUrl=n;}).call(this);(function(){\n",
      "google.y={};google.sy=[];google.x=function(a,b){if(a)var c=a.id;else{do c=Math.random();while(google.y[c])}google.y[c]=[a,b];return!1};google.sx=function(a){google.sy.push(a)};google.lm=[];google.plm=function(a){google.lm.push.apply(google.lm,a)};google.lq=[];google.load=function(a,b,c){google.lq.push([[a],b,c])};google.loadAll=function(a,b){google.lq.push([a,b])};google.bx=!1;google.lx=function(){};}).call(this);google.f={};(function(){\n",
      "document.documentElement.addEventListener(\"submit\",function(b){var a;if(a=b.target){var c=a.getAttribute(\"data-submitfalse\");a=\"1\"===c||\"q\"===c&&!a.elements.q.value?!0:!1}else a=!1;a&&(b.preventDefault(),b.stopPropagation())},!0);document.documentElement.addEventListener(\"click\",function(b){var a;a:{for(a=b.target;a&&a!==document.documentElement;a=a.parentElement)if(\"A\"===a.tagName){a=\"1\"===a.getAttribute(\"data-nohref\");break a}a=!1}a&&b.preventDefault()},!0);}).call(this);</script><style>#gbar,#guser{font-size:13px;padding-top:1px !important;}#gbar{height:22px}#guser{padding-bottom:7px !important;text-align:right}.gbh,.gbd{border-top:1px solid #c9d7f1;font-size:1px}.gbh{height:0;position:absolute;top:24px;width:100%}@media all{.gb1{height:22px;margin-right:.5em;vertical-align:top}#gbar{float:left}}a.gb1,a.gb4{text-decoration:underline !important}a.gb1,a.gb4{color:#00c !important}.gbi .gb4{color:#dd8e27 !important}.gbf .gb4{color:#900 !important}\n",
      "</style><style>body,td,a,p,.h{font-family:&#44404;&#47548;,&#46027;&#50880;,arial,sans-serif}.ko{font-size:9pt}body{margin:0;overflow-y:scroll}#gog{padding:3px 8px 0}td{line-height:.8em}.gac_m td{line-height:17px}form{margin-bottom:20px}.h{color:#1558d6}em{font-weight:bold;font-style:normal}.lst{height:25px;width:496px}.gsfi,.lst{font:18px arial,sans-serif}.gsfs{font:17px arial,sans-serif}.ds{display:inline-box;display:inline-block;margin:3px 0 4px;margin-left:4px}input{font-family:inherit}body{background:#fff;color:#000}a{color:#4b11a8;text-decoration:none}a:hover,a:active{text-decoration:underline}.fl a{color:#1558d6}a:visited{color:#4b11a8}.sblc{padding-top:5px}.sblc a{display:block;margin:2px 0;margin-left:13px;font-size:11px}.lsbb{background:#f8f9fa;border:solid 1px;border-color:#dadce0 #70757a #70757a #dadce0;height:30px}.lsbb{display:block}#WqQANb a{display:inline-block;margin:0 12px}.lsb{background:url(/images/nav_logo229.png) 0 -261px repeat-x;border:none;color:#000;cursor:pointer;height:30px;margin:0;outline:0;font:15px arial,sans-serif;vertical-align:top}.lsb:active{background:#dadce0}.lst:focus{outline:none}.tiah{width:458px}</style><script nonce=\"POotkbA14FSG7HlPcChI-g\">(function(){window.google.erd={jsr:1,bv:1632,de:true};\n",
      "var h=this||self;var k,l=null!=(k=h.mei)?k:1,n,p=null!=(n=h.sdo)?n:!0,q=0,r,t=google.erd,v=t.jsr;google.ml=function(a,b,d,m,e){e=void 0===e?2:e;b&&(r=a&&a.message);if(google.dl)return google.dl(a,e,d),null;if(0>v){window.console&&console.error(a,d);if(-2===v)throw a;b=!1}else b=!a||!a.message||\"Error loading script\"===a.message||q>=l&&!m?!1:!0;if(!b)return null;q++;d=d||{};b=encodeURIComponent;var c=\"/gen_204?atyp=i&ei=\"+b(google.kEI);google.kEXPI&&(c+=\"&jexpid=\"+b(google.kEXPI));c+=\"&srcpg=\"+b(google.sn)+\"&jsr=\"+b(t.jsr)+\"&bver=\"+b(t.bv);var f=a.lineNumber;void 0!==f&&(c+=\"&line=\"+f);var g=\n",
      "a.fileName;g&&(0<g.indexOf(\"-extension:/\")&&(e=3),c+=\"&script=\"+b(g),f&&g===window.location.href&&(f=document.documentElement.outerHTML.split(\"\\n\")[f],c+=\"&cad=\"+b(f?f.substring(0,300):\"No script found.\")));c+=\"&jsel=\"+e;for(var u in d)c+=\"&\",c+=b(u),c+=\"=\",c+=b(d[u]);c=c+\"&emsg=\"+b(a.name+\": \"+a.message);c=c+\"&jsst=\"+b(a.stack||\"N/A\");12288<=c.length&&(c=c.substr(0,12288));a=c;m||google.log(0,\"\",a);return a};window.onerror=function(a,b,d,m,e){r!==a&&(a=e instanceof Error?e:Error(a),void 0===d||\"lineNumber\"in a||(a.lineNumber=d),void 0===b||\"fileName\"in a||(a.fileName=b),google.ml(a,!1,void 0,!1,\"SyntaxError\"===a.name||\"SyntaxError\"===a.message.substring(0,11)||0<a.message.indexOf(\"Script error\")?2:0));r=null;p&&q>=l&&(window.onerror=null)};})();</script></head><body bgcolor=\"#fff\"><script nonce=\"POotkbA14FSG7HlPcChI-g\">(function(){var src='/images/nav_logo229.png';var iesg=false;document.body.onload = function(){window.n && window.n();if (document.images){new Image().src=src;}\n",
      "if (!iesg){document.f&&document.f.q.focus();document.gbqf&&document.gbqf.q.focus();}\n",
      "}\n",
      "})();</script><div id=\"mngb\"><div id=gbar><nobr><b class=gb1>&#44160;&#49353;</b> <a class=gb1 href=\"http://www.google.co.kr/imghp?hl=ko&tab=wi\">&#51060;&#48120;&#51648;</a> <a class=gb1 href=\"http://maps.google.co.kr/maps?hl=ko&tab=wl\">&#51648;&#46020;</a> <a class=gb1 href=\"https://play.google.com/?hl=ko&tab=w8\">Play</a> <a class=gb1 href=\"http://www.youtube.com/?gl=KR&tab=w1\">YouTube</a> <a class=gb1 href=\"https://news.google.com/?tab=wn\">&#45684;&#49828;</a> <a class=gb1 href=\"https://mail.google.com/mail/?tab=wm\">Gmail</a> <a class=gb1 href=\"https://drive.google.com/?tab=wo\">&#46300;&#46972;&#51060;&#48652;</a> <a class=gb1 style=\"text-decoration:none\" href=\"https://www.google.co.kr/intl/ko/about/products?tab=wh\"><u>&#45908;&#48372;&#44592;</u> &raquo;</a></nobr></div><div id=guser width=100%><nobr><span id=gbn class=gbi></span><span id=gbf class=gbf></span><span id=gbe></span><a href=\"http://www.google.co.kr/history/optout?hl=ko\" class=gb4>&#50937; &#44592;&#47197;</a> | <a  href=\"/preferences?hl=ko\" class=gb4>&#49444;&#51221;</a> | <a target=_top id=gb_70 href=\"https://accounts.google.com/ServiceLogin?hl=ko&passive=true&continue=http://www.google.com/&ec=GAZAAQ\" class=gb4>&#47196;&#44536;&#51064;</a></nobr></div><div class=gbh style=left:0></div><div class=gbh style=right:0></div></div><center><br clear=\"all\" id=\"lgpd\"><div id=\"lga\"><a href=\"/search?ie=UTF-8&amp;q=%EA%B4%91%EB%B3%B5%EC%A0%88&amp;oi=ddle&amp;ct=213611632&amp;hl=ko&amp;si=AC1wQDDagiMg03ncxeOQZbwVe-CJxRCchC-jr2hCPTxjc9wbgC7dSG1XE2ySiBvpW5XbhpfMbD7G11UqD83mdwKJt9tAKvc20-_vSOGtd-MflhpCaOUycbhFpu9fRmujmNZ2ltCFwVDVY97iuEgrPD_ijHAucYDOK3gjhECRdHzPQxLrj2FAwxIe9iLXe6Xsi3nEhsjszkxFKivYBYXEPbAvDcj3meX06leNeO5fXeThGDRBrrL6psA%3D&amp;sa=X&amp;ved=0ahUKEwiU0NjCmsj5AhVTxIsBHWFZBXAQPQgD\"><img alt=\"2022 &#44305;&#48373;&#51208;\" border=\"0\" height=\"200\" src=\"/logos/doodles/2022/national-liberation-day-of-korea-2022-6753651837109632-law.gif\" title=\"2022 &#44305;&#48373;&#51208;\" width=\"500\" id=\"hplogo\"><br></a><br></div><form action=\"/search\" name=\"f\"><table cellpadding=\"0\" cellspacing=\"0\"><tr valign=\"top\"><td width=\"25%\">&nbsp;</td><td align=\"center\" nowrap=\"\"><input name=\"ie\" value=\"ISO-8859-1\" type=\"hidden\"><input value=\"ko\" name=\"hl\" type=\"hidden\"><input name=\"source\" type=\"hidden\" value=\"hp\"><input name=\"biw\" type=\"hidden\"><input name=\"bih\" type=\"hidden\"><div class=\"ds\" style=\"height:32px;margin:4px 0\"><div style=\"position:relative;zoom:1\"><input class=\"lst tiah\" style=\"margin:0;padding:5px 8px 0 6px;vertical-align:top;color:#000;padding-right:38px\" autocomplete=\"off\" value=\"\" title=\"Google &#44160;&#49353;\" maxlength=\"2048\" name=\"q\" size=\"57\"><img src=\"/textinputassistant/tia.png\" style=\"position:absolute;cursor:pointer;right:5px;top:4px;z-index:300\" data-script-url=\"/textinputassistant/11/ko_tia.js\" id=\"tsuid1\" alt=\"\" height=\"23\" width=\"27\"><script nonce=\"POotkbA14FSG7HlPcChI-g\">(function(){var id='tsuid1';document.getElementById(id).onclick = function(){var s = document.createElement('script');s.src = this.getAttribute('data-script-url');(document.getElementById('xjsc')||document.body).appendChild(s);};})();</script></div></div><br style=\"line-height:0\"><span class=\"ds\"><span class=\"lsbb\"><input class=\"lsb\" value=\"Google &#44160;&#49353;\" name=\"btnG\" type=\"submit\"></span></span><span class=\"ds\"><span class=\"lsbb\"><input class=\"lsb\" id=\"tsuid2\" value=\"I&#8217;m Feeling Lucky\" name=\"btnI\" type=\"submit\"><script nonce=\"POotkbA14FSG7HlPcChI-g\">(function(){var id='tsuid2';document.getElementById(id).onclick = function(){if (this.form.q.value){this.checked = 1;if (this.form.iflsig)this.form.iflsig.disabled = false;}\n",
      "else top.location='/doodles/';};})();</script><input value=\"AJiK0e8AAAAAYvn0O1QgYGgpdtyNTcjdojKs3WObvBDg\" name=\"iflsig\" type=\"hidden\"></span></span></td><td class=\"fl sblc\" align=\"left\" nowrap=\"\" width=\"25%\"><a href=\"/advanced_search?hl=ko&amp;authuser=0\">&#44256;&#44553;&#44160;&#49353;</a></td></tr></table><input id=\"gbv\" name=\"gbv\" type=\"hidden\" value=\"1\"><script nonce=\"POotkbA14FSG7HlPcChI-g\">(function(){\n",
      "var a,b=\"1\";if(document&&document.getElementById)if(\"undefined\"!=typeof XMLHttpRequest)b=\"2\";else if(\"undefined\"!=typeof ActiveXObject){var c,d,e=[\"MSXML2.XMLHTTP.6.0\",\"MSXML2.XMLHTTP.3.0\",\"MSXML2.XMLHTTP\",\"Microsoft.XMLHTTP\"];for(c=0;d=e[c++];)try{new ActiveXObject(d),b=\"2\"}catch(h){}}a=b;if(\"2\"==a&&-1==location.search.indexOf(\"&gbv=2\")){var f=google.gbvu,g=document.getElementById(\"gbv\");g&&(g.value=a);f&&window.setTimeout(function(){location.href=f},0)};}).call(this);</script></form><div id=\"gac_scont\"></div><div style=\"font-size:83%;min-height:3.5em\"><br></div><span id=\"footer\"><div style=\"font-size:10pt\"><div style=\"margin:19px auto;text-align:center\" id=\"WqQANb\"><a href=\"/intl/ko/ads/\">&#44305;&#44256; &#54532;&#47196;&#44536;&#47016;</a><a href=\"http://www.google.co.kr/intl/ko/services/\">&#48708;&#51592;&#45768;&#49828; &#49556;&#47336;&#49496;</a><a href=\"/intl/ko/about.html\">Google &#51221;&#48372;</a><a href=\"http://www.google.com/setprefdomain?prefdom=KR&amp;prev=http://www.google.co.kr/&amp;sig=K_AMhweYsN-LSfi5xCbWzvYfGbVJI%3D\">Google.co.kr</a></div></div><p style=\"font-size:8pt;color:#70757a\">&copy; 2022 - <a href=\"/intl/ko/policies/privacy/\">&#44060;&#51064;&#51221;&#48372;&#52376;&#47532;&#48169;&#52840;</a> - <a href=\"/intl/ko/policies/terms/\">&#50557;&#44288;</a></p></span></center><script nonce=\"POotkbA14FSG7HlPcChI-g\">(function(){window.google.cdo={height:757,width:1440};(function(){\n",
      "var a=window.innerWidth,b=window.innerHeight;if(!a||!b){var c=window.document,d=\"CSS1Compat\"==c.compatMode?c.documentElement:c.body;a=d.clientWidth;b=d.clientHeight}a&&b&&(a!=google.cdo.width||b!=google.cdo.height)&&google.log(\"\",\"\",\"/client_204?&atyp=i&biw=\"+a+\"&bih=\"+b+\"&ei=\"+google.kEI);}).call(this);})();</script> <script nonce=\"POotkbA14FSG7HlPcChI-g\">(function(){google.xjs={ck:'xjs.hp.wV_mtd6jOzc.L.X.O',cs:'ACT90oE8p7n4ga-mWyYZacgHnEv7Rvgalg',excm:[]};})();</script>  <script nonce=\"POotkbA14FSG7HlPcChI-g\">(function(){var u='/xjs/_/js/k\\x3dxjs.hp.en.k5CZMAtuKq8.O/am\\x3dAMATAIAEACg/d\\x3d1/ed\\x3d1/rs\\x3dACT90oEJzCAGb4tdrN3Jh48o8KXxAFW9Sg/m\\x3dsb_he,d';\n",
      "var d=this||self,e=function(a){return a};\n",
      "var g;var l=function(a,b){this.g=b===h?a:\"\"};l.prototype.toString=function(){return this.g+\"\"};var h={};function n(){var a=u;google.lx=function(){p(a);google.lx=function(){}};google.bx||google.lx()}\n",
      "function p(a){google.timers&&google.timers.load&&google.tick&&google.tick(\"load\",\"xjsls\");var b=document;var c=\"SCRIPT\";\"application/xhtml+xml\"===b.contentType&&(c=c.toLowerCase());c=b.createElement(c);if(void 0===g){b=null;var k=d.trustedTypes;if(k&&k.createPolicy){try{b=k.createPolicy(\"goog#html\",{createHTML:e,createScript:e,createScriptURL:e})}catch(q){d.console&&d.console.error(q.message)}g=b}else g=b}a=(b=g)?b.createScriptURL(a):a;a=new l(a,h);c.src=a instanceof l&&a.constructor===l?a.g:\"type_error:TrustedResourceUrl\";var f,m;(f=(a=null==(m=(f=(c.ownerDocument&&c.ownerDocument.defaultView||window).document).querySelector)?void 0:m.call(f,\"script[nonce]\"))?a.nonce||a.getAttribute(\"nonce\")||\"\":\"\")&&c.setAttribute(\"nonce\",f);document.body.appendChild(c);google.psa=!0};google.xjsu=u;setTimeout(function(){n()},0);})();function _DumpException(e){throw e;}\n",
      "function _F_installCss(c){}\n",
      "(function(){google.jl={blt:'none',chnk:0,dw:false,dwu:true,emtn:0,end:0,ine:false,injs:'none',injt:0,injth:0,injv2:false,lls:'default',pdt:0,rep:0,snet:true,strt:0,ubm:false,uwp:true};})();(function(){var pmc='{\\x22d\\x22:{},\\x22sb_he\\x22:{\\x22agen\\x22:true,\\x22cgen\\x22:true,\\x22client\\x22:\\x22heirloom-hp\\x22,\\x22dh\\x22:true,\\x22dhqt\\x22:true,\\x22ds\\x22:\\x22\\x22,\\x22ffql\\x22:\\x22ko\\x22,\\x22fl\\x22:true,\\x22host\\x22:\\x22google.com\\x22,\\x22isbh\\x22:28,\\x22jsonp\\x22:true,\\x22msgs\\x22:{\\x22cibl\\x22:\\x22&#44160;&#49353;&#50612; &#51648;&#50864;&#44592;\\x22,\\x22dym\\x22:\\x22&#51060;&#44163;&#51012; &#52286;&#51004;&#49512;&#45208;&#50836;?\\x22,\\x22lcky\\x22:\\x22I&#8217;m Feeling Lucky\\x22,\\x22lml\\x22:\\x22&#51088;&#49464;&#55176; &#50508;&#50500;&#48372;&#44592;\\x22,\\x22oskt\\x22:\\x22&#51077;&#47141; &#46020;&#44396;\\x22,\\x22psrc\\x22:\\x22&#44160;&#49353;&#50612;&#44032; \\\\u003Ca href\\x3d\\\\\\x22/history\\\\\\x22\\\\u003E&#50937; &#44592;&#47197;\\\\u003C/a\\\\u003E&#50640;&#49436; &#49325;&#51228;&#46104;&#50632;&#49845;&#45768;&#45796;.\\x22,\\x22psrl\\x22:\\x22&#49325;&#51228;\\x22,\\x22sbit\\x22:\\x22&#51060;&#48120;&#51648;&#47196; &#44160;&#49353;\\x22,\\x22srch\\x22:\\x22Google &#44160;&#49353;\\x22},\\x22ovr\\x22:{},\\x22pq\\x22:\\x22\\x22,\\x22refpd\\x22:true,\\x22rfs\\x22:[],\\x22sbas\\x22:\\x220 3px 8px 0 rgba(0,0,0,0.2),0 0 0 1px rgba(0,0,0,0.08)\\x22,\\x22sbpl\\x22:16,\\x22sbpr\\x22:16,\\x22scd\\x22:10,\\x22stok\\x22:\\x22FAIgX40N3v12LFqSCEEa0YbcQOs\\x22,\\x22uhde\\x22:false}}';google.pmc=JSON.parse(pmc);})();</script>        </body></html>\n"
     ]
    }
   ],
   "source": [
    "# 파이썬 웹 요청 예제 : get 방식 \n",
    "import requests\n",
    "\n",
    "target = \"http://google.com\"\n",
    "response = requests.get(url = target)\n",
    "print(response.text)"
   ]
  },
  {
   "cell_type": "markdown",
   "metadata": {},
   "source": [
    "#### 개발형 코테 준비하기 \n",
    "\n",
    "오프라인 코테에서 json format 데이터를 응답하는 rest api를 활용해야 하니, rest api 호출과 json format 데이터를 파싱해 활용할 수 있는 parser 코드를 미리 준비해 오시기 바립니다. \n",
    "\n",
    "rest api, json "
   ]
  },
  {
   "cell_type": "markdown",
   "metadata": {},
   "source": [
    "#### REST 등장 배경 \n",
    "\n",
    "REST : 각 자원에 대하여 자원의 상태에 대한 정보를 주고받는 개발방식 \n",
    "\n",
    "REST 구성요소 \n",
    "\n",
    "resource : uri 이용 (어떤 자원에 접근하는지를 표시)  \n",
    "verb : http 메서드 이용 (자원에 대한 어떤 행위를 할지 표시 )  \n",
    "representations : 페이로드 이용 (상세 데이터에 대한 표현을 표시함)  \n",
    "\n",
    "사용자(resource) 회원등록(verb)을 하고 싶다  \n",
    "아이디는 ~~ 비밀번호는 ~~~로 설정하고 싶다. (representation)  \n",
    "\n",
    "-> \n",
    "\n",
    "uri : http://google.com  \n",
    "HTTP Method : POST  \n",
    "Payload : { \"id\" : \"myid\", \"password\" : \"1234\"}  \n",
    "\n"
   ]
  },
  {
   "cell_type": "markdown",
   "metadata": {},
   "source": [
    "#### REST API\n",
    "api : 프로그램이 상호작용하기 위한 인터페이스  \n",
    "rest api : rest 아키텍처를 따르는 API  \n",
    "rest api 호출 : REST 방식을 따르고 있는 서버에 특정한 요청을 전송하는 것 "
   ]
  },
  {
   "cell_type": "markdown",
   "metadata": {},
   "source": [
    "#### JSON\n",
    "\n",
    "프로그램끼리 api를 통해 상호작용할 때 데이터는 어떻게 주고받을 것인가?  \n",
    "json 형식을 통해 데이터를 주고받는다. \n",
    "\n",
    "json : 키와 값의 쌍으로 이루어진 객체들로 구성된 데이터 "
   ]
  },
  {
   "cell_type": "code",
   "execution_count": 3,
   "metadata": {},
   "outputs": [
    {
     "name": "stdout",
     "output_type": "stream",
     "text": [
      "{\n",
      "    \"id\": \"myid\",\n",
      "    \"password\": \"123\",\n",
      "    \"age\": 20,\n",
      "    \"hobby\": [\n",
      "        \"programming\",\n",
      "        \"basketball\"\n",
      "    ]\n",
      "}\n"
     ]
    }
   ],
   "source": [
    "import json \n",
    "\n",
    "# 사전 자료형 데이터 선언\n",
    "user = {\n",
    "    \"id\" : \"myid\",\n",
    "    \"password\" : \"123\",\n",
    "    \"age\" : 20,\n",
    "    \"hobby\" : [\"programming\",\"basketball\"]\n",
    "}\n",
    "\n",
    "# 파이썬 변수 json객체로 변환 \n",
    "json_data = json.dumps(user,indent = 4)\n",
    "print(json_data)\n",
    "\n",
    "# json data 파일로 저장 \n",
    "with open(\"user.json\",\"w\",encoding = \"utf-8\") as file : \n",
    "    json_data = json.dump(user,file,indent = 4)"
   ]
  },
  {
   "cell_type": "markdown",
   "metadata": {},
   "source": [
    "#### rest api 연습용\n",
    "\n",
    "mocking : 어떤 기능이 있는 것처럼 흉내내어 구현하는 것  \n",
    "가상 rest api 제공 서비스 : jsonplaceholder.typicode.com"
   ]
  },
  {
   "cell_type": "code",
   "execution_count": 4,
   "metadata": {},
   "outputs": [
    {
     "name": "stdout",
     "output_type": "stream",
     "text": [
      "['Leanne Graham', 'Ervin Howell', 'Clementine Bauch', 'Patricia Lebsack', 'Chelsey Dietrich', 'Mrs. Dennis Schulist', 'Kurtis Weissnat', 'Nicholas Runolfsdottir V', 'Glenna Reichert', 'Clementina DuBuque']\n"
     ]
    }
   ],
   "source": [
    "import requests\n",
    "\n",
    "#rest api 경로에 접속해서 응답 데이터 받아오기 \n",
    "target = \"http://jsonplaceholder.typicode.com/users\"\n",
    "response = requests.get(url=target)\n",
    "\n",
    "# 응답 데이터가 json 형식이므로 바로 파이썬 객체로 변환 \n",
    "data = response.json()\n",
    "\n",
    "# 모든 사용자 정보를 확인하여 이름 정보만 삽입 \n",
    "name_list = []\n",
    "for user in data : \n",
    "    name_list.append(user['name'])\n",
    "\n",
    "print(name_list)"
   ]
  },
  {
   "cell_type": "code",
   "execution_count": null,
   "metadata": {},
   "outputs": [],
   "source": []
  }
 ],
 "metadata": {
  "kernelspec": {
   "display_name": "Python 3.9.7 ('base')",
   "language": "python",
   "name": "python3"
  },
  "language_info": {
   "codemirror_mode": {
    "name": "ipython",
    "version": 3
   },
   "file_extension": ".py",
   "mimetype": "text/x-python",
   "name": "python",
   "nbconvert_exporter": "python",
   "pygments_lexer": "ipython3",
   "version": "3.9.7"
  },
  "orig_nbformat": 4,
  "vscode": {
   "interpreter": {
    "hash": "40d3a090f54c6569ab1632332b64b2c03c39dcf918b08424e98f38b5ae0af88f"
   }
  }
 },
 "nbformat": 4,
 "nbformat_minor": 2
}
