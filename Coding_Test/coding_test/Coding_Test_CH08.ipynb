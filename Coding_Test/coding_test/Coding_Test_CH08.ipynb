{
 "cells": [
  {
   "cell_type": "markdown",
   "metadata": {},
   "source": [
    "# Coding_Test_CH08"
   ]
  },
  {
   "cell_type": "markdown",
   "metadata": {},
   "source": [
    "##### 서로소 집합\n",
    "\n",
    "서로소 집합 : 공통 원소가 없는 두 집합\n",
    "\n",
    "서로소 집합 자료구조 : 서로소 부분 집합들로 나누어진 원소들의 데이터를 처리하기 위한 자료구조 \n",
    "\n",
    "합집합 : 두 개의 원소가 포함된 집합을 합치는 연산  \n",
    "찾기 : 특정한 원소가 속한 집합이 어떤 집합인지 알려주는 연산 "
   ]
  },
  {
   "cell_type": "markdown",
   "metadata": {},
   "source": [
    "합집합 연산 동작 과정  \n",
    "\n",
    " \n",
    "1. A와 B의 루트 노드 A',B'를 각각 찾습니다. \n",
    "2. A'를 B'의 부모 노드로 설정.\n",
    "\n",
    "모든 연산을 처리할 때까지 1번 과정을 반복함 "
   ]
  },
  {
   "cell_type": "markdown",
   "metadata": {},
   "source": [
    "서로소 집합 자료구조에서는 연결성을 통해 손쉽게 집합의 형태를 확인할 수 있다.\n",
    "\n",
    "기본적인 형태의 서로 집합 자료구조에 루트 노드에 즉시 접근 불가  \n",
    "루트 노드를 찾기 위해서는 부모 테이블을 계속해서 확인하여 거슬러 올라 가야함 "
   ]
  },
  {
   "cell_type": "code",
   "execution_count": 1,
   "metadata": {},
   "outputs": [],
   "source": [
    "# 특정 원소가 속한 집합 찾아내기 \n",
    "def find_parent(parent,x) : \n",
    "    if parent[x] != x:\n",
    "        return find_parent(parent,parent[x])\n",
    "    return x\n",
    "\n",
    "# 두 원소가 속한 집합 합치기 \n",
    "\n",
    "def union_parent(parent,a,b) : \n",
    "    a = find_parent(parent,a)\n",
    "    b = find_parent(parent,b)\n",
    "    if a < b : \n",
    "        parent[b] = a\n",
    "    else : \n",
    "        parent[a] = b"
   ]
  },
  {
   "cell_type": "code",
   "execution_count": 4,
   "metadata": {},
   "outputs": [
    {
     "name": "stdout",
     "output_type": "stream",
     "text": [
      "3 2\n",
      "1 2\n",
      "2 3\n"
     ]
    }
   ],
   "source": [
    "# 노드의 개수와 간선의 개수 입력받기 \n",
    "v,e = map(int,input().split())\n",
    "\n",
    "# 부모 테이블 초기화 \n",
    "parent = [0] * (v + 1)\n",
    "\n",
    "# 부모 테이블 상에서, 부모를 자기 자신으로 초기화 \n",
    "for i in range(1, v + 1) : \n",
    "    parent[i] = i\n",
    "    \n",
    "# 이후 수행할 연산을 입력받아 각각을 수행하면 됨 \n",
    "\n",
    "for e in range(e) : \n",
    "    a,b = map(int,input().split())\n",
    "    union_parent(parent,a,b)\n"
   ]
  },
  {
   "cell_type": "markdown",
   "metadata": {},
   "source": [
    "##### 서로소 집합 자료구조 : 기본 적인 구현 방법의 문제점 \n",
    "\n",
    "합집합 연산이 편향되게 (순서대로) 이루어지는 경우 비효율적으로 동작함  \n",
    "\n",
    "찾기함수(find_parent)는 최악의 경우 모든 노드를 다 확인해야 함으로 시간복잡도는 O(n)이 된다. "
   ]
  },
  {
   "cell_type": "markdown",
   "metadata": {},
   "source": [
    "##### 해결방법\n",
    "\n",
    "u(4,5) u(3,4) u(3,2) u(2,1)\n",
    "\n",
    "1-2-3-4-5 순서대로 연결되어 탐색에 비효율성을 만들 수 있다. \n",
    "\n",
    "이를 \n",
    "1-2\n",
    "1-3\n",
    "1-4\n",
    "1-5로 만들어서 "
   ]
  },
  {
   "cell_type": "code",
   "execution_count": 5,
   "metadata": {},
   "outputs": [],
   "source": [
    "##### 해결방법\n",
    "\n",
    "\n",
    "\n",
    "def find_parent_v2(parent,x) : \n",
    "    # 루트 노드가 아니라면, 루트 노드를 찾을 때까지 재귀적으로 호출함 \n",
    "    if parent[x] != x:\n",
    "        # 찾기 함수를 제귀적으로 호출한 뒤 부모 테이블 값을 바로 갱신 \n",
    "        parent[x] = find_parent(parent,parnet[x])\n",
    "    return parent[x]"
   ]
  },
  {
   "cell_type": "code",
   "execution_count": null,
   "metadata": {},
   "outputs": [],
   "source": []
  }
 ],
 "metadata": {
  "kernelspec": {
   "display_name": "Python 3 (ipykernel)",
   "language": "python",
   "name": "python3"
  },
  "language_info": {
   "codemirror_mode": {
    "name": "ipython",
    "version": 3
   },
   "file_extension": ".py",
   "mimetype": "text/x-python",
   "name": "python",
   "nbconvert_exporter": "python",
   "pygments_lexer": "ipython3",
   "version": "3.9.7"
  }
 },
 "nbformat": 4,
 "nbformat_minor": 2
}
