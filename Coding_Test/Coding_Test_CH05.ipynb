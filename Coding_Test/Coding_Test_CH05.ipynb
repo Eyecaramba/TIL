{
 "cells": [
  {
   "cell_type": "markdown",
   "metadata": {},
   "source": [
    "# Coding_Test_CH05"
   ]
  },
  {
   "cell_type": "markdown",
   "metadata": {},
   "source": [
    "#### 이진 탐색 알고리즘"
   ]
  },
  {
   "cell_type": "markdown",
   "metadata": {},
   "source": [
    "순차탐색 : 앞에서부터 데이터를 하나씩 확인하는 방법  \n",
    "이진탐색 : 탐색 범위를 절반씩 좁혀가면 데이터를 탐색하는 방법  \n",
    "시작점, 끝점, 중간점을 이용해 탐색 범위 설정 \n",
    "\n",
    "복잡도 : O(logN)"
   ]
  },
  {
   "cell_type": "code",
   "execution_count": 1,
   "metadata": {},
   "outputs": [],
   "source": [
    "# 재귀적 구현 in python \n",
    "def binary_search_recursive(array, target, start, end) : \n",
    "    if start > end : \n",
    "        return None\n",
    "    mid = (start + end) // 2\n",
    "    \n",
    "    if array[mid] == target : \n",
    "        return mid\n",
    "    elif array[mid] > target : \n",
    "        return binary_search_recursive(array,target,start,mid-1)\n",
    "    else : \n",
    "        return binary_search_recursive(array,target,mid + 1, end)"
   ]
  },
  {
   "cell_type": "code",
   "execution_count": 2,
   "metadata": {},
   "outputs": [],
   "source": [
    "def binary_search_iterative(array, target,start,end) : \n",
    "    while start <= end : \n",
    "        mid = (start + end) // 2\n",
    "        if array[mid] == target : \n",
    "            return mid \n",
    "        elif array[mid] > target : \n",
    "            end = mid -1\n",
    "        else : \n",
    "            start = mid + 1\n",
    "    return None"
   ]
  },
  {
   "cell_type": "code",
   "execution_count": 5,
   "metadata": {},
   "outputs": [
    {
     "name": "stdout",
     "output_type": "stream",
     "text": [
      "3\n"
     ]
    }
   ],
   "source": [
    "array = [1,3,5,7,9,11,13,15,17,19]\n",
    "target = 7\n",
    "\n",
    "result = binary_search_iterative(array,target,0,len(array))\n",
    "print(result)"
   ]
  },
  {
   "cell_type": "code",
   "execution_count": 20,
   "metadata": {},
   "outputs": [],
   "source": [
    "# 파이썬 이진 탐색 라이브러리 \n",
    "from bisect import bisect_left,bisect_right\n",
    "  \n",
    "# bisect_left : 정렬된 순서를 유지하며 배열에 x를 삽입할 가장 왼쪽 인덱스를 반환\n",
    "# bisect_right : 정렬된 순서를 유지하며 배열에 x를 삽입할 가장 오른쪽 인덱스를 반환 "
   ]
  },
  {
   "cell_type": "code",
   "execution_count": 7,
   "metadata": {},
   "outputs": [],
   "source": [
    "# 값이 특정 범위에 속하는 데이터 개수 구하기 \n",
    "\n",
    "def count_by_range(a, left_value, right_value) : \n",
    "    right_index = bisect_right(a,right_value)\n",
    "    left_index = bisect_left(a,left_value)\n",
    "    return right_index - left_index"
   ]
  },
  {
   "cell_type": "code",
   "execution_count": 8,
   "metadata": {},
   "outputs": [
    {
     "name": "stdout",
     "output_type": "stream",
     "text": [
      "2\n"
     ]
    }
   ],
   "source": [
    "a = [1,2,3,3,3,3,4,4,8,9]\n",
    "print(count_by_range(a,4,4))"
   ]
  },
  {
   "cell_type": "markdown",
   "metadata": {},
   "source": [
    "#### 파라메트릭 서치\n",
    " \n",
    "파라메트릭 서치 : 최적화 문제를 결정문제 (예 or 아니오)로 바꾸어 해결하는 기법 \n",
    "\n",
    "파라메트릭 서치 문제는 이진탐색을 이용해 해결 가능 "
   ]
  },
  {
   "cell_type": "code",
   "execution_count": 2,
   "metadata": {},
   "outputs": [],
   "source": [
    "# 문제 1 - 떡볶이 떡 만들기 \n",
    "\n",
    "# 떡의 개수 : n, 떡의 길이 : m \n",
    "# 적어도 m만큼의 떡을 집에 가져가기 위한 최댓값 \n",
    "# 절단기의 높이 : 0 ~ 10억\n",
    "# 잘린 떡의 길이의 총 합이 m이면 됨 \n",
    "\n",
    "n,m = 4,6\n",
    "a = [19,14,10,17]"
   ]
  },
  {
   "cell_type": "code",
   "execution_count": 3,
   "metadata": {},
   "outputs": [
    {
     "data": {
      "text/plain": [
       "[19, 17, 14, 10]"
      ]
     },
     "execution_count": 3,
     "metadata": {},
     "output_type": "execute_result"
    }
   ],
   "source": [
    "a.sort(reverse=1)\n",
    "a"
   ]
  },
  {
   "cell_type": "code",
   "execution_count": 9,
   "metadata": {},
   "outputs": [
    {
     "name": "stdout",
     "output_type": "stream",
     "text": [
      "15\n"
     ]
    }
   ],
   "source": [
    "sum = 0\n",
    "for i in range(a[0],0,-1) : \n",
    "    for l in range(len(a)) : \n",
    "        if(a[l] - i > 0) : \n",
    "            sum += a[l] - i\n",
    "    \n",
    "    if(sum >= m) : \n",
    "        print(i)\n",
    "        break;\n",
    "    sum = 0\n",
    "    \n",
    "# 위 문제의 절단기의 높이는 0부터 10억사이로 이렇게 큰 탐색의 범위를 보면 가장 먼저 이진탐색을 떠올려야 한다. "
   ]
  },
  {
   "cell_type": "code",
   "execution_count": 12,
   "metadata": {},
   "outputs": [],
   "source": [
    "n,m = 4,6\n",
    "array = [19,14,10,17]"
   ]
  },
  {
   "cell_type": "code",
   "execution_count": 14,
   "metadata": {},
   "outputs": [
    {
     "name": "stdout",
     "output_type": "stream",
     "text": [
      "15\n"
     ]
    }
   ],
   "source": [
    "# 문제 1 - 답안 예시\n",
    "\n",
    "# 이진 탐색을 위한 시작점과 끝점 설정 \n",
    "start = 0\n",
    "\n",
    "# max를 이용해 array의 최대값 찾기\n",
    "end = max(array)\n",
    "\n",
    "# 이진 탐색 수행 \n",
    "result = 0\n",
    "while(start <= end) : #start가 end보다 커지면 탐색 종료 \n",
    "    total = 0\n",
    "    \n",
    "    # 중간값을 찾고 중간값부터 찾기 시작 \n",
    "    mid = (start + end) // 2\n",
    "    \n",
    "    # 중간으로 잘랐을 때 total값을 구함 \n",
    "    for x in array : \n",
    "        if x > mid : \n",
    "            total += x - mid \n",
    "            \n",
    "    # 떡의 양이 부족한 경우 더 많이 자르기 (왼쪽 부분을 탐색함 )\n",
    "    if total < m : \n",
    "        end = mid -1 \n",
    "        \n",
    "    # 떡의 양이 충분한 경우 덜 자르기 (오른쪽 부분을 탐색함 )\n",
    "    else : \n",
    "        result = mid \n",
    "        start = mid + 1\n",
    "        \n",
    "print(result)"
   ]
  },
  {
   "cell_type": "code",
   "execution_count": 23,
   "metadata": {},
   "outputs": [],
   "source": [
    "# 문제 2 - 정렬된 배열에서 특정 수의 개수 구하기 \n",
    "\n",
    "# 오름차순으로 정렬된 n개의 원소를 포함한 수열 받음 \n",
    "# 입력받은 x가 수열에서 몇번 등장하는지 횟수를 계산하기 \n",
    "# 시간 복잠도 O(logN)으로 설계해야함 \n",
    "\n",
    "n,m = 7,2\n",
    "input_list = [1,1,2,2,2,2,3]"
   ]
  },
  {
   "cell_type": "code",
   "execution_count": 24,
   "metadata": {},
   "outputs": [],
   "source": [
    "def count_by_range(a, left_value, right_value) : \n",
    "    right_index = bisect_right(a,right_value)\n",
    "    left_index = bisect_left(a,left_value)\n",
    "    if right_index - left_index == 1 : \n",
    "        return -1\n",
    "    return right_index - left_index\n",
    "\n",
    "# 이진탐색으로 진행하지 않고 선형탐색으로 진행하면 시간초과 문제 발생 가능 "
   ]
  },
  {
   "cell_type": "code",
   "execution_count": 25,
   "metadata": {},
   "outputs": [
    {
     "data": {
      "text/plain": [
       "4"
      ]
     },
     "execution_count": 25,
     "metadata": {},
     "output_type": "execute_result"
    }
   ],
   "source": [
    "count_by_range(input_list,2,2)"
   ]
  },
  {
   "cell_type": "code",
   "execution_count": null,
   "metadata": {},
   "outputs": [],
   "source": [
    "# 문제 2 - 답안예시 \n",
    "# 위와 비슷함 \n"
   ]
  }
 ],
 "metadata": {
  "kernelspec": {
   "display_name": "Python 3.8.9 64-bit",
   "language": "python",
   "name": "python3"
  },
  "language_info": {
   "codemirror_mode": {
    "name": "ipython",
    "version": 3
   },
   "file_extension": ".py",
   "mimetype": "text/x-python",
   "name": "python",
   "nbconvert_exporter": "python",
   "pygments_lexer": "ipython3",
   "version": "3.8.9"
  },
  "orig_nbformat": 4,
  "vscode": {
   "interpreter": {
    "hash": "31f2aee4e71d21fbe5cf8b01ff0e069b9275f58929596ceb00d14d90e3e16cd6"
   }
  }
 },
 "nbformat": 4,
 "nbformat_minor": 2
}
