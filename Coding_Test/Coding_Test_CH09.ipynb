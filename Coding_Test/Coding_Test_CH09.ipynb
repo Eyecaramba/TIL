{
 "cells": [
  {
   "cell_type": "markdown",
   "metadata": {},
   "source": [
    "# Coding_Test_CH09\n",
    "\n",
    "코테에서 자주 출제되는 기타 알고리즘 "
   ]
  },
  {
   "cell_type": "markdown",
   "metadata": {},
   "source": [
    "##### 소수 판별 알고리즘 \n",
    "\n",
    "소수 : 1보다 큰 자연수 중에서 1과 자기 자신 제외하고 자연수로 떨어지지 않는 알고리즘 "
   ]
  },
  {
   "cell_type": "code",
   "execution_count": 1,
   "metadata": {},
   "outputs": [],
   "source": [
    "# 소수 판별 알고리즘 \n",
    "def is_prime(x) : \n",
    "    for i in range(2,x) : \n",
    "        if x % i == 0 : \n",
    "            return False\n",
    "    return True\n",
    "\n",
    "# 시간 복잡도 : O(n)"
   ]
  },
  {
   "cell_type": "markdown",
   "metadata": {},
   "source": [
    "##### 에라토스테네스의 채 \n",
    "\n",
    "2부터 n까지의 자연수 중에서 모든 소수를 구하는 알고리즘 \n",
    "\n",
    "약수는 대칭적이라는 것을 활용하여 제거해나감 \n",
    "\n",
    "어떤 수의 배수가 아닌 숫자만 남게됨 "
   ]
  },
  {
   "cell_type": "code",
   "execution_count": 5,
   "metadata": {},
   "outputs": [
    {
     "name": "stdout",
     "output_type": "stream",
     "text": [
      "2 3 5 7 11 13 17 19 23 29 31 37 41 43 47 53 59 61 67 71 73 79 83 89 97 101 103 107 109 113 127 131 137 139 149 151 157 163 167 173 179 181 191 193 197 199 211 223 227 229 233 239 241 251 257 263 269 271 277 281 283 293 307 311 313 317 331 337 347 349 353 359 367 373 379 383 389 397 401 409 419 421 431 433 439 443 449 457 461 463 467 479 487 491 499 503 509 521 523 541 547 557 563 569 571 577 587 593 599 601 607 613 617 619 631 641 643 647 653 659 661 673 677 683 691 701 709 719 727 733 739 743 751 757 761 769 773 787 797 809 811 821 823 827 829 839 853 857 859 863 877 881 883 887 907 911 919 929 937 941 947 953 967 971 977 983 991 997 "
     ]
    }
   ],
   "source": [
    "import math\n",
    "\n",
    "n = 1000 \n",
    "array = [ True for i in range(n + 1)]\n",
    "\n",
    "# 2부터 제곱근까지만 확인하면 됨 \n",
    "for i in range(2, int(math.sqrt(n)) + 1) : \n",
    "    # 만일 아직 방문하지 않았다면 false로 바꾸기 \n",
    "    if array[i] == True : \n",
    "        j = 2\n",
    "        while i * j <= n : \n",
    "            array[i * j] = False\n",
    "            j += 1\n",
    "            \n",
    "for i in range(2,n+1) : \n",
    "    if array[i] : \n",
    "        print(i,end = ' ')"
   ]
  },
  {
   "cell_type": "markdown",
   "metadata": {},
   "source": [
    "에라토스테네스의 체 알고리즘의 시간복잡도 : O(NLogLogN)\n",
    "\n",
    "시간 복잡도는 거의 선형에 가깝다.\n",
    "\n",
    "그러나 에라토스테네스의 체는 각 자연수에 대한 소수 여부를 저장해야 함으로 메모리가 많이 필요하다. \n",
    "\n"
   ]
  },
  {
   "cell_type": "markdown",
   "metadata": {},
   "source": [
    "##### 투 포인터 \n",
    "\n",
    "리스트에 순차적으로 접근해야 할 때 두 개의 점의 위치를 기록하면서 처리하는 알고리즘 "
   ]
  },
  {
   "cell_type": "code",
   "execution_count": 1,
   "metadata": {},
   "outputs": [],
   "source": [
    "# 특정한 합을 가지는 부분 연속 수열 찾기 문제 \n",
    "# 제약조건 : O(N)\n",
    "n = 5\n",
    "array = [1,2,3,2,5]\n"
   ]
  },
  {
   "cell_type": "code",
   "execution_count": 9,
   "metadata": {},
   "outputs": [
    {
     "name": "stdout",
     "output_type": "stream",
     "text": [
      "3\n"
     ]
    }
   ],
   "source": [
    "# sol - 1 -> 제한시간 초과 ?\n",
    "cnt = 0\n",
    "\n",
    "for i in range(len(array)) : \n",
    "    for l in range(i,len(array)) : \n",
    "        if i == l : \n",
    "            if array[i] == n : \n",
    "                cnt += 1\n",
    "        elif sum(array[i:l]) == n : \n",
    "            cnt += 1\n",
    "            break\n",
    "        \n",
    "print(cnt)"
   ]
  },
  {
   "cell_type": "code",
   "execution_count": 3,
   "metadata": {},
   "outputs": [
    {
     "name": "stdout",
     "output_type": "stream",
     "text": [
      "3\n"
     ]
    }
   ],
   "source": [
    "# sol - 2 \n",
    "\n",
    "# 시작과 끝 점이 첫번째 원소의 인덱스를 가리키도록 한다\n",
    "# 현재 부분 합이 m과 같다면 카운트 \n",
    "# 현재 부분 합이 m보다 작다면 end증가 \n",
    "# 현재 부분 합이 m보다 크다면 start 증가 \n",
    "# 모든 경우 확인할때까지 반복 \n",
    "\n",
    "n = 5\n",
    "m = 5\n",
    "data = [1,2,3,2,5]\n",
    "\n",
    "count = 0\n",
    "interval_sum = 0\n",
    "end = 0\n",
    "\n",
    "for start in range(n) : \n",
    "    while interval_sum < m and end < n: \n",
    "        interval_sum += data[end]\n",
    "        end += 1\n",
    "    if interval_sum == m : \n",
    "        count += 1\n",
    "    interval_sum -= data[start]\n",
    "\n",
    "print(count)\n"
   ]
  },
  {
   "cell_type": "code",
   "execution_count": 14,
   "metadata": {},
   "outputs": [
    {
     "name": "stdout",
     "output_type": "stream",
     "text": [
      "2 3\n",
      "1 2\n",
      "*****\n",
      "3 2\n",
      "2 3\n",
      "*****\n",
      "5 5\n",
      "4 4\n",
      "*****\n",
      "3\n"
     ]
    }
   ],
   "source": [
    "# sol - 3 : \n",
    "\n",
    "n = 5\n",
    "m = 5\n",
    "data = [1,2,3,2,5]\n",
    "\n",
    "count,start,end = 0,0,0\n",
    "interval_sum = data[0]\n",
    "\n",
    "# start or end 중 하나가 길이를 벗어나면 종료 \n",
    "while start < n and end < n : \n",
    "    if interval_sum > m : \n",
    "        interval_sum -= data[start]\n",
    "        if start < end : \n",
    "            start += 1\n",
    "        else : \n",
    "            start += 1\n",
    "            end += 1\n",
    "    elif interval_sum < m : \n",
    "        end += 1\n",
    "        interval_sum += data[end]\n",
    "    else :\n",
    "        print(data[start],data[end])\n",
    "        print(start, end)\n",
    "        print(\"*****\")\n",
    "        count += 1\n",
    "        if start == end : \n",
    "            end += 1\n",
    "            if(start < n and end < n) : \n",
    "                interval_sum += data[end]\n",
    "        elif start < end : \n",
    "            if(start < n and end < n) : \n",
    "                interval_sum -= data[start]\n",
    "                start += 1\n",
    "            \n",
    "\n",
    "\n",
    "print(count)\n",
    "        "
   ]
  },
  {
   "cell_type": "markdown",
   "metadata": {},
   "source": [
    "##### 구간 합 문제 \n",
    "\n",
    "구간 합 문제 : 연속적으로 나열된 n개의 수에서 특정 구간의 모든 수를 합한 값을 계산하는 문제\n",
    "\n",
    "시간 제한 : O(n + m)"
   ]
  },
  {
   "cell_type": "markdown",
   "metadata": {},
   "source": [
    "idea 1 : 접두사 합 \n",
    "n개의 수 위치 각각에 대하여 접두사 합을 계산하여 테이블에 저장  \n",
    "start 부터 end까지의 구간 합은 data[start] - data[end-1]\n",
    "\n",
    "* 그냥 구하는 것 보다 더 빠른가? \n",
    "\n",
    "for문을 사용하면 시간 복잡도는 O(n)\n",
    "구간 합 알고리즘은 O(1)의 성능을 가진다. \n",
    "\n",
    "한번의 합을 구할때는 시간이 비슷할 수 있으나 같은 data를 두고 여러 구간을 물어볼때는 for문을 사용하면 그때마다 계속해서 구해주어야 한다. \n",
    "\n",
    "반면 접두사 합은 이미 계산된 테이블이 있음으로 상수시간 내에 처리가 가능하다. \n",
    "\n",
    "ex) \n",
    "\n",
    "같은 데이터에서 100개의 서로 다른 구간의 합을 구해주세요 \n",
    "\n",
    "for문을 활용한 구간합 : 100번을 계산해야함  \n",
    "접두사합을 활용한 구간합 : 만들어진 테이블에서 빼기 한번만 계산해도 됨 "
   ]
  },
  {
   "cell_type": "markdown",
   "metadata": {},
   "source": [
    "#### cf\n",
    "\n",
    "부분 합 : 0 ~ k까지의 합  \n",
    "구간 합 : a ~ b까지의 합 \n"
   ]
  },
  {
   "cell_type": "code",
   "execution_count": 16,
   "metadata": {},
   "outputs": [
    {
     "name": "stdout",
     "output_type": "stream",
     "text": [
      "70\n",
      "[0, 10, 30, 60, 100, 150]\n"
     ]
    }
   ],
   "source": [
    "n = 5\n",
    "\n",
    "data = [10,20,30,40,50]\n",
    "\n",
    "sum_value = 0\n",
    "\n",
    "prefix_sum = [0]\n",
    "\n",
    "for i in data : \n",
    "    sum_value += i\n",
    "    prefix_sum.append(sum_value)\n",
    "\n",
    "left = 3\n",
    "right = 4\n",
    "print(prefix_sum[right] - prefix_sum[left-1])\n",
    "print(prefix_sum)"
   ]
  },
  {
   "cell_type": "code",
   "execution_count": null,
   "metadata": {},
   "outputs": [],
   "source": []
  }
 ],
 "metadata": {
  "kernelspec": {
   "display_name": "Python 3.9.7 ('base')",
   "language": "python",
   "name": "python3"
  },
  "language_info": {
   "codemirror_mode": {
    "name": "ipython",
    "version": 3
   },
   "file_extension": ".py",
   "mimetype": "text/x-python",
   "name": "python",
   "nbconvert_exporter": "python",
   "pygments_lexer": "ipython3",
   "version": "3.9.7"
  },
  "orig_nbformat": 4,
  "vscode": {
   "interpreter": {
    "hash": "40d3a090f54c6569ab1632332b64b2c03c39dcf918b08424e98f38b5ae0af88f"
   }
  }
 },
 "nbformat": 4,
 "nbformat_minor": 2
}
