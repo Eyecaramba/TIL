{
 "cells": [
  {
   "cell_type": "markdown",
   "metadata": {},
   "source": [
    "# 1 ~ 5 단계"
   ]
  },
  {
   "cell_type": "code",
   "execution_count": 1,
   "metadata": {},
   "outputs": [],
   "source": [
    "import sys"
   ]
  },
  {
   "cell_type": "code",
   "execution_count": 1,
   "metadata": {},
   "outputs": [
    {
     "name": "stdout",
     "output_type": "stream",
     "text": [
      "-1\n"
     ]
    }
   ],
   "source": [
    "# 1001번 \n",
    "# 여러개의 숫자를 입력받을시 map 함수 이용하기 \n",
    "num1, num2 = map(int,input().split(' '))\n",
    "print(num1 - num2)"
   ]
  },
  {
   "cell_type": "code",
   "execution_count": 1,
   "metadata": {},
   "outputs": [
    {
     "name": "stdout",
     "output_type": "stream",
     "text": [
      "0.3333333333333333\n"
     ]
    }
   ],
   "source": [
    "# 1008번\n",
    "num1, num2 = map(float,input().split(' '))\n",
    "print(num1 / num2)"
   ]
  },
  {
   "cell_type": "code",
   "execution_count": null,
   "metadata": {},
   "outputs": [],
   "source": [
    "# 18108번 \n",
    "print(int(input())-543)"
   ]
  },
  {
   "cell_type": "code",
   "execution_count": 2,
   "metadata": {},
   "outputs": [
    {
     "name": "stdout",
     "output_type": "stream",
     "text": [
      "0 0 0 0 0 0 "
     ]
    }
   ],
   "source": [
    "# 3003번 : 킹, 퀸, 룩, 비숏, 나이트, 폰 \n",
    "# 킹 1개, 퀸 1개, 룩 2개, 비숍 2개, 나이트 2개, 폰 8개가 있어야 1세트\n",
    "\n",
    "chess_set = [1,1,2,2,2,8]\n",
    "num =list(map(int,input().split(' ')))\n",
    "for i in range(6):\n",
    "    print(chess_set[i] - num[i],end = ' ')"
   ]
  },
  {
   "cell_type": "markdown",
   "metadata": {},
   "source": [
    "# 2.조건문"
   ]
  },
  {
   "cell_type": "code",
   "execution_count": null,
   "metadata": {},
   "outputs": [],
   "source": [
    "#2480번 : 주사위 세개\n",
    "\n",
    "num1,num2,num3 = map(int,input().split(' '))\n",
    "\n",
    "if num1 == num2 == num3 : \n",
    "    print(10000 + num1 * 1000)\n",
    "elif num1 == num2 or num2 == num3 or num1 == num3:\n",
    "    print()\n",
    "else: \n",
    "    "
   ]
  },
  {
   "cell_type": "markdown",
   "metadata": {},
   "source": [
    "# 3. 반복문"
   ]
  },
  {
   "cell_type": "code",
   "execution_count": null,
   "metadata": {},
   "outputs": [],
   "source": [
    "import sys\n",
    "num = int(input())\n",
    "\n",
    "for _ in range(num):\n",
    "    a,b = map(int,sys.stdin.readline().split())\n",
    "    print(a+b)"
   ]
  },
  {
   "cell_type": "markdown",
   "metadata": {},
   "source": [
    "input() 대신 sys.stdin.readline()을 사용하는 이유 \n",
    "\n",
    "\n",
    "input : parameter로 prompt message를 받을 수 있다.  \n",
    "sys.stdin.readline() : parameter로 prompt message를 인수 받지 않는다. "
   ]
  },
  {
   "cell_type": "markdown",
   "metadata": {},
   "source": [
    "# 4. 1차원 배열"
   ]
  },
  {
   "cell_type": "code",
   "execution_count": null,
   "metadata": {},
   "outputs": [],
   "source": [
    "# 4344번 : 평균은 넘겠지 \n",
    "\n",
    "num_line = int(input())\n",
    "\n",
    "for i in range(num_line):\n",
    "    num_list = list(map(int,input().split()))\n",
    "    mean = sum(num_list[1:]) / num_list[0]\n",
    "    cnt = 0\n",
    "    for l in range(1,num_list[0]+1):\n",
    "        if num_list[l] > mean : cnt += 1\n",
    "    percent = cnt/num_list[0] * 100\n",
    "    print('%0.3f%%'%percent)"
   ]
  },
  {
   "cell_type": "markdown",
   "metadata": {},
   "source": [
    "# 5. 2차원 배열"
   ]
  },
  {
   "cell_type": "code",
   "execution_count": 1,
   "metadata": {},
   "outputs": [],
   "source": [
    "# 2738번 : 행렬 덧셈\n",
    "import numpy as np \n",
    "import sys\n",
    "n,m = map(int,sys.stdin.readline().split(' '))\n",
    "\n",
    "a = []\n",
    "\n",
    "for i in range(n):\n",
    "    for l in range(m):\n",
    "        a.append(list(int,sys.stdin.readline().split(' ')))\n",
    "\n",
    "arr_a = np.array(a)\n",
    "\n",
    "b = []\n",
    "for i in range(n):\n",
    "    for l in range(m):\n",
    "        b.append(list(int,sys.stdin.readline().split(' ')))\n",
    "\n",
    "arr_b = np.array(b)\n",
    "\n",
    "arr_a += arr_b\n",
    "\n",
    "for row in range(n):\n",
    "    for col in range(m):\n",
    "        print(arr_a[row][col],end=' ')\n",
    "    print('\\n')"
   ]
  },
  {
   "cell_type": "code",
   "execution_count": 2,
   "metadata": {},
   "outputs": [
    {
     "data": {
      "text/plain": [
       "[1, 2, 3, 1, 2, 3]"
      ]
     },
     "execution_count": 2,
     "metadata": {},
     "output_type": "execute_result"
    }
   ],
   "source": [
    "a = [1,2,3]\n",
    "b = [1,2,3]\n",
    "a + b"
   ]
  },
  {
   "cell_type": "code",
   "execution_count": null,
   "metadata": {},
   "outputs": [],
   "source": []
  }
 ],
 "metadata": {
  "kernelspec": {
   "display_name": "Python 3.9.12 ('base')",
   "language": "python",
   "name": "python3"
  },
  "language_info": {
   "codemirror_mode": {
    "name": "ipython",
    "version": 3
   },
   "file_extension": ".py",
   "mimetype": "text/x-python",
   "name": "python",
   "nbconvert_exporter": "python",
   "pygments_lexer": "ipython3",
   "version": "3.9.12"
  },
  "orig_nbformat": 4,
  "vscode": {
   "interpreter": {
    "hash": "282d57acf3b4dfca65187be3f86b1a31e69b57bff5ce0c421bf06d8a6b0ef157"
   }
  }
 },
 "nbformat": 4,
 "nbformat_minor": 2
}
