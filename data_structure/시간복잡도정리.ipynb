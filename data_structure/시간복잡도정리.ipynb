{
 "cells": [
  {
   "cell_type": "markdown",
   "metadata": {},
   "source": [
    "##### stack vs dequeue"
   ]
  },
  {
   "cell_type": "markdown",
   "metadata": {},
   "source": [
    "리스트 자료형 메서드의 시간 복잡도 \n",
    "\n",
    "index, pop, append, clear,  : O(1)  \n",
    "pop(index) : O(n) 해당 요소를 삭제하고 그 뒤에 있는 원소를 하나씩 앞으로 옮겨야 하기 때문  \n",
    "remove, insert, delete, reverse : O(n)  \n",
    "\n",
    "sort : O(NlogN)"
   ]
  },
  {
   "cell_type": "markdown",
   "metadata": {},
   "source": [
    "dequeue 메서드의 시간복잡도 \n",
    "\n",
    "index, append, appendleft, pop, popleft : O(1)  \n",
    "rotate(k) : O(k)  \n",
    "remove(idx) : O(n)  \n"
   ]
  },
  {
   "cell_type": "markdown",
   "metadata": {},
   "source": [
    "dequeue는 양 쪽 끝의 요소를 제거하거나 추가할 때 모두 O(1)의 시간이 걸리지만 list는 맨 앞에 있는 요소를 삭제하거나 삽입할 때 O(n)의 시간이 걸림으로 양 끝을 접근해야 하는 경우는 dequeue를 사용하는 것이 더 유리하다. "
   ]
  },
  {
   "cell_type": "markdown",
   "metadata": {},
   "source": []
  }
 ],
 "metadata": {
  "kernelspec": {
   "display_name": "Python 3.11.0 64-bit",
   "language": "python",
   "name": "python3"
  },
  "language_info": {
   "name": "python",
   "version": "3.11.0"
  },
  "orig_nbformat": 4,
  "vscode": {
   "interpreter": {
    "hash": "aee8b7b246df8f9039afb4144a1f6fd8d2ca17a180786b69acc140d282b71a49"
   }
  }
 },
 "nbformat": 4,
 "nbformat_minor": 2
}
