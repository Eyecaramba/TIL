{
 "cells": [
  {
   "cell_type": "markdown",
   "metadata": {},
   "source": [
    "# Coding_Test_CH03"
   ]
  },
  {
   "cell_type": "markdown",
   "metadata": {},
   "source": [
    "### 그래프 탐색 알고리즘 : DFS/BFS  \n",
    "\n",
    "탐색 : 원하는 데이터를 찾는 과정  "
   ]
  },
  {
   "cell_type": "markdown",
   "metadata": {},
   "source": [
    "#### 자료구조 \n",
    "\n",
    "스택 : 선입후출  \n",
    "큐 : 선입선출"
   ]
  },
  {
   "cell_type": "code",
   "execution_count": 2,
   "metadata": {},
   "outputs": [
    {
     "data": {
      "text/plain": [
       "2"
      ]
     },
     "execution_count": 2,
     "metadata": {},
     "output_type": "execute_result"
    }
   ],
   "source": [
    "## 스택 in python - list 자료구조를 활용함 \n",
    "stack = []  \n",
    "stack.append(5)\n",
    "stack.append(4)\n",
    "stack.pop()\n",
    "stack.append(3)\n",
    "stack.append(2)\n",
    "stack.pop()"
   ]
  },
  {
   "cell_type": "code",
   "execution_count": 5,
   "metadata": {},
   "outputs": [
    {
     "name": "stdout",
     "output_type": "stream",
     "text": [
      "deque([2, 3])\n"
     ]
    }
   ],
   "source": [
    "## 큐 in python - deque를 활용함\n",
    "from collections import deque\n",
    "\n",
    "queue = deque()\n",
    "queue.append(5)\n",
    "queue.append(4)\n",
    "queue.popleft()\n",
    "queue.append(3)\n",
    "queue.append(2)\n",
    "queue.popleft()\n",
    "\n",
    "queue.reverse()\n",
    "print(queue)"
   ]
  },
  {
   "cell_type": "markdown",
   "metadata": {},
   "source": [
    "#### 재귀함수  \n",
    "재귀함수 : 자기 자신을 다시 호출하는 함수  \n",
    "\n",
    "재귀함수는 무한히 호출되는 것을 방지하기 위해 반드시 종료조건이 명시되어 있어야 한다.  \n",
    "\n",
    "파이썬에서는 재귀함수를 호출할 수 있는 깊이가 제한되어 있다.  \n",
    "\n",
    "재귀함수는 반복문을 이용해 동일한 기능을 구현할 수 있음 \n",
    "\n",
    "재귀 함수가 반복문보다 유리한 경우도 있고 불리한 경우도 있음 \n",
    "\n",
    "컴퓨터가 함수를 연속적으로 호출하면 컴퓨터 메모리 내부의 스택 프레임에 계속 쌓기게 된다.   \n",
    "그래서 스택을 사용해야 할 때 구현상 스택 라이브러리 대신 재귀 함수를 이용하는 경우가 많음 "
   ]
  },
  {
   "cell_type": "code",
   "execution_count": 9,
   "metadata": {},
   "outputs": [
    {
     "name": "stdout",
     "output_type": "stream",
     "text": [
      "120\n",
      "120\n"
     ]
    }
   ],
   "source": [
    "# 팩토리열 구현 예제  \n",
    "\n",
    "# 반복적으로 구현한 팩토리열 \n",
    "def factorial(n) : \n",
    "    result = 1\n",
    "    for i in range (1,n + 1) : \n",
    "        result *= i\n",
    "    return result\n",
    "\n",
    "# 재귀적으로 구현한 팩토리열 \n",
    "def factorial_recursive(n) : \n",
    "    if n <= 1 : \n",
    "        return 1\n",
    "    return n * factorial(n-1)\n",
    "\n",
    "print(factorial(5))\n",
    "print(factorial_recursive(5))"
   ]
  },
  {
   "cell_type": "code",
   "execution_count": 12,
   "metadata": {},
   "outputs": [
    {
     "data": {
      "text/plain": [
       "6"
      ]
     },
     "execution_count": 12,
     "metadata": {},
     "output_type": "execute_result"
    }
   ],
   "source": [
    "# 최대공약수 계산 예제 \n",
    "\n",
    "def gcd(a,b) : \n",
    "    if a % b == 0 : return b\n",
    "    return gcd(b,a%b)\n",
    "\n",
    "gcd(192,162)"
   ]
  },
  {
   "cell_type": "markdown",
   "metadata": {},
   "source": [
    "### DFS : 깊이 우선 탐색 \n",
    "\n",
    "DFS 작동 과정  \n",
    "1. 탐색 시작 노드를 스택에 삽입 하고 방문처리\n",
    "2. 스택의 최상단 노드에 방문하지 않은 인접한 노드가 하나라도 있으면 스택에 넣고 방문처리  \n",
    "방문하지 않은 인접 노드가 없으면 스택에서 최상단 노드를 꺼냄 \n",
    "3. 2번 과정을 수행할 수 없을 때까지 반복함 \n",
    "\n"
   ]
  },
  {
   "cell_type": "markdown",
   "metadata": {},
   "source": [
    "### BFS : 넓이 우선 탐색\n",
    "\n",
    "BFS 작동과정 \n",
    "1. 탐색 시작 노드를 큐에 삽입하고 방문처리 \n",
    "2. 큐에서 노드를 꺼낸 뒤 해당 노드의 인접 노드 중 방문하지 않는 노드를 모두 큐에 삽입, 방문처리 \n",
    "3. 2번 과정을 수행할 수 없을 때까지 반복함 "
   ]
  },
  {
   "cell_type": "code",
   "execution_count": 16,
   "metadata": {},
   "outputs": [
    {
     "name": "stdout",
     "output_type": "stream",
     "text": [
      "['00110', '00011', '11111', '00000']\n"
     ]
    }
   ],
   "source": [
    "# 문제 1 - 음료수 얼려 먹기 \n",
    "\n",
    "n,m = map(int,input().split())\n",
    "\n",
    "matrix = []\n",
    "for i in range(n) : \n",
    "    matrix.append(input())\n",
    "print(matrix)\n",
    "    "
   ]
  },
  {
   "cell_type": "code",
   "execution_count": 24,
   "metadata": {},
   "outputs": [],
   "source": [
    "def search_ice(row,col,visited) : \n",
    "    # 방문 표시하기  \n",
    "    visited[row][col] = 1\n",
    "    # 인접한 행렬이 존재하고\n",
    "    if(row + 1 >= 0 and row + 1 < n and col >= 0 and col < m) :\n",
    "        # 인접한 행렬이 방문되어 있지 않고 0이라면 그 행렬을 기준으로 인접한 행렬 탐색\n",
    "        if visited[row+1][col] == 0 and matrix[row+1][col] == '0' : \n",
    "            search_ice(row+1,col,visited)\n",
    "    if(row - 1 >= 0 and row - 1 < n and col >= 0 and col < m) : \n",
    "        if visited[row-1][col] == 0 and matrix[row-1][col] == '0' : \n",
    "            search_ice(row-1,col,visited)\n",
    "    if(row >= 0 and row < n and col + 1 >= 0 and col + 1 < m) : \n",
    "        if visited[row][col + 1] == 0 and matrix[row][col + 1] == '0' : \n",
    "            search_ice(row,col + 1,visited)\n",
    "    if(row >= 0 and row < n and col - 1 >= 0 and col - 1 < m) : \n",
    "        if visited[row][col-1] == 0 and matrix[row][col-1] == '0' : \n",
    "            search_ice(row+1,col,visited)\n",
    "            \n",
    "            \n",
    "            \n",
    "# 조건문을 줄일 수 있는 방법이 있었는데 너무 난잡하게 적음 "
   ]
  },
  {
   "cell_type": "code",
   "execution_count": 25,
   "metadata": {},
   "outputs": [
    {
     "name": "stdout",
     "output_type": "stream",
     "text": [
      "3\n"
     ]
    }
   ],
   "source": [
    "visited = [[0 for _ in range(m)] for _ in range(n)]\n",
    "count = 0\n",
    "for row in range(n) : \n",
    "    for col in range(m) : \n",
    "        if(visited[row][col] == 0 and matrix[row][col] == '0') : \n",
    "            count += 1\n",
    "            search_ice(row,col,visited)\n",
    "\n",
    "print(count)\n",
    "           "
   ]
  },
  {
   "cell_type": "code",
   "execution_count": 12,
   "metadata": {},
   "outputs": [],
   "source": [
    "# 문제 1 - 예시답안 \n",
    "def dfs(x,y) : \n",
    "    if x <= -1 or x >= n or y <=-1 or y >= m : \n",
    "        return False\n",
    "    \n",
    "    if graph[x][y] == 0 : \n",
    "        graph[x][y] = 1\n",
    "        dfs(x+1,y)\n",
    "        dfs(x-1,y)\n",
    "        dfs(x,y+1)\n",
    "        dfs(x,y-1)\n",
    "        return True\n",
    "    return False"
   ]
  },
  {
   "cell_type": "code",
   "execution_count": 13,
   "metadata": {},
   "outputs": [
    {
     "name": "stdout",
     "output_type": "stream",
     "text": [
      "3\n"
     ]
    }
   ],
   "source": [
    "n,m = map(int,input().split())\n",
    "graph = []\n",
    "for i in range(n) : \n",
    "    graph.append(list(map(int,input())))\n",
    "result = 0\n",
    "for i in range(n) : \n",
    "    for j in range(m) : \n",
    "        if dfs(i,j) == True : \n",
    "            result += 1\n",
    "\n",
    "print(result)"
   ]
  },
  {
   "cell_type": "code",
   "execution_count": 1,
   "metadata": {},
   "outputs": [
    {
     "name": "stdout",
     "output_type": "stream",
     "text": [
      "[[1, 0, 1, 0, 1, 0], [1, 1, 1, 1, 1, 1], [0, 0, 0, 0, 0, 1], [1, 1, 1, 1, 1, 1], [1, 1, 1, 1, 1, 1]]\n"
     ]
    }
   ],
   "source": [
    "# 문제 2 - 미로탈출 \n",
    "\n",
    "n,m = map(int,input().split())\n",
    "\n",
    "miro = []\n",
    "for _ in range(n) : \n",
    "    miro.append(list(map(int,input())))\n",
    "\n",
    "print(miro)\n"
   ]
  },
  {
   "cell_type": "code",
   "execution_count": 2,
   "metadata": {},
   "outputs": [],
   "source": [
    "def search_miro(row,col) :\n",
    "    # 미로 상 가능한 곳에 있는지 확인하기 \n",
    "    count += 1\n",
    "    # 우선 오른쪽이 갈 수 있는지 확인\n",
    "    if is_possible(row,col+1) : \n",
    "        stack.append(row,col+1)\n",
    "        search_miro(row,col+1)\n",
    "    # 아래쪽이 갈 수 있는지 확인\n",
    "    elif is_possible(row,col+1) : \n",
    "        search_miro(row,col+1)\n",
    "    # 왼쪽이 갈 수 있는지 확인\n",
    "    elif is_possible(row,col+1) : \n",
    "        search_miro(row,col+1)\n",
    "    # 위쪽이 갈 수 있는지 확인 \n",
    "    elif is_possible(row,col+1) : \n",
    "        search_miro(row,col+1)\n",
    "    \n",
    "def is_possible(row,col) :\n",
    "    if row <= -1 or row >= m or col <= -1 or col >= n : \n",
    "        return False\n",
    "    return True\n",
    "    \n",
    "        "
   ]
  },
  {
   "cell_type": "code",
   "execution_count": 5,
   "metadata": {},
   "outputs": [],
   "source": [
    "# 문제 - 2 예시답안 \n",
    "from collections import deque\n",
    "# 핵심 아이디어 : 플레이어가 갈 수 있는 모든 자리에 시작점부터 얼마나 떨어져 있는지 표시한다. \n",
    "def bfs(x,y) : \n",
    "    queue = deque()\n",
    "    queue.append((x,y))\n",
    "    while queue:\n",
    "        x,y = queue.popleft()\n",
    "        for i in range(4):\n",
    "            nx = x + dx[i]\n",
    "            ny = y + dy[i]\n",
    "            if nx < 0 or nx >= n or ny < 0 or ny >= m : \n",
    "                continue\n",
    "            if graph[nx][ny] == 0 : \n",
    "                continue\n",
    "            if graph[nx][ny] == 1 : \n",
    "                graph[nx][ny] = graph[x][y] + 1\n",
    "                queue.append((nx,ny))\n",
    "    return graph[n-1][m-1]"
   ]
  },
  {
   "cell_type": "code",
   "execution_count": 6,
   "metadata": {},
   "outputs": [
    {
     "name": "stdout",
     "output_type": "stream",
     "text": [
      "10\n"
     ]
    }
   ],
   "source": [
    "graph  = miro\n",
    "dx = [-1,1,0,0]\n",
    "dy = [0,0,-1,1]\n",
    "print(bfs(0,0))"
   ]
  },
  {
   "cell_type": "code",
   "execution_count": null,
   "metadata": {},
   "outputs": [],
   "source": []
  }
 ],
 "metadata": {
  "kernelspec": {
   "display_name": "Python 3.9.7 ('base')",
   "language": "python",
   "name": "python3"
  },
  "language_info": {
   "codemirror_mode": {
    "name": "ipython",
    "version": 3
   },
   "file_extension": ".py",
   "mimetype": "text/x-python",
   "name": "python",
   "nbconvert_exporter": "python",
   "pygments_lexer": "ipython3",
   "version": "3.9.7"
  },
  "orig_nbformat": 4,
  "vscode": {
   "interpreter": {
    "hash": "40d3a090f54c6569ab1632332b64b2c03c39dcf918b08424e98f38b5ae0af88f"
   }
  }
 },
 "nbformat": 4,
 "nbformat_minor": 2
}
