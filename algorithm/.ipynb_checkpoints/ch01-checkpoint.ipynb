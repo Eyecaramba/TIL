{
 "cells": [
  {
   "cell_type": "markdown",
   "metadata": {},
   "source": [
    "### 1. 이진 탐색 알고리즘 구현"
   ]
  },
  {
   "cell_type": "code",
   "execution_count": 39,
   "metadata": {},
   "outputs": [],
   "source": [
    "def binarySearch(a,key,left,right) : \n",
    "    if left <= right : \n",
    "        mid = (left + right) // 2 \n",
    "        if key ==  a[mid] : return mid\n",
    "        elif key < a[mid] : return binarySearch(a,key,left,mid-1)\n",
    "        elif key > a[mid] : return binarySearch(a,key,mid+1,right)\n",
    "    else : return -1"
   ]
  },
  {
   "cell_type": "code",
   "execution_count": 41,
   "metadata": {},
   "outputs": [
    {
     "name": "stdout",
     "output_type": "stream",
     "text": [
      "-1\n",
      "4\n"
     ]
    }
   ],
   "source": [
    "a = [2,4,6,8,10,12,14,16]\n",
    "print(binarySearch(a,18,0,len(a)-1))\n",
    "print(binarySearch(a,10,0,len(a)-1))"
   ]
  },
  {
   "cell_type": "markdown",
   "metadata": {},
   "source": [
    "### 2.에라토스테네스의 체 "
   ]
  },
  {
   "cell_type": "markdown",
   "metadata": {},
   "source": [
    "##### ADL 작성\n",
    "sieveOfEratos(n)  \n",
    "    table <- []  \n",
    "    for(i <- 0; i < N+1 ; i <- i+1) do  \n",
    "        table[i] <- i  \n",
    "    for(i <- 2 ; i < n//2 ; i <- i+1) do  \n",
    "        if ( table[i] == 0 ) then  \n",
    "            continue  \n",
    "        else :  \n",
    "            m <- i  \n",
    "            while( m+i < n+1 ) :  \n",
    "                table[m+i] = 0  \n",
    "                m = m+i  \n",
    "    return table  \n",
    "end sieveOfEratos()  "
   ]
  },
  {
   "cell_type": "code",
   "execution_count": 45,
   "metadata": {},
   "outputs": [],
   "source": [
    "# 파이썬 구현 \n",
    "def sieveOfEratos(n) : \n",
    "    table = [i for i in range(0,n+1)]\n",
    "    \n",
    "    table[1] = 0\n",
    "    for i in range(2,n//2) :\n",
    "        if table[i] == 0 : \n",
    "            continue\n",
    "        else :\n",
    "            m = i\n",
    "            while m +i< n+1 : \n",
    "                table[m+i] = 0\n",
    "                m = m+i\n",
    "                \n",
    "    result = []\n",
    "    for i in range(0,len(table)-1) : \n",
    "        if table[i] != 0 : \n",
    "            result.append(table[i])\n",
    "    \n",
    "    return result"
   ]
  },
  {
   "cell_type": "code",
   "execution_count": 46,
   "metadata": {},
   "outputs": [
    {
     "name": "stdout",
     "output_type": "stream",
     "text": [
      "[2, 3, 5, 7, 11, 13, 17, 19, 23, 29, 31, 37, 41, 43, 47, 53, 59, 61, 67, 71, 73, 79, 83, 89, 97]\n"
     ]
    }
   ],
   "source": [
    "print(sieveOfEratos(100))"
   ]
  },
  {
   "cell_type": "markdown",
   "metadata": {},
   "source": [
    "### 3.정렬 알고리즘 파이썬으로 구현 \n",
    "\n",
    "- 이 정렬 알고리즘 ADL에서는 리스트의 0번째 인덱스는 남겨두고 1 ~ N까지의 데이터를 1번째 인덱스부터 저장한다. \n",
    "- 0번째를 비워두는 이유는 배열의 한계값을 넘어가지 않도록 모든 원소보다 작은 값(dummy key)를 0번째에 저장해두기 위해서다."
   ]
  },
  {
   "cell_type": "markdown",
   "metadata": {},
   "source": [
    "##### 선택정렬 알고리즘 ADL\n",
    "selectionSort(a[n],n)  \n",
    "    for ( i <- 1 ; i<n ; i <- i+1 ) do {  \n",
    "        min = i  \n",
    "        for (j <- i+1 ; j < n+1 ; j <- j+1) do   \n",
    "            if (a[min] > a[j]) then min <- j  \n",
    "        a[min]와 a[i] 교환  \n",
    "    }  \n",
    "    return a  \n",
    "end selectionSort()  "
   ]
  },
  {
   "cell_type": "code",
   "execution_count": 88,
   "metadata": {},
   "outputs": [],
   "source": [
    "# 선택 정렬 알고리즘 python\n",
    "def selectionSort(a,n) : \n",
    "    for i in range(1,n) : \n",
    "        min = i\n",
    "        for j in range(i+1,n+1) : \n",
    "            if a[min] > a[j] : \n",
    "                min = j\n",
    "        a[min],a[i] = a[i],a[min]\n",
    "    return a"
   ]
  },
  {
   "cell_type": "code",
   "execution_count": 90,
   "metadata": {},
   "outputs": [
    {
     "name": "stdout",
     "output_type": "stream",
     "text": [
      "[0, 1, 2, 3, 4, 5]\n"
     ]
    }
   ],
   "source": [
    "a = [0,3,2,5,1,4] #0은 dummy key\n",
    "n = 5\n",
    "print(selectionSort(a,n))"
   ]
  },
  {
   "cell_type": "markdown",
   "metadata": {},
   "source": [
    "##### 버블 정렬 알고리즘 ADL  \n",
    "bubbleSort(a[],n)  \n",
    "    for(i <- n; i >= 1 ; i <- i-1) do  \n",
    "        for (l <- 1 ; l < i ; l < l+1) do   \n",
    "            if (a[l] > a[l+1]) then  \n",
    "                a[l]과 a[l+1] 교환  \n",
    "    return a  \n",
    "end bubbleSort()"
   ]
  },
  {
   "cell_type": "code",
   "execution_count": 100,
   "metadata": {},
   "outputs": [],
   "source": [
    "# 버블 정렬 알고리즘 python\n",
    "# a는 정렬 대상 리스트, n은 리스트의 원소 개수\n",
    "def bubbleSort(a,n) : \n",
    "    for i in range(n,0,-1) : \n",
    "        for l in range(1,i) : \n",
    "            if a[l] > a[l+1] : \n",
    "                a[l],a[l+1] = a[l+1],a[l]\n",
    "    return a"
   ]
  },
  {
   "cell_type": "code",
   "execution_count": 101,
   "metadata": {},
   "outputs": [
    {
     "name": "stdout",
     "output_type": "stream",
     "text": [
      "[0, 1, 2, 3, 4, 5]\n"
     ]
    }
   ],
   "source": [
    "a = [0,3,2,5,1,4] # 0은 dummpy key\n",
    "n = 5\n",
    "print(bubbleSort(a,n))"
   ]
  },
  {
   "cell_type": "markdown",
   "metadata": {},
   "source": [
    "##### 삽입 정렬 알고리즘 ADL\n",
    "\n",
    "insertionSort(a[],n)  \n",
    "    for( i<-2, i <= n, i <- i+1) do {\n",
    "        v <- a[i]\n",
    "        j <- i\n",
    "        while(a[j-1] > v) do {\n",
    "            a[j] <- a[j-1];\n",
    "            j <- 1;\n",
    "        }\n",
    "        A[j] <- v;\n",
    "    }\n",
    "end insertionSort()\n"
   ]
  },
  {
   "cell_type": "code",
   "execution_count": 115,
   "metadata": {},
   "outputs": [],
   "source": [
    "# 삽입 정렬 알고리즘 \n",
    "def insertionSort(a,n) : \n",
    "    for i in range(2,n+1) : \n",
    "        v,j = a[i],i\n",
    "        while a[j-1] > v : \n",
    "            a[j] = a[j-1]\n",
    "            j -= 1\n",
    "        a[j] = v\n",
    "\n",
    "    return a"
   ]
  },
  {
   "cell_type": "code",
   "execution_count": 116,
   "metadata": {},
   "outputs": [
    {
     "name": "stdout",
     "output_type": "stream",
     "text": [
      "[0, 1, 2, 3, 4, 5]\n"
     ]
    }
   ],
   "source": [
    "a = [0,3,2,5,1,4] # 0은 DUMMY KEY\n",
    "n = 5\n",
    "print(insertionSort(a,n))"
   ]
  },
  {
   "cell_type": "code",
   "execution_count": 92,
   "metadata": {},
   "outputs": [],
   "source": [
    "def checkSort(a, n):\n",
    "    isSorted = True\n",
    "    for i in range(1, n):\n",
    "        if (a[i] > a[i+1]):\n",
    "            isSorted = False\n",
    "        if (not isSorted):\n",
    "            break\n",
    "    if isSorted:\n",
    "        print(\"정렬 완료 \") \n",
    "    else:\n",
    "        print(\"정렬 오류 발생 \") "
   ]
  },
  {
   "cell_type": "code",
   "execution_count": 110,
   "metadata": {},
   "outputs": [
    {
     "name": "stdout",
     "output_type": "stream",
     "text": [
      "선택 정렬의 실행 시간 (N = 5000) : 0.651\n",
      "정렬 완료 \n",
      "선택 정렬의 실행 시간 (N = 10000) : 2.526\n",
      "정렬 완료 \n",
      "선택 정렬의 실행 시간 (N = 15000) : 5.758\n",
      "정렬 완료 \n",
      "선택 정렬의 실행 시간 (N = 20000) : 10.448\n",
      "정렬 완료 \n"
     ]
    }
   ],
   "source": [
    "# 선택정렬 N개의 개수에 따른 수행시간 비교 \n",
    "import random,time\n",
    "\n",
    "num_list = [5000,10000,15000,20000]\n",
    "\n",
    "for num in num_list : \n",
    "    a = []\n",
    "    a.append(None)\n",
    "    for i in range(num):\n",
    "        a.append(random.randint(1, num))\n",
    "\n",
    "    start_time = time.time()\n",
    "    selectionSort(a, num)\n",
    "    end_time = time.time() - start_time\n",
    "    print('선택 정렬의 실행 시간 (N = %d) : %0.3f'%(num, end_time))\n",
    "    checkSort(a, num)\n",
    "    "
   ]
  },
  {
   "cell_type": "code",
   "execution_count": 111,
   "metadata": {},
   "outputs": [
    {
     "name": "stdout",
     "output_type": "stream",
     "text": [
      "버블 정렬의 실행 시간 (N = 5000) : 1.750\n",
      "정렬 완료 \n",
      "버블 정렬의 실행 시간 (N = 10000) : 6.833\n",
      "정렬 완료 \n",
      "버블 정렬의 실행 시간 (N = 15000) : 15.686\n",
      "정렬 완료 \n",
      "버블 정렬의 실행 시간 (N = 20000) : 27.878\n",
      "정렬 완료 \n"
     ]
    }
   ],
   "source": [
    "# 버블정렬 N개의 개수에 따른 수행시간 비교 \n",
    "num_list = [5000,10000,15000,20000]\n",
    "\n",
    "for num in num_list : \n",
    "    a = []\n",
    "    a.append(None)\n",
    "    for i in range(num):\n",
    "        a.append(random.randint(1, num))\n",
    "\n",
    "    start_time = time.time()\n",
    "    bubbleSort(a, num)\n",
    "    end_time = time.time() - start_time\n",
    "    print('버블 정렬의 실행 시간 (N = %d) : %0.3f'%(num, end_time))\n",
    "    checkSort(a, num)"
   ]
  },
  {
   "cell_type": "code",
   "execution_count": 118,
   "metadata": {},
   "outputs": [
    {
     "name": "stdout",
     "output_type": "stream",
     "text": [
      "삽입 정렬의 실행 시간 (N = 5000) : 0.950\n",
      "정렬 완료 \n",
      "삽입 정렬의 실행 시간 (N = 10000) : 3.665\n",
      "정렬 완료 \n",
      "삽입 정렬의 실행 시간 (N = 15000) : 8.327\n",
      "정렬 완료 \n",
      "삽입 정렬의 실행 시간 (N = 20000) : 14.753\n",
      "정렬 완료 \n"
     ]
    }
   ],
   "source": [
    "# 삽입정렬 N개의 개수에 따른 수행시간 비교 \n",
    "num_list = [5000,10000,15000,20000]\n",
    "\n",
    "for num in num_list : \n",
    "    a = []\n",
    "    a.append(0)\n",
    "    for i in range(num):\n",
    "        a.append(random.randint(1, num))\n",
    "\n",
    "    start_time = time.time()\n",
    "    insertionSort(a, num)\n",
    "    end_time = time.time() - start_time\n",
    "    print('삽입 정렬의 실행 시간 (N = %d) : %0.3f'%(num, end_time))\n",
    "    checkSort(a, num)"
   ]
  },
  {
   "cell_type": "code",
   "execution_count": 121,
   "metadata": {},
   "outputs": [
    {
     "name": "stdout",
     "output_type": "stream",
     "text": [
      "선택정렬의 실행 시간 (N = 10000) : 2.575\n",
      "정렬 완료 \n",
      "정렬된 선택정렬의 실행 시간 (N = 10000) : 2.604\n",
      "정렬 완료 \n",
      "버블정렬의 실행 시간 (N = 10000) : 6.902\n",
      "정렬 완료 \n",
      "정렬된 버블정렬의 실행 시간 (N = 10000) : 3.817\n",
      "정렬 완료 \n",
      "삽입정렬의 실행 시간 (N = 10000) : 3.675\n",
      "정렬 완료 \n",
      "정렬된 삽입정렬의 실행 시간 (N = 10000) : 0.001\n",
      "정렬 완료 \n"
     ]
    }
   ],
   "source": [
    "# 입력순서에 따른 정렬시간 비교 \n",
    "function = [selectionSort,bubbleSort,insertionSort]\n",
    "func_name = ['선택정렬','버블정렬','삽입정렬']\n",
    "num = 10000\n",
    "\n",
    "for func,name in zip(function,func_name) : \n",
    "    a = []\n",
    "    a.append(0)\n",
    "    for i in range(num):\n",
    "        a.append(random.randint(1, num))\n",
    "\n",
    "    start_time = time.time()\n",
    "    func(a, num)\n",
    "    end_time = time.time() - start_time\n",
    "    print('%s의 실행 시간 (N = %d) : %0.3f'%(name,num, end_time))\n",
    "    checkSort(a, num)\n",
    "\n",
    "    start_time = time.time()\n",
    "    func(a, num)\n",
    "    end_time = time.time() - start_time\n",
    "    print('정렬된 %s의 실행 시간 (N = %d) : %0.3f'%(name,num, end_time))\n",
    "    checkSort(a, num)"
   ]
  },
  {
   "cell_type": "code",
   "execution_count": null,
   "metadata": {},
   "outputs": [],
   "source": []
  }
 ],
 "metadata": {
  "kernelspec": {
   "display_name": "Python 3 (ipykernel)",
   "language": "python",
   "name": "python3"
  },
  "language_info": {
   "codemirror_mode": {
    "name": "ipython",
    "version": 3
   },
   "file_extension": ".py",
   "mimetype": "text/x-python",
   "name": "python",
   "nbconvert_exporter": "python",
   "pygments_lexer": "ipython3",
   "version": "3.9.12"
  },
  "vscode": {
   "interpreter": {
    "hash": "282d57acf3b4dfca65187be3f86b1a31e69b57bff5ce0c421bf06d8a6b0ef157"
   }
  }
 },
 "nbformat": 4,
 "nbformat_minor": 2
}
