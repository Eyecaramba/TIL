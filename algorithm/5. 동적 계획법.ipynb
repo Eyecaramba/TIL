{
 "cells": [
  {
   "cell_type": "markdown",
   "metadata": {},
   "source": [
    "# 동적 계획법"
   ]
  },
  {
   "cell_type": "markdown",
   "metadata": {},
   "source": [
    "동적 계획법 : 하나의 문제를 여러개의 부분 문제로 분할하여 해결하는 방법  \n",
    "(분할 정복은 소문제가 독립적이지만 동적 계획법의 소문제는 독립적이지 않다.)\n"
   ]
  },
  {
   "cell_type": "markdown",
   "metadata": {},
   "source": [
    "#### 1. 행렬의 연쇄적 곱셈\n",
    "## 백준 11049번 \n",
    "행렬 연산을 최소로 하는 연산 방법을 알아내는 알고리즘 \n",
    "\n",
    "매트릭스 2개를 곱할 때 드는 연산 횟수 :  \n",
    "a * b b * c -> a * b * c  \n",
    "\n",
    "곱셈 최소화 점화식 :  \n",
    "M[i,j] = min(M[i,k] + M[k+1,j] + di-1 * dk * dj, if i < j  \n",
    "M[i,j] = 0 if i >= j  \n",
    "\n",
    "시간복잡도 : O(N^3)\n",
    "\n",
    "최소 연산 계산 adl\n",
    "```\n",
    "matrixChainMult(d[],p[],n)\n",
    "    #행렬 초기화\n",
    "    for(i <- 1; i<= n; i <- i+1) do \n",
    "        M[i,i] <- 0;\n",
    "    \n",
    "    # 대각선 방향 순서로 행렬의 값을 찾는다. \n",
    "    for(h <- 1; i<= n; i <- i+1) do \n",
    "        for(i <- 1; i <= n-h; i <- i+1) do {\n",
    "            j <- i + h;\n",
    "            M[i,j] <- 곱셈 최소화 점화식\n",
    "            p[i,j] <- 최소값을 갖는 k\n",
    "        }\n",
    "    \n",
    "    return M[1,n]\n",
    "end matrixCahinMult()"
   ]
  },
  {
   "cell_type": "markdown",
   "metadata": {},
   "source": [
    "#### 2. 최적 이진 탐색 트리 \n",
    "\n",
    "각각의 노드를 탐색할 확률이 다른 경우 트리의 평균 탐색 시간을 가장 작게 만드는 알고리즘 \n",
    "\n",
    "트리를 각 부분으로 나누어 하나씩 루트로 만들어 최소값을 구한다. \n",
    "\n",
    "A[i,j] 점화식 : min(A[i,k-1] + A[k+1,j] + ∑p(n)(i<=n<=j))  \n",
    "(i부터 j까지 k값을 바꾸어가며 얻은 결과값중 가장 작음 값이 A[i,j]값이 된다.)\n",
    "\n",
    "시간복잡도 : O(N^3)  \n",
    "\n",
    "최적 이진 탐색 트리 adl\n",
    "```\n",
    "optimalBST(p[],r[],n)\n",
    "    for(i <- 1; i <= n; i <- i + 1) do {\n",
    "        A[i,i] <- p[i];\n",
    "        r[i,i] <- i;\n",
    "    }\n",
    "\n",
    "    for(h <- 1; h < n; h <- h+1) do {\n",
    "        for(i <- 1; i <= n-h; i <- i + 1) do {\n",
    "            j <- i + h;\n",
    "            A[i,j] 점화식;\n",
    "            r[i,j] <- 최소값을 갖는 k\n",
    "        }\n",
    "    return A[1,n]\n",
    "end optimalBST()\n",
    "```\n",
    "\n",
    "\n"
   ]
  },
  {
   "cell_type": "markdown",
   "metadata": {},
   "source": [
    "#### 3. 스트링 편집 거리 \n",
    "\n"
   ]
  },
  {
   "cell_type": "markdown",
   "metadata": {},
   "source": [
    "스트링 편집 거리 : 스트링 S를 목표 스트링 T로 바꾸는데 드는 연산 비용  \n",
    "\n",
    "각 행렬이 1,2,3,4,5인 이유는 아무것도 없는상태에서 T로 갈 때 삽입연산이 필요하기 때문이다. \n",
    "\n",
    "첫번쨰 행이 1,2,3,4,5인 이유는 주어진 S가 아무것도 없는 문자열이 되기 위해서는 문자열이 있는 만큼 삭제해야 하기 때문이다. \n",
    "\n",
    "마찬가지로 첫번째 열이 1,2,3,4,5,6 인 이유는 아무것도 없는 상태에서 해당 문자열 T가 되기 위해서는 그만큼의 삽입연산이 필요하기 때문이다. \n",
    "\n",
    "스트링 편집 거리 알고리즘은 (N,M)으로 가는 가장 비용이 낮은 경로를 찾는 것과 같다. \n",
    "오른쪽으로 이동했다면 삭제연산을 했다는 의미이고 \n",
    "아래로 이동했다면 삽입연산을 한 것이고 \n",
    "대각선으로 이동했다면 대치연산을 했다는 의미다. \n",
    "\n",
    "메트릭스 어느 한 점의 최소 비용을 찾기 위해서는 다음 3가지를 살펴보면 된다. \n",
    "왼쪽에서 오른쪽으로 이동한 경우 (삭제연산을 하는 경우)\n",
    "위에서 아래로 이동한 경우 (삽입연산을 한 경우)\n",
    "대각선으로 이동한 경우 (대치연산을 한 경우)\n",
    "위 세 가지중 가장 작은 값을 구하면 해당 좌표까지 가는 최소 비용을 구할 수 있다. \n",
    "\n",
    "\n",
    "스트링 편집 거리 알고리즘 \n",
    "```\n",
    "editDistance(s[], t[], m, n)\n",
    "    D[0,0]\n",
    "    # 첫번쨰 열에 숫자 채워넣기  \n",
    "    for (i <- 1; i <= n; i <- i + 1) do \n",
    "        D[i,0] <- D[i-1,0] + 1\n",
    "\n",
    "    # 첫번째 행에 숫자 채워넣기 \n",
    "    for (i <- 1; i <= m; i <- i + 1) do \n",
    "        D[0,i] <- D[0,i-1] + 1\n",
    "\n",
    "    # 순서대로 행렬 채워넣기 \n",
    "    for (i <- 1; i <= n; i <- i + 1) do \n",
    "        for(j <- 1; j <= m; j <- j+1) do {\n",
    "            if s[i] = t[i] then cost <- 0\n",
    "            D[i,j] <- min(D[i-1,j] + 1; D[i,j-1] + 1 )>\n",
    "        }\n",
    "    return D(N,M)\n",
    "```\n"
   ]
  },
  {
   "cell_type": "markdown",
   "metadata": {},
   "source": []
  }
 ],
 "metadata": {
  "kernelspec": {
   "display_name": "Python 3.11.0 64-bit",
   "language": "python",
   "name": "python3"
  },
  "language_info": {
   "name": "python",
   "version": "3.11.0"
  },
  "orig_nbformat": 4,
  "vscode": {
   "interpreter": {
    "hash": "aee8b7b246df8f9039afb4144a1f6fd8d2ca17a180786b69acc140d282b71a49"
   }
  }
 },
 "nbformat": 4,
 "nbformat_minor": 2
}
