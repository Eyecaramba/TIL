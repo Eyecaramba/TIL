{
 "cells": [
  {
   "cell_type": "markdown",
   "metadata": {},
   "source": [
    "# 4. 기하 알고리즘\n"
   ]
  },
  {
   "cell_type": "markdown",
   "metadata": {},
   "source": [
    "### 1. 기초적인 알고리즘 "
   ]
  },
  {
   "cell_type": "markdown",
   "metadata": {},
   "source": [
    "#### 1.1 선분의 교차 검사 \n",
    "\n",
    "시계 방향, 시계 반대 방향인지 검사하는 알고리즘 \n",
    "\n",
    "```\n",
    "ccw(p0,p1,p2)\n",
    "    dx1 <- p1.x - p0.x; dy1 <- p1.y - p0.y\n",
    "    dx2 <- p2.x - p0.x; dy2 <- p2.y - p0.y\n",
    "    if (dx1*dy2 > dy1*dx2) then return 1\n",
    "    if (dx1*dy2 < dy1*dx2) then return 1\n",
    "    if ((dx = 0) and (dy = 0)) then return 0\n",
    "    if ((dx1*dx2 <0) or dy1*dy2 < 0) then return 1;\n",
    "    if (dx1^2 + dy^2) < (dx^2 + dy^2) then return 1;\n",
    "    return 0;\n",
    "end ccw()\n",
    "```\n",
    "\n",
    "선분 교차 검사 알고리즘\n",
    "\n",
    "```\n",
    "intersect(l1,l2)\n",
    "    t1 <- ccw(l1.p1, l1.p2, l2.p1) * ccw(l1.p1, l1.p2, l2.p2)\n",
    "    t2 <- ccw(l2.p1, l2.p2, l1.p1) * ccw(l2.p1, l2.p2, l1.p2)\n",
    "    return (t1 <= 0) and (t2 <= 0)\n",
    "end intersect()\n",
    "```"
   ]
  },
  {
   "cell_type": "markdown",
   "metadata": {},
   "source": [
    "#### 1.2 단순 폐쇄 경로 알고리즘 \n",
    "\n",
    "두 점 사이의 각도를 반환하는 함수 \n",
    "\n",
    "``` \n",
    "theta(p1,p2)\n",
    "    dx <- p2.x - p1.x; dy <- p2.y - p1.y\n",
    "    ax <- |ax|; ay <- |ay|;\n",
    "    \n",
    "    if((ax + ay) = 0) then t <- 0;\n",
    "    else t <- dy / (ax + ay)\n",
    "\n",
    "    if (dx < 0) then t <- 2 - t;\n",
    "    else if (dy < 0) then t <- 4 + t;\n",
    "    return t * 90.0;\n",
    "```\n",
    "\n",
    "단순 폐쇄 경로를 찾는 알고리즘은 위 theta함수를 이용하여 한 점을 기준으로 모든 점의 각도를 구하고 이를 오름차순으로 만드는 알고리즘이다. \n",
    "\n",
    "\n",
    "\n",
    "\n",
    "\n"
   ]
  },
  {
   "cell_type": "markdown",
   "metadata": {},
   "source": [
    "#### 1.3 다각형 포함 여부 검사 \n",
    "\n",
    "주어진 점이 다각형 안에 있는지 밖에 있는지 확인하는 알고리즘  \n",
    "주어진 점에서 시험 선분을 긋고 다각형과 몇개의 점에서 만나는지 확인한다. \n",
    "\n",
    "교차점이 홀수라면 다각형 안의 점이 되고, 짝수라면 다각형 밖의 점이 된다. \n",
    "\n"
   ]
  },
  {
   "cell_type": "markdown",
   "metadata": {},
   "source": [
    "#### 1.4 볼록 껍질 찾기 알고리즘 \n",
    "\n",
    "볼록 다각형 : 다각형 내부의 어떤 두 점을 연결해도 다각형을 이루는 선분과 교차하지 않는 다각형\n",
    "\n",
    "볼록 껍질 : 주어진 모든 점을 최소 다각형으로 감싼것 \n",
    "\n",
    "\n",
    "##### 1.4.1 짐꾸리기 알고리즘 :  시간복잡도 O(N^2)\n",
    "\n",
    "y좌표가 가장 작은 점을 선택 \n",
    "해당 좌표와 각도가 가장 ** 한 점을 찾는다. \n",
    "그 점으로 이동\n",
    "만일 이동한 점이 처음 시작한 점이라면 함수를 종료함. \n",
    "\n",
    "\n",
    "짐꾸러기 알고리즘 adl\n",
    "```\n",
    "packageWrapping(p[],N)\n",
    "    min <- 배열 p[]에서 가장 작은 y값의 index\n",
    "    \n",
    "    # y값이 가장 자은 점을 N에 저장함 \n",
    "    p[N] <- p[min]; th <- 0.0;\n",
    "    \n",
    "    # 삽입 정렬 : 해당 점과 각도가 가장 작은 점을 하나씩 앞으로 정렬함 \n",
    "    for (M <- 0; M<N; M++) do {\n",
    "        p[M]과 p[min] 교환\n",
    "        min <- N; v <- th; th <- 360.0;\n",
    "        for(l <- M+1; l <= N; l <- l+1) do \n",
    "            # 이전 각도보다는 크고 \n",
    "            if(theta(p[M],p[i]) > v) then \n",
    "                # 찾은 각도보다는 작은 경우 \n",
    "                if(theta(p[M],p[min]) < th) then {\n",
    "                    min <- l;\n",
    "                    th <- theta(p[M],p[min]);\n",
    "                }\n",
    "        # 찾은 점이 다시 N으로 돌아온 경우 함수를 종료한다. \n",
    "        if (min = N) then return M;\n",
    "    }\n",
    "end packageWrapping()\n",
    "```\n",
    "\n",
    "\n"
   ]
  },
  {
   "cell_type": "markdown",
   "metadata": {},
   "source": [
    "##### 1.4.2 그라함 스캔 알고리즘 \n",
    "\n",
    "그라함 스캔 알고리즘 \n",
    "1. y값이 가장 작은 점을 찾는다. \n",
    "2. 주어진 점 리스트를 각도 순으로 정렬한다. \n",
    "3. 좌회전 하면 점을 넣고 우회전 하면 제외한다. \n",
    "\n",
    "시간복잡도 : O(NlogN)\n",
    "\n",
    "그라함 스캔 알고리즘 adl\n",
    "```\n",
    "grahamScan(p[],n)\n",
    "    minindex <- 배열 p[]에서 가장 작은 y의 값의 index\n",
    "    (y값이 같은 경우 x값의 가장 작은 점)\n",
    "    p[1], p[min] 교환\n",
    "    p[] 각도순으로 정렬\n",
    "    p[0] <- p[n]\n",
    "    for (m <- 3, i<- 4 i<= n; i <- i+1) do {\n",
    "        while(p[m-1],p[m],p[i]가 우회전) do m <- m-1;\n",
    "        m <- m+1\n",
    "        p[i]와 p[m]을 교환;        \n",
    "    }\n",
    "    return m;\n",
    "end grahamScan()"
   ]
  },
  {
   "cell_type": "code",
   "execution_count": null,
   "metadata": {},
   "outputs": [],
   "source": []
  },
  {
   "cell_type": "code",
   "execution_count": null,
   "metadata": {},
   "outputs": [],
   "source": []
  }
 ],
 "metadata": {
  "kernelspec": {
   "display_name": "Python 3.11.0 64-bit",
   "language": "python",
   "name": "python3"
  },
  "language_info": {
   "name": "python",
   "version": "3.11.0"
  },
  "orig_nbformat": 4,
  "vscode": {
   "interpreter": {
    "hash": "aee8b7b246df8f9039afb4144a1f6fd8d2ca17a180786b69acc140d282b71a49"
   }
  }
 },
 "nbformat": 4,
 "nbformat_minor": 2
}
