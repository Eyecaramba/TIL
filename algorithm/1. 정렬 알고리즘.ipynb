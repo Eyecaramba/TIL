{
 "cells": [
  {
   "cell_type": "markdown",
   "metadata": {},
   "source": [
    "# 1. 정렬 알고리즘 "
   ]
  },
  {
   "cell_type": "code",
   "execution_count": 2,
   "metadata": {},
   "outputs": [],
   "source": [
    "def checksort(a,n):\n",
    "    isSortted = True\n",
    "    for i in range(1,n):\n",
    "        if a[i]  > a[i+1] :\n",
    "            isSortted = False\n",
    "            break\n",
    "    if isSortted : \n",
    "        print('정렬')\n",
    "    else : \n",
    "        print('정렬 오류 발생')"
   ]
  },
  {
   "cell_type": "markdown",
   "metadata": {},
   "source": [
    "### 1.1 선택 정렬\n",
    "\n",
    "가장 작은 원소를 찾아 올바른 위치로 옮겨주는 작업을 반복하여 정렬  \n",
    "N개의 원소를 N-1번 비교해야 함으로 전체 비교 횟수 : N(N-1)/2  \n",
    "따라서 시간복잡도  = O(N^2) \n",
    "\n",
    "추가적인 기억장치를 요구하지 않는 제자리 정렬  \n",
    "불안정적인 알고리즘이다.\n",
    "정렬 실행 시간은 입력 자료 순서에 민감하지 않다. "
   ]
  },
  {
   "cell_type": "markdown",
   "metadata": {},
   "source": [
    "#### selection sort ADL \n",
    "\n",
    "selectionSort(a[],n)\n",
    "\n",
    "    for (i<-1, i < n, i++) do {\n",
    "        minindex = i;\n",
    "        for(j = i+1, j <= n, j++) do\n",
    "            if(a[minindex] > a[j])\n",
    "                minIndex = j\n",
    "        a[minIndex]와 a[i]를 swap\n",
    "    }\n",
    "end selectionSort()"
   ]
  },
  {
   "cell_type": "code",
   "execution_count": 1,
   "metadata": {},
   "outputs": [],
   "source": [
    "# selection sort python \n",
    "\n",
    "def selectionSort(a,n):\n",
    "    for i in range(len(a)):\n",
    "        minIndex = i\n",
    "        for j in range(i+1, n+1):\n",
    "            if a[minIndex] > a[j]:\n",
    "                minIndex = j\n",
    "        a[minIndex],a[i] = a[i],a[minIndex]\n",
    "    return a"
   ]
  },
  {
   "cell_type": "markdown",
   "metadata": {},
   "source": [
    "### 1.2 버블 정렬  \n",
    "\n",
    "리스트를 거사하여 두 인접한 원소가 오름차순 정렬 순서에 맞지 않으면 이들을 서로 교환하는 것   \n",
    "\n",
    "n개를 n-1번 n(n-1)/2번 비교 따라서 시간복잡도는 O(n^2)  \n",
    "비교 횟수는 선택정렬과 같지만 교환을 더 많이 함으로 시간이 좀 더 걸린다. \n",
    "안정적인 제자리 정렬\n",
    "\n",
    "레코드를 계속해서 교환함으로 레코드의 크기가 큰 경우 불리하다.  \n",
    "정렬시간은 입력 순서에 민감하지 않다. \n",
    "\n"
   ]
  },
  {
   "cell_type": "markdown",
   "metadata": {},
   "source": [
    "#### bubbleSort ADL\n",
    "\n",
    "bubbleSort(a[],n)\n",
    "\n",
    "        for (i <- n; i >= 1; i--) do {\n",
    "            for( j <- 1; j < i; j++) do {\n",
    "                if(a[j] > a[j+1]) then {\n",
    "                    a[j]와 a[j+1]을 swap\n",
    "                }\n",
    "            }\n",
    "        }\n",
    "\n",
    "end bubbleSort()"
   ]
  },
  {
   "cell_type": "code",
   "execution_count": null,
   "metadata": {},
   "outputs": [],
   "source": [
    "# bubbleSort python\n",
    "\n",
    "def bubbleSort(a,n):\n",
    "    for i in range(n,0,-1):\n",
    "        for j in range(1, i):\n",
    "            if a[j] > a[j+1] : \n",
    "                a[j],a[j+1] = a[j+1],a[j]\n",
    "    return a"
   ]
  },
  {
   "cell_type": "markdown",
   "metadata": {},
   "source": [
    "#### 1.3 삽입 정렬 알고리즘 "
   ]
  },
  {
   "cell_type": "markdown",
   "metadata": {},
   "source": [
    "#### insertionSort ADL\n",
    "\n",
    "insertionSort(a[],n)\n",
    "\n",
    "    "
   ]
  }
 ],
 "metadata": {
  "kernelspec": {
   "display_name": "Python 3.9.12 ('LabEnv01')",
   "language": "python",
   "name": "python3"
  },
  "language_info": {
   "codemirror_mode": {
    "name": "ipython",
    "version": 3
   },
   "file_extension": ".py",
   "mimetype": "text/x-python",
   "name": "python",
   "nbconvert_exporter": "python",
   "pygments_lexer": "ipython3",
   "version": "3.9.12"
  },
  "orig_nbformat": 4,
  "vscode": {
   "interpreter": {
    "hash": "9b830f0613dbf67ebccf702d7f1fe3a7136657347938afa0f3ddfa52963a7a90"
   }
  }
 },
 "nbformat": 4,
 "nbformat_minor": 2
}
