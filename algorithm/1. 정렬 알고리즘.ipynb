{
 "cells": [
  {
   "cell_type": "markdown",
   "metadata": {},
   "source": [
    "# 1. 정렬 알고리즘 "
   ]
  },
  {
   "cell_type": "code",
   "execution_count": 2,
   "metadata": {},
   "outputs": [],
   "source": [
    "def checksort(a,n):\n",
    "    isSortted = True\n",
    "    for i in range(1,n):\n",
    "        if a[i]  > a[i+1] :\n",
    "            isSortted = False\n",
    "            break\n",
    "    if isSortted : \n",
    "        print('정렬')\n",
    "    else : \n",
    "        print('정렬 오류 발생')"
   ]
  },
  {
   "cell_type": "markdown",
   "metadata": {},
   "source": [
    "### 1.1 선택 정렬\n",
    "\n",
    "가장 작은 원소를 찾아 올바른 위치로 옮겨주는 작업을 반복하여 정렬  \n",
    "N개의 원소를 N-1번 비교해야 함으로 전체 비교 횟수 : N(N-1)/2  \n",
    "따라서 시간복잡도  = O(N^2) \n",
    "\n",
    "추가적인 기억장치를 요구하지 않는 제자리 정렬  \n",
    "불안정적인 알고리즘이다.\n",
    "정렬 실행 시간은 입력 자료 순서에 민감하지 않다. "
   ]
  },
  {
   "cell_type": "markdown",
   "metadata": {},
   "source": [
    "#### selection sort ADL \n",
    "\n",
    "selectionSort(a[],n)\n",
    "\n",
    "    for (i<-1, i < n, i++) do {\n",
    "        minindex = i;\n",
    "        for(j = i+1, j <= n, j++) do\n",
    "            if(a[minindex] > a[j])\n",
    "                minIndex = j\n",
    "        a[minIndex]와 a[i]를 swap\n",
    "    }\n",
    "end selectionSort()"
   ]
  },
  {
   "cell_type": "code",
   "execution_count": 1,
   "metadata": {},
   "outputs": [],
   "source": [
    "# selection sort python \n",
    "\n",
    "def selectionSort(a,n):\n",
    "    for i in range(len(a)):\n",
    "        minIndex = i\n",
    "        for j in range(i+1, n+1):\n",
    "            if a[minIndex] > a[j]:\n",
    "                minIndex = j\n",
    "        a[minIndex],a[i] = a[i],a[minIndex]\n",
    "    return a"
   ]
  },
  {
   "cell_type": "markdown",
   "metadata": {},
   "source": [
    "### 1.2 버블 정렬  \n",
    "\n",
    "리스트를 거사하여 두 인접한 원소가 오름차순 정렬 순서에 맞지 않으면 이들을 서로 교환하는 것   \n",
    "\n",
    "n개를 n-1번 n(n-1)/2번 비교 따라서 시간복잡도는 O(n^2)  \n",
    "비교 횟수는 선택정렬과 같지만 교환을 더 많이 함으로 시간이 좀 더 걸린다. \n",
    "안정적인 제자리 정렬\n",
    "\n",
    "레코드를 계속해서 교환함으로 레코드의 크기가 큰 경우 불리하다.  \n",
    "정렬시간은 입력 순서에 민감하지 않다. \n",
    "\n"
   ]
  },
  {
   "cell_type": "markdown",
   "metadata": {},
   "source": [
    "#### bubbleSort ADL\n",
    "\n",
    "bubbleSort(a[],n)\n",
    "\n",
    "        for (i <- n; i >= 1; i--) do {\n",
    "            for( j <- 1; j < i; j++) do {\n",
    "                if(a[j] > a[j+1]) then {\n",
    "                    a[j]와 a[j+1]을 swap\n",
    "                }\n",
    "            }\n",
    "        }\n",
    "\n",
    "end bubbleSort()"
   ]
  },
  {
   "cell_type": "code",
   "execution_count": null,
   "metadata": {},
   "outputs": [],
   "source": [
    "# bubbleSort python\n",
    "\n",
    "def bubbleSort(a,n):\n",
    "    for i in range(n,0,-1):\n",
    "        for j in range(1, i):\n",
    "            if a[j] > a[j+1] : \n",
    "                a[j],a[j+1] = a[j+1],a[j]\n",
    "    return a"
   ]
  },
  {
   "cell_type": "markdown",
   "metadata": {},
   "source": [
    "#### 1.3 삽입정렬\n",
    "\n",
    "##### 정렬 방법\n",
    "정렬하고자 하는 원소 왼쪽은 모두 정렬되었고 오른쪽은 정렬되지 않았다고 가정한다.  \n",
    "정렬 대상 원소를 기준으로 원소보다 크면 한 칸씩 왼쪽으로 이동시킨다. \n",
    "\n",
    "\n",
    "##### 특징\n",
    "키 비교시 배열의 범위를 벗어나는 것을 방지하기 위해 감시 키가 필요하다.  \n",
    "삽입 정렬은 버블 정렬 처럼 레코드를 계속 이동시켜야 함으로 레코드의 크기가 큰 경우 불리하다.  \n",
    "삽입정렬은 거의 정렬된 화일인 경우 유리하다. 즉 입력순서에 민감하다. \n",
    "안정적인 제자리 정렬이다.  \n",
    "\n"
   ]
  },
  {
   "cell_type": "markdown",
   "metadata": {},
   "source": [
    "##### insertionSort ADL\n",
    "\n",
    "insertionSort(a[],n)\n",
    "\n",
    "        //배열의 맨 앞에는 모든 원소보다 작은 감시 키가 있어야 한다. \n",
    "        for(i = 2; i++; i <= n) do {\n",
    "            j <- i\n",
    "            v <- a[i]\n",
    "            while(a[j] > v) : do {\n",
    "                a[j] <- a[j-1];\n",
    "                j <- j-1;\n",
    "            }\n",
    "            a[j] <- v\n",
    "        }\n",
    "    \n",
    "end insertionSort()"
   ]
  },
  {
   "cell_type": "code",
   "execution_count": 1,
   "metadata": {},
   "outputs": [],
   "source": [
    "def insertionSort(a,n) : \n",
    "    for i in range(1,n) :\n",
    "        j = i\n",
    "        v = a[i]\n",
    "        while(a[j-1] > v) : \n",
    "            a[j] = a[j-1]\n",
    "            j = j-1\n",
    "        a[j] = v \n",
    "        print(a)\n",
    "    return a    "
   ]
  },
  {
   "cell_type": "code",
   "execution_count": 4,
   "metadata": {},
   "outputs": [
    {
     "name": "stdout",
     "output_type": "stream",
     "text": [
      "[-1, 3, 14, 12, 4, 10, 13, 15, 5, 2, 7, 9, 6, 8, 11, 1]\n",
      "[-1, 3, 14, 12, 4, 10, 13, 15, 5, 2, 7, 9, 6, 8, 11, 1]\n",
      "[-1, 3, 12, 14, 4, 10, 13, 15, 5, 2, 7, 9, 6, 8, 11, 1]\n",
      "[-1, 3, 4, 12, 14, 10, 13, 15, 5, 2, 7, 9, 6, 8, 11, 1]\n",
      "[-1, 3, 4, 10, 12, 14, 13, 15, 5, 2, 7, 9, 6, 8, 11, 1]\n",
      "[-1, 3, 4, 10, 12, 13, 14, 15, 5, 2, 7, 9, 6, 8, 11, 1]\n",
      "[-1, 3, 4, 10, 12, 13, 14, 15, 5, 2, 7, 9, 6, 8, 11, 1]\n",
      "[-1, 3, 4, 5, 10, 12, 13, 14, 15, 2, 7, 9, 6, 8, 11, 1]\n",
      "[-1, 2, 3, 4, 5, 10, 12, 13, 14, 15, 7, 9, 6, 8, 11, 1]\n",
      "[-1, 2, 3, 4, 5, 7, 10, 12, 13, 14, 15, 9, 6, 8, 11, 1]\n",
      "[-1, 2, 3, 4, 5, 7, 9, 10, 12, 13, 14, 15, 6, 8, 11, 1]\n",
      "[-1, 2, 3, 4, 5, 6, 7, 9, 10, 12, 13, 14, 15, 8, 11, 1]\n",
      "[-1, 2, 3, 4, 5, 6, 7, 8, 9, 10, 12, 13, 14, 15, 11, 1]\n",
      "[-1, 2, 3, 4, 5, 6, 7, 8, 9, 10, 11, 12, 13, 14, 15, 1]\n",
      "[-1, 1, 2, 3, 4, 5, 6, 7, 8, 9, 10, 11, 12, 13, 14, 15]\n"
     ]
    },
    {
     "data": {
      "text/plain": [
       "[-1, 1, 2, 3, 4, 5, 6, 7, 8, 9, 10, 11, 12, 13, 14, 15]"
      ]
     },
     "execution_count": 4,
     "metadata": {},
     "output_type": "execute_result"
    }
   ],
   "source": [
    "a = [-1, 3, 14, 12, 4, 10, 13, 15, 5, 2, 7 ,9, 6, 8 ,11 ,1]\n",
    "insertionSort(a,16)"
   ]
  },
  {
   "cell_type": "markdown",
   "metadata": {},
   "source": [
    "#### 1.4 쉘 정렬\n",
    "\n",
    "삽입 연산의 단점을 보안하기 위해 만들어진 정렬\n",
    "\n",
    "리스트 전체를 삽입 정렬로 정렬하는 대신 서브트리로 나누어 정렬한다.  \n",
    "\n",
    "이렇게 서브 트리로 나누는 이유는 원소의 비교 연산과 먼 거리로의 원소 이동을 줄이기 위함이다. \n",
    "( 쉘 정렬을 사용하면 비교 연산이 줄어드는가? )\n",
    "\n",
    "쉘 정렬은 정해진 인덱스의 거리를 따라 원소를 정렬시킨 뒤 대체로 정렬된 리스트를 다시 한번 삽입 정렬 한다. \n",
    "\n",
    "시간 복잡도 : log(nlogn)  "
   ]
  },
  {
   "cell_type": "markdown",
   "metadata": {},
   "source": [
    "#### shellSort ADL\n",
    "\n",
    "shellSort(a[],n)\n",
    "\n",
    "        // 첫 번째 h값 계산 \n",
    "        for (h <- 1 ; h < n ; h <- 3*h + 1) do {  }\n",
    "\n",
    "        // h 값을 감소시키며 진행\n",
    "        for (; h > 0; h <- h/3) do {\n",
    "\n",
    "                // h 단위로 리스트를 삽입정렬함 \n",
    "                for ( i <- h+1; i <= n; i <- i + 1) {\n",
    "                        v <- a[i]\n",
    "                        j <- i;\n",
    "                        while (j > h and a[j-h] > v) do {\n",
    "                                a[j] <- a[j-h]\n",
    "                                j <- j-h\n",
    "                        }\n",
    "                        a[j] <- v;\n",
    "                }\n",
    "        }\n",
    "\n",
    "end shellSort()"
   ]
  },
  {
   "cell_type": "code",
   "execution_count": 25,
   "metadata": {},
   "outputs": [],
   "source": [
    "def shellSort(a,n):\n",
    "    h = 1\n",
    "    while 3 * h + 1 < n:\n",
    "        h = 3*h+1\n",
    "    \n",
    "    while h > 0 :\n",
    "        print(h)\n",
    "        for i in range(h+1,n+1):\n",
    "            v,j = a[i], i\n",
    "            while j > h and a[j-h] > v:\n",
    "                a[j] = a[j-h]\n",
    "                j = j-h\n",
    "            a[j] = v\n",
    "            print(a)\n",
    "        h = int(h/3)\n",
    "    return a\n",
    "        "
   ]
  },
  {
   "cell_type": "code",
   "execution_count": 26,
   "metadata": {},
   "outputs": [
    {
     "name": "stdout",
     "output_type": "stream",
     "text": [
      "13\n",
      "[-1, 3, 14, 12, 4, 10, 13, 15, 5, 2, 7, 9, 6, 8, 11, 1]\n",
      "[-1, 3, 1, 12, 4, 10, 13, 15, 5, 2, 7, 9, 6, 8, 11, 14]\n",
      "4\n",
      "[-1, 3, 1, 12, 4, 10, 13, 15, 5, 2, 7, 9, 6, 8, 11, 14]\n",
      "[-1, 3, 1, 12, 4, 10, 13, 15, 5, 2, 7, 9, 6, 8, 11, 14]\n",
      "[-1, 3, 1, 12, 4, 10, 13, 15, 5, 2, 7, 9, 6, 8, 11, 14]\n",
      "[-1, 3, 1, 12, 4, 10, 13, 15, 5, 2, 7, 9, 6, 8, 11, 14]\n",
      "[-1, 2, 1, 12, 4, 3, 13, 15, 5, 10, 7, 9, 6, 8, 11, 14]\n",
      "[-1, 2, 1, 12, 4, 3, 7, 15, 5, 10, 13, 9, 6, 8, 11, 14]\n",
      "[-1, 2, 1, 9, 4, 3, 7, 12, 5, 10, 13, 15, 6, 8, 11, 14]\n",
      "[-1, 2, 1, 9, 4, 3, 7, 12, 5, 10, 13, 15, 6, 8, 11, 14]\n",
      "[-1, 2, 1, 9, 4, 3, 7, 12, 5, 8, 13, 15, 6, 10, 11, 14]\n",
      "[-1, 2, 1, 9, 4, 3, 7, 12, 5, 8, 11, 15, 6, 10, 13, 14]\n",
      "[-1, 2, 1, 9, 4, 3, 7, 12, 5, 8, 11, 14, 6, 10, 13, 15]\n",
      "1\n",
      "[-1, 1, 2, 9, 4, 3, 7, 12, 5, 8, 11, 14, 6, 10, 13, 15]\n",
      "[-1, 1, 2, 9, 4, 3, 7, 12, 5, 8, 11, 14, 6, 10, 13, 15]\n",
      "[-1, 1, 2, 4, 9, 3, 7, 12, 5, 8, 11, 14, 6, 10, 13, 15]\n",
      "[-1, 1, 2, 3, 4, 9, 7, 12, 5, 8, 11, 14, 6, 10, 13, 15]\n",
      "[-1, 1, 2, 3, 4, 7, 9, 12, 5, 8, 11, 14, 6, 10, 13, 15]\n",
      "[-1, 1, 2, 3, 4, 7, 9, 12, 5, 8, 11, 14, 6, 10, 13, 15]\n",
      "[-1, 1, 2, 3, 4, 5, 7, 9, 12, 8, 11, 14, 6, 10, 13, 15]\n",
      "[-1, 1, 2, 3, 4, 5, 7, 8, 9, 12, 11, 14, 6, 10, 13, 15]\n",
      "[-1, 1, 2, 3, 4, 5, 7, 8, 9, 11, 12, 14, 6, 10, 13, 15]\n",
      "[-1, 1, 2, 3, 4, 5, 7, 8, 9, 11, 12, 14, 6, 10, 13, 15]\n",
      "[-1, 1, 2, 3, 4, 5, 6, 7, 8, 9, 11, 12, 14, 10, 13, 15]\n",
      "[-1, 1, 2, 3, 4, 5, 6, 7, 8, 9, 10, 11, 12, 14, 13, 15]\n",
      "[-1, 1, 2, 3, 4, 5, 6, 7, 8, 9, 10, 11, 12, 13, 14, 15]\n",
      "[-1, 1, 2, 3, 4, 5, 6, 7, 8, 9, 10, 11, 12, 13, 14, 15]\n"
     ]
    },
    {
     "data": {
      "text/plain": [
       "[-1, 1, 2, 3, 4, 5, 6, 7, 8, 9, 10, 11, 12, 13, 14, 15]"
      ]
     },
     "execution_count": 26,
     "metadata": {},
     "output_type": "execute_result"
    }
   ],
   "source": [
    "a = [ -1, 3, 14, 12, 4, 10, 13, 15, 5, 2, 7 ,9, 6, 8 ,11 ,1]\n",
    "shellSort(a,15)\n",
    "a"
   ]
  },
  {
   "cell_type": "markdown",
   "metadata": {},
   "source": [
    "#### 1.5 퀵 정렬\n",
    "\n",
    "__pivot 값을 정한 뒤__, 이 값보다 크면 오른쪽 작으면 왼쪽으로 정렬하는 방식  \n",
    "\n",
    "이미 정렬 되어 있는 리스트의 경우 가장 많은 시간이 걸린다. \n",
    "\n",
    "\n"
   ]
  },
  {
   "cell_type": "markdown",
   "metadata": {},
   "source": [
    "#### quickSort ADL\n",
    "\n",
    "quickSort(a[],n):\n",
    "\n",
    "        if (r > 1) then { \n",
    "                i <- partition(a[],l,r);\n",
    "                quickSort(a[],l,i-1);\n",
    "                quickSort(a[],i+l,r);\n",
    "        }\n",
    "        \n",
    "end quickSort()"
   ]
  },
  {
   "cell_type": "markdown",
   "metadata": {},
   "source": [
    "#### partition ADL\n",
    "\n",
    "partition(a[],l,r)  \n",
    "\n",
    "        v <- a[r];\n",
    "        i <- l-1\n",
    "        j <- r;\n",
    "\n",
    "        for (;;) do {\n",
    "            do { i < - i+1} while (a[i] < v);\n",
    "            do { j <- j+1} while (a[j] > v);\n",
    "            if (i >= j) then break;\n",
    "            a[i] 와 a[j]를 swap;\n",
    "        }\n",
    "        a[i] 와 a[r]을 swap;\n",
    "        return i;\n",
    "\n",
    "end partition()"
   ]
  },
  {
   "cell_type": "code",
   "execution_count": null,
   "metadata": {},
   "outputs": [],
   "source": [
    "def quickSort(a,l,r):\n",
    "    if r > 1:\n",
    "        v,i,j = a[r], l-1, r\n",
    "    while True:\n",
    "        i += 1\n",
    "        while a[i] < v:\n",
    "            i += 1\n",
    "        j -= 1\n",
    "        while a[j] > v:\n",
    "            i -= 1\n",
    "        if i >= j:\n",
    "            break\n",
    "        a[i], a[j] = a[j], a[i]\n",
    "    a[i], a[r] = a[r], a[i]\n",
    "    quickSort(a,l,i-1)\n",
    "    quickSort(a,i+1,r)"
   ]
  },
  {
   "cell_type": "markdown",
   "metadata": {},
   "source": [
    "#### 1.6 합병 정렬\n",
    "\n",
    "입력 배열에 민감하지 않다.  \n",
    "안정적이지만 n에 비례하는 추가 기억장소가 필요하다.  \n",
    "제자리 정렬은 아니다.  \n",
    "\n",
    "\n",
    "시간 복잡도 : O(NLog(N))"
   ]
  },
  {
   "cell_type": "markdown",
   "metadata": {},
   "source": [
    "#### mergeSort ADL\n",
    "\n",
    "\n"
   ]
  },
  {
   "cell_type": "code",
   "execution_count": 28,
   "metadata": {},
   "outputs": [],
   "source": [
    "def mergeSort(a,l,r) : \n",
    "    if (r > l) : \n",
    "        m = (r+l)//2\n",
    "        a = mergeSort(a,l,m)\n",
    "        a = mergeSort(a,m+1,r)\n",
    "        a = merge(a,l,m,r)\n",
    "    return a\n"
   ]
  },
  {
   "cell_type": "code",
   "execution_count": 27,
   "metadata": {},
   "outputs": [],
   "source": [
    "def merge(a,l,m,r) : \n",
    "    i,j,k = l,m+1,l\n",
    "    s = [0 for x in range(len(a)+1)]\n",
    "    \n",
    "    # 왼쪽 리스트와 오른쪽 리스트를 비교하며 작은 것 부터 채워 넣음\n",
    "    while( i <= m and j <= r) : \n",
    "        if(a[i] < a[j]) : \n",
    "            s[k] = a[i]\n",
    "            k = k+1\n",
    "            i = i+1\n",
    "        else : \n",
    "            s[k] = a[j]\n",
    "            k = k + 1\n",
    "            j = j + 1\n",
    "    \n",
    "    # 만일 왼쪽 리스트가 남아 있다면 남은 리스트를 옮겨 넣음\n",
    "    if i <= m :\n",
    "        for i in range(i,m+1) : \n",
    "            s[k] = a[i]\n",
    "            k = k + 1\n",
    "    \n",
    "    # 오른쪽 리스트가 남아 있다면 남은 리스트를 옮겨 넣음\n",
    "    else : \n",
    "        for j in range(j,r+1) : \n",
    "            s[k] = a[j]\n",
    "            k = k + 1\n",
    "    \n",
    "    # 리스트를 복사해서 a에 집어 넣음\n",
    "    for p in range(l,r) : \n",
    "        a[p] = s[p]\n",
    "    \n",
    "    return a"
   ]
  },
  {
   "cell_type": "markdown",
   "metadata": {},
   "source": [
    "#### 1.7 히프 정렬\n",
    "\n",
    "히프 정렬은 n개의 입력에 대해 heapfiy 함수를 n/2 + n - 1번 호출 함으로 시간 복잡도는 O(nlogn)이다. \n"
   ]
  },
  {
   "cell_type": "markdown",
   "metadata": {},
   "source": [
    "#### heapSort ADL\n",
    "\n",
    "heapSort(a[],n)\n",
    "\n",
    "        n <- a.length - 1;\n",
    "\n",
    "        for (i <- n/2; i >= 1; i <- i-1) do {\n",
    "            heapify(a, i, n);\n",
    "        }\n",
    "        for (i <- n-1; i >= 1; i <- i-1) do {\n",
    "            a[1]과 a[i+1]을 교환\n",
    "            heapify(a, 1, i);\n",
    "        }\n",
    "\n"
   ]
  },
  {
   "cell_type": "code",
   "execution_count": null,
   "metadata": {},
   "outputs": [],
   "source": [
    "def heapSort(a,n):\n",
    "    n = len(a) - 1\n",
    "    \n",
    "    # 주어진 리스트 heapify\n",
    "    # 자식이 있는 노드만 heapify\n",
    "    for i in range(int(n/2), 0, -1):\n",
    "        heapify(a,i,n)\n",
    "    \n",
    "    # 가장 큰 숫자를 맨 뒤로 보내고 다시 힙으로 만듦\n",
    "    for i in range(n-1, 0, -1):\n",
    "        a[1], a[i+1] = a[i+1], a[1]\n",
    "        # a[1]의 위치가 heap의 조건과 맞지 않음으로 \n",
    "        heapfiy(a,1,i)\n",
    "        \n",
    "    return a\n"
   ]
  },
  {
   "cell_type": "code",
   "execution_count": null,
   "metadata": {},
   "outputs": [],
   "source": [
    "def heapify(a,h,m) : \n",
    "    # 현재 시점으로 노드의 최대 레벨 순서 번호 : m\n",
    "    # \n",
    "    v = a[h]\n",
    "    j = 2 * h\n",
    "    while j <= m : \n",
    "        if j < m and a[j] < a[j + 1] : \n",
    "            j = j + 1;\n",
    "        if v >= a[j] : \n",
    "            break\n",
    "        else : a[j//2] = a[j]\n",
    "        j *= 2\n",
    "    a[j//2] = v\n",
    "    return a"
   ]
  },
  {
   "cell_type": "markdown",
   "metadata": {},
   "source": [
    "### 분포에 의한 정렬 \n",
    "\n",
    "비교 정렬 보다는 빠르지만 기억 장치를 낭비 할 수 있기 때문에 너무 많은 데이터가 있는 경우에는 적합하지 않다. "
   ]
  },
  {
   "cell_type": "markdown",
   "metadata": {},
   "source": [
    "#### 1.8 계수 정렬"
   ]
  },
  {
   "cell_type": "markdown",
   "metadata": {},
   "source": [
    "입력 키가 일정 범위라는 것을 미리 알고 있는 경우 사용 가능한 방법  \n",
    "\n"
   ]
  },
  {
   "cell_type": "markdown",
   "metadata": {},
   "source": [
    "#### countingSort\n",
    "\n",
    "countingSort(a[],n,m)"
   ]
  },
  {
   "cell_type": "markdown",
   "metadata": {},
   "source": [
    "#### 1.9 기수 정렬"
   ]
  }
 ],
 "metadata": {
  "kernelspec": {
   "display_name": "Python 3.9.7 ('base')",
   "language": "python",
   "name": "python3"
  },
  "language_info": {
   "codemirror_mode": {
    "name": "ipython",
    "version": 3
   },
   "file_extension": ".py",
   "mimetype": "text/x-python",
   "name": "python",
   "nbconvert_exporter": "python",
   "pygments_lexer": "ipython3",
   "version": "3.9.7"
  },
  "orig_nbformat": 4,
  "vscode": {
   "interpreter": {
    "hash": "40d3a090f54c6569ab1632332b64b2c03c39dcf918b08424e98f38b5ae0af88f"
   }
  }
 },
 "nbformat": 4,
 "nbformat_minor": 2
}
