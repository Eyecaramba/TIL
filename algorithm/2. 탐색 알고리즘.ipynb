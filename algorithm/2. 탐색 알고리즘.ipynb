{
 "cells": [
  {
   "cell_type": "markdown",
   "metadata": {},
   "source": [
    "# 2. 탐색 알고리즘"
   ]
  },
  {
   "cell_type": "markdown",
   "metadata": {},
   "source": [
    "순차탐색\n",
    "이진탐색\n",
    "이진트리탐색 \n",
    "\n",
    "2-3-4 tree\n",
    "레드 블랙 트리 \n",
    "avl 트리 \n",
    "\n",
    "연쇄법\n",
    "선형 탐사법\n",
    "이중 해싱 \n",
    "\n",
    "\n",
    "- 기수 탐색 \n",
    "디지털 탐색 트리 \n",
    "기수 탐색 트라이 \n",
    "패트리샤 트리 \n",
    "\n",
    "\n",
    "인덱스된 순차 접근\n",
    "b - 트리 "
   ]
  },
  {
   "cell_type": "markdown",
   "metadata": {},
   "source": [
    "#### 순차 탐색 \n",
    "\n",
    "처음부터 끝까지 비교하여 찾는 방법 \n",
    "\n",
    "시간 복잡도 : O(N)  "
   ]
  },
  {
   "cell_type": "markdown",
   "metadata": {},
   "source": [
    "\n",
    "seqeuntialSearch(a[],search_key, n)\n",
    "\n",
    "        i <- 1\n",
    "        while (i <= n and a[i].key != search_key) do {i <- i + 1}\n",
    "        if (i = n + 1) then return -1\n",
    "        else return i;\n",
    "\n",
    "end sequentialSearch()"
   ]
  },
  {
   "cell_type": "code",
   "execution_count": 1,
   "metadata": {},
   "outputs": [],
   "source": [
    "def sequentialSearch(a,key):\n",
    "    i = 1 \n",
    "    n = len(Dict.a)\n",
    "    while i <= n and a[i].key != key : i = i + 1\n",
    "    if i == n + 1:\n",
    "        return -1\n",
    "    else: return i"
   ]
  },
  {
   "cell_type": "markdown",
   "metadata": {},
   "source": [
    "#### 이진 탐색 \n",
    "\n",
    "이미 이진 트리로 정렬되어 있는 리스트에서 탐색 키와 리스트의 중간값을 비교하며 리스트의 범위를 줄여가며 키값을 찾는 방법"
   ]
  },
  {
   "cell_type": "markdown",
   "metadata": {},
   "source": [
    "binarySearch(a[],key,n)  \n",
    "    \n",
    "    left <- 0; right <- n-1\n",
    "    while(right >= left) do {\n",
    "        mid <- (left + right) / 2;\n",
    "        if(a[mid].key = search.key) then return mid;\n",
    "        if(a[mid.key > search.key) then left = mid + 1\n",
    "        else : right = mid - 1\n",
    "    }\n",
    "    return -1;\n",
    "\n",
    "end binarySearch()\n",
    "    "
   ]
  },
  {
   "cell_type": "markdown",
   "metadata": {},
   "source": [
    "#### 이진 트리 탐색\n",
    "\n",
    "이진 트리로 구성된 자료구조에서 탐색하는 알고리즘 \n",
    "\n",
    "노드 값 보다 작으면 왼쪽, 크면 오른쪽으로 움직이며 값을 탐색한다.  \n",
    "\n",
    "트리의 구조에 따라 성능이 좌우되는 단점이 있다.  \n",
    "\n",
    "만일 정렬된 리스트가 입력되어 트리가 한 방향으로만 생겼다면 탐색의 성능은 순차 탐색과 같아진다. "
   ]
  },
  {
   "cell_type": "markdown",
   "metadata": {},
   "source": [
    "### 균형 트리\n",
    "\n",
    "원소가 정렬된 순서로 들어오는 경우 혹은 정렬된 큰 수와 작은 수가 번갈아가며 들어오는 경우 시간복잡도가 순차 탐색과 같아짐. \n",
    "\n",
    "데이터의 입력 순서에 관계 없이 일정한 성능을 내기 위해서는 트리의 균형을 맞춰 주는 것이 필요함 \n",
    "\n",
    "이렇게 균형을 맞추어 주는 구조의 트리를 균형 트리 라고 한다. "
   ]
  },
  {
   "cell_type": "markdown",
   "metadata": {},
   "source": [
    "#### 2-3-4 트리 \n",
    "\n",
    "4 노드가 루트인 경우 : 가운데 값이 올라감 \n",
    "\n",
    "4 노드가 2 노드의 자식인 경우\n",
    "\n",
    "4 노드가 3 노드의 자식인 경우 \n",
    "\n",
    "\n",
    "삽입해야 하는 노드의 위치가 4 노드인 경우 분할해서 자리를 만들고 값을 삽입한다. \n",
    "\n",
    "\n",
    "단점 : 구현이 쉽지 않다. 2노드가 많은 경우 메모리 공간 낭비가 심해진다.  "
   ]
  },
  {
   "cell_type": "markdown",
   "metadata": {},
   "source": [
    "#### RED-BLACK TREE\n",
    "\n",
    "2-3-4 트리의 단점을 극복하기 위해 나온 것이 RED-BLACK TREE이다.  \n",
    "따라서 같은 리스트를 입력하면 2-3-4 TREE와 RED BLACK TREE의 모양은 같아진다.  \n",
    "\n",
    "\n",
    "RED-BLACK TREE 특징\n",
    "\n",
    "루트나 외부 노드는 모두 블랙\n",
    "루트에서 외부 노드까지 경로상 2개 연속된 레드 노드가 포함되지 않음\n",
    "루트에서 각 외부 노드까지 경로에 있는 블랙 노드의 수는 모두 같다.  \n",
    "\n",
    "이를 링크로 정의하면 다음과 같다. \n",
    "\n",
    "외부 노드를 연결하는 링크는 블랙이다.  \n",
    "외부 노드까지 두 개의 연속된 레드 링크가 포함되지 않는다. \n",
    "\n",
    "같은 노드라면 레드로 연결되어 있고 링크로 연결되어 있다면 블랙으로 연결되어 있다. \n",
    "\n",
    "* 회전이 없는 색 변환 \n",
    "조부모의 링크가 블랙이고 만난 노드가 4-노드인 경우  \n",
    "\n",
    "* 회전이 필요한 색 변환  \n",
    "조부모의 링크가 레드고 부모의 링크가 레드인 경우 \n",
    "\n",
    "조부모의 링크과 부모의 링크의 방향이 꺾여 있다면 이중 회전\n",
    "조부모의 링크와 부모의 링크의 방향이 일직선 이라면 단일 회전\n",
    "노드와 연결된 링크 또한 재조정 해야함.\n"
   ]
  },
  {
   "cell_type": "code",
   "execution_count": null,
   "metadata": {},
   "outputs": [],
   "source": [
    "import random, time "
   ]
  },
  {
   "cell_type": "code",
   "execution_count": null,
   "metadata": {},
   "outputs": [],
   "source": [
    "black = 0\n",
    "red = 1\n",
    "\n",
    "class node:\n",
    "     def __init__(self, color, key=None, left=None, right=None):\n",
    "        self.color = color\n",
    "        self.key = key\n",
    "        self.left = left\n",
    "        self.right = right\n"
   ]
  },
  {
   "cell_type": "code",
   "execution_count": null,
   "metadata": {},
   "outputs": [],
   "source": [
    "class Dict:\n",
    "\n",
    "\n",
    "    def __init__(self):\n",
    "        self.z = node(color=black, key=0, left=0, right=0)\n",
    "        self.z.left = self.z\n",
    "        self.z.right = self.z\n",
    "        self.head = node(color=black, key=0, left=0, right=self.z)\n",
    "    \n",
    "    def search(self, search_key):\n",
    "        x = self.head.right\n",
    "        while (x != self.z):\n",
    "            if x.key == search_key:\n",
    "                return x.key\n",
    "            if x.key > search_key:\n",
    "                x = x.left\n",
    "            else:\n",
    "                x = x.right\n",
    "        return -1\n",
    "    \n",
    "    def insert(self, v):\n",
    "        x = p = g = self.head\n",
    "        while (x != self.z):\n",
    "            gg = g\n",
    "            g = p\n",
    "            p = x\n",
    "            if x.key == v:\n",
    "                return\n",
    "            if x.key > v:\n",
    "                x = x.left\n",
    "            else:\n",
    "                x = x.right\n",
    "            if x.left.color and x.right.color:\n",
    "                self.split(x, p, g, gg, v)\n",
    "        x = node(color=red, key=v, left=self.z, right=self.z)\n",
    "        if p.key > v:\n",
    "            p.left = x\n",
    "        else:\n",
    "            p.right = x\n",
    "        self.split(x, p, g, gg, v)\n",
    "        self.head.right.color = black\n",
    "        \n",
    "\n",
    "    def split(self, x, p, g, gg, v):\n",
    "        x.color = red\n",
    "        x.left.color = black\n",
    "        x.right.color = black\n",
    "        if p.color:\n",
    "            g.color = red\n",
    "            if (g.key > v) != (p.key > v):\n",
    "                p = self.rotate(v, g)\n",
    "            x = self.rotate(v, gg)\n",
    "            x.color = black\n",
    "            \n",
    "            \n",
    "    def rotate(self,v,y) : \n",
    "        #  y의 \n",
    "        if(y.key > v) : \n",
    "            c = y.left\n",
    "        else : \n",
    "            c = y.right\n",
    "        \n",
    "        if(c.key > v):\n",
    "            gc = c.left\n",
    "            c.left = gc.right\n",
    "            gc.right = c\n",
    "        else :\n",
    "            gc = c.right\n",
    "            c.right = gc.left \n",
    "            gc.left = c\n",
    "            \n",
    "        if y.key > v: y.left = gc\n",
    "        else: y.right = gc\n",
    "        \n",
    "        return gc\n",
    "        \n",
    "\n",
    "    def check(self,key):\n",
    "        print(\"키 : \",key)\n",
    "        root = self.head.right\n",
    "        print(f\"key : {root.key} ,parents : {root.key}, color : {root.color}\")\n",
    "        while root.key != key:\n",
    "            parent = root\n",
    "            if root.key > key:\n",
    "                root = root.left\n",
    "            else : root = root.right\n",
    "            print(f\"key : {root.key} ,parents : {parent.key}, color : {root.color}\")"
   ]
  },
  {
   "cell_type": "markdown",
   "metadata": {},
   "source": [
    "#### AVL-TREE\n",
    "\n",
    "avl 트리 : 높이 균형 이진 탐색 트리 \n",
    "\n",
    "균형 인수 = 오른쪽 서브트리의 높이 - 왼쪽 서브트리의 높이 \n",
    "\n",
    "균형 인수가 2 이상인 노드에서 연결된 링크 중 더 긴 쪽을 회전시킨다.\n",
    "\n",
    "회전은 긴 쪽이 연결된 노드들이 꺾여 있다면 이중 회전, 꺾여있지 않다면 단일 회전을 진행한다. \n"
   ]
  },
  {
   "cell_type": "markdown",
   "metadata": {},
   "source": [
    "### hashing\n",
    "\n",
    "레코드를 산술 연산에 의해 한 번에 바로 접근할 수 있는 기법  \n",
    "\n",
    "산술 연산의 결과가 같아 충돌이 일어날 수 있는데 이를 해결하기 위한 여러 가지 방법이 있다. \n",
    "\n",
    "(1) 연쇄법 - 링크드 리스트릴 이용하여 같은 값이 나온 곳에 차례로 저장한다.  \n",
    "\n",
    "(2) 선형 탐사법  - 충돌 발생 시 오른쪽으로 이동하며 빈 공간을 찾아 저장하는 방법 \n",
    "\n",
    "이중 해싱 - 첫번째 해시 함수 값이 나와 충돌 하면 다른 해시 함수 값을 사용하여 다른 해시 값을 이용해 저장하는 방법 "
   ]
  },
  {
   "cell_type": "markdown",
   "metadata": {},
   "source": [
    "### 기수 탐색 "
   ]
  },
  {
   "cell_type": "markdown",
   "metadata": {},
   "source": [
    "#### 디지털 탐색 트리\n",
    "\n",
    "왼쪽부터 이진수로 입력된 숫자를 읽고 0이면 왼쪽, 1이면 오른쪽으로 이동하여 노드를 삽입하는 트리  \n",
    "\n",
    "단점 : 삽입 연산에 필요한 비교 연산 횟수가 많다. "
   ]
  },
  {
   "cell_type": "markdown",
   "metadata": {},
   "source": [
    "#### 기수 탐색 트라이\n",
    "\n"
   ]
  },
  {
   "cell_type": "markdown",
   "metadata": {},
   "source": [
    "#### 패트리샤 트리"
   ]
  },
  {
   "cell_type": "markdown",
   "metadata": {},
   "source": [
    "노드마다 키를 비교해야하는 디지털 탐색 TREE의 단점, 내부 노드와 외부 노드를 두어 기억 장소를 낭비하는 기수 탐색 트라이의 단점을 동시에 극복함.  \n",
    "\n",
    "\n",
    "패트리샤 트리 만드는 과정 \n",
    "\n",
    "1. 노드의 위치를 찾는다. \n",
    "- 노드의 위치를 찾을 때는 노드의 위에 있는 숫자 번째 비트를 보고 결정한다. \n",
    "2. 충돌하는 노드와 다른 비트 번호를 찾아낸다. \n",
    "3. 노드의 숫자가 높다면 상위로 올라간다. \n"
   ]
  }
 ],
 "metadata": {
  "kernelspec": {
   "display_name": "Python 3.9.12 ('base')",
   "language": "python",
   "name": "python3"
  },
  "language_info": {
   "codemirror_mode": {
    "name": "ipython",
    "version": 3
   },
   "file_extension": ".py",
   "mimetype": "text/x-python",
   "name": "python",
   "nbconvert_exporter": "python",
   "pygments_lexer": "ipython3",
   "version": "3.9.12"
  },
  "orig_nbformat": 4,
  "vscode": {
   "interpreter": {
    "hash": "282d57acf3b4dfca65187be3f86b1a31e69b57bff5ce0c421bf06d8a6b0ef157"
   }
  }
 },
 "nbformat": 4,
 "nbformat_minor": 2
}
