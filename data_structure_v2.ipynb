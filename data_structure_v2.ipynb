{
 "cells": [
  {
   "cell_type": "markdown",
   "metadata": {},
   "source": [
    "# Data_Structure in Python \n",
    "\n",
    "array, stack, queue, dequeue  \n",
    "linked list  \n",
    "hash table  \n",
    "tree \n",
    "graph\n",
    "\n",
    "###### cf\n",
    "\n",
    "Big - O 에서 n의 의미 : 입력되는 데이터의 개수 "
   ]
  },
  {
   "cell_type": "markdown",
   "metadata": {},
   "source": [
    "## 1. Array (배열)\n",
    "\n",
    "\n",
    "###  C언어에서의 array\n",
    "\n",
    "array : 연속적인 메모리 공간에 주소를 이용하여 접근하는 자료구조  \n",
    "\n",
    "따라서 array는 시작주소, 저장된 값의 종류, 인덱스 3가지 만으로 데이터가 저장된 곳을 접근할 수 있다. \n",
    "\n",
    "C언어에서 배열의 읽기와 쓰기는 모두 O(1) 시간복잡도를 가진다. \n",
    "\n",
    "c언어에서 배열의 셀에는 실제 값이 저장되지만, python에서 배열은 데이터가 아닌 데이터가 저장된 주소가 저장된다.\n",
    "\n",
    "### python에서의 list, numpy에서의 array\n",
    "\n",
    "python list의 데이터 저장방식 : \n",
    "데이터 주소의 데이터 크기는 모두 하나로 고정되어 있기 때문에 셀의 크기가 같다.  \n",
    "list는 동적 배열임으로 배열의 크기를 사용자가 신경쓰지 않아도 된다.  \n",
    "python 내부적으로 list의 크기를 관리하기 때문에 list안에 실제로 저장된 값의 개수를 항상 알고 있어야 하며 추가 정보를 위한 메모리가 필요하다.  \n",
    "list의 개수가 늘어나거나 줄어드는 연산이 시행되는 경우 list의 모든 값을 옮겨서 다시 할당해야 하기 때문에 상수시간보다 더 걸릴 수 있다. \n",
    "\n",
    "수행시간 : 읽기, 쓰기 시간 평균적으로 O(1)  \n",
    "\n",
    "\n",
    "numpy array의 데이터 저장방식 :\n",
    "값 직접 저장 (reference 저장방식이 아님, c언와 같이 저장함)  \n",
    "한 가지 종류의 데이터만 저장 가능함  \n",
    "메모리를 list보다 적게 사용함  \n",
    "\n",
    "- python list 특징  \n",
    "파이썬 list는 숫자형, 문자형 등 모든 자료의 타입을 보존하여 가질 수 있다.  \n",
    "list는 내부 배열에서 원소 개수가 달라도 됨  \n",
    "list간 덧셈 연산은 항목을 이어 붙이는 연산이다. \n",
    "\n",
    "- numpy list 특징  \n",
    "numpy array : 숫자형과 문자열이 섞이면 모두 문자열로 전환됨  \n",
    "array는 내부 배열 내 원소 개수가 모두 같아야 함  \n",
    "array간 연산은 원소간의 연산을 수행한다. 또한 배열단위의 연산이 매우 빠르기 때문에 빅데이터, 머신러닝 데이터 처리에 적합하다. \n",
    "같은 연산을 수행하는 경우 일반적으로 numpy array가 연산 최적화가 잘 되어있다.  \n",
    "\n"
   ]
  },
  {
   "cell_type": "markdown",
   "metadata": {},
   "source": [
    "## 2. stack, queue, deque\n",
    "\n",
    "stack : 후입선출  \n",
    "queue : 선입선출  \n",
    "dequeue : stack + queue  "
   ]
  },
  {
   "cell_type": "code",
   "execution_count": 1,
   "metadata": {},
   "outputs": [],
   "source": [
    "# stack in python \n",
    "\n",
    "class Stack : \n",
    "    def __init__(self) -> None:\n",
    "        self.items = []\n",
    "    \n",
    "    def push(self,val) : \n",
    "        self.items.append(val)\n",
    "        \n",
    "    def pop(self) : \n",
    "        try : \n",
    "            return self.items.pop()\n",
    "        except IndexError : \n",
    "            print(\"empty\")\n",
    "    \n",
    "    def top(self) : \n",
    "        try : \n",
    "            return self.items[-1]\n",
    "        except IndexError : \n",
    "            print(\"empty\")\n",
    "            \n",
    "    # __len__ :  len()으로 객체를 호출했을 시 return되는 값을 정해줌 \n",
    "    def __len__(self) : \n",
    "        return len(self.items)\n",
    "\n",
    "    def isEmpty(self) : \n",
    "        return len(self) == 0"
   ]
  },
  {
   "cell_type": "code",
   "execution_count": 2,
   "metadata": {},
   "outputs": [
    {
     "name": "stdout",
     "output_type": "stream",
     "text": [
      "2\n"
     ]
    }
   ],
   "source": [
    "s = Stack()\n",
    "s.push(1)\n",
    "s.push(2)\n",
    "print(s.pop())\n"
   ]
  },
  {
   "cell_type": "markdown",
   "metadata": {},
   "source": [
    "### 스택 활용의 예 \n",
    "\n",
    "1. 괄호 맞추기\n",
    "- 왼쪽 괄호가 나오면 push\n",
    "- 오른쪽 괄호가 나오면 pop\n",
    "- 주어진 괄호를 모두 처리했으나 stack에 괄호가 남아있거나, pop연산을 했는데 stack에 아무것도 없는 경우 error\n",
    "- 괄호 짝 맞추기에 스택을 활용할 수 있는 이유 : \n",
    "가장 오른쪽에 있는 왼쪽 괄호부터 오른쪽 괄호와 쌍을 이루어야 한다. \n",
    "가장 오른쪽에 있다는 것은 가장 나중에 쓰인 것이다. \n",
    "따라서 괄호 짝 맞추기는 후입선출 특징을 가지고 있다. \n",
    "스택 또한 후입선출의 특징이 있음으로 괄호 짝 맞추기에서 스택 활용이 가능하다. "
   ]
  },
  {
   "cell_type": "markdown",
   "metadata": {},
   "source": [
    "2. infix 수식 postfix 수식으로 변환하기\n",
    "3. postfix 수식 실제로 계산하기 "
   ]
  },
  {
   "cell_type": "code",
   "execution_count": 3,
   "metadata": {},
   "outputs": [
    {
     "name": "stdout",
     "output_type": "stream",
     "text": [
      "[2, 1, 3, 1, 2, 2, 3, 1]\n"
     ]
    }
   ],
   "source": [
    "# 4.left - nearest smaller element 계산하기 \n",
    "# n개의 정수가 주어지면 각 정수보다 작은 값 중 가장 작은 값을 구하는 문제 \n",
    "\n",
    "# sol 1\n",
    "A = [1,3,4,2,5,3,4,2]\n",
    "B = []\n",
    "n = len(A)\n",
    "for i in range(n) : \n",
    "    j = i-1\n",
    "    while j >= 0 : \n",
    "        if A[j] < A[i] : \n",
    "            break\n",
    "        j = j-1\n",
    "    B.append(A[j])\n",
    "print(B)\n",
    "    \n",
    "# sol - 2\n",
    "\n",
    "\n",
    "\n",
    "\n",
    "\n"
   ]
  },
  {
   "cell_type": "code",
   "execution_count": 4,
   "metadata": {},
   "outputs": [],
   "source": [
    "# queue in python \n",
    "\n",
    "# queue 직접 구현 \n",
    "class Queue : \n",
    "    def __init__(self) -> None:\n",
    "        self.items = []\n",
    "        self.front_index = 0 \n",
    "    \n",
    "    def enqueue(self,val) : \n",
    "        self.items.append(val)\n",
    "        # 이론상 수행시간 O(len(A))\n",
    "        # 평균 O(1)\n",
    "    \n",
    "    def dequeue(self,val) : \n",
    "        if self.front_index == len(self.itmes) : \n",
    "            print(\"empty\")\n",
    "            return None \n",
    "        else : \n",
    "            x = self.item[self.front_index]\n",
    "            self.front_index += 1\n",
    "            return x "
   ]
  },
  {
   "cell_type": "code",
   "execution_count": 5,
   "metadata": {},
   "outputs": [
    {
     "data": {
      "text/plain": [
       "<bound method Queue.dequeue of <__main__.Queue object at 0x000002305B28AD60>>"
      ]
     },
     "execution_count": 5,
     "metadata": {},
     "output_type": "execute_result"
    }
   ],
   "source": [
    "from collections import deque\n",
    "\n",
    "\n",
    "q = Queue()\n",
    "q.enqueue(1)\n",
    "q.enqueue(2)\n",
    "q.enqueue(3)\n",
    "q.dequeue"
   ]
  },
  {
   "cell_type": "code",
   "execution_count": 6,
   "metadata": {},
   "outputs": [
    {
     "name": "stdout",
     "output_type": "stream",
     "text": [
      "deque([1, 2, 3])\n"
     ]
    }
   ],
   "source": [
    "# collections에서 제공하는 dequeu 사용하기 \n",
    "# collectons.deque : 양방향 데이터 처리 가능 \n",
    "from collections import deque\n",
    "dq = deque([])\n",
    "dq.append(1)\n",
    "dq.append(2)\n",
    "dq.append(3)\n",
    "print(dq)\n"
   ]
  },
  {
   "cell_type": "markdown",
   "metadata": {},
   "source": [
    "#### queue 사용 예\n",
    "\n",
    "1. josephus game \n",
    "- 1번부터 n번까지의 원형 테이블에서 1번부터 시작해서 k번째 사람이 탈락하는 게임 "
   ]
  },
  {
   "cell_type": "markdown",
   "metadata": {},
   "source": [
    "## 3.  Linked_List\n",
    "\n",
    "연결 리스트\n",
    " - 리스트와는 다른 개념 \n",
    " - 연결 리스트는 node가 link에 의해 기차처럼 연결된 순차 자료구조로 링크를 따라 원하는 노드의 데이터를 접근하고 수정함 \n",
    "\n",
    " 연결 리스트는 node, data, link로 구성되어 있음 \n",
    "\n",
    " singly linked list (한방향 연결리스트)\n",
    "\n",
    " - 노드들이 한 쪽 방향으로만 연결된 리스트 \n",
    " head - node - node - none\n",
    "\n",
    "\n",
    "한방향 연결 리스트와 배열 리스트의 장단점 비교 \n",
    "\n",
    "배열 리스트 : 동일한 데이터 타입을 연석족으로 저장하여 간단하고 사용하기 쉽다. \n",
    "고정된 크기를 가지고 있어서 배열의 처음이나 중간에서 원소를 넣고 빼려면 많은 연산을 해야한다. (모든 )\n",
    "\n",
    "장점 : \n",
    "\n",
    "단점 : \n",
    "\n",
    "연산의 시간복잡도 \n",
    "\n",
    "\n",
    " \n"
   ]
  },
  {
   "cell_type": "code",
   "execution_count": 1,
   "metadata": {},
   "outputs": [],
   "source": [
    "## node class \n",
    "class Node : \n",
    "    def __init__(self, key = None, value = None) -> None:\n",
    "        self.key = key\n",
    "        self.value = value \n",
    "        self.next = None \n",
    "\n",
    "    def __str__(self) -> str:\n",
    "        return str(self.key)"
   ]
  },
  {
   "cell_type": "code",
   "execution_count": 1,
   "metadata": {},
   "outputs": [],
   "source": [
    "class SinglyLinkedList : \n",
    "    def __init__(self) -> None:\n",
    "        self.head = None\n",
    "        self.size = 0\n",
    "    \n",
    "    ## generator\n",
    "    def __iter__(self) : \n",
    "        v = self.head\n",
    "        while v != None : \n",
    "            yield v\n",
    "    ## print \n",
    "    def __str__(self) : \n",
    "        return \" -> \".join(str(v) for v in self)\n",
    "\n",
    "    ## len \n",
    "    def __len__(self) : \n",
    "        return self.size \n",
    "\n",
    "    ## method \n",
    "\n",
    "    ## pushFront : 입력받은 key값을 LinkedList 가장 앞에 삽입함\n",
    "    ## tc : O(1)\n",
    "    def pushFront(self,key,value = None) :  \n",
    "        new_node = Node(key,value)\n",
    "        new_node.next = self.head\n",
    "        self.head = new_node\n",
    "        self.size += 1\n",
    "    \n",
    "    ## pushBack : 입력받은 key값을 LinkedList 가장 뒤에 삽입함\n",
    "    ## tc : O(n)\n",
    "    def pushBack(self,key,value = None) : \n",
    "        new_node = Node(key,value)\n",
    "        # linkedlist가 비어있는 경우 \n",
    "        if self.size == 0 : \n",
    "            self.head = new_node\n",
    "        \n",
    "        # linkedlist가 비어있지 않은 경우 \n",
    "        else : \n",
    "            tail = self.head\n",
    "            while tail.next != None : \n",
    "                tail = tail.next\n",
    "            tail.next = new_node\n",
    "        self.size += 1\n",
    "\n",
    "    ## popFront \n",
    "\n",
    "    ## popBack \n",
    "\n",
    "    ## search\n",
    "\n",
    "    ## remove\n",
    "\n",
    "    def find_kth_ndoe_from_tail(L,K) :    \n",
    "         \n",
    "\n",
    "\n",
    "## find_kth_node_from_tail(L,K) : \n",
    "\n",
    "## find_middle_node(L)\n"
   ]
  },
  {
   "cell_type": "markdown",
   "metadata": {},
   "source": [
    "##### 양방향 연결 리스트 (doubly linekd list)\n",
    "\n",
    "한방향 리스트의 결정적 단점은 뒤로 가는 링크만 있다는 것  \n",
    "\n",
    "노드가 많을경우 탐색시 모든 노드를 다 찾아야 한다. \n",
    "\n",
    "양방향 연결 리스트는 위 단점을 보안하여 앞으로 가는 링크와 뒤로 가는 링크가 모두 존재  \n",
    "\n",
    "양방향 연결 리스트는 첫 노드와 마지막 노드가 연결된 원형 리스트  \n",
    "\n",
    "양방향 연결 리스트의 첫 노드는 dummy 노드로 리스트의 처음을 알리는 역할을 한다. "
   ]
  },
  {
   "cell_type": "code",
   "execution_count": 1,
   "metadata": {},
   "outputs": [],
   "source": [
    "## doubly linked list\n",
    "class Node_v2 : \n",
    "    def __init__(self,key = None) -> None:\n",
    "        self.key = key\n",
    "        self.next = self.prev = self \n",
    "\n",
    "    def __str__(self) : \n",
    "        return str(self.key)"
   ]
  },
  {
   "cell_type": "code",
   "execution_count": 1,
   "metadata": {},
   "outputs": [],
   "source": [
    "class DoublyLinkedList : \n",
    "    def __init__(self) -> None:\n",
    "        self.head = Node()\n",
    "        self.size = 0\n",
    "    \n",
    "    def __iter__(self) : \n",
    "        v = self.head\n",
    "        while v != None : \n",
    "            yield v\n",
    "        \n",
    "    def __str__(self) : \n",
    "        return \" -> \".join(str(v) for v in self)\n",
    "    \n",
    "    def __len(self) : \n",
    "        return self.size \n",
    "\n",
    "    # tc : O(n)\n",
    "    def search(self,key) : \n",
    "        node = self.head.next\n",
    "        while node.key : \n",
    "            if node.key == key : \n",
    "                return node\n",
    "            node = node.next\n",
    "        return None\n",
    "    \n",
    "    # 빈리스트인지 확인 (self.size를 통해 확인해도 됨)\n",
    "    def isEmpty(self) : \n",
    "        if self.head.next == self.head : \n",
    "            return True\n",
    "        return False\n",
    "    \n",
    "    # 첫번째 노드 리턴 \n",
    "    def first(self,key) : \n",
    "        if self.isEmpty() : \n",
    "            return None\n",
    "        return self.head.next\n",
    "\n",
    "    # 마지막 노드 리턴\n",
    "    def last(self,key) : \n",
    "        if self.isEmpty() : \n",
    "            return None\n",
    "        return self.head.prev\n",
    "\n",
    "    \n",
    "    # 노드 a부터 b까지 떼어내서 붙이는 연산 \n",
    "    # a와 b가 동일하너간 a 다음에 b가 나타나야 함 \n",
    "    # head와 x는 a와 b 사이에 포함되면 안됨 -> head가 \n",
    "    # splice를 통해 이동, 삽입 연산 모두 가능함 \n",
    "\n",
    "    # splice는 6개의 link를 고치는 함수로 시간복잡도는 O(1)\n",
    "    def splice(self,a,b,x) : \n",
    "        if a == None or b == None or x == None : \n",
    "            return\n",
    "        ap = a.prev\n",
    "        bn = b.next\n",
    "\n",
    "        # 자르기     \n",
    "        ap.next = bn\n",
    "        bn.prev = ap\n",
    "        \n",
    "        # 붙이기 \n",
    "        xn = x.next\n",
    "        xn.prev = b\n",
    "        b.next = xn\n",
    "        a.prev = x\n",
    "        x.next = a\n",
    "    \n",
    "    # 밑에 모든 함수는 splice를 이용하는데 splice의 시간복잡도가 O(1)임으로\n",
    "    # 아래 함수 또한 시간복잡도는 O(1)이다.  \n",
    "    # moveAfter / moveBefore : \n",
    "    # insertAfter / insertBefore : \n",
    "    # pushBack / pushFront : \n",
    "\n",
    "\n",
    "    # tc : O(1)\n",
    "    def remove(self,x) : \n",
    "        if x == None or x == self.head : \n",
    "            return \n",
    "        # x 때어내기 \n",
    "        x.prev.next, x.next.prev = x.next, x.prev\n",
    "    # tc : O(1)\n",
    "    def popFront(self) : \n",
    "        if self.isEmpty() : return None\n",
    "        key = self.head.next.key\n",
    "        self.remove(self.head.next)\n",
    "        return key\n",
    "    # tc : O(1)\n",
    "    def popBack(self) : \n",
    "        if self.isEmpty() : return None\n",
    "        key = self.head.prev.key\n",
    "        self.remove(self.head.prev)\n",
    "        return key \n",
    "    # tc : O(1)\n",
    "    def join(self,another_list) :\n",
    "        if another_list.isEmpty() : return \n",
    "\n",
    "        self.head.prev.next = another_list.head.next\n",
    "        another_list.head.next.prev = self.head.prev\n",
    "\n",
    "        self.head.prev = another_list.head.prev\n",
    "        another_list.head.prev.next = self.head\n",
    "    # tc : O(1)\n",
    "    def split(self,x) : \n",
    "        if self.size == 0 : return \n",
    "        elif self.size == 1 : return \n",
    "        else : \n",
    "            x.prev.next = self.head\n",
    "            x.next.prev = self.prev\n",
    "            self.head.prev = x.prev\n",
    "            self.head.prev.next = x.next\n",
    "        "
   ]
  },
  {
   "cell_type": "markdown",
   "metadata": {},
   "source": [
    "양방향 연결 리스트의 장단점"
   ]
  },
  {
   "cell_type": "code",
   "execution_count": 2,
   "metadata": {},
   "outputs": [],
   "source": [
    "# Josephus "
   ]
  },
  {
   "cell_type": "markdown",
   "metadata": {},
   "source": [
    "## 4. Hash Table \n",
    "\n",
    "매우 빠른 평균 삽입, 삭제 ,탐색연산 제공 \n",
    "\n",
    "hash fuction : key값이 저장될 주소를 계산하는 함수 \n",
    "\n",
    "hash function 종류 \n",
    "- perfct : 충돌없이 1 ; 1로 매핑하는 해시함수 \n",
    "- c-universal \n",
    "\n",
    "key값이 \n",
    "- division\n",
    "- multiplication \n",
    "- folding \n",
    "- mid-square\n",
    "- extraction \n",
    "\n",
    "key 값이 문자열인 경우\n",
    "- additive hash\n",
    "- rotating hash \n",
    "- universal hash \n",
    "\n",
    "충돌(collision) : hash_function의 값이 같은 경우 \n",
    "\n",
    "충돌 해결 방법 (collision resolution methods) \n",
    "서로 다른 key값에 대해 충돌이 발생한 경우 저장하는 방법 \n",
    "1. open addressing : 충돌이 발생한 경우 빈 슬롯이 나올 때 까지 \n",
    "2. chaining : \n",
    "\n",
    "\n",
    "좋은 hash function의 조건 \n",
    "1. 빠른 계산 \n",
    "2. 적은 충돌 \n",
    "\n",
    "삽입 연산 "
   ]
  },
  {
   "cell_type": "markdown",
   "metadata": {},
   "source": []
  }
 ],
 "metadata": {
  "kernelspec": {
   "display_name": "Python 3.9.12 ('LabEnv01')",
   "language": "python",
   "name": "python3"
  },
  "language_info": {
   "codemirror_mode": {
    "name": "ipython",
    "version": 3
   },
   "file_extension": ".py",
   "mimetype": "text/x-python",
   "name": "python",
   "nbconvert_exporter": "python",
   "pygments_lexer": "ipython3",
   "version": "3.9.12"
  },
  "orig_nbformat": 4,
  "vscode": {
   "interpreter": {
    "hash": "9b830f0613dbf67ebccf702d7f1fe3a7136657347938afa0f3ddfa52963a7a90"
   }
  }
 },
 "nbformat": 4,
 "nbformat_minor": 2
}
