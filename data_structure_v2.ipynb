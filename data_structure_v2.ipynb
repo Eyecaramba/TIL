{
 "cells": [
  {
   "cell_type": "markdown",
   "metadata": {},
   "source": [
    "# Data_Structure in Python \n",
    "\n",
    "array, stack, queue, dequeue  \n",
    "linked list  \n",
    "hash table  \n",
    "tree \n",
    "graph\n",
    "\n",
    "\n",
    "\n",
    "###### cf\n",
    "\n",
    "Big - O 에서 n의 의미 : 입력되는 데이터의 개수 "
   ]
  },
  {
   "cell_type": "markdown",
   "metadata": {},
   "source": [
    "## 1. Array (배열)\n",
    "\n",
    "\n",
    "###  C언어에서의 array\n",
    "\n",
    "array : 연속적인 메모리 공간에 주소를 이용하여 접근하는 자료구조  \n",
    "\n",
    "따라서 array는 시작주소, 저장된 값의 종류, 인덱스 3가지 만으로 데이터가 저장된 곳을 접근할 수 있다. \n",
    "\n",
    "C언어에서 배열의 읽기와 쓰기는 모두 O(1) 시간복잡도를 가진다. \n",
    "\n",
    "c언어에서 배열의 셀에는 실제 값이 저장되지만, python에서 배열은 데이터가 아닌 데이터가 저장된 주소가 저장된다.\n",
    "\n",
    "### python에서의 list, numpy에서의 array\n",
    "\n",
    "python list의 데이터 저장방식 : \n",
    "데이터 주소의 데이터 크기는 모두 하나로 고정되어 있기 때문에 셀의 크기가 같다.  \n",
    "list는 동적 배열임으로 배열의 크기를 사용자가 신경쓰지 않아도 된다.  \n",
    "python 내부적으로 list의 크기를 관리하기 때문에 list안에 실제로 저장된 값의 개수를 항상 알고 있어야 하며 추가 정보를 위한 메모리가 필요하다.  \n",
    "list의 개수가 늘어나거나 줄어드는 연산이 시행되는 경우 list의 모든 값을 옮겨서 다시 할당해야 하기 때문에 상수시간보다 더 걸릴 수 있다. \n",
    "\n",
    "수행시간 : 읽기, 쓰기 시간 평균적으로 O(1)  \n",
    "\n",
    "\n",
    "numpy array의 데이터 저장방식 :\n",
    "값 직접 저장 (reference 저장방식이 아님, c언와 같이 저장함)  \n",
    "한 가지 종류의 데이터만 저장 가능함  \n",
    "메모리를 list보다 적게 사용함  \n",
    "\n",
    "- python list 특징  \n",
    "파이썬 list는 숫자형, 문자형 등 모든 자료의 타입을 보존하여 가질 수 있다.  \n",
    "list는 내부 배열에서 원소 개수가 달라도 됨  \n",
    "list간 덧셈 연산은 항목을 이어 붙이는 연산이다. \n",
    "\n",
    "- numpy list 특징  \n",
    "numpy array : 숫자형과 문자열이 섞이면 모두 문자열로 전환됨  \n",
    "array는 내부 배열 내 원소 개수가 모두 같아야 함  \n",
    "array간 연산은 원소간의 연산을 수행한다. 또한 배열단위의 연산이 매우 빠르기 때문에 빅데이터, 머신러닝 데이터 처리에 적합하다. \n",
    "같은 연산을 수행하는 경우 일반적으로 numpy array가 연산 최적화가 잘 되어있다.  \n",
    "\n"
   ]
  },
  {
   "cell_type": "markdown",
   "metadata": {},
   "source": [
    "## 2. stack, queue, deque\n",
    "\n",
    "stack : 후입선출  \n",
    "queue : 선입선출  \n",
    "dequeue : stack + queue  "
   ]
  },
  {
   "cell_type": "code",
   "execution_count": 3,
   "metadata": {},
   "outputs": [],
   "source": [
    "# stack in python \n",
    "\n",
    "class Stack : \n",
    "    def __init__(self) -> None:\n",
    "        self.items = []\n",
    "    \n",
    "    def push(self,val) : \n",
    "        self.items.append(val)\n",
    "        \n",
    "    def pop(self) : \n",
    "        try : \n",
    "            return self.items.pop()\n",
    "        except IndexError : \n",
    "            print(\"empty\")\n",
    "    \n",
    "    def top(self) : \n",
    "        try : \n",
    "            return self.items[-1]\n",
    "        except IndexError : \n",
    "            print(\"empty\")\n",
    "            \n",
    "    # __len__ :  len()으로 객체를 호출했을 시 return되는 값을 정해줌 \n",
    "    def __len__(self) : \n",
    "        return len(self.items)\n",
    "\n",
    "    def isEmpty(self) : \n",
    "        return len(self) == 0"
   ]
  },
  {
   "cell_type": "code",
   "execution_count": 4,
   "metadata": {},
   "outputs": [
    {
     "name": "stdout",
     "output_type": "stream",
     "text": [
      "2\n"
     ]
    }
   ],
   "source": [
    "s = Stack()\n",
    "s.push(1)\n",
    "s.push(2)\n",
    "print(s.pop())\n"
   ]
  },
  {
   "cell_type": "markdown",
   "metadata": {},
   "source": [
    "### 스택 활용의 예 \n",
    "\n",
    "1. 괄호 맞추기\n",
    "- 왼쪽 괄호가 나오면 push\n",
    "- 오른쪽 괄호가 나오면 pop\n",
    "- 주어진 괄호를 모두 처리했으나 stack에 괄호가 남아있거나, pop연산을 했는데 stack에 아무것도 없는 경우 error\n",
    "- 괄호 짝 맞추기에 스택을 활용할 수 있는 이유 : \n",
    "가장 오른쪽에 있는 왼쪽 괄호부터 오른쪽 괄호와 쌍을 이루어야 한다. \n",
    "가장 오른쪽에 있다는 것은 가장 나중에 쓰인 것이다. \n",
    "따라서 괄호 짝 맞추기는 후입선출 특징을 가지고 있다. \n",
    "스택 또한 후입선출의 특징이 있음으로 괄호 짝 맞추기에서 스택 활용이 가능하다. "
   ]
  },
  {
   "cell_type": "markdown",
   "metadata": {},
   "source": [
    "2. infix 수식 postfix 수식으로 변환하기\n",
    "3. postfix 수식 실제로 계산하기 "
   ]
  },
  {
   "cell_type": "code",
   "execution_count": 3,
   "metadata": {},
   "outputs": [
    {
     "name": "stdout",
     "output_type": "stream",
     "text": [
      "[2, 1, 3, 1, 2, 2, 3, 1]\n"
     ]
    }
   ],
   "source": [
    "# 4.left - nearest smaller element 계산하기 \n",
    "# n개의 정수가 주어지면 각 정수보다 작은 값 중 가장 작은 값을 구하는 문제 \n",
    "\n",
    "# sol 1\n",
    "A = [1,3,4,2,5,3,4,2]\n",
    "B = []\n",
    "n = len(A)\n",
    "for i in range(n) : \n",
    "    j = i-1\n",
    "    while j >= 0 : \n",
    "        if A[j] < A[i] : \n",
    "            break\n",
    "        j = j-1\n",
    "    B.append(A[j])\n",
    "print(B)\n",
    "    \n",
    "# sol - 2\n",
    "\n",
    "\n",
    "\n",
    "\n",
    "\n"
   ]
  },
  {
   "cell_type": "code",
   "execution_count": 4,
   "metadata": {},
   "outputs": [],
   "source": [
    "# queue in python \n",
    "\n",
    "# queue 직접 구현 \n",
    "class Queue : \n",
    "    def __init__(self) -> None:\n",
    "        self.items = []\n",
    "        self.front_index = 0 \n",
    "    \n",
    "    def enqueue(self,val) : \n",
    "        self.items.append(val)\n",
    "        # 이론상 수행시간 O(len(A))\n",
    "        # 평균 O(1)\n",
    "    \n",
    "    def dequeue(self,val) : \n",
    "        if self.front_index == len(self.itmes) : \n",
    "            print(\"empty\")\n",
    "            return None \n",
    "        else : \n",
    "            x = self.item[self.front_index]\n",
    "            self.front_index += 1\n",
    "            return x "
   ]
  },
  {
   "cell_type": "code",
   "execution_count": null,
   "metadata": {},
   "outputs": [],
   "source": [
    "from collections import deque\n",
    "\n",
    "\n",
    "q = Queue()\n",
    "q.enqueue(1)\n",
    "q.enqueue(2)\n",
    "q.enqueue(3)\n",
    "q.dequeue"
   ]
  },
  {
   "cell_type": "code",
   "execution_count": 6,
   "metadata": {},
   "outputs": [
    {
     "name": "stdout",
     "output_type": "stream",
     "text": [
      "deque([1, 2, 3])\n"
     ]
    }
   ],
   "source": [
    "# collections에서 제공하는 dequeu 사용하기 \n",
    "# collectons.deque : 양방향 데이터 처리 가능 \n",
    "from collections import deque\n",
    "dq = deque([])\n",
    "dq.append(1)\n",
    "dq.append(2)\n",
    "dq.append(3)\n",
    "print(dq)\n"
   ]
  },
  {
   "cell_type": "markdown",
   "metadata": {},
   "source": [
    "#### queue 사용 예\n",
    "\n",
    "1. josephus game \n",
    "- 1번부터 n번까지의 원형 테이블에서 1번부터 시작해서 k번째 사람이 탈락하는 게임 "
   ]
  },
  {
   "cell_type": "code",
   "execution_count": null,
   "metadata": {},
   "outputs": [],
   "source": [
    "from collections import deque\n",
    "\n"
   ]
  },
  {
   "cell_type": "code",
   "execution_count": null,
   "metadata": {},
   "outputs": [],
   "source": [
    "# linkedlist in python \n",
    "\n",
    "# "
   ]
  },
  {
   "cell_type": "markdown",
   "metadata": {},
   "source": [
    "#### Linked_List\n",
    "\n",
    "연결 리스트 \n"
   ]
  }
 ],
 "metadata": {
  "kernelspec": {
   "display_name": "Python 3.9.7 ('base')",
   "language": "python",
   "name": "python3"
  },
  "language_info": {
   "codemirror_mode": {
    "name": "ipython",
    "version": 3
   },
   "file_extension": ".py",
   "mimetype": "text/x-python",
   "name": "python",
   "nbconvert_exporter": "python",
   "pygments_lexer": "ipython3",
   "version": "3.9.7"
  },
  "orig_nbformat": 4,
  "vscode": {
   "interpreter": {
    "hash": "40d3a090f54c6569ab1632332b64b2c03c39dcf918b08424e98f38b5ae0af88f"
   }
  }
 },
 "nbformat": 4,
 "nbformat_minor": 2
}
