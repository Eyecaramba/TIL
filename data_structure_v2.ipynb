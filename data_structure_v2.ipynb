{
 "cells": [
  {
   "cell_type": "markdown",
   "metadata": {},
   "source": [
    "# Data_Structure in Python "
   ]
  },
  {
   "cell_type": "markdown",
   "metadata": {},
   "source": [
    "## 1. Array (배열)\n",
    "\n",
    "array : 연속적인 메모리 공간에 주소를 이용하여 접근하는 자료구조  \n",
    "\n",
    "따라서 array는 시작주소, 저장된 값의 종류, 인덱스 3가지 만으로 데이터가 저장된 곳을 접근할 수 있다. \n",
    "\n",
    "C언어에서 배열의 읽기와 쓰기는 모두 O(1) 시간복잡도를 가진다. \n",
    "\n",
    "c언어에서 배열의 셀에는 실제 값이 저장되지만, python에서 배열은 데이터가 아닌 데이터가 저장된 주소가 저장된다.\n",
    "\n",
    "데이터 주소의 데이터 크기는 모두 하나로 고정되어 있기 때문에 셀의 크기가 같다. \n",
    "\n",
    "따라서 인덱스를 통해 python도 O(1) 시간 접근이 가능하다. \n",
    "\n",
    "읽기, 쓰기 시간 : O(1)"
   ]
  },
  {
   "cell_type": "markdown",
   "metadata": {},
   "source": [
    "파이썬 리스트는 다양한 연산 지원 \n",
    "\n",
    "apppend, pop, insert, remove, index, count, slicing, in, etc..."
   ]
  },
  {
   "cell_type": "markdown",
   "metadata": {},
   "source": [
    "파이썬 리스트는 동적배열임\n",
    "\n",
    "필요에 따라 크기가 변함 -> 사용자는 배열 크기를 신경쓰지 않아도 된다.   \n",
    "( C언어는 사용자가 배열의 크기를 계속해서 관리해주어야 함 )\n",
    "\n",
    "python 내부적으로 배열의 크기와 값의 개수를 항상 알고 있어야 한다. \n",
    "\n",
    "따라서 추가적인 메모리가 필요하다.\n",
    "\n",
    "추가 메모리 이외에 연산 시간에도 영향을 준다. \n",
    "\n",
    "배열의 메모리 크기가 변한 경우 새로운 배열로 다시 값을 이동시켜야 하기 때문에 그 만큼 시간이 걸림 O(n)  \n",
    "(그러나 매번 resize가 발생하는 것이 아니라 2의 배수일때만 발생함으로 O(n)보다는 훨씬 작다)"
   ]
  },
  {
   "cell_type": "markdown",
   "metadata": {},
   "source": [
    "array method별 수행시간 \n",
    "append : 평균 O(1)\n",
    "pop : 평균 O(1)\n",
    "insert : O()"
   ]
  },
  {
   "cell_type": "markdown",
   "metadata": {},
   "source": [
    "#### python numpy array\n",
    "\n",
    "대용량 처리에 효율적\n",
    "\n",
    "한 종류 타입의 값만 저장 가능 \n",
    "\n",
    "메모리를 list보다 적게 사용\n",
    "\n",
    "배열 단위의  연산이 매우 빠름 "
   ]
  },
  {
   "cell_type": "markdown",
   "metadata": {},
   "source": [
    "## 2. stack, queue, deque\n",
    "\n",
    "stack : 후입선출  \n",
    "queue : 선입선출  \n",
    "dequeue : stack + queue  "
   ]
  },
  {
   "cell_type": "code",
   "execution_count": 3,
   "metadata": {},
   "outputs": [],
   "source": [
    "# stack in python \n",
    "\n",
    "class Stack : \n",
    "    def __init__(self) -> None:\n",
    "        self.items = []\n",
    "    \n",
    "    def push(self,val) : \n",
    "        self.items.append(val)\n",
    "        \n",
    "    def pop(self) : \n",
    "        try : \n",
    "            return self.items.pop()\n",
    "        except IndexError : \n",
    "            print(\"empty\")\n",
    "    \n",
    "    def top(self) : \n",
    "        try : \n",
    "            return self.items[-1]\n",
    "        except IndexError : \n",
    "            print(\"empty\")\n",
    "            \n",
    "    # __len__ :  len()으로 객체를 호출했을 시 return되는 값을 정해줌 \n",
    "    def __len__(self) : \n",
    "        return len(self.items)\n",
    "\n",
    "    def isEmpty(self) : \n",
    "        return len(self) == 0"
   ]
  },
  {
   "cell_type": "code",
   "execution_count": 4,
   "metadata": {},
   "outputs": [
    {
     "name": "stdout",
     "output_type": "stream",
     "text": [
      "2\n"
     ]
    }
   ],
   "source": [
    "s = Stack()\n",
    "s.push(1)\n",
    "s.push(2)\n",
    "print(s.pop())\n"
   ]
  },
  {
   "cell_type": "markdown",
   "metadata": {},
   "source": [
    "### 스택 활용의 예 \n",
    "\n",
    "1. 괄호 맞추기\n",
    "- 왼쪽 괄호가 나오면 push\n",
    "- 오른쪽 괄호가 나오면 pop\n",
    "- 주어진 괄호를 모두 처리했으나 stack에 괄호가 남아있거나, pop연산을 했는데 stack에 아무것도 없는 경우 error\n",
    "- 괄호 짝 맞추기에 스택을 활용할 수 있는 이유 : \n",
    "가장 오른쪽에 있는 왼쪽 괄호부터 오른쪽 괄호와 쌍을 이루어야 한다. \n",
    "가장 오른쪽에 있다는 것은 가장 나중에 쓰인 것이다. \n",
    "따라서 괄호 짝 맞추기는 후입선출 특징을 가지고 있다. \n",
    "스택 또한 후입선출의 특징이 있음으로 괄호 짝 맞추기에서 스택 활용이 가능하다. \n",
    "\n",
    "2. infix 수식 postfix 수식으로 변환하기\n",
    "\n",
    "\n"
   ]
  },
  {
   "cell_type": "code",
   "execution_count": null,
   "metadata": {},
   "outputs": [],
   "source": [
    "# queue in python \n",
    "\n",
    "# Queue 직접 구현 \n",
    "class Queue : \n",
    "    def __init__(self) -> None:\n",
    "        self.items = []\n",
    "        self.front_index = 0\n",
    "    \n",
    "    def enqueue(self,val) : \n",
    "        self.items.append(val)\n",
    "    \n",
    "    def dequeue(self,val) : \n",
    "        if self.front_index == len(self.itmes) : \n",
    "            print(\"empty\")\n",
    "            return None \n",
    "        else : \n",
    "            x = self.item[self.front_index]\n",
    "            self.front_index += 1\n",
    "            return x "
   ]
  },
  {
   "cell_type": "code",
   "execution_count": null,
   "metadata": {},
   "outputs": [],
   "source": [
    "from collections import deque\n",
    "\n",
    "\n",
    "q = Queue()\n",
    "q.enqueue(1)\n",
    "q.enqueue(2)\n",
    "q.enqueue(3)\n",
    "1.dequeue"
   ]
  },
  {
   "cell_type": "code",
   "execution_count": 6,
   "metadata": {},
   "outputs": [
    {
     "name": "stdout",
     "output_type": "stream",
     "text": [
      "deque([1, 2, 3])\n"
     ]
    }
   ],
   "source": [
    "# collections에서 제공하는 dequeu 사용하기 \n",
    "# collectons.deque : 양방향 데이터 처리 가능 \n",
    "from collections import deque\n",
    "dq = deque([])\n",
    "dq.append(1)\n",
    "dq.append(2)\n",
    "dq.append(3)\n",
    "print(dq)\n"
   ]
  },
  {
   "cell_type": "code",
   "execution_count": null,
   "metadata": {},
   "outputs": [],
   "source": [
    "# linkedlist in python \n",
    "\n",
    "# "
   ]
  }
 ],
 "metadata": {
  "kernelspec": {
   "display_name": "Python 3.9.12 ('base')",
   "language": "python",
   "name": "python3"
  },
  "language_info": {
   "codemirror_mode": {
    "name": "ipython",
    "version": 3
   },
   "file_extension": ".py",
   "mimetype": "text/x-python",
   "name": "python",
   "nbconvert_exporter": "python",
   "pygments_lexer": "ipython3",
   "version": "3.9.12"
  },
  "orig_nbformat": 4,
  "vscode": {
   "interpreter": {
    "hash": "ef313e6939021f31d60e3cab85c0a5e417c9ba03a63e8a8c0e936e49e3f357f9"
   }
  }
 },
 "nbformat": 4,
 "nbformat_minor": 2
}
